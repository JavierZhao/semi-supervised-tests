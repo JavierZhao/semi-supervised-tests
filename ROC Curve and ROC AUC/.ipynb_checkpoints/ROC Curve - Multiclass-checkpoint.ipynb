{
 "cells": [
  {
   "cell_type": "markdown",
   "id": "416f90dd-6238-476c-8933-d428390a4afa",
   "metadata": {},
   "source": [
    "# ROC Curve - Multiclass\n",
    "Vinicius Trevisan - 2022"
   ]
  },
  {
   "cell_type": "markdown",
   "id": "45f0fb88-dc98-4826-8194-e1b5c63a97ab",
   "metadata": {},
   "source": [
    "## Imports"
   ]
  },
  {
   "cell_type": "code",
   "execution_count": 4,
   "id": "30491db2-8341-4012-9ccc-07f60a2a328b",
   "metadata": {
    "ExecuteTime": {
     "end_time": "2022-08-24T18:01:05.420290Z",
     "start_time": "2022-08-24T18:01:05.415654Z"
    }
   },
   "outputs": [],
   "source": [
    "import pandas as pd\n",
    "import numpy as np\n",
    "import matplotlib.pyplot as plt\n",
    "import seaborn as sns\n",
    "from scipy import stats"
   ]
  },
  {
   "cell_type": "code",
   "execution_count": 5,
   "id": "9f13d709-819f-4503-bd89-e3f38f933f61",
   "metadata": {
    "ExecuteTime": {
     "end_time": "2022-08-24T18:01:05.428070Z",
     "start_time": "2022-08-24T18:01:05.423652Z"
    }
   },
   "outputs": [],
   "source": [
    "from sklearn.model_selection import train_test_split\n",
    "from sklearn.metrics import confusion_matrix\n",
    "from sklearn.metrics import roc_auc_score\n",
    "from sklearn.ensemble import RandomForestClassifier"
   ]
  },
  {
   "cell_type": "markdown",
   "id": "1a2fb134-b44c-4330-a98d-9c8891d11729",
   "metadata": {},
   "source": [
    "## Functions\n",
    "Slightly modified from the binary classifier case"
   ]
  },
  {
   "cell_type": "code",
   "execution_count": 6,
   "id": "ab3bffac-7a93-4f78-be7b-6edd6dbd005d",
   "metadata": {
    "ExecuteTime": {
     "end_time": "2022-08-24T18:01:05.438803Z",
     "start_time": "2022-08-24T18:01:05.431254Z"
    }
   },
   "outputs": [],
   "source": [
    "def calculate_tpr_fpr(y_real, y_pred):\n",
    "    '''\n",
    "    Calculates the True Positive Rate (tpr) and the True Negative Rate (fpr) based on real and predicted observations\n",
    "    \n",
    "    Args:\n",
    "        y_real: The list or series with the real classes\n",
    "        y_pred: The list or series with the predicted classes\n",
    "        \n",
    "    Returns:\n",
    "        tpr: The True Positive Rate of the classifier\n",
    "        fpr: The False Positive Rate of the classifier\n",
    "    '''\n",
    "    \n",
    "    # Calculates the confusion matrix and recover each element\n",
    "    cm = confusion_matrix(y_real, y_pred)\n",
    "    TN = cm[0, 0]\n",
    "    FP = cm[0, 1]\n",
    "    FN = cm[1, 0]\n",
    "    TP = cm[1, 1]\n",
    "    \n",
    "    # Calculates tpr and fpr\n",
    "    tpr =  TP/(TP + FN) # sensitivity - true positive rate\n",
    "    fpr = 1 - TN/(TN+FP) # 1-specificity - false positive rate\n",
    "    \n",
    "    return tpr, fpr"
   ]
  },
  {
   "cell_type": "code",
   "execution_count": 7,
   "id": "6e130975-31ee-4be1-a5ec-448b266d66dd",
   "metadata": {
    "ExecuteTime": {
     "end_time": "2022-08-24T18:01:05.447454Z",
     "start_time": "2022-08-24T18:01:05.442202Z"
    },
    "tags": []
   },
   "outputs": [],
   "source": [
    "def get_all_roc_coordinates(y_real, y_proba):\n",
    "    '''\n",
    "    Calculates all the ROC Curve coordinates (tpr and fpr) by considering each point as a threshold for the predicion of the class.\n",
    "    \n",
    "    Args:\n",
    "        y_real: The list or series with the real classes.\n",
    "        y_proba: The array with the probabilities for each class, obtained by using the `.predict_proba()` method.\n",
    "        \n",
    "    Returns:\n",
    "        tpr_list: The list of TPRs representing each threshold.\n",
    "        fpr_list: The list of FPRs representing each threshold.\n",
    "    '''\n",
    "    tpr_list = [0]\n",
    "    fpr_list = [0]\n",
    "    for i in range(len(y_proba)):\n",
    "        threshold = y_proba[i]  # why shift the boundary in this way? I thought we had to increase the threshold incrementally\n",
    "        y_pred = y_proba >= threshold \n",
    "        tpr, fpr = calculate_tpr_fpr(y_real, y_pred)\n",
    "        tpr_list.append(tpr)\n",
    "        fpr_list.append(fpr)\n",
    "    return tpr_list, fpr_list"
   ]
  },
  {
   "cell_type": "code",
   "execution_count": 8,
   "id": "bf6cad20-d6b3-42e7-8c99-8397fcbc959c",
   "metadata": {
    "ExecuteTime": {
     "end_time": "2022-08-24T18:01:05.454726Z",
     "start_time": "2022-08-24T18:01:05.449240Z"
    }
   },
   "outputs": [],
   "source": [
    "def plot_roc_curve(tpr, fpr, scatter = True, ax = None):\n",
    "    '''\n",
    "    Plots the ROC Curve by using the list of coordinates (tpr and fpr).\n",
    "    \n",
    "    Args:\n",
    "        tpr: The list of TPRs representing each coordinate.\n",
    "        fpr: The list of FPRs representing each coordinate.\n",
    "        scatter: When True, the points used on the calculation will be plotted with the line (default = True).\n",
    "    '''\n",
    "    if ax == None:\n",
    "        plt.figure(figsize = (5, 5))\n",
    "        ax = plt.axes()\n",
    "    \n",
    "    if scatter:\n",
    "        sns.scatterplot(x = fpr, y = tpr, ax = ax)\n",
    "    sns.lineplot(x = fpr, y = tpr, ax = ax)\n",
    "    sns.lineplot(x = [0, 1], y = [0, 1], color = 'green', ax = ax)\n",
    "    plt.xlim(-0.05, 1.05)\n",
    "    plt.ylim(-0.05, 1.05)\n",
    "    plt.xlabel(\"False Positive Rate\")\n",
    "    plt.ylabel(\"True Positive Rate\")"
   ]
  },
  {
   "cell_type": "markdown",
   "id": "4c5f3d0b-1906-431a-855d-150be5b311dc",
   "metadata": {},
   "source": [
    "## Multiclass classification evaluation with KS test"
   ]
  },
  {
   "cell_type": "markdown",
   "id": "6bc3d02d-e830-428d-8260-057ac8fce71c",
   "metadata": {},
   "source": [
    "### Creating a synthetic dataset"
   ]
  },
  {
   "cell_type": "code",
   "execution_count": 9,
   "id": "b343b5c3-b6fd-425d-82f8-586c48051d6b",
   "metadata": {
    "ExecuteTime": {
     "end_time": "2022-08-24T18:01:05.458697Z",
     "start_time": "2022-08-24T18:01:05.456168Z"
    }
   },
   "outputs": [],
   "source": [
    "scale = 3.5\n",
    "size = 500"
   ]
  },
  {
   "cell_type": "code",
   "execution_count": 10,
   "id": "a313abc5-ca2c-4efc-92ad-ae23503690ef",
   "metadata": {
    "ExecuteTime": {
     "end_time": "2022-08-24T18:01:05.464988Z",
     "start_time": "2022-08-24T18:01:05.460285Z"
    }
   },
   "outputs": [],
   "source": [
    "class1_x = np.random.normal(loc = 10, scale = scale, size = size)\n",
    "class1_y = np.random.normal(loc = 1, scale = scale, size = size)"
   ]
  },
  {
   "cell_type": "code",
   "execution_count": 11,
   "id": "89779ef5-32ee-41ec-bc16-d3293f6e4003",
   "metadata": {
    "ExecuteTime": {
     "end_time": "2022-08-24T18:01:05.469100Z",
     "start_time": "2022-08-24T18:01:05.466414Z"
    }
   },
   "outputs": [],
   "source": [
    "class2_x = np.random.normal(loc = 1, scale = scale, size = size)\n",
    "class2_y = np.random.normal(loc = 5, scale = scale, size = size)"
   ]
  },
  {
   "cell_type": "code",
   "execution_count": 12,
   "id": "a2dedd66-ec9d-4203-be95-d72e842d0ef5",
   "metadata": {
    "ExecuteTime": {
     "end_time": "2022-08-24T18:01:05.473186Z",
     "start_time": "2022-08-24T18:01:05.470216Z"
    }
   },
   "outputs": [],
   "source": [
    "class3_x = np.random.normal(loc = 10, scale = scale, size = size)\n",
    "class3_y = np.random.normal(loc = 10, scale = scale, size = size)"
   ]
  },
  {
   "cell_type": "code",
   "execution_count": 13,
   "id": "4c6d3b23-2db9-45c1-a4e4-1b695993cb4a",
   "metadata": {
    "ExecuteTime": {
     "end_time": "2022-08-24T18:01:05.642235Z",
     "start_time": "2022-08-24T18:01:05.476001Z"
    }
   },
   "outputs": [
    {
     "name": "stderr",
     "output_type": "stream",
     "text": [
      "/var/folders/27/l6v26dbx0093xg448fxvxmpc0000gn/T/ipykernel_6148/194776675.py:4: FutureWarning: The frame.append method is deprecated and will be removed from pandas in a future version. Use pandas.concat instead.\n",
      "  df = df_class1.append(df_class2, ignore_index = True)\n",
      "/var/folders/27/l6v26dbx0093xg448fxvxmpc0000gn/T/ipykernel_6148/194776675.py:5: FutureWarning: The frame.append method is deprecated and will be removed from pandas in a future version. Use pandas.concat instead.\n",
      "  df = df.append(df_class3, ignore_index = True)\n"
     ]
    }
   ],
   "source": [
    "df_class1 = pd.DataFrame({'x' : class1_x, 'y' : class1_y, 'class': 'apple'})\n",
    "df_class2 = pd.DataFrame({'x' : class2_x, 'y' : class2_y, 'class': 'banana'})\n",
    "df_class3 = pd.DataFrame({'x' : class3_x, 'y' : class3_y, 'class': 'orange'})\n",
    "df = df_class1.append(df_class2, ignore_index = True)\n",
    "df = df.append(df_class3, ignore_index = True)"
   ]
  },
  {
   "cell_type": "code",
   "execution_count": 14,
   "id": "f346442e-5601-4ba5-b7d8-1d534bbe03c4",
   "metadata": {
    "ExecuteTime": {
     "end_time": "2022-08-24T18:01:11.584736Z",
     "start_time": "2022-08-24T18:01:11.376935Z"
    }
   },
   "outputs": [
    {
     "data": {
      "text/plain": [
       "<AxesSubplot:xlabel='x', ylabel='y'>"
      ]
     },
     "execution_count": 14,
     "metadata": {},
     "output_type": "execute_result"
    },
    {
     "data": {
      "image/png": "[encoded data removed]",
      "text/plain": [
       "<Figure size 360x360 with 1 Axes>"
      ]
     },
     "metadata": {
      "needs_background": "light"
     },
     "output_type": "display_data"
    }
   ],
   "source": [
    "# Plot them to show how much they intersect\n",
    "plt.figure(figsize=(5, 5))\n",
    "sns.scatterplot(x = 'x', y = 'y', hue = 'class', data = df)"
   ]
  },
  {
   "cell_type": "code",
   "execution_count": 15,
   "id": "9bd7cfaa-ecbf-438e-b06e-5a6aa73680e0",
   "metadata": {
    "ExecuteTime": {
     "end_time": "2022-08-24T18:01:41.424312Z",
     "start_time": "2022-08-24T18:01:41.415470Z"
    }
   },
   "outputs": [],
   "source": [
    "X = df[['x', 'y']]\n",
    "y = df['class']"
   ]
  },
  {
   "cell_type": "code",
   "execution_count": 16,
   "id": "12a7f391-7435-411a-9232-d50ec0acd8e9",
   "metadata": {
    "ExecuteTime": {
     "end_time": "2022-08-24T18:01:42.409302Z",
     "start_time": "2022-08-24T18:01:42.398904Z"
    }
   },
   "outputs": [],
   "source": [
    "X_train, X_test, y_train, y_test = train_test_split(X, y, test_size = 0.2)"
   ]
  },
  {
   "cell_type": "markdown",
   "id": "208705b2-daa8-425f-a0a1-b7ac78573362",
   "metadata": {},
   "source": [
    "### Fits the model and make the predictions"
   ]
  },
  {
   "cell_type": "code",
   "execution_count": 17,
   "id": "796e0304-b56c-4674-95f5-31de08523ac3",
   "metadata": {
    "ExecuteTime": {
     "end_time": "2022-08-24T18:02:11.188036Z",
     "start_time": "2022-08-24T18:02:11.183190Z"
    }
   },
   "outputs": [],
   "source": [
    "model_multiclass = RandomForestClassifier(n_estimators = 50, criterion = 'gini')"
   ]
  },
  {
   "cell_type": "code",
   "execution_count": 18,
   "id": "8eeaacd2-06a3-4cdd-a81d-be06e24a4d29",
   "metadata": {
    "ExecuteTime": {
     "end_time": "2022-08-24T18:02:12.265904Z",
     "start_time": "2022-08-24T18:02:12.162462Z"
    }
   },
   "outputs": [
    {
     "data": {
      "text/plain": [
       "RandomForestClassifier(n_estimators=50)"
      ]
     },
     "execution_count": 18,
     "metadata": {},
     "output_type": "execute_result"
    }
   ],
   "source": [
    "model_multiclass.fit(X_train, y_train)"
   ]
  },
  {
   "cell_type": "code",
   "execution_count": 19,
   "id": "4b6d1ae4-b1dc-40ab-a27b-a45a81e3cd75",
   "metadata": {
    "ExecuteTime": {
     "end_time": "2022-08-24T18:02:15.158696Z",
     "start_time": "2022-08-24T18:02:15.134391Z"
    }
   },
   "outputs": [],
   "source": [
    "y_pred = model_multiclass.predict(X_test)"
   ]
  },
  {
   "cell_type": "code",
   "execution_count": 20,
   "id": "5eba78da-55ac-4aed-b387-790f5a430671",
   "metadata": {
    "ExecuteTime": {
     "end_time": "2022-08-24T18:02:17.232112Z",
     "start_time": "2022-08-24T18:02:17.212740Z"
    }
   },
   "outputs": [],
   "source": [
    "y_proba = model_multiclass.predict_proba(X_test)"
   ]
  },
  {
   "cell_type": "code",
   "execution_count": 39,
   "id": "ae434106",
   "metadata": {
    "ExecuteTime": {
     "end_time": "2022-08-24T18:14:32.475545Z",
     "start_time": "2022-08-24T18:14:32.450423Z"
    }
   },
   "outputs": [
    {
     "data": {
      "text/plain": [
       "array([[0.  , 0.  , 1.  ],\n",
       "       [0.  , 1.  , 0.  ],\n",
       "       [0.58, 0.  , 0.42],\n",
       "       [0.  , 0.  , 1.  ],\n",
       "       [0.  , 1.  , 0.  ],\n",
       "       [0.06, 0.  , 0.94],\n",
       "       [0.24, 0.  , 0.76],\n",
       "       [0.22, 0.78, 0.  ],\n",
       "       [0.08, 0.36, 0.56],\n",
       "       [0.  , 0.9 , 0.1 ],\n",
       "       [0.26, 0.68, 0.06],\n",
       "       [0.24, 0.54, 0.22],\n",
       "       [0.02, 0.  , 0.98],\n",
       "       [0.54, 0.02, 0.44],\n",
       "       [0.  , 0.  , 1.  ],\n",
       "       [0.66, 0.12, 0.22],\n",
       "       [0.  , 0.04, 0.96],\n",
       "       [0.98, 0.  , 0.02],\n",
       "       [0.1 , 0.9 , 0.  ],\n",
       "       [0.  , 0.88, 0.12],\n",
       "       [0.76, 0.02, 0.22],\n",
       "       [0.  , 0.  , 1.  ],\n",
       "       [1.  , 0.  , 0.  ],\n",
       "       [0.  , 0.98, 0.02],\n",
       "       [1.  , 0.  , 0.  ],\n",
       "       [0.  , 0.12, 0.88],\n",
       "       [0.64, 0.36, 0.  ],\n",
       "       [0.04, 0.  , 0.96],\n",
       "       [0.  , 0.  , 1.  ],\n",
       "       [0.  , 0.  , 1.  ],\n",
       "       [0.02, 0.  , 0.98],\n",
       "       [1.  , 0.  , 0.  ],\n",
       "       [0.96, 0.02, 0.02],\n",
       "       [0.  , 0.54, 0.46],\n",
       "       [0.86, 0.12, 0.02],\n",
       "       [0.  , 0.  , 1.  ],\n",
       "       [0.02, 0.98, 0.  ],\n",
       "       [0.  , 1.  , 0.  ],\n",
       "       [0.26, 0.72, 0.02],\n",
       "       [0.86, 0.  , 0.14],\n",
       "       [0.06, 0.02, 0.92],\n",
       "       [0.7 , 0.28, 0.02],\n",
       "       [1.  , 0.  , 0.  ],\n",
       "       [0.  , 0.  , 1.  ],\n",
       "       [0.  , 0.  , 1.  ],\n",
       "       [0.36, 0.  , 0.64],\n",
       "       [1.  , 0.  , 0.  ],\n",
       "       [0.  , 0.  , 1.  ],\n",
       "       [0.06, 0.68, 0.26],\n",
       "       [0.  , 1.  , 0.  ],\n",
       "       [0.  , 1.  , 0.  ],\n",
       "       [0.  , 0.92, 0.08],\n",
       "       [0.02, 0.  , 0.98],\n",
       "       [0.  , 0.  , 1.  ],\n",
       "       [0.  , 1.  , 0.  ],\n",
       "       [0.  , 0.04, 0.96],\n",
       "       [0.16, 0.44, 0.4 ],\n",
       "       [0.  , 1.  , 0.  ],\n",
       "       [1.  , 0.  , 0.  ],\n",
       "       [0.04, 0.96, 0.  ],\n",
       "       [0.  , 0.  , 1.  ],\n",
       "       [0.12, 0.88, 0.  ],\n",
       "       [0.6 , 0.  , 0.4 ],\n",
       "       [0.  , 1.  , 0.  ],\n",
       "       [0.08, 0.82, 0.1 ],\n",
       "       [0.  , 0.58, 0.42],\n",
       "       [1.  , 0.  , 0.  ],\n",
       "       [0.16, 0.  , 0.84],\n",
       "       [0.04, 0.94, 0.02],\n",
       "       [0.36, 0.64, 0.  ],\n",
       "       [0.18, 0.82, 0.  ],\n",
       "       [0.52, 0.  , 0.48],\n",
       "       [0.72, 0.28, 0.  ],\n",
       "       [0.  , 0.02, 0.98],\n",
       "       [0.74, 0.06, 0.2 ],\n",
       "       [0.02, 0.62, 0.36],\n",
       "       [0.12, 0.66, 0.22],\n",
       "       [0.02, 0.  , 0.98],\n",
       "       [0.86, 0.02, 0.12],\n",
       "       [1.  , 0.  , 0.  ],\n",
       "       [0.82, 0.02, 0.16],\n",
       "       [0.18, 0.82, 0.  ],\n",
       "       [0.  , 0.64, 0.36],\n",
       "       [0.02, 0.06, 0.92],\n",
       "       [0.3 , 0.  , 0.7 ],\n",
       "       [0.  , 0.  , 1.  ],\n",
       "       [0.48, 0.52, 0.  ],\n",
       "       [1.  , 0.  , 0.  ],\n",
       "       [0.98, 0.  , 0.02],\n",
       "       [0.98, 0.  , 0.02],\n",
       "       [0.02, 0.96, 0.02],\n",
       "       [0.98, 0.02, 0.  ],\n",
       "       [0.94, 0.  , 0.06],\n",
       "       [0.04, 0.04, 0.92],\n",
       "       [0.88, 0.  , 0.12],\n",
       "       [0.  , 1.  , 0.  ],\n",
       "       [0.  , 1.  , 0.  ],\n",
       "       [0.  , 1.  , 0.  ],\n",
       "       [0.26, 0.6 , 0.14],\n",
       "       [0.02, 0.98, 0.  ],\n",
       "       [0.  , 1.  , 0.  ],\n",
       "       [0.  , 1.  , 0.  ],\n",
       "       [0.1 , 0.  , 0.9 ],\n",
       "       [0.  , 0.  , 1.  ],\n",
       "       [0.  , 1.  , 0.  ],\n",
       "       [0.06, 0.94, 0.  ],\n",
       "       [0.22, 0.46, 0.32],\n",
       "       [0.08, 0.9 , 0.02],\n",
       "       [0.  , 0.  , 1.  ],\n",
       "       [0.9 , 0.1 , 0.  ],\n",
       "       [0.  , 0.  , 1.  ],\n",
       "       [0.94, 0.  , 0.06],\n",
       "       [0.12, 0.88, 0.  ],\n",
       "       [0.04, 0.96, 0.  ],\n",
       "       [1.  , 0.  , 0.  ],\n",
       "       [0.08, 0.92, 0.  ],\n",
       "       [0.24, 0.  , 0.76],\n",
       "       [0.92, 0.08, 0.  ],\n",
       "       [0.  , 0.  , 1.  ],\n",
       "       [0.  , 0.52, 0.48],\n",
       "       [0.  , 0.  , 1.  ],\n",
       "       [0.78, 0.  , 0.22],\n",
       "       [0.  , 0.92, 0.08],\n",
       "       [0.  , 0.24, 0.76],\n",
       "       [0.04, 0.96, 0.  ],\n",
       "       [1.  , 0.  , 0.  ],\n",
       "       [0.96, 0.  , 0.04],\n",
       "       [0.  , 0.  , 1.  ],\n",
       "       [1.  , 0.  , 0.  ],\n",
       "       [0.  , 0.02, 0.98],\n",
       "       [0.62, 0.3 , 0.08],\n",
       "       [1.  , 0.  , 0.  ],\n",
       "       [0.  , 1.  , 0.  ],\n",
       "       [0.  , 0.  , 1.  ],\n",
       "       [0.04, 0.94, 0.02],\n",
       "       [1.  , 0.  , 0.  ],\n",
       "       [0.34, 0.58, 0.08],\n",
       "       [0.2 , 0.28, 0.52],\n",
       "       [0.  , 0.62, 0.38],\n",
       "       [0.  , 1.  , 0.  ],\n",
       "       [0.14, 0.  , 0.86],\n",
       "       [0.  , 0.  , 1.  ],\n",
       "       [0.34, 0.2 , 0.46],\n",
       "       [0.78, 0.  , 0.22],\n",
       "       [0.  , 1.  , 0.  ],\n",
       "       [0.84, 0.  , 0.16],\n",
       "       [0.04, 0.  , 0.96],\n",
       "       [0.16, 0.56, 0.28],\n",
       "       [0.02, 0.38, 0.6 ],\n",
       "       [0.  , 0.98, 0.02],\n",
       "       [0.02, 0.  , 0.98],\n",
       "       [0.  , 0.  , 1.  ],\n",
       "       [0.  , 0.  , 1.  ],\n",
       "       [1.  , 0.  , 0.  ],\n",
       "       [0.  , 0.02, 0.98],\n",
       "       [0.  , 0.04, 0.96],\n",
       "       [0.04, 0.82, 0.14],\n",
       "       [0.04, 0.96, 0.  ],\n",
       "       [0.  , 1.  , 0.  ],\n",
       "       [1.  , 0.  , 0.  ],\n",
       "       [0.06, 0.  , 0.94],\n",
       "       [0.98, 0.  , 0.02],\n",
       "       [0.02, 0.  , 0.98],\n",
       "       [0.06, 0.94, 0.  ],\n",
       "       [0.6 , 0.3 , 0.1 ],\n",
       "       [1.  , 0.  , 0.  ],\n",
       "       [0.  , 0.02, 0.98],\n",
       "       [1.  , 0.  , 0.  ],\n",
       "       [0.96, 0.  , 0.04],\n",
       "       [0.4 , 0.  , 0.6 ],\n",
       "       [0.  , 0.8 , 0.2 ],\n",
       "       [0.  , 1.  , 0.  ],\n",
       "       [0.98, 0.02, 0.  ],\n",
       "       [0.62, 0.02, 0.36],\n",
       "       [1.  , 0.  , 0.  ],\n",
       "       [0.04, 0.  , 0.96],\n",
       "       [0.  , 0.22, 0.78],\n",
       "       [0.04, 0.96, 0.  ],\n",
       "       [0.  , 0.04, 0.96],\n",
       "       [0.74, 0.  , 0.26],\n",
       "       [0.02, 0.  , 0.98],\n",
       "       [0.02, 0.  , 0.98],\n",
       "       [0.  , 0.  , 1.  ],\n",
       "       [0.16, 0.24, 0.6 ],\n",
       "       [0.42, 0.02, 0.56],\n",
       "       [0.02, 0.96, 0.02],\n",
       "       [0.12, 0.46, 0.42],\n",
       "       [0.88, 0.1 , 0.02],\n",
       "       [0.04, 0.  , 0.96],\n",
       "       [0.08, 0.  , 0.92],\n",
       "       [0.02, 0.98, 0.  ],\n",
       "       [0.  , 0.  , 1.  ],\n",
       "       [0.  , 0.94, 0.06],\n",
       "       [0.  , 0.06, 0.94],\n",
       "       [0.68, 0.24, 0.08],\n",
       "       [0.5 , 0.26, 0.24],\n",
       "       [0.54, 0.04, 0.42],\n",
       "       [0.04, 0.94, 0.02],\n",
       "       [1.  , 0.  , 0.  ],\n",
       "       [0.  , 0.  , 1.  ],\n",
       "       [0.  , 0.  , 1.  ],\n",
       "       [0.  , 1.  , 0.  ],\n",
       "       [0.98, 0.  , 0.02],\n",
       "       [0.86, 0.12, 0.02],\n",
       "       [0.1 , 0.84, 0.06],\n",
       "       [1.  , 0.  , 0.  ],\n",
       "       [0.16, 0.82, 0.02],\n",
       "       [0.  , 0.92, 0.08],\n",
       "       [0.98, 0.02, 0.  ],\n",
       "       [0.  , 0.76, 0.24],\n",
       "       [0.32, 0.14, 0.54],\n",
       "       [0.06, 0.94, 0.  ],\n",
       "       [1.  , 0.  , 0.  ],\n",
       "       [0.72, 0.  , 0.28],\n",
       "       [0.  , 1.  , 0.  ],\n",
       "       [0.  , 0.98, 0.02],\n",
       "       [0.  , 0.02, 0.98],\n",
       "       [0.  , 0.  , 1.  ],\n",
       "       [1.  , 0.  , 0.  ],\n",
       "       [0.04, 0.96, 0.  ],\n",
       "       [0.96, 0.  , 0.04],\n",
       "       [0.  , 0.  , 1.  ],\n",
       "       [0.48, 0.5 , 0.02],\n",
       "       [0.  , 0.  , 1.  ],\n",
       "       [0.  , 0.96, 0.04],\n",
       "       [0.  , 0.  , 1.  ],\n",
       "       [1.  , 0.  , 0.  ],\n",
       "       [0.28, 0.  , 0.72],\n",
       "       [0.04, 0.96, 0.  ],\n",
       "       [0.04, 0.96, 0.  ],\n",
       "       [1.  , 0.  , 0.  ],\n",
       "       [0.  , 0.82, 0.18],\n",
       "       [1.  , 0.  , 0.  ],\n",
       "       [0.02, 0.08, 0.9 ],\n",
       "       [1.  , 0.  , 0.  ],\n",
       "       [1.  , 0.  , 0.  ],\n",
       "       [1.  , 0.  , 0.  ],\n",
       "       [0.  , 1.  , 0.  ],\n",
       "       [0.  , 0.02, 0.98],\n",
       "       [0.02, 0.  , 0.98],\n",
       "       [0.7 , 0.12, 0.18],\n",
       "       [1.  , 0.  , 0.  ],\n",
       "       [0.18, 0.82, 0.  ],\n",
       "       [0.9 , 0.  , 0.1 ],\n",
       "       [0.72, 0.  , 0.28],\n",
       "       [0.96, 0.02, 0.02],\n",
       "       [0.06, 0.9 , 0.04],\n",
       "       [1.  , 0.  , 0.  ],\n",
       "       [0.  , 0.  , 1.  ],\n",
       "       [0.  , 0.  , 1.  ],\n",
       "       [0.08, 0.92, 0.  ],\n",
       "       [0.36, 0.64, 0.  ],\n",
       "       [0.94, 0.06, 0.  ],\n",
       "       [0.  , 1.  , 0.  ],\n",
       "       [0.  , 0.  , 1.  ],\n",
       "       [0.12, 0.88, 0.  ],\n",
       "       [0.  , 0.98, 0.02],\n",
       "       [0.  , 0.  , 1.  ],\n",
       "       [0.  , 1.  , 0.  ],\n",
       "       [0.4 , 0.26, 0.34],\n",
       "       [1.  , 0.  , 0.  ],\n",
       "       [1.  , 0.  , 0.  ],\n",
       "       [0.  , 1.  , 0.  ],\n",
       "       [0.  , 0.  , 1.  ],\n",
       "       [0.  , 0.  , 1.  ],\n",
       "       [0.24, 0.  , 0.76],\n",
       "       [0.04, 0.96, 0.  ],\n",
       "       [0.  , 1.  , 0.  ],\n",
       "       [0.  , 0.  , 1.  ],\n",
       "       [0.  , 0.  , 1.  ],\n",
       "       [1.  , 0.  , 0.  ],\n",
       "       [0.  , 0.  , 1.  ],\n",
       "       [0.7 , 0.  , 0.3 ],\n",
       "       [0.68, 0.18, 0.14],\n",
       "       [0.86, 0.04, 0.1 ],\n",
       "       [0.52, 0.08, 0.4 ],\n",
       "       [1.  , 0.  , 0.  ],\n",
       "       [0.94, 0.  , 0.06],\n",
       "       [0.52, 0.48, 0.  ],\n",
       "       [0.  , 1.  , 0.  ],\n",
       "       [0.  , 1.  , 0.  ],\n",
       "       [0.56, 0.  , 0.44],\n",
       "       [0.1 , 0.58, 0.32],\n",
       "       [0.46, 0.02, 0.52],\n",
       "       [0.08, 0.  , 0.92],\n",
       "       [1.  , 0.  , 0.  ],\n",
       "       [0.02, 0.98, 0.  ],\n",
       "       [0.02, 0.32, 0.66],\n",
       "       [0.02, 0.98, 0.  ],\n",
       "       [0.  , 0.  , 1.  ],\n",
       "       [0.04, 0.12, 0.84],\n",
       "       [0.  , 0.  , 1.  ],\n",
       "       [1.  , 0.  , 0.  ],\n",
       "       [0.  , 0.  , 1.  ],\n",
       "       [0.  , 0.  , 1.  ],\n",
       "       [0.5 , 0.5 , 0.  ],\n",
       "       [0.02, 0.98, 0.  ],\n",
       "       [0.1 , 0.9 , 0.  ],\n",
       "       [0.  , 1.  , 0.  ],\n",
       "       [0.04, 0.96, 0.  ]])"
      ]
     },
     "execution_count": 39,
     "metadata": {},
     "output_type": "execute_result"
    }
   ],
   "source": [
    "y_proba"
   ]
  },
  {
   "cell_type": "code",
   "execution_count": 27,
   "id": "17cca994",
   "metadata": {
    "ExecuteTime": {
     "end_time": "2022-08-24T18:03:51.809387Z",
     "start_time": "2022-08-24T18:03:51.800617Z"
    }
   },
   "outputs": [
    {
     "data": {
      "text/plain": [
       "(300, 3)"
      ]
     },
     "execution_count": 27,
     "metadata": {},
     "output_type": "execute_result"
    }
   ],
   "source": [
    "y_proba.shape"
   ]
  },
  {
   "cell_type": "code",
   "execution_count": 41,
   "id": "d25f519c",
   "metadata": {
    "ExecuteTime": {
     "end_time": "2022-08-24T18:15:41.394656Z",
     "start_time": "2022-08-24T18:15:41.379079Z"
    }
   },
   "outputs": [
    {
     "data": {
      "text/plain": [
       "array([[ True,  True,  True],\n",
       "       [ True,  True,  True],\n",
       "       [ True,  True,  True],\n",
       "       [ True,  True,  True],\n",
       "       [ True,  True,  True],\n",
       "       [ True,  True,  True],\n",
       "       [ True,  True,  True],\n",
       "       [ True,  True,  True],\n",
       "       [ True,  True,  True],\n",
       "       [ True,  True,  True],\n",
       "       [ True,  True,  True],\n",
       "       [ True,  True,  True],\n",
       "       [ True,  True,  True],\n",
       "       [ True,  True,  True],\n",
       "       [ True,  True,  True],\n",
       "       [ True,  True,  True],\n",
       "       [ True,  True,  True],\n",
       "       [ True,  True,  True],\n",
       "       [ True,  True,  True],\n",
       "       [ True,  True,  True],\n",
       "       [ True,  True,  True],\n",
       "       [ True,  True,  True],\n",
       "       [ True,  True,  True],\n",
       "       [ True,  True,  True],\n",
       "       [ True,  True,  True],\n",
       "       [ True,  True,  True],\n",
       "       [ True,  True,  True],\n",
       "       [ True,  True,  True],\n",
       "       [ True,  True,  True],\n",
       "       [ True,  True,  True],\n",
       "       [ True,  True,  True],\n",
       "       [ True,  True,  True],\n",
       "       [ True,  True,  True],\n",
       "       [ True,  True,  True],\n",
       "       [ True,  True,  True],\n",
       "       [ True,  True,  True],\n",
       "       [ True,  True,  True],\n",
       "       [ True,  True,  True],\n",
       "       [ True,  True,  True],\n",
       "       [ True,  True,  True],\n",
       "       [ True,  True,  True],\n",
       "       [ True,  True,  True],\n",
       "       [ True,  True,  True],\n",
       "       [ True,  True,  True],\n",
       "       [ True,  True,  True],\n",
       "       [ True,  True,  True],\n",
       "       [ True,  True,  True],\n",
       "       [ True,  True,  True],\n",
       "       [ True,  True,  True],\n",
       "       [ True,  True,  True],\n",
       "       [ True,  True,  True],\n",
       "       [ True,  True,  True],\n",
       "       [ True,  True,  True],\n",
       "       [ True,  True,  True],\n",
       "       [ True,  True,  True],\n",
       "       [ True,  True,  True],\n",
       "       [ True,  True,  True],\n",
       "       [ True,  True,  True],\n",
       "       [ True,  True,  True],\n",
       "       [ True,  True,  True],\n",
       "       [ True,  True,  True],\n",
       "       [ True,  True,  True],\n",
       "       [ True,  True,  True],\n",
       "       [ True,  True,  True],\n",
       "       [ True,  True,  True],\n",
       "       [ True,  True,  True],\n",
       "       [ True,  True,  True],\n",
       "       [ True,  True,  True],\n",
       "       [ True,  True,  True],\n",
       "       [ True,  True,  True],\n",
       "       [ True,  True,  True],\n",
       "       [ True,  True,  True],\n",
       "       [ True,  True,  True],\n",
       "       [ True,  True,  True],\n",
       "       [ True,  True,  True],\n",
       "       [ True,  True,  True],\n",
       "       [ True,  True,  True],\n",
       "       [ True,  True,  True],\n",
       "       [ True,  True,  True],\n",
       "       [ True,  True,  True],\n",
       "       [ True,  True,  True],\n",
       "       [ True,  True,  True],\n",
       "       [ True,  True,  True],\n",
       "       [ True,  True,  True],\n",
       "       [ True,  True,  True],\n",
       "       [ True,  True,  True],\n",
       "       [ True,  True,  True],\n",
       "       [ True,  True,  True],\n",
       "       [ True,  True,  True],\n",
       "       [ True,  True,  True],\n",
       "       [ True,  True,  True],\n",
       "       [ True,  True,  True],\n",
       "       [ True,  True,  True],\n",
       "       [ True,  True,  True],\n",
       "       [ True,  True,  True],\n",
       "       [ True,  True,  True],\n",
       "       [ True,  True,  True],\n",
       "       [ True,  True,  True],\n",
       "       [ True,  True,  True],\n",
       "       [ True,  True,  True],\n",
       "       [ True,  True,  True],\n",
       "       [ True,  True,  True],\n",
       "       [ True,  True,  True],\n",
       "       [ True,  True,  True],\n",
       "       [ True,  True,  True],\n",
       "       [ True,  True,  True],\n",
       "       [ True,  True,  True],\n",
       "       [ True,  True,  True],\n",
       "       [ True,  True,  True],\n",
       "       [ True,  True,  True],\n",
       "       [ True,  True,  True],\n",
       "       [ True,  True,  True],\n",
       "       [ True,  True,  True],\n",
       "       [ True,  True,  True],\n",
       "       [ True,  True,  True],\n",
       "       [ True,  True,  True],\n",
       "       [ True,  True,  True],\n",
       "       [ True,  True,  True],\n",
       "       [ True,  True,  True],\n",
       "       [ True,  True,  True],\n",
       "       [ True,  True,  True],\n",
       "       [ True,  True,  True],\n",
       "       [ True,  True,  True],\n",
       "       [ True,  True,  True],\n",
       "       [ True,  True,  True],\n",
       "       [ True,  True,  True],\n",
       "       [ True,  True,  True],\n",
       "       [ True,  True,  True],\n",
       "       [ True,  True,  True],\n",
       "       [ True,  True,  True],\n",
       "       [ True,  True,  True],\n",
       "       [ True,  True,  True],\n",
       "       [ True,  True,  True],\n",
       "       [ True,  True,  True],\n",
       "       [ True,  True,  True],\n",
       "       [ True,  True,  True],\n",
       "       [ True,  True,  True],\n",
       "       [ True,  True,  True],\n",
       "       [ True,  True,  True],\n",
       "       [ True,  True,  True],\n",
       "       [ True,  True,  True],\n",
       "       [ True,  True,  True],\n",
       "       [ True,  True,  True],\n",
       "       [ True,  True,  True],\n",
       "       [ True,  True,  True],\n",
       "       [ True,  True,  True],\n",
       "       [ True,  True,  True],\n",
       "       [ True,  True,  True],\n",
       "       [ True,  True,  True],\n",
       "       [ True,  True,  True],\n",
       "       [ True,  True,  True],\n",
       "       [ True,  True,  True],\n",
       "       [ True,  True,  True],\n",
       "       [ True,  True,  True],\n",
       "       [ True,  True,  True],\n",
       "       [ True,  True,  True],\n",
       "       [ True,  True,  True],\n",
       "       [ True,  True,  True],\n",
       "       [ True,  True,  True],\n",
       "       [ True,  True,  True],\n",
       "       [ True,  True,  True],\n",
       "       [ True,  True,  True],\n",
       "       [ True,  True,  True],\n",
       "       [ True,  True,  True],\n",
       "       [ True,  True,  True],\n",
       "       [ True,  True,  True],\n",
       "       [ True,  True,  True],\n",
       "       [ True,  True,  True],\n",
       "       [ True,  True,  True],\n",
       "       [ True,  True,  True],\n",
       "       [ True,  True,  True],\n",
       "       [ True,  True,  True],\n",
       "       [ True,  True,  True],\n",
       "       [ True,  True,  True],\n",
       "       [ True,  True,  True],\n",
       "       [ True,  True,  True],\n",
       "       [ True,  True,  True],\n",
       "       [ True,  True,  True],\n",
       "       [ True,  True,  True],\n",
       "       [ True,  True,  True],\n",
       "       [ True,  True,  True],\n",
       "       [ True,  True,  True],\n",
       "       [ True,  True,  True],\n",
       "       [ True,  True,  True],\n",
       "       [ True,  True,  True],\n",
       "       [ True,  True,  True],\n",
       "       [ True,  True,  True],\n",
       "       [ True,  True,  True],\n",
       "       [ True,  True,  True],\n",
       "       [ True,  True,  True],\n",
       "       [ True,  True,  True],\n",
       "       [ True,  True,  True],\n",
       "       [ True,  True,  True],\n",
       "       [ True,  True,  True],\n",
       "       [ True,  True,  True],\n",
       "       [ True,  True,  True],\n",
       "       [ True,  True,  True],\n",
       "       [ True,  True,  True],\n",
       "       [ True,  True,  True],\n",
       "       [ True,  True,  True],\n",
       "       [ True,  True,  True],\n",
       "       [ True,  True,  True],\n",
       "       [ True,  True,  True],\n",
       "       [ True,  True,  True],\n",
       "       [ True,  True,  True],\n",
       "       [ True,  True,  True],\n",
       "       [ True,  True,  True],\n",
       "       [ True,  True,  True],\n",
       "       [ True,  True,  True],\n",
       "       [ True,  True,  True],\n",
       "       [ True,  True,  True],\n",
       "       [ True,  True,  True],\n",
       "       [ True,  True,  True],\n",
       "       [ True,  True,  True],\n",
       "       [ True,  True,  True],\n",
       "       [ True,  True,  True],\n",
       "       [ True,  True,  True],\n",
       "       [ True,  True,  True],\n",
       "       [ True,  True,  True],\n",
       "       [ True,  True,  True],\n",
       "       [ True,  True,  True],\n",
       "       [ True,  True,  True],\n",
       "       [ True,  True,  True],\n",
       "       [ True,  True,  True],\n",
       "       [ True,  True,  True],\n",
       "       [ True,  True,  True],\n",
       "       [ True,  True,  True],\n",
       "       [ True,  True,  True],\n",
       "       [ True,  True,  True],\n",
       "       [ True,  True,  True],\n",
       "       [ True,  True,  True],\n",
       "       [ True,  True,  True],\n",
       "       [ True,  True,  True],\n",
       "       [ True,  True,  True],\n",
       "       [ True,  True,  True],\n",
       "       [ True,  True,  True],\n",
       "       [ True,  True,  True],\n",
       "       [ True,  True,  True],\n",
       "       [ True,  True,  True],\n",
       "       [ True,  True,  True],\n",
       "       [ True,  True,  True],\n",
       "       [ True,  True,  True],\n",
       "       [ True,  True,  True],\n",
       "       [ True,  True,  True],\n",
       "       [ True,  True,  True],\n",
       "       [ True,  True,  True],\n",
       "       [ True,  True,  True],\n",
       "       [ True,  True,  True],\n",
       "       [ True,  True,  True],\n",
       "       [ True,  True,  True],\n",
       "       [ True,  True,  True],\n",
       "       [ True,  True,  True],\n",
       "       [ True,  True,  True],\n",
       "       [ True,  True,  True],\n",
       "       [ True,  True,  True],\n",
       "       [ True,  True,  True],\n",
       "       [ True,  True,  True],\n",
       "       [ True,  True,  True],\n",
       "       [ True,  True,  True],\n",
       "       [ True,  True,  True],\n",
       "       [ True,  True,  True],\n",
       "       [ True,  True,  True],\n",
       "       [ True,  True,  True],\n",
       "       [ True,  True,  True],\n",
       "       [ True,  True,  True],\n",
       "       [ True,  True,  True],\n",
       "       [ True,  True,  True],\n",
       "       [ True,  True,  True],\n",
       "       [ True,  True,  True],\n",
       "       [ True,  True,  True],\n",
       "       [ True,  True,  True],\n",
       "       [ True,  True,  True],\n",
       "       [ True,  True,  True],\n",
       "       [ True,  True,  True],\n",
       "       [ True,  True,  True],\n",
       "       [ True,  True,  True],\n",
       "       [ True,  True,  True],\n",
       "       [ True,  True,  True],\n",
       "       [ True,  True,  True],\n",
       "       [ True,  True,  True],\n",
       "       [ True,  True,  True],\n",
       "       [ True,  True,  True],\n",
       "       [ True,  True,  True],\n",
       "       [ True,  True,  True],\n",
       "       [ True,  True,  True],\n",
       "       [ True,  True,  True],\n",
       "       [ True,  True,  True],\n",
       "       [ True,  True,  True],\n",
       "       [ True,  True,  True],\n",
       "       [ True,  True,  True],\n",
       "       [ True,  True,  True],\n",
       "       [ True,  True,  True],\n",
       "       [ True,  True,  True],\n",
       "       [ True,  True,  True],\n",
       "       [ True,  True,  True],\n",
       "       [ True,  True,  True],\n",
       "       [ True,  True,  True],\n",
       "       [ True,  True,  True],\n",
       "       [ True,  True,  True],\n",
       "       [ True,  True,  True]])"
      ]
     },
     "execution_count": 41,
     "metadata": {},
     "output_type": "execute_result"
    }
   ],
   "source": [
    "(y_proba >= y_proba[0]) == (y_proba >= y_proba[3])"
   ]
  },
  {
   "cell_type": "code",
   "execution_count": 46,
   "id": "05830130",
   "metadata": {
    "ExecuteTime": {
     "end_time": "2022-08-24T18:17:51.881753Z",
     "start_time": "2022-08-24T18:17:51.870912Z"
    }
   },
   "outputs": [
    {
     "data": {
      "text/plain": [
       "array([1.  , 0.  , 0.42, 1.  , 0.  , 0.94, 0.76, 0.  , 0.56, 0.1 , 0.06,\n",
       "       0.22, 0.98, 0.44, 1.  , 0.22, 0.96, 0.02, 0.  , 0.12, 0.22, 1.  ,\n",
       "       0.  , 0.02, 0.  , 0.88, 0.  , 0.96, 1.  , 1.  , 0.98, 0.  , 0.02,\n",
       "       0.46, 0.02, 1.  , 0.  , 0.  , 0.02, 0.14, 0.92, 0.02, 0.  , 1.  ,\n",
       "       1.  , 0.64, 0.  , 1.  , 0.26, 0.  , 0.  , 0.08, 0.98, 1.  , 0.  ,\n",
       "       0.96, 0.4 , 0.  , 0.  , 0.  , 1.  , 0.  , 0.4 , 0.  , 0.1 , 0.42,\n",
       "       0.  , 0.84, 0.02, 0.  , 0.  , 0.48, 0.  , 0.98, 0.2 , 0.36, 0.22,\n",
       "       0.98, 0.12, 0.  , 0.16, 0.  , 0.36, 0.92, 0.7 , 1.  , 0.  , 0.  ,\n",
       "       0.02, 0.02, 0.02, 0.  , 0.06, 0.92, 0.12, 0.  , 0.  , 0.  , 0.14,\n",
       "       0.  , 0.  , 0.  , 0.9 , 1.  , 0.  , 0.  , 0.32, 0.02, 1.  , 0.  ,\n",
       "       1.  , 0.06, 0.  , 0.  , 0.  , 0.  , 0.76, 0.  , 1.  , 0.48, 1.  ,\n",
       "       0.22, 0.08, 0.76, 0.  , 0.  , 0.04, 1.  , 0.  , 0.98, 0.08, 0.  ,\n",
       "       0.  , 1.  , 0.02, 0.  , 0.08, 0.52, 0.38, 0.  , 0.86, 1.  , 0.46,\n",
       "       0.22, 0.  , 0.16, 0.96, 0.28, 0.6 , 0.02, 0.98, 1.  , 1.  , 0.  ,\n",
       "       0.98, 0.96, 0.14, 0.  , 0.  , 0.  , 0.94, 0.02, 0.98, 0.  , 0.1 ,\n",
       "       0.  , 0.98, 0.  , 0.04, 0.6 , 0.2 , 0.  , 0.  , 0.36, 0.  , 0.96,\n",
       "       0.78, 0.  , 0.96, 0.26, 0.98, 0.98, 1.  , 0.6 , 0.56, 0.02, 0.42,\n",
       "       0.02, 0.96, 0.92, 0.  , 1.  , 0.06, 0.94, 0.08, 0.24, 0.42, 0.02,\n",
       "       0.  , 1.  , 1.  , 0.  , 0.02, 0.02, 0.06, 0.  , 0.02, 0.08, 0.  ,\n",
       "       0.24, 0.54, 0.  , 0.  , 0.28, 0.  , 0.02, 0.98, 1.  , 0.  , 0.  ,\n",
       "       0.04, 1.  , 0.02, 1.  , 0.04, 1.  , 0.  , 0.72, 0.  , 0.  , 0.  ,\n",
       "       0.18, 0.  , 0.9 , 0.  , 0.  , 0.  , 0.  , 0.98, 0.98, 0.18, 0.  ,\n",
       "       0.  , 0.1 , 0.28, 0.02, 0.04, 0.  , 1.  , 1.  , 0.  , 0.  , 0.  ,\n",
       "       0.  , 1.  , 0.  , 0.02, 1.  , 0.  , 0.34, 0.  , 0.  , 0.  , 1.  ,\n",
       "       1.  , 0.76, 0.  , 0.  , 1.  , 1.  , 0.  , 1.  , 0.3 , 0.14, 0.1 ,\n",
       "       0.4 , 0.  , 0.06, 0.  , 0.  , 0.  , 0.44, 0.32, 0.52, 0.92, 0.  ,\n",
       "       0.  , 0.66, 0.  , 1.  , 0.84, 1.  , 0.  , 1.  , 1.  , 0.  , 0.  ,\n",
       "       0.  , 0.  , 0.  ])"
      ]
     },
     "execution_count": 46,
     "metadata": {},
     "output_type": "execute_result"
    }
   ],
   "source": [
    "y_proba[:, 2]"
   ]
  },
  {
   "cell_type": "markdown",
   "id": "8e9a4b21-02e8-4b76-a5cb-edf0ba12ceb5",
   "metadata": {},
   "source": [
    "## ROC Curve - One vs Rest (OvR)\n",
    "Compares each class with the rest of the classes"
   ]
  },
  {
   "cell_type": "code",
   "execution_count": 35,
   "id": "c5d2a7f5-10f3-4fe8-b56a-c64408360bc5",
   "metadata": {
    "ExecuteTime": {
     "end_time": "2022-08-24T18:11:19.960454Z",
     "start_time": "2022-08-24T18:11:19.946879Z"
    }
   },
   "outputs": [
    {
     "data": {
      "text/plain": [
       "array(['apple', 'banana', 'orange'], dtype=object)"
      ]
     },
     "execution_count": 35,
     "metadata": {},
     "output_type": "execute_result"
    }
   ],
   "source": [
    "classes = model_multiclass.classes_\n",
    "classes"
   ]
  },
  {
   "cell_type": "code",
   "execution_count": 47,
   "id": "ce764d46-fe38-402c-985d-dc31dab9fb65",
   "metadata": {
    "ExecuteTime": {
     "end_time": "2022-08-24T18:20:10.905626Z",
     "start_time": "2022-08-24T18:20:09.046454Z"
    }
   },
   "outputs": [
    {
     "name": "stdout",
     "output_type": "stream",
     "text": [
      "class: 0      0\n",
      "1      0\n",
      "2      1\n",
      "3      0\n",
      "4      0\n",
      "      ..\n",
      "295    0\n",
      "296    0\n",
      "297    0\n",
      "298    0\n",
      "299    0\n",
      "Name: class, Length: 300, dtype: int64\n",
      "prob: 0      0.00\n",
      "1      0.00\n",
      "2      0.58\n",
      "3      0.00\n",
      "4      0.00\n",
      "       ... \n",
      "295    0.50\n",
      "296    0.02\n",
      "297    0.10\n",
      "298    0.00\n",
      "299    0.04\n",
      "Name: prob, Length: 300, dtype: float64\n",
      "class: 0      0\n",
      "1      1\n",
      "2      0\n",
      "3      0\n",
      "4      1\n",
      "      ..\n",
      "295    1\n",
      "296    1\n",
      "297    1\n",
      "298    1\n",
      "299    1\n",
      "Name: class, Length: 300, dtype: int64\n",
      "prob: 0      0.00\n",
      "1      1.00\n",
      "2      0.00\n",
      "3      0.00\n",
      "4      1.00\n",
      "       ... \n",
      "295    0.50\n",
      "296    0.98\n",
      "297    0.90\n",
      "298    1.00\n",
      "299    0.96\n",
      "Name: prob, Length: 300, dtype: float64\n",
      "class: 0      1\n",
      "1      0\n",
      "2      0\n",
      "3      1\n",
      "4      0\n",
      "      ..\n",
      "295    0\n",
      "296    0\n",
      "297    0\n",
      "298    0\n",
      "299    0\n",
      "Name: class, Length: 300, dtype: int64\n",
      "prob: 0      1.00\n",
      "1      0.00\n",
      "2      0.42\n",
      "3      1.00\n",
      "4      0.00\n",
      "       ... \n",
      "295    0.00\n",
      "296    0.00\n",
      "297    0.00\n",
      "298    0.00\n",
      "299    0.00\n",
      "Name: prob, Length: 300, dtype: float64\n"
     ]
    },
    {
     "data": {
      "image/png": "[encoded data removed]",
      "text/plain": [
       "<Figure size 864x576 with 6 Axes>"
      ]
     },
     "metadata": {
      "needs_background": "light"
     },
     "output_type": "display_data"
    }
   ],
   "source": [
    "# Plots the Probability Distributions and the ROC Curves One vs Rest\n",
    "plt.figure(figsize = (12, 8))\n",
    "bins = [i/20 for i in range(20)] + [1]\n",
    "roc_auc_ovr = {}\n",
    "\n",
    "for i in range(len(classes)):  #for each of the classes\n",
    "    # Gets the class\n",
    "    c = classes[i]\n",
    "    \n",
    "    # Prepares an auxiliar dataframe to help with the plots\n",
    "    df_aux = X_test.copy()\n",
    "    df_aux['class'] = [1 if y == c else 0 for y in y_test]\n",
    "    df_aux['prob'] = y_proba[:, i]\n",
    "    df_aux = df_aux.reset_index(drop = True)\n",
    "    \n",
    "    # Plots the probability distribution for the class and the rest\n",
    "    ax = plt.subplot(2, 3, i+1)\n",
    "    sns.histplot(x = \"prob\", data = df_aux, hue = 'class', color = 'b', ax = ax, bins = bins)\n",
    "    ax.set_title(c)\n",
    "    ax.legend([f\"Class: {c}\", \"Rest\"])\n",
    "    ax.set_xlabel(f\"P(x = {c})\")\n",
    "    \n",
    "    # Calculates the ROC Coordinates and plots the ROC Curves\n",
    "    ax_bottom = plt.subplot(2, 3, i+4)\n",
    "    tpr, fpr = get_all_roc_coordinates(df_aux['class'], df_aux['prob'])\n",
    "#     print(\"class:\", df_aux['class'])\n",
    "#     print(\"prob:\", df_aux['prob'])\n",
    "    plot_roc_curve(tpr, fpr, scatter = False, ax = ax_bottom)\n",
    "    ax_bottom.set_title(\"ROC Curve OvR\")\n",
    "    \n",
    "    # Calculates the ROC AUC OvR\n",
    "    roc_auc_ovr[c] = roc_auc_score(df_aux['class'], df_aux['prob'])\n",
    "    \n",
    "plt.tight_layout()"
   ]
  },
  {
   "cell_type": "code",
   "execution_count": 37,
   "id": "395e0757-f63f-4d1b-9b1c-87fa4b13628f",
   "metadata": {
    "ExecuteTime": {
     "end_time": "2022-08-24T18:12:00.686254Z",
     "start_time": "2022-08-24T18:12:00.678459Z"
    }
   },
   "outputs": [
    {
     "name": "stdout",
     "output_type": "stream",
     "text": [
      "apple ROC AUC OvR: 0.9462\n",
      "banana ROC AUC OvR: 0.9551\n",
      "orange ROC AUC OvR: 0.9494\n",
      "average ROC AUC OvR: 0.9502\n"
     ]
    }
   ],
   "source": [
    "# Displays the ROC AUC for each class\n",
    "avg_roc_auc = 0\n",
    "i = 0\n",
    "for k in roc_auc_ovr:\n",
    "    avg_roc_auc += roc_auc_ovr[k]\n",
    "    i += 1\n",
    "    print(f\"{k} ROC AUC OvR: {roc_auc_ovr[k]:.4f}\")\n",
    "print(f\"average ROC AUC OvR: {avg_roc_auc/i:.4f}\")"
   ]
  },
  {
   "cell_type": "code",
   "execution_count": 38,
   "id": "3bbfae4e-11fa-48f4-906a-b001feb3aeff",
   "metadata": {
    "ExecuteTime": {
     "end_time": "2022-08-24T18:12:07.650908Z",
     "start_time": "2022-08-24T18:12:07.636620Z"
    }
   },
   "outputs": [
    {
     "data": {
      "text/plain": [
       "0.9501974650583499"
      ]
     },
     "execution_count": 38,
     "metadata": {},
     "output_type": "execute_result"
    }
   ],
   "source": [
    "# Compares with sklearn (average only)\n",
    "# \"Macro\" average = unweighted mean\n",
    "roc_auc_score(y_test, y_proba, labels = classes, multi_class = 'ovr', average = 'macro')"
   ]
  },
  {
   "cell_type": "markdown",
   "id": "2846f673-a0f5-4312-acdf-c9ac8c4b0e45",
   "metadata": {},
   "source": [
    "## ROC Curve - One vs One (OvO)\n",
    "Compares each possible combination of the classes, two at a time"
   ]
  },
  {
   "cell_type": "code",
   "execution_count": 22,
   "id": "2cd942d8-7f89-49dc-8a45-54fc1e11b457",
   "metadata": {},
   "outputs": [
    {
     "data": {
      "text/plain": [
       "[['apple', 'banana'],\n",
       " ['banana', 'apple'],\n",
       " ['apple', 'orange'],\n",
       " ['orange', 'apple'],\n",
       " ['banana', 'orange'],\n",
       " ['orange', 'banana']]"
      ]
     },
     "execution_count": 22,
     "metadata": {},
     "output_type": "execute_result"
    }
   ],
   "source": [
    "classes_combinations = []\n",
    "class_list = list(classes)\n",
    "for i in range(len(class_list)):\n",
    "    for j in range(i+1, len(class_list)):\n",
    "        classes_combinations.append([class_list[i], class_list[j]])\n",
    "        classes_combinations.append([class_list[j], class_list[i]])\n",
    "classes_combinations"
   ]
  },
  {
   "cell_type": "code",
   "execution_count": 23,
   "id": "9fae936d-9f8a-4e82-a0af-759c72fa96ff",
   "metadata": {},
   "outputs": [
    {
     "data": {
      "image/png": "[encoded data removed]",
      "text/plain": [
       "<Figure size 1440x504 with 12 Axes>"
      ]
     },
     "metadata": {},
     "output_type": "display_data"
    }
   ],
   "source": [
    "# Plots the Probability Distributions and the ROC Curves One vs ONe\n",
    "plt.figure(figsize = (20, 7))\n",
    "bins = [i/20 for i in range(20)] + [1]\n",
    "roc_auc_ovo = {}\n",
    "\n",
    "for i in range(len(classes_combinations)):\n",
    "    # Gets the class\n",
    "    comb = classes_combinations[i]\n",
    "    c1 = comb[0]\n",
    "    c2 = comb[1]\n",
    "    c1_index = class_list.index(c1)\n",
    "    title = c1 + \" vs \" +c2\n",
    "    \n",
    "    # Prepares an auxiliar dataframe to help with the plots\n",
    "    df_aux = X_test.copy()\n",
    "    df_aux['class'] = y_test\n",
    "    df_aux['prob'] = y_proba[:, c1_index]\n",
    "    \n",
    "    # Slices only the subset with both classes\n",
    "    df_aux = df_aux[(df_aux['class'] == c1) | (df_aux['class'] == c2)]\n",
    "    df_aux['class'] = [1 if y == c1 else 0 for y in df_aux['class']]\n",
    "    df_aux = df_aux.reset_index(drop = True)\n",
    "    \n",
    "    # Plots the probability distribution for the class and the rest\n",
    "    ax = plt.subplot(2, 6, i+1)\n",
    "    sns.histplot(x = \"prob\", data = df_aux, hue = 'class', color = 'b', ax = ax, bins = bins)\n",
    "    ax.set_title(title)\n",
    "    ax.legend([f\"Class 1: {c1}\", f\"Class 0: {c2}\"])\n",
    "    ax.set_xlabel(f\"P(x = {c1})\")\n",
    "    \n",
    "    # Calculates the ROC Coordinates and plots the ROC Curves\n",
    "    ax_bottom = plt.subplot(2, 6, i+7)\n",
    "    tpr, fpr = get_all_roc_coordinates(df_aux['class'], df_aux['prob'])\n",
    "    plot_roc_curve(tpr, fpr, scatter = False, ax = ax_bottom)\n",
    "    ax_bottom.set_title(\"ROC Curve OvO\")\n",
    "    \n",
    "    # Calculates the ROC AUC OvO\n",
    "    roc_auc_ovo[title] = roc_auc_score(df_aux['class'], df_aux['prob'])\n",
    "    \n",
    "plt.tight_layout()"
   ]
  },
  {
   "cell_type": "code",
   "execution_count": 24,
   "id": "88a60f7c-58e5-44b1-9187-6e23e6e60452",
   "metadata": {},
   "outputs": [
    {
     "name": "stdout",
     "output_type": "stream",
     "text": [
      "apple vs banana ROC AUC OvO: 0.9561\n",
      "banana vs apple ROC AUC OvO: 0.9547\n",
      "apple vs orange ROC AUC OvO: 0.9279\n",
      "orange vs apple ROC AUC OvO: 0.9231\n",
      "banana vs orange ROC AUC OvO: 0.9498\n",
      "orange vs banana ROC AUC OvO: 0.9336\n",
      "average ROC AUC OvO: 0.9409\n"
     ]
    }
   ],
   "source": [
    "# Displays the ROC AUC for each class\n",
    "avg_roc_auc = 0\n",
    "i = 0\n",
    "for k in roc_auc_ovo:\n",
    "    avg_roc_auc += roc_auc_ovo[k]\n",
    "    i += 1\n",
    "    print(f\"{k} ROC AUC OvO: {roc_auc_ovo[k]:.4f}\")\n",
    "print(f\"average ROC AUC OvO: {avg_roc_auc/i:.4f}\")"
   ]
  },
  {
   "cell_type": "code",
   "execution_count": 25,
   "id": "25fc9a8c-18f3-4b8e-a89e-cbf5954dd300",
   "metadata": {},
   "outputs": [
    {
     "data": {
      "text/plain": [
       "0.9408779995138192"
      ]
     },
     "execution_count": 25,
     "metadata": {},
     "output_type": "execute_result"
    }
   ],
   "source": [
    "# Compares with sklearn (average only)\n",
    "# \"Macro\" average = unweighted mean\n",
    "roc_auc_score(y_test, y_proba, labels = classes, multi_class = 'ovo', average = 'macro')"
   ]
  },
  {
   "cell_type": "code",
   "execution_count": null,
   "id": "9efdbbc6-7acb-45f3-889b-75b5797c2c58",
   "metadata": {},
   "outputs": [],
   "source": []
  }
 ],
 "metadata": {
  "kernelspec": {
   "display_name": "Python 3 (ipykernel)",
   "language": "python",
   "name": "python3"
  },
  "language_info": {
   "codemirror_mode": {
    "name": "ipython",
    "version": 3
   },
   "file_extension": ".py",
   "mimetype": "text/x-python",
   "name": "python",
   "nbconvert_exporter": "python",
   "pygments_lexer": "ipython3",
   "version": "3.9.12"
  }
 },
 "nbformat": 4,
 "nbformat_minor": 5
}
