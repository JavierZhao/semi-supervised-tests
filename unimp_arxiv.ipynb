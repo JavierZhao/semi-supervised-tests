{
 "cells": [
  {
   "cell_type": "code",
   "execution_count": 18,
   "metadata": {
    "ExecuteTime": {
     "end_time": "2022-08-12T23:18:03.339275Z",
     "start_time": "2022-08-12T23:17:50.056674Z"
    },
    "colab": {
     "base_uri": "https://localhost:8080/",
     "height": 1000
    },
    "id": "SvhPQJwuouk-",
    "outputId": "cf8a2030-c3f4-4746-e325-8d34b78cdf5b"
   },
   "outputs": [
    {
     "name": "stdout",
     "output_type": "stream",
     "text": [
      "Requirement already satisfied: ogb in /Users/zhaozihan/opt/anaconda3/lib/python3.9/site-packages (1.3.3)\n",
      "Requirement already satisfied: tqdm>=4.29.0 in /Users/zhaozihan/opt/anaconda3/lib/python3.9/site-packages (from ogb) (4.64.0)\n",
      "Requirement already satisfied: pandas>=0.24.0 in /Users/zhaozihan/opt/anaconda3/lib/python3.9/site-packages (from ogb) (1.4.2)\n",
      "Requirement already satisfied: scikit-learn>=0.20.0 in /Users/zhaozihan/opt/anaconda3/lib/python3.9/site-packages (from ogb) (1.0.2)\n",
      "Requirement already satisfied: six>=1.12.0 in /Users/zhaozihan/opt/anaconda3/lib/python3.9/site-packages (from ogb) (1.16.0)\n",
      "Requirement already satisfied: urllib3>=1.24.0 in /Users/zhaozihan/opt/anaconda3/lib/python3.9/site-packages (from ogb) (1.26.9)\n",
      "Requirement already satisfied: numpy>=1.16.0 in /Users/zhaozihan/opt/anaconda3/lib/python3.9/site-packages (from ogb) (1.21.5)\n",
      "Requirement already satisfied: outdated>=0.2.0 in /Users/zhaozihan/opt/anaconda3/lib/python3.9/site-packages (from ogb) (0.2.1)\n",
      "Requirement already satisfied: torch>=1.6.0 in /Users/zhaozihan/opt/anaconda3/lib/python3.9/site-packages (from ogb) (1.10.2)\n",
      "Requirement already satisfied: littleutils in /Users/zhaozihan/opt/anaconda3/lib/python3.9/site-packages (from outdated>=0.2.0->ogb) (0.2.2)\n",
      "Requirement already satisfied: requests in /Users/zhaozihan/opt/anaconda3/lib/python3.9/site-packages (from outdated>=0.2.0->ogb) (2.27.1)\n",
      "Requirement already satisfied: python-dateutil>=2.8.1 in /Users/zhaozihan/opt/anaconda3/lib/python3.9/site-packages (from pandas>=0.24.0->ogb) (2.8.2)\n",
      "Requirement already satisfied: pytz>=2020.1 in /Users/zhaozihan/opt/anaconda3/lib/python3.9/site-packages (from pandas>=0.24.0->ogb) (2021.3)\n",
      "Requirement already satisfied: threadpoolctl>=2.0.0 in /Users/zhaozihan/opt/anaconda3/lib/python3.9/site-packages (from scikit-learn>=0.20.0->ogb) (2.2.0)\n",
      "Requirement already satisfied: joblib>=0.11 in /Users/zhaozihan/opt/anaconda3/lib/python3.9/site-packages (from scikit-learn>=0.20.0->ogb) (1.1.0)\n",
      "Requirement already satisfied: scipy>=1.1.0 in /Users/zhaozihan/opt/anaconda3/lib/python3.9/site-packages (from scikit-learn>=0.20.0->ogb) (1.7.3)\n",
      "Requirement already satisfied: typing_extensions in /Users/zhaozihan/opt/anaconda3/lib/python3.9/site-packages (from torch>=1.6.0->ogb) (4.1.1)\n",
      "Requirement already satisfied: idna<4,>=2.5 in /Users/zhaozihan/opt/anaconda3/lib/python3.9/site-packages (from requests->outdated>=0.2.0->ogb) (3.3)\n",
      "Requirement already satisfied: charset-normalizer~=2.0.0 in /Users/zhaozihan/opt/anaconda3/lib/python3.9/site-packages (from requests->outdated>=0.2.0->ogb) (2.0.4)\n",
      "Requirement already satisfied: certifi>=2017.4.17 in /Users/zhaozihan/opt/anaconda3/lib/python3.9/site-packages (from requests->outdated>=0.2.0->ogb) (2021.10.8)\n",
      "Looking in links: https://data.pyg.org/whl/torch-1.12.0+.html\n",
      "Requirement already satisfied: torch-scatter in /Users/zhaozihan/opt/anaconda3/lib/python3.9/site-packages (2.0.9)\n",
      "Looking in links: https://data.pyg.org/whl/torch-1.12.0+.html\n",
      "Requirement already satisfied: torch-sparse in /Users/zhaozihan/opt/anaconda3/lib/python3.9/site-packages (0.6.13)\n",
      "Requirement already satisfied: scipy in /Users/zhaozihan/opt/anaconda3/lib/python3.9/site-packages (from torch-sparse) (1.7.3)\n",
      "Requirement already satisfied: numpy<1.23.0,>=1.16.5 in /Users/zhaozihan/opt/anaconda3/lib/python3.9/site-packages (from scipy->torch-sparse) (1.21.5)\n",
      "Collecting git+https://github.com/pyg-team/pytorch_geometric.git\n",
      "  Cloning https://github.com/pyg-team/pytorch_geometric.git to /private/var/folders/27/l6v26dbx0093xg448fxvxmpc0000gn/T/pip-req-build-6oem3kt9\n",
      "  Running command git clone -q https://github.com/pyg-team/pytorch_geometric.git /private/var/folders/27/l6v26dbx0093xg448fxvxmpc0000gn/T/pip-req-build-6oem3kt9\n",
      "  Resolved https://github.com/pyg-team/pytorch_geometric.git to commit a00f2eb95c9151045f70c8ee08b73c8ca2ed2d3b\n",
      "Requirement already satisfied: tqdm in /Users/zhaozihan/opt/anaconda3/lib/python3.9/site-packages (from torch-geometric==2.1.0) (4.64.0)\n",
      "Requirement already satisfied: numpy in /Users/zhaozihan/opt/anaconda3/lib/python3.9/site-packages (from torch-geometric==2.1.0) (1.21.5)\n",
      "Requirement already satisfied: scipy in /Users/zhaozihan/opt/anaconda3/lib/python3.9/site-packages (from torch-geometric==2.1.0) (1.7.3)\n",
      "Requirement already satisfied: jinja2 in /Users/zhaozihan/opt/anaconda3/lib/python3.9/site-packages (from torch-geometric==2.1.0) (2.11.3)\n",
      "Requirement already satisfied: requests in /Users/zhaozihan/opt/anaconda3/lib/python3.9/site-packages (from torch-geometric==2.1.0) (2.27.1)\n",
      "Requirement already satisfied: pyparsing in /Users/zhaozihan/opt/anaconda3/lib/python3.9/site-packages (from torch-geometric==2.1.0) (3.0.4)\n",
      "Requirement already satisfied: scikit-learn in /Users/zhaozihan/opt/anaconda3/lib/python3.9/site-packages (from torch-geometric==2.1.0) (1.0.2)\n",
      "Requirement already satisfied: MarkupSafe>=0.23 in /Users/zhaozihan/opt/anaconda3/lib/python3.9/site-packages (from jinja2->torch-geometric==2.1.0) (2.0.1)\n",
      "Requirement already satisfied: certifi>=2017.4.17 in /Users/zhaozihan/opt/anaconda3/lib/python3.9/site-packages (from requests->torch-geometric==2.1.0) (2021.10.8)\n",
      "Requirement already satisfied: idna<4,>=2.5 in /Users/zhaozihan/opt/anaconda3/lib/python3.9/site-packages (from requests->torch-geometric==2.1.0) (3.3)\n",
      "Requirement already satisfied: charset-normalizer~=2.0.0 in /Users/zhaozihan/opt/anaconda3/lib/python3.9/site-packages (from requests->torch-geometric==2.1.0) (2.0.4)\n",
      "Requirement already satisfied: urllib3<1.27,>=1.21.1 in /Users/zhaozihan/opt/anaconda3/lib/python3.9/site-packages (from requests->torch-geometric==2.1.0) (1.26.9)\n",
      "Requirement already satisfied: threadpoolctl>=2.0.0 in /Users/zhaozihan/opt/anaconda3/lib/python3.9/site-packages (from scikit-learn->torch-geometric==2.1.0) (2.2.0)\n",
      "Requirement already satisfied: joblib>=0.11 in /Users/zhaozihan/opt/anaconda3/lib/python3.9/site-packages (from scikit-learn->torch-geometric==2.1.0) (1.1.0)\n",
      "Building wheels for collected packages: torch-geometric\n",
      "  Building wheel for torch-geometric (setup.py) ... \u001b[?25ldone\n",
      "\u001b[?25h  Created wheel for torch-geometric: filename=torch_geometric-2.1.0-py3-none-any.whl size=689687 sha256=d58b9a8547882441a5124f8a1bdd5ac5aca15c52f4234dd3c4f8376b15e2936d\n",
      "  Stored in directory: /private/var/folders/27/l6v26dbx0093xg448fxvxmpc0000gn/T/pip-ephem-wheel-cache-gpenmk5w/wheels/e5/8a/bc/10228fa47bb01dd916740a9102c063c4e363e7dac6d55dba4a\n",
      "Successfully built torch-geometric\n",
      "Installing collected packages: torch-geometric\n",
      "  Attempting uninstall: torch-geometric\n",
      "    Found existing installation: torch-geometric 2.0.5\n",
      "    Uninstalling torch-geometric-2.0.5:\n",
      "      Successfully uninstalled torch-geometric-2.0.5\n",
      "Successfully installed torch-geometric-2.1.0\n"
     ]
    }
   ],
   "source": [
    "import os.path as osp\n",
    "!pip install ogb\n",
    "\n",
    "!pip install torch-scatter -f https://data.pyg.org/whl/torch-1.12.0+${cu113}.html\n",
    "!pip install torch-sparse -f https://data.pyg.org/whl/torch-1.12.0+${cu113}.html\n",
    "# !pip install torch-geometric\n",
    "\n",
    "!pip install git+https://github.com/pyg-team/pytorch_geometric.git\n",
    "# above lines come from https://stackoverflow.com/questions/68860621/ogb-dataset-i-can-not-import-pygnodeproppreddataset-from-ogb-nodeproppred/73253686#73253686?newreg=ecddaa0a5aa44fd8a4f41385db5c3e8f\n",
    "import torch\n",
    "import torch.nn.functional as F\n",
    "import ogb\n",
    "\n",
    "import torch_geometric.transforms as T\n",
    "import torch_geometric\n",
    "from torch_geometric.nn import MaskLabel, TransformerConv\n",
    "from torch_geometric.utils import index_to_mask\n",
    "from ogb.nodeproppred import PygNodePropPredDataset"
   ]
  },
  {
   "cell_type": "code",
   "execution_count": 17,
   "metadata": {
    "ExecuteTime": {
     "end_time": "2022-08-12T23:17:37.015925Z",
     "start_time": "2022-08-12T23:17:36.677284Z"
    },
    "scrolled": true
   },
   "outputs": [
    {
     "name": "stdout",
     "output_type": "stream",
     "text": [
      "/Users/zhaozihan/Desktop/HEP_research/SSL-jets\r\n"
     ]
    }
   ],
   "source": [
    "!pwd"
   ]
  },
  {
   "cell_type": "code",
   "execution_count": 19,
   "metadata": {
    "ExecuteTime": {
     "end_time": "2022-08-12T23:18:11.710513Z",
     "start_time": "2022-08-12T23:18:11.484742Z"
    },
    "colab": {
     "base_uri": "https://localhost:8080/",
     "height": 232
    },
    "id": "8fI-8u88ojNj",
    "outputId": "08afed7f-7c95-48e1-b8ab-324286483f24"
   },
   "outputs": [],
   "source": [
    "root = osp.join(osp.dirname(\"/Users/zhaozihan/Desktop/HEP_research/SSL-jets\"), '..', 'data', 'OGB')\n",
    "dataset = PygNodePropPredDataset('ogbn-arxiv', root, T.ToUndirected())"
   ]
  },
  {
   "cell_type": "code",
   "execution_count": 3,
   "metadata": {
    "ExecuteTime": {
     "end_time": "2022-08-08T19:47:37.295170Z",
     "start_time": "2022-08-08T19:47:37.276788Z"
    },
    "colab": {
     "base_uri": "https://localhost:8080/",
     "height": 232
    },
    "id": "8fI-8u88ojNj",
    "outputId": "08afed7f-7c95-48e1-b8ab-324286483f24"
   },
   "outputs": [],
   "source": [
    "class UniMP(torch.nn.Module):   #UniMP stands for Unified Message Passing\n",
    "    def __init__(self, in_channels, num_classes, hidden_channels, num_layers,\n",
    "                 heads, dropout=0.3):\n",
    "        super().__init__()\n",
    "\n",
    "        self.label_emb = MaskLabel(num_classes, in_channels)\n",
    "\n",
    "        self.convs = torch.nn.ModuleList()  # initialize self.convs\n",
    "        self.norms = torch.nn.ModuleList()  # initialize self.norms\n",
    "        for i in range(1, num_layers + 1):\n",
    "            if i < num_layers:\n",
    "                out_channels = hidden_channels // heads #what is a head?\n",
    "                concat = True   #what does concat do?\n",
    "            else:\n",
    "                out_channels = num_classes\n",
    "                concat = False\n",
    "            conv = TransformerConv(in_channels, out_channels, heads,\n",
    "                                   concat=concat, beta=True, dropout=dropout)\n",
    "            self.convs.append(conv)\n",
    "            in_channels = hidden_channels\n",
    "\n",
    "            if i < num_layers:\n",
    "                self.norms.append(torch.nn.LayerNorm(hidden_channels))\n",
    "                #why a separate if statement?\n",
    "                \n",
    "    def forward(self, x, y, edge_index, label_mask):\n",
    "        x = self.label_emb(x, y, label_mask)\n",
    "        for conv, norm in zip(self.convs, self.norms):\n",
    "            x = norm(conv(x, edge_index)).relu()\n",
    "        # conv -> norm -> ReLu -> conv -> norm -> Relu -> ... -> out\n",
    "        return self.convs[-1](x, edge_index)"
   ]
  },
  {
   "cell_type": "markdown",
   "metadata": {
    "id": "VFtGqDeHUc6Y"
   },
   "source": [
    "## Questions:  \n",
    "\n",
    "### 2. What does emb stand for?  \n",
    "Embedding\n",
    "\n",
    "### 3. What are normalization layers?  what do they do and why do we need them?\n",
    "https://pytorch.org/docs/stable/generated/torch.nn.LayerNorm.html  \n",
    "Normalization? but why?\n",
    "\n",
    "### 3.1 What are heads?  \n",
    "\n",
    "### 4. What does concat do?  \n",
    "If set to False, the multi-head attentions are averaged instead of concatenated. (default: True)  \n",
    "\n",
    "### 4.1 What are attentions?  \n",
    "\n",
    "### 7. Why a separate if statement for self.norms?\n",
    "\n",
    "\n",
    "### 8. What does each parameter mean in this function?  \n",
    "x: input?  \n",
    "y: output?  \n",
    "edge_index: how the graph is connected  \n",
    "label_mask: \n",
    "\n",
    "### 8.1 What does the first line do?  "
   ]
  },
  {
   "cell_type": "code",
   "execution_count": null,
   "metadata": {
    "id": "VFtGqDeHUc6Y"
   },
   "outputs": [],
   "source": [
    "\"\"\"\n",
    "def forward(self, x: Tensor, y: Tensor, mask: Tensor) -> Tensor:  \n",
    "        \"\"\"\"\"\"  \n",
    "        if self.method == \"concat\":  \n",
    "            out = x.new_zeros(y.size(0), self.emb.weight.size(-1))  \n",
    "            out[mask] = self.emb(y[mask])  \n",
    "            return torch.cat([x, out], dim=-1)  \n",
    "        else:  \n",
    "            x = torch.clone(x)  \n",
    "            x[mask] += self.emb(y[mask])  \n",
    "            return x\n",
    "\"\"\""
   ]
  },
  {
   "cell_type": "markdown",
   "metadata": {},
   "source": [
    "I assume this applies the mask to the inputs x but why does this process involve y?  "
   ]
  },
  {
   "cell_type": "code",
   "execution_count": 4,
   "metadata": {
    "ExecuteTime": {
     "end_time": "2022-08-08T19:47:43.098140Z",
     "start_time": "2022-08-08T19:47:42.458425Z"
    },
    "id": "gMlfPgRjr31t"
   },
   "outputs": [],
   "source": [
    "device = torch.device('cuda' if torch.cuda.is_available() else 'cpu')\n",
    "data = dataset[0].to(device)\n",
    "data.y = data.y.view(-1)\n",
    "model = UniMP(dataset.num_features, dataset.num_classes, hidden_channels=64,\n",
    "              num_layers=3, heads=2).to(device)\n",
    "optimizer = torch.optim.Adam(model.parameters(), lr=0.001, weight_decay=0.0005)\n",
    " \n",
    "split_idx = dataset.get_idx_split()   # train/val/test split\n",
    "train_mask = index_to_mask(split_idx['train'], size=data.num_nodes)\n",
    "val_mask = index_to_mask(split_idx['valid'], size=data.num_nodes)\n",
    "test_mask = index_to_mask(split_idx['test'], size=data.num_nodes)"
   ]
  },
  {
   "cell_type": "markdown",
   "metadata": {
    "id": "BeJyK5jpVwxU"
   },
   "source": [
    "##  Questions:  \n",
    "### 10. What is weight_decay?  \n",
    "L2 penalty  \n",
    "https://swamp-father-f58.notion.site/2-3-Lecture-Dealing-with-Overfitting-f1a77a6d12f445698e4d8cb340300d88\n",
    "\n",
    "### 12. What does the mask do?  \n",
    "They mask some of the labels, preventing the nodes from accessing those labels during training/validation/testing\n",
    "\n"
   ]
  },
  {
   "cell_type": "code",
   "execution_count": 13,
   "metadata": {
    "ExecuteTime": {
     "end_time": "2022-08-08T20:12:27.868541Z",
     "start_time": "2022-08-08T20:12:27.853075Z"
    },
    "id": "K3nkFpQStWsW"
   },
   "outputs": [],
   "source": [
    "def train(label_rate=0.65):  # How many labels to use for propagation.\n",
    "    model.train()\n",
    "\n",
    "    propagation_mask = MaskLabel.ratio_mask(train_mask, ratio=label_rate)\n",
    "    # Randomly modifies mask by setting ratio of True entries to False\n",
    "    supervision_mask = train_mask ^ propagation_mask  # Exclusive or: Sets each bit to 1 if only one of two bits is 1\n",
    "#     print(\"train_mask:\", train_mask)\n",
    "#     print(\"propagation_mask:\", propagation_mask)\n",
    "#     print(\"supervision_mask:\", supervision_mask)\n",
    "\n",
    "    optimizer.zero_grad()\n",
    "    out = model(data.x, data.y, data.edge_index, propagation_mask)\n",
    "    loss = F.cross_entropy(out[supervision_mask], data.y[supervision_mask])\n",
    "    loss.backward()\n",
    "    optimizer.step()\n",
    "\n",
    "    return float(loss)\n",
    "\n",
    "\n",
    "@torch.no_grad()\n",
    "def test():\n",
    "    model.eval()\n",
    "\n",
    "    propagation_mask = train_mask  #no masked nodes while testing\n",
    "    out = model(data.x, data.y, data.edge_index, propagation_mask)  # forward is called\n",
    "    pred = out[val_mask].argmax(dim=-1)\n",
    "    val_acc = int((pred == data.y[val_mask]).sum()) / pred.size(0)  # Validation accuracy\n",
    "\n",
    "    propagation_mask = train_mask | val_mask    #Or: Sets each bit to 1 if one of two bits is 1\n",
    "    out = model(data.x, data.y, data.edge_index, propagation_mask)\n",
    "    pred = out[test_mask].argmax(dim=-1)\n",
    "    test_acc = int((pred == data.y[test_mask]).sum()) / pred.size(0)\n",
    "\n",
    "    return val_acc, test_acc"
   ]
  },
  {
   "cell_type": "markdown",
   "metadata": {
    "id": "z9i8Jh2wWHqc"
   },
   "source": [
    "## Questions:  \n",
    "\n",
    "### 13. What is propagation_mask?  \n",
    "decides which nodes to use for message passing\n",
    "### 13.1 What is supervision_mask?  \n",
    "decides which nodes to use for verifying predictions  \n",
    "(propagation + supervision = training)\n",
    "### 14. Why use exclusive OR for supervision_mask but regular OR for propagation_mask\n",
    "\n"
   ]
  },
  {
   "cell_type": "code",
   "execution_count": 14,
   "metadata": {
    "ExecuteTime": {
     "end_time": "2022-08-08T20:35:57.333224Z",
     "start_time": "2022-08-08T20:12:31.556674Z"
    },
    "id": "5phe-4Fur8I4"
   },
   "outputs": [
    {
     "name": "stdout",
     "output_type": "stream",
     "text": [
      "Epoch: 001, Loss: 3.2076, Val: 0.5170, Test: 0.5612\n",
      "Epoch: 002, Loss: 3.1502, Val: 0.5269, Test: 0.5687\n",
      "Epoch: 003, Loss: 3.0901, Val: 0.5329, Test: 0.5727\n",
      "Epoch: 004, Loss: 3.0348, Val: 0.5383, Test: 0.5769\n",
      "Epoch: 005, Loss: 2.9913, Val: 0.5445, Test: 0.5826\n",
      "Epoch: 006, Loss: 2.9361, Val: 0.5498, Test: 0.5873\n",
      "Epoch: 007, Loss: 2.8838, Val: 0.5537, Test: 0.5911\n",
      "Epoch: 008, Loss: 2.8326, Val: 0.5592, Test: 0.5951\n",
      "Epoch: 009, Loss: 2.7856, Val: 0.5645, Test: 0.6006\n",
      "Epoch: 010, Loss: 2.7340, Val: 0.5706, Test: 0.6071\n",
      "Epoch: 011, Loss: 2.6934, Val: 0.5778, Test: 0.6143\n",
      "Epoch: 012, Loss: 2.6458, Val: 0.5864, Test: 0.6204\n",
      "Epoch: 013, Loss: 2.6014, Val: 0.5935, Test: 0.6254\n",
      "Epoch: 014, Loss: 2.5538, Val: 0.5990, Test: 0.6301\n",
      "Epoch: 015, Loss: 2.5063, Val: 0.6044, Test: 0.6337\n",
      "Epoch: 016, Loss: 2.4762, Val: 0.6102, Test: 0.6372\n",
      "Epoch: 017, Loss: 2.4274, Val: 0.6142, Test: 0.6396\n",
      "Epoch: 018, Loss: 2.3811, Val: 0.6171, Test: 0.6405\n",
      "Epoch: 019, Loss: 2.3446, Val: 0.6190, Test: 0.6423\n",
      "Epoch: 020, Loss: 2.3020, Val: 0.6215, Test: 0.6444\n",
      "Epoch: 021, Loss: 2.2603, Val: 0.6241, Test: 0.6462\n",
      "Epoch: 022, Loss: 2.2305, Val: 0.6266, Test: 0.6482\n",
      "Epoch: 023, Loss: 2.1860, Val: 0.6291, Test: 0.6496\n",
      "Epoch: 024, Loss: 2.1480, Val: 0.6307, Test: 0.6513\n",
      "Epoch: 025, Loss: 2.1242, Val: 0.6338, Test: 0.6528\n",
      "Epoch: 026, Loss: 2.0863, Val: 0.6368, Test: 0.6547\n",
      "Epoch: 027, Loss: 2.0544, Val: 0.6385, Test: 0.6563\n",
      "Epoch: 028, Loss: 2.0247, Val: 0.6409, Test: 0.6578\n",
      "Epoch: 029, Loss: 1.9905, Val: 0.6434, Test: 0.6586\n",
      "Epoch: 030, Loss: 1.9692, Val: 0.6454, Test: 0.6599\n",
      "Epoch: 031, Loss: 1.9250, Val: 0.6466, Test: 0.6611\n",
      "Epoch: 032, Loss: 1.9160, Val: 0.6490, Test: 0.6633\n",
      "Epoch: 033, Loss: 1.8844, Val: 0.6512, Test: 0.6664\n",
      "Epoch: 034, Loss: 1.8670, Val: 0.6540, Test: 0.6695\n",
      "Epoch: 035, Loss: 1.8321, Val: 0.6558, Test: 0.6709\n",
      "Epoch: 036, Loss: 1.8113, Val: 0.6574, Test: 0.6712\n",
      "Epoch: 037, Loss: 1.7967, Val: 0.6586, Test: 0.6709\n",
      "Epoch: 038, Loss: 1.7669, Val: 0.6593, Test: 0.6704\n",
      "Epoch: 039, Loss: 1.7621, Val: 0.6600, Test: 0.6700\n",
      "Epoch: 040, Loss: 1.7196, Val: 0.6614, Test: 0.6713\n",
      "Epoch: 041, Loss: 1.7120, Val: 0.6636, Test: 0.6736\n",
      "Epoch: 042, Loss: 1.6884, Val: 0.6663, Test: 0.6766\n",
      "Epoch: 043, Loss: 1.6557, Val: 0.6684, Test: 0.6788\n",
      "Epoch: 044, Loss: 1.6547, Val: 0.6702, Test: 0.6800\n",
      "Epoch: 045, Loss: 1.6304, Val: 0.6718, Test: 0.6811\n"
     ]
    }
   ],
   "source": [
    "num_epochs = 45\n",
    "loss_lst, val_acc_lst, test_acc_lst = [], [], []\n",
    "\n",
    "for epoch in range(1, num_epochs+1):\n",
    "    loss = train()\n",
    "    val_acc, test_acc = test()\n",
    "    print(f'Epoch: {epoch:03d}, Loss: {loss:.4f}, Val: {val_acc:.4f}, '\n",
    "          f'Test: {test_acc:.4f}')\n",
    "    loss_lst.append(loss)\n",
    "    val_acc_lst.append(val_acc)\n",
    "    test_acc_lst.append(test_acc)"
   ]
  },
  {
   "cell_type": "code",
   "execution_count": 8,
   "metadata": {
    "ExecuteTime": {
     "end_time": "2022-08-08T19:56:50.173585Z",
     "start_time": "2022-08-08T19:56:48.108274Z"
    }
   },
   "outputs": [
    {
     "data": {
      "text/plain": [
       "[<matplotlib.lines.Line2D at 0x7fbeac588760>]"
      ]
     },
     "execution_count": 8,
     "metadata": {},
     "output_type": "execute_result"
    },
    {
     "data": {
      "image/png": "[encoded data removed]",
      "text/plain": [
       "<Figure size 432x288 with 1 Axes>"
      ]
     },
     "metadata": {
      "needs_background": "light"
     },
     "output_type": "display_data"
    }
   ],
   "source": [
    "# To plot pretty figures\n",
    "%matplotlib inline\n",
    "import matplotlib as mpl\n",
    "import matplotlib.pyplot as plt\n",
    "mpl.rc('axes', labelsize=14)\n",
    "mpl.rc('xtick', labelsize=12)\n",
    "mpl.rc('ytick', labelsize=12)"
   ]
  },
  {
   "cell_type": "code",
   "execution_count": 15,
   "metadata": {
    "ExecuteTime": {
     "end_time": "2022-08-08T20:57:43.030561Z",
     "start_time": "2022-08-08T20:57:42.872368Z"
    }
   },
   "outputs": [
    {
     "data": {
      "image/png": "[encoded data removed]",
      "text/plain": [
       "<Figure size 432x288 with 1 Axes>"
      ]
     },
     "metadata": {
      "needs_background": "light"
     },
     "output_type": "display_data"
    }
   ],
   "source": [
    "plt.plot(loss_lst, \"r.\", label=\"loss\")\n",
    "plt.plot(val_acc_lst, \"b.\", label=\"val acc\")\n",
    "plt.plot(test_acc_lst, \"g.\",label=\"test acc\")\n",
    "plt.xlabel(\"Epochs\", fontsize=18)\n",
    "# plt.ylabel(\"value of params\", rotation=90, fontsize=18)\n",
    "plt.legend(loc=\"best\", fontsize=10)\n",
    "plt.show()"
   ]
  },
  {
   "cell_type": "code",
   "execution_count": 16,
   "metadata": {
    "ExecuteTime": {
     "end_time": "2022-08-08T20:58:27.249923Z",
     "start_time": "2022-08-08T20:58:27.147265Z"
    }
   },
   "outputs": [
    {
     "data": {
      "image/png": "[encoded data removed]",
      "text/plain": [
       "<Figure size 432x288 with 1 Axes>"
      ]
     },
     "metadata": {
      "needs_background": "light"
     },
     "output_type": "display_data"
    }
   ],
   "source": [
    "plt.plot(val_acc_lst, \"b.\", label=\"val acc\")\n",
    "plt.plot(test_acc_lst, \"g.\",label=\"test acc\")\n",
    "plt.xlabel(\"Epochs\", fontsize=18)\n",
    "# plt.ylabel(\"value of params\", rotation=90, fontsize=18)\n",
    "plt.legend(loc=\"best\", fontsize=10)\n",
    "plt.show()"
   ]
  },
  {
   "cell_type": "markdown",
   "metadata": {},
   "source": [
    "## Try to plot the roc curve"
   ]
  },
  {
   "cell_type": "code",
   "execution_count": null,
   "metadata": {},
   "outputs": [],
   "source": []
  }
 ],
 "metadata": {
  "colab": {
   "collapsed_sections": [],
   "name": "unimp_arxiv.ipynb",
   "provenance": []
  },
  "kernelspec": {
   "display_name": "Python 3 (ipykernel)",
   "language": "python",
   "name": "python3"
  },
  "language_info": {
   "codemirror_mode": {
    "name": "ipython",
    "version": 3
   },
   "file_extension": ".py",
   "mimetype": "text/x-python",
   "name": "python",
   "nbconvert_exporter": "python",
   "pygments_lexer": "ipython3",
   "version": "3.9.12"
  }
 },
 "nbformat": 4,
 "nbformat_minor": 1
}
