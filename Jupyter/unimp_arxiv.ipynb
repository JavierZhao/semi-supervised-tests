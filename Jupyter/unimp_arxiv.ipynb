{
 "cells": [
  {
   "cell_type": "code",
   "execution_count": 19,
   "metadata": {},
   "outputs": [
    {
     "name": "stdout",
     "output_type": "stream",
     "text": [
      "\n",
      "==============NVSMI LOG==============\n",
      "\n",
      "Timestamp                                 : Tue Aug 16 00:20:29 2022\n",
      "Driver Version                            : 510.54\n",
      "CUDA Version                              : 11.6\n",
      "\n",
      "Attached GPUs                             : 1\n",
      "GPU 00000000:C4:00.0\n",
      "    Product Name                          : NVIDIA GeForce RTX 3090\n",
      "    Product Brand                         : GeForce\n",
      "    Product Architecture                  : Ampere\n",
      "    Display Mode                          : Disabled\n",
      "    Display Active                        : Disabled\n",
      "    Persistence Mode                      : Disabled\n",
      "    MIG Mode\n",
      "        Current                           : N/A\n",
      "        Pending                           : N/A\n",
      "    Accounting Mode                       : Disabled\n",
      "    Accounting Mode Buffer Size           : 4000\n",
      "    Driver Model\n",
      "        Current                           : N/A\n",
      "        Pending                           : N/A\n",
      "    Serial Number                         : N/A\n",
      "    GPU UUID                              : GPU-44a9dae1-a664-01ad-7158-a41c278b26fe\n",
      "    Minor Number                          : 7\n",
      "    VBIOS Version                         : 94.02.42.40.34\n",
      "    MultiGPU Board                        : No\n",
      "    Board ID                              : 0xc400\n",
      "    GPU Part Number                       : N/A\n",
      "    Module ID                             : 0\n",
      "    Inforom Version\n",
      "        Image Version                     : G001.0000.03.03\n",
      "        OEM Object                        : 2.0\n",
      "        ECC Object                        : N/A\n",
      "        Power Management Object           : N/A\n",
      "    GPU Operation Mode\n",
      "        Current                           : N/A\n",
      "        Pending                           : N/A\n",
      "    GSP Firmware Version                  : N/A\n",
      "    GPU Virtualization Mode\n",
      "        Virtualization Mode               : None\n",
      "        Host VGPU Mode                    : N/A\n",
      "    IBMNPU\n",
      "        Relaxed Ordering Mode             : N/A\n",
      "    PCI\n",
      "        Bus                               : 0xC4\n",
      "        Device                            : 0x00\n",
      "        Domain                            : 0x0000\n",
      "        Device Id                         : 0x220410DE\n",
      "        Bus Id                            : 00000000:C4:00.0\n",
      "        Sub System Id                     : 0x403B1458\n",
      "        GPU Link Info\n",
      "            PCIe Generation\n",
      "                Max                       : 4\n",
      "                Current                   : 1\n",
      "            Link Width\n",
      "                Max                       : 16x\n",
      "                Current                   : 16x\n",
      "        Bridge Chip\n",
      "            Type                          : N/A\n",
      "            Firmware                      : N/A\n",
      "        Replays Since Reset               : 0\n",
      "        Replay Number Rollovers           : 0\n",
      "        Tx Throughput                     : 0 KB/s\n",
      "        Rx Throughput                     : 0 KB/s\n",
      "    Fan Speed                             : 30 %\n",
      "    Performance State                     : P8\n",
      "    Clocks Throttle Reasons\n",
      "        Idle                              : Active\n",
      "        Applications Clocks Setting       : Not Active\n",
      "        SW Power Cap                      : Not Active\n",
      "        HW Slowdown                       : Not Active\n",
      "            HW Thermal Slowdown           : Not Active\n",
      "            HW Power Brake Slowdown       : Not Active\n",
      "        Sync Boost                        : Not Active\n",
      "        SW Thermal Slowdown               : Not Active\n",
      "        Display Clock Setting             : Not Active\n",
      "    FB Memory Usage\n",
      "        Total                             : 24576 MiB\n",
      "        Reserved                          : 307 MiB\n",
      "        Used                              : 10219 MiB\n",
      "        Free                              : 14048 MiB\n",
      "    BAR1 Memory Usage\n",
      "        Total                             : 256 MiB\n",
      "        Used                              : 8 MiB\n",
      "        Free                              : 248 MiB\n",
      "    Compute Mode                          : Default\n",
      "    Utilization\n",
      "        Gpu                               : 0 %\n",
      "        Memory                            : 0 %\n",
      "        Encoder                           : 0 %\n",
      "        Decoder                           : 0 %\n",
      "    Encoder Stats\n",
      "        Active Sessions                   : 0\n",
      "        Average FPS                       : 0\n",
      "        Average Latency                   : 0\n",
      "    FBC Stats\n",
      "        Active Sessions                   : 0\n",
      "        Average FPS                       : 0\n",
      "        Average Latency                   : 0\n",
      "    Ecc Mode\n",
      "        Current                           : N/A\n",
      "        Pending                           : N/A\n",
      "    ECC Errors\n",
      "        Volatile\n",
      "            SRAM Correctable              : N/A\n",
      "            SRAM Uncorrectable            : N/A\n",
      "            DRAM Correctable              : N/A\n",
      "            DRAM Uncorrectable            : N/A\n",
      "        Aggregate\n",
      "            SRAM Correctable              : N/A\n",
      "            SRAM Uncorrectable            : N/A\n",
      "            DRAM Correctable              : N/A\n",
      "            DRAM Uncorrectable            : N/A\n",
      "    Retired Pages\n",
      "        Single Bit ECC                    : N/A\n",
      "        Double Bit ECC                    : N/A\n",
      "        Pending Page Blacklist            : N/A\n",
      "    Remapped Rows                         : N/A\n",
      "    Temperature\n",
      "        GPU Current Temp                  : 34 C\n",
      "        GPU Shutdown Temp                 : 98 C\n",
      "        GPU Slowdown Temp                 : 95 C\n",
      "        GPU Max Operating Temp            : 93 C\n",
      "        GPU Target Temperature            : 88 C\n",
      "        Memory Current Temp               : N/A\n",
      "        Memory Max Operating Temp         : N/A\n",
      "    Power Readings\n",
      "        Power Management                  : Supported\n",
      "        Power Draw                        : 23.61 W\n",
      "        Power Limit                       : 350.00 W\n",
      "        Default Power Limit               : 350.00 W\n",
      "        Enforced Power Limit              : 350.00 W\n",
      "        Min Power Limit                   : 100.00 W\n",
      "        Max Power Limit                   : 350.00 W\n",
      "    Clocks\n",
      "        Graphics                          : 0 MHz\n",
      "        SM                                : 0 MHz\n",
      "        Memory                            : 405 MHz\n",
      "        Video                             : 555 MHz\n",
      "    Applications Clocks\n",
      "        Graphics                          : N/A\n",
      "        Memory                            : N/A\n",
      "    Default Applications Clocks\n",
      "        Graphics                          : N/A\n",
      "        Memory                            : N/A\n",
      "    Max Clocks\n",
      "        Graphics                          : 2100 MHz\n",
      "        SM                                : 2100 MHz\n",
      "        Memory                            : 9751 MHz\n",
      "        Video                             : 1950 MHz\n",
      "    Max Customer Boost Clocks\n",
      "        Graphics                          : N/A\n",
      "    Clock Policy\n",
      "        Auto Boost                        : N/A\n",
      "        Auto Boost Default                : N/A\n",
      "    Voltage\n",
      "        Graphics                          : 0.000 mV\n",
      "    Processes\n",
      "        GPU instance ID                   : N/A\n",
      "        Compute instance ID               : N/A\n",
      "        Process ID                        : 2751036\n",
      "            Type                          : C\n",
      "            Name                          : \n",
      "            Used GPU Memory               : 10217 MiB\n",
      "\n"
     ]
    }
   ],
   "source": [
    "!nvidia-smi -q"
   ]
  },
  {
   "cell_type": "code",
   "execution_count": 1,
   "metadata": {
    "ExecuteTime": {
     "end_time": "2022-08-12T23:18:03.339275Z",
     "start_time": "2022-08-12T23:17:50.056674Z"
    },
    "colab": {
     "base_uri": "https://localhost:8080/",
     "height": 1000
    },
    "id": "SvhPQJwuouk-",
    "outputId": "cf8a2030-c3f4-4746-e325-8d34b78cdf5b"
   },
   "outputs": [],
   "source": [
    "import os.path as osp\n",
    "\n",
    "import torch\n",
    "import torch.nn.functional as F\n",
    "from ogb.nodeproppred import PygNodePropPredDataset\n",
    "\n",
    "import torch_geometric.transforms as T\n",
    "from torch_geometric.nn import MaskLabel, TransformerConv\n",
    "from torch_geometric.utils import index_to_mask"
   ]
  },
  {
   "cell_type": "code",
   "execution_count": 2,
   "metadata": {
    "ExecuteTime": {
     "end_time": "2022-08-12T23:17:37.015925Z",
     "start_time": "2022-08-12T23:17:36.677284Z"
    },
    "scrolled": true
   },
   "outputs": [
    {
     "name": "stdout",
     "output_type": "stream",
     "text": [
      "/home/jovyan/work/semi-supervised-tests/Jupyter\r\n"
     ]
    }
   ],
   "source": [
    "!pwd"
   ]
  },
  {
   "cell_type": "code",
   "execution_count": 3,
   "metadata": {
    "ExecuteTime": {
     "end_time": "2022-08-12T23:18:11.710513Z",
     "start_time": "2022-08-12T23:18:11.484742Z"
    },
    "colab": {
     "base_uri": "https://localhost:8080/",
     "height": 232
    },
    "id": "8fI-8u88ojNj",
    "outputId": "08afed7f-7c95-48e1-b8ab-324286483f24"
   },
   "outputs": [
    {
     "name": "stdout",
     "output_type": "stream",
     "text": [
      "Downloading http://snap.stanford.edu/ogb/data/nodeproppred/arxiv.zip\n"
     ]
    },
    {
     "name": "stderr",
     "output_type": "stream",
     "text": [
      "Downloaded 0.08 GB: 100%|█████████████████████████████████████████████████████████████████████████████████████████████████████████████████████████████████████████████████| 81/81 [00:02<00:00, 38.28it/s]\n",
      "Processing...\n"
     ]
    },
    {
     "name": "stdout",
     "output_type": "stream",
     "text": [
      "Extracting /home/jovyan/work/semi-supervised-tests/Jupyter/data/OGB/arxiv.zip\n",
      "Loading necessary files...\n",
      "This might take a while.\n",
      "Processing graphs...\n"
     ]
    },
    {
     "name": "stderr",
     "output_type": "stream",
     "text": [
      "100%|████████████████████████████████████████████████████████████████████████████████████████████████████████████████████████████████████████████████████████████████████| 1/1 [00:00<00:00, 21959.71it/s]\n"
     ]
    },
    {
     "name": "stdout",
     "output_type": "stream",
     "text": [
      "Converting graphs into PyG objects...\n"
     ]
    },
    {
     "name": "stderr",
     "output_type": "stream",
     "text": [
      "100%|█████████████████████████████████████████████████████████████████████████████████████████████████████████████████████████████████████████████████████████████████████| 1/1 [00:00<00:00, 4675.92it/s]"
     ]
    },
    {
     "name": "stdout",
     "output_type": "stream",
     "text": [
      "Saving...\n"
     ]
    },
    {
     "name": "stderr",
     "output_type": "stream",
     "text": [
      "\n",
      "Done!\n"
     ]
    }
   ],
   "source": [
    "root = \"/home/jovyan/work/semi-supervised-tests/Jupyter/data/OGB\"\n",
    "dataset = PygNodePropPredDataset('ogbn-arxiv', root, T.ToUndirected())"
   ]
  },
  {
   "cell_type": "code",
   "execution_count": 4,
   "metadata": {
    "ExecuteTime": {
     "end_time": "2022-08-08T19:47:37.295170Z",
     "start_time": "2022-08-08T19:47:37.276788Z"
    },
    "colab": {
     "base_uri": "https://localhost:8080/",
     "height": 232
    },
    "id": "8fI-8u88ojNj",
    "outputId": "08afed7f-7c95-48e1-b8ab-324286483f24"
   },
   "outputs": [],
   "source": [
    "class UniMP(torch.nn.Module):   #UniMP stands for Unified Message Passing\n",
    "    def __init__(self, in_channels, num_classes, hidden_channels, num_layers,\n",
    "                 heads, dropout=0.3):\n",
    "        super().__init__()\n",
    "\n",
    "        self.label_emb = MaskLabel(num_classes, in_channels)\n",
    "\n",
    "        self.convs = torch.nn.ModuleList()  # initialize self.convs\n",
    "        self.norms = torch.nn.ModuleList()  # initialize self.norms\n",
    "        for i in range(1, num_layers + 1):\n",
    "            if i < num_layers:\n",
    "                out_channels = hidden_channels // heads #what is a head?\n",
    "                concat = True   #what does concat do?\n",
    "            else:\n",
    "                out_channels = num_classes\n",
    "                concat = False\n",
    "            conv = TransformerConv(in_channels, out_channels, heads,\n",
    "                                   concat=concat, beta=True, dropout=dropout)\n",
    "            self.convs.append(conv)\n",
    "            in_channels = hidden_channels\n",
    "\n",
    "            if i < num_layers:\n",
    "                self.norms.append(torch.nn.LayerNorm(hidden_channels))\n",
    "                #why a separate if statement?\n",
    "                \n",
    "    def forward(self, x, y, edge_index, label_mask):\n",
    "        x = self.label_emb(x, y, label_mask)\n",
    "        for conv, norm in zip(self.convs, self.norms):\n",
    "            x = norm(conv(x, edge_index)).relu()\n",
    "        # conv -> norm -> ReLu -> conv -> norm -> Relu -> ... -> out\n",
    "        return self.convs[-1](x, edge_index)"
   ]
  },
  {
   "cell_type": "markdown",
   "metadata": {
    "id": "VFtGqDeHUc6Y"
   },
   "source": [
    "## Questions:  \n",
    "\n",
    "### 2. What does emb stand for?  \n",
    "Embedding\n",
    "\n",
    "### 3. What are normalization layers?  what do they do and why do we need them?\n",
    "https://pytorch.org/docs/stable/generated/torch.nn.LayerNorm.html  \n",
    "Normalization? but why?\n",
    "\n",
    "### 3.1 What are heads?  \n",
    "\n",
    "### 4. What does concat do?  \n",
    "If set to False, the multi-head attentions are averaged instead of concatenated. (default: True)  \n",
    "\n",
    "### 4.1 What are attentions?  \n",
    "\n",
    "### 7. Why a separate if statement for self.norms?\n",
    "\n",
    "\n",
    "### 8. What does each parameter mean in this function?  \n",
    "x: input?  \n",
    "y: output?  \n",
    "edge_index: how the graph is connected  \n",
    "label_mask: \n",
    "\n",
    "### 8.1 What does the first line do?  "
   ]
  },
  {
   "cell_type": "code",
   "execution_count": 5,
   "metadata": {
    "id": "VFtGqDeHUc6Y"
   },
   "outputs": [
    {
     "data": {
      "text/plain": [
       "'\\ndef forward(self, x: Tensor, y: Tensor, mask: Tensor) -> Tensor:  \\n          \\n        if self.method == \"concat\":  \\n            out = x.new_zeros(y.size(0), self.emb.weight.size(-1))  \\n            out[mask] = self.emb(y[mask])  \\n            return torch.cat([x, out], dim=-1)  \\n        else:  \\n            x = torch.clone(x)  \\n            x[mask] += self.emb(y[mask])  \\n            return x\\n'"
      ]
     },
     "execution_count": 5,
     "metadata": {},
     "output_type": "execute_result"
    }
   ],
   "source": [
    "\"\"\"\n",
    "def forward(self, x: Tensor, y: Tensor, mask: Tensor) -> Tensor:  \n",
    "        \"\"\"\"\"\"  \n",
    "        if self.method == \"concat\":  \n",
    "            out = x.new_zeros(y.size(0), self.emb.weight.size(-1))  \n",
    "            out[mask] = self.emb(y[mask])  \n",
    "            return torch.cat([x, out], dim=-1)  \n",
    "        else:  \n",
    "            x = torch.clone(x)  \n",
    "            x[mask] += self.emb(y[mask])  \n",
    "            return x\n",
    "\"\"\""
   ]
  },
  {
   "cell_type": "markdown",
   "metadata": {},
   "source": [
    "I assume this applies the mask to the inputs x but why does this process involve y?  "
   ]
  },
  {
   "cell_type": "code",
   "execution_count": 6,
   "metadata": {
    "ExecuteTime": {
     "end_time": "2022-08-08T19:47:43.098140Z",
     "start_time": "2022-08-08T19:47:42.458425Z"
    },
    "id": "gMlfPgRjr31t"
   },
   "outputs": [],
   "source": [
    "device = torch.device('cuda' if torch.cuda.is_available() else 'cpu')\n",
    "data = dataset[0].to(device)\n",
    "data.y = data.y.view(-1)\n",
    "model = UniMP(dataset.num_features, dataset.num_classes, hidden_channels=64,\n",
    "              num_layers=3, heads=2).to(device)\n",
    "optimizer = torch.optim.Adam(model.parameters(), lr=0.001, weight_decay=0.0005)\n",
    " \n",
    "split_idx = dataset.get_idx_split()   # train/val/test split\n",
    "train_mask = index_to_mask(split_idx['train'], size=data.num_nodes)\n",
    "val_mask = index_to_mask(split_idx['valid'], size=data.num_nodes)\n",
    "test_mask = index_to_mask(split_idx['test'], size=data.num_nodes)"
   ]
  },
  {
   "cell_type": "markdown",
   "metadata": {
    "id": "BeJyK5jpVwxU"
   },
   "source": [
    "##  Questions:  \n",
    "### 10. What is weight_decay?  \n",
    "L2 penalty  \n",
    "https://swamp-father-f58.notion.site/2-3-Lecture-Dealing-with-Overfitting-f1a77a6d12f445698e4d8cb340300d88\n",
    "\n",
    "### 12. What does the mask do?  \n",
    "They mask some of the labels, preventing the nodes from accessing those labels during training/validation/testing\n",
    "\n"
   ]
  },
  {
   "cell_type": "code",
   "execution_count": 88,
   "metadata": {
    "ExecuteTime": {
     "end_time": "2022-08-08T20:12:27.868541Z",
     "start_time": "2022-08-08T20:12:27.853075Z"
    },
    "id": "K3nkFpQStWsW"
   },
   "outputs": [],
   "source": [
    "def train(label_rate=0.65):  # How many labels to use for propagation.\n",
    "    model.train()\n",
    "\n",
    "    propagation_mask = MaskLabel.ratio_mask(train_mask, ratio=label_rate)\n",
    "    # Randomly modifies mask by setting ratio of True entries to False\n",
    "    supervision_mask = train_mask ^ propagation_mask  # Exclusive or: Sets each bit to 1 if only one of two bits is 1\n",
    "#     print(\"train_mask:\", train_mask)\n",
    "#     print(\"propagation_mask:\", propagation_mask)\n",
    "#     print(\"supervision_mask:\", supervision_mask)\n",
    "\n",
    "    optimizer.zero_grad()\n",
    "    out = model(data.x, data.y, data.edge_index, propagation_mask)\n",
    "    loss = F.cross_entropy(out[supervision_mask], data.y[supervision_mask])\n",
    "    loss.backward()\n",
    "    optimizer.step()\n",
    "\n",
    "    return float(loss)\n",
    "\n",
    "\n",
    "@torch.no_grad()\n",
    "def test():\n",
    "    model.eval()\n",
    "\n",
    "    # evaluation\n",
    "    propagation_mask = train_mask  #no masked nodes while testing\n",
    "    out = model(data.x, data.y, data.edge_index, propagation_mask)  # forward is called\n",
    "    pred = out[val_mask].argmax(dim=-1)  #indices of maximum values across the last dimension\n",
    "    val_acc = int((pred == data.y[val_mask]).sum()) / pred.size(0)  # Validation accuracy\n",
    "    print(\"out:\", out)\n",
    "    print(\"out dim:\", out.size())\n",
    "    print(\"out[val_mask] dim:\", out[val_mask].size())\n",
    "    print(\"out[test_mask] size:\", out[test_mask].size())\n",
    "    print(\"out[train_mask] size:\", out[train_mask].size())\n",
    "    print(\"out summed over dimension 1\", torch.sum(out, dim=1))\n",
    "#     print(\"out[val_mask]:\", out[val_mask])\n",
    "    print(\"eval pred:\", pred)\n",
    "    print(\"labels:\", data.y[val_mask])\n",
    "    print(\"pred size:\",pred.size())\n",
    "    print(\"data.y[val_mask] size:\", data.y[val_mask].size())\n",
    "\n",
    "    # testing\n",
    "    propagation_mask = train_mask | val_mask    #Or: Sets each bit to 1 if one of two bits is 1\n",
    "    out = model(data.x, data.y, data.edge_index, propagation_mask)\n",
    "    pred = out[test_mask].argmax(dim=-1)\n",
    "    test_acc = int((pred == data.y[test_mask]).sum()) / pred.size(0)\n",
    "    print(\"test pred\", pred)\n",
    "    \n",
    "    print(\"labels:\", data.y[test_mask])\n",
    "\n",
    "    return val_acc, test_acc"
   ]
  },
  {
   "cell_type": "markdown",
   "metadata": {},
   "source": [
    "# Summary\n",
    "out is a torch tensor of dimension [169343, 40].  \n",
    "out[val_mask] is a torch tensor of dimension [29799, 40].  \n",
    "This ratio 0.1759683 should be one of the three numbers in the train/val/test split.  \n",
    "This is confirmed by   \n",
    "out[val_mask] dim: torch.Size([29799, 40])  \n",
    "out[test_mask] size: torch.Size([48603, 40])  \n",
    "out[train_mask] size: torch.Size([90941, 40])  \n",
    "(The three numbers add up to out.size(0))  \n",
    "\n",
    "(during evaluation) pred is a torch tensor of dimension [29799]  \n",
    "It is the indices of maximum values across the second dimension of out[val_mask]\n",
    "\n",
    "I am assuming each of the 40 numbers is some sort of probability of classifying a data point into a certain category. **But they are negative and do not sum to 1. How to interpret these?**\n",
    "This way, pred then consists of the predictions of the model (which category does a certain data point fall into)"
   ]
  },
  {
   "cell_type": "markdown",
   "metadata": {
    "id": "z9i8Jh2wWHqc"
   },
   "source": [
    "## Questions:  \n",
    "\n",
    "### 13. What is propagation_mask?  \n",
    "decides which nodes to use for message passing\n",
    "### 13.1 What is supervision_mask?  \n",
    "decides which nodes to use for verifying predictions  \n",
    "(propagation + supervision = training)\n",
    "\n",
    "## 14. What is argmax(dim=-1)\n",
    "Returns the indices of the maximum values of a tensor across a dimension.\n",
    "https://pytorch.org/docs/stable/generated/torch.argmax.html\n",
    "\n",
    "finding the argument that gives the max value across the last dimension, which is 40.  \n",
    "But now what does the 40 represent?\n",
    "\n",
    "40 categories?"
   ]
  },
  {
   "cell_type": "code",
   "execution_count": 83,
   "metadata": {},
   "outputs": [
    {
     "data": {
      "text/plain": [
       "tensor([[ 2.2168,  0.8275,  0.1678,  0.7973, -0.2572],\n",
       "        [-0.3855,  0.6202, -0.4778, -0.7501, -0.5764],\n",
       "        [-0.5668,  0.7973, -1.2989,  0.3374, -0.4779],\n",
       "        [ 1.1326,  0.1830, -0.2612,  0.2487, -1.1191]])"
      ]
     },
     "execution_count": 83,
     "metadata": {},
     "output_type": "execute_result"
    }
   ],
   "source": [
    "a = torch.randn(4, 5)\n",
    "a"
   ]
  },
  {
   "cell_type": "code",
   "execution_count": 85,
   "metadata": {},
   "outputs": [
    {
     "data": {
      "text/plain": [
       "tensor([ 3.7521, -1.5696, -1.2090,  0.1841])"
      ]
     },
     "execution_count": 85,
     "metadata": {},
     "output_type": "execute_result"
    }
   ],
   "source": [
    "torch.sum(a, dim=1)"
   ]
  },
  {
   "cell_type": "code",
   "execution_count": 89,
   "metadata": {
    "ExecuteTime": {
     "end_time": "2022-08-08T20:35:57.333224Z",
     "start_time": "2022-08-08T20:12:31.556674Z"
    },
    "id": "5phe-4Fur8I4"
   },
   "outputs": [
    {
     "name": "stdout",
     "output_type": "stream",
     "text": [
      "out: tensor([[-3.5886, -1.6201, -1.1368,  ..., -2.6423, -4.0673, -2.5085],\n",
      "        [-2.4112, -3.6676, -0.8647,  ..., -3.9421, -4.2487,  0.6882],\n",
      "        [-0.2600, -2.7017, -5.0089,  ..., -1.5739, -3.6018, -2.8082],\n",
      "        ...,\n",
      "        [-3.7768, -4.4264, -0.5137,  ..., -1.9551, -3.6224, -3.6389],\n",
      "        [-2.7970, -0.6508, -2.0131,  ..., -3.3607, -4.1038, -1.6962],\n",
      "        [-4.8141,  2.9991, -3.5027,  ..., -2.0952, -4.6155, -3.6756]],\n",
      "       device='cuda:0')\n",
      "out dim: torch.Size([169343, 40])\n",
      "out[val_mask] dim: torch.Size([29799, 40])\n",
      "out[test_mask] size: torch.Size([48603, 40])\n",
      "out[train_mask] size: torch.Size([90941, 40])\n",
      "out summed over dimension 1 tensor([-81.9169, -88.1348, -86.4720,  ..., -76.6072, -83.1219, -87.9812],\n",
      "       device='cuda:0')\n",
      "eval pred: tensor([ 8, 28, 16,  ..., 30, 24, 28], device='cuda:0')\n",
      "labels: tensor([ 8, 19, 16,  ..., 30, 16, 28], device='cuda:0')\n",
      "pred size: torch.Size([29799])\n",
      "data.y[val_mask] size: torch.Size([29799])\n",
      "test pred tensor([10, 16, 24,  ..., 10, 24,  8], device='cuda:0')\n",
      "labels: tensor([24, 10, 24,  ..., 10,  4,  1], device='cuda:0')\n",
      "Epoch: 001, Loss: 0.8345, Val: 0.7295, Test: 0.7275\n"
     ]
    }
   ],
   "source": [
    "num_epochs = 1\n",
    "loss_lst, val_acc_lst, test_acc_lst = [], [], []\n",
    "\n",
    "for epoch in range(1, num_epochs+1):\n",
    "    loss = train()\n",
    "    val_acc, test_acc = test()\n",
    "    print(f'Epoch: {epoch:03d}, Loss: {loss:.4f}, Val: {val_acc:.4f}, '\n",
    "          f'Test: {test_acc:.4f}')\n",
    "    loss_lst.append(loss)\n",
    "    val_acc_lst.append(val_acc)\n",
    "    test_acc_lst.append(test_acc)"
   ]
  },
  {
   "cell_type": "code",
   "execution_count": 9,
   "metadata": {
    "ExecuteTime": {
     "end_time": "2022-08-08T19:56:50.173585Z",
     "start_time": "2022-08-08T19:56:48.108274Z"
    }
   },
   "outputs": [],
   "source": [
    "# To plot pretty figures\n",
    "%matplotlib inline\n",
    "import matplotlib as mpl\n",
    "import matplotlib.pyplot as plt\n",
    "mpl.rc('axes', labelsize=14)\n",
    "mpl.rc('xtick', labelsize=12)\n",
    "mpl.rc('ytick', labelsize=12)"
   ]
  },
  {
   "cell_type": "code",
   "execution_count": 15,
   "metadata": {
    "ExecuteTime": {
     "end_time": "2022-08-08T20:57:43.030561Z",
     "start_time": "2022-08-08T20:57:42.872368Z"
    }
   },
   "outputs": [
    {
     "data": {
      "image/png": "[encoded data removed]",
      "text/plain": [
       "<Figure size 432x288 with 1 Axes>"
      ]
     },
     "metadata": {
      "needs_background": "light"
     },
     "output_type": "display_data"
    }
   ],
   "source": [
    "marker_size = 1\n",
    "plt.plot(loss_lst, \"r.\", markersize=marker_size, label=\"loss\")\n",
    "plt.plot(val_acc_lst, \"b.\", markersize=marker_size, label=\"val acc\")\n",
    "plt.plot(test_acc_lst, \"g.\",markersize=marker_size, label=\"test acc\")\n",
    "plt.xlabel(\"Epochs\", fontsize=18)\n",
    "# plt.ylabel(\"value of params\", rotation=90, fontsize=18)\n",
    "plt.legend(loc=\"best\", fontsize=10)\n",
    "plt.xlim([200, 500])\n",
    "plt.show()"
   ]
  },
  {
   "cell_type": "code",
   "execution_count": 16,
   "metadata": {
    "ExecuteTime": {
     "end_time": "2022-08-08T20:58:27.249923Z",
     "start_time": "2022-08-08T20:58:27.147265Z"
    }
   },
   "outputs": [
    {
     "data": {
      "image/png": "[encoded data removed]",
      "text/plain": [
       "<Figure size 432x288 with 1 Axes>"
      ]
     },
     "metadata": {
      "needs_background": "light"
     },
     "output_type": "display_data"
    }
   ],
   "source": [
    "marker_size = 1\n",
    "plt.plot(val_acc_lst, \"b.\", markersize=marker_size, label=\"val acc\")\n",
    "plt.plot(test_acc_lst, \"g.\",markersize=marker_size, label=\"test acc\")\n",
    "plt.xlabel(\"Epochs\", fontsize=18)\n",
    "# plt.ylabel(\"value of params\", rotation=90, fontsize=18)\n",
    "plt.legend(loc=\"best\", fontsize=10)\n",
    "plt.xlim([200, 500])\n",
    "plt.show()"
   ]
  },
  {
   "cell_type": "markdown",
   "metadata": {},
   "source": [
    "## Try to plot the ROC curve\n",
    "y-axis: true positive rate = test_acc  \n",
    "x-axis: false positive rate"
   ]
  },
  {
   "cell_type": "code",
   "execution_count": 12,
   "metadata": {},
   "outputs": [],
   "source": [
    "from sklearn.metrics import roc_curve"
   ]
  },
  {
   "cell_type": "code",
   "execution_count": 13,
   "metadata": {},
   "outputs": [
    {
     "ename": "NameError",
     "evalue": "name 'y_train_5' is not defined",
     "output_type": "error",
     "traceback": [
      "\u001b[0;31m---------------------------------------------------------------------------\u001b[0m",
      "\u001b[0;31mNameError\u001b[0m                                 Traceback (most recent call last)",
      "Input \u001b[0;32mIn [13]\u001b[0m, in \u001b[0;36m<cell line: 1>\u001b[0;34m()\u001b[0m\n\u001b[0;32m----> 1\u001b[0m fpr, tpr, thresholds \u001b[38;5;241m=\u001b[39m roc_curve(\u001b[43my_train_5\u001b[49m, y_scores)\n\u001b[1;32m      2\u001b[0m \u001b[38;5;28;01mdef\u001b[39;00m \u001b[38;5;21mplot_roc_curve\u001b[39m(fpr, tpr, label\u001b[38;5;241m=\u001b[39m\u001b[38;5;28;01mNone\u001b[39;00m):\n\u001b[1;32m      3\u001b[0m     plt\u001b[38;5;241m.\u001b[39mplot(fpr, tpr, linewidth\u001b[38;5;241m=\u001b[39m\u001b[38;5;241m2\u001b[39m, label\u001b[38;5;241m=\u001b[39mlabel)\n",
      "\u001b[0;31mNameError\u001b[0m: name 'y_train_5' is not defined"
     ]
    }
   ],
   "source": [
    "fpr, tpr, thresholds = roc_curve(y_train_5, y_scores)\n",
    "def plot_roc_curve(fpr, tpr, label=None):\n",
    "    plt.plot(fpr, tpr, linewidth=2, label=label)\n",
    "    plt.plot([0, 1], [0, 1], 'k--') \n",
    "    plt.axis([0, 1, 0, 1])\n",
    "    plt.xlabel('False Positive Rate (Fall-Out)', fontsize=16) \n",
    "    plt.ylabel('True Positive Rate (Recall)', fontsize=16)\n",
    "    plt.grid(True)\n",
    "\n",
    "plt.figure(figsize=(8, 6))\n",
    "plot_roc_curve(fpr, tpr)"
   ]
  },
  {
   "cell_type": "markdown",
   "metadata": {},
   "source": [
    "## Problem:\n",
    "sklearn.metrics.roc_curve and other functions built on top of it (such as https://pytorch.org/ignite/generated/ignite.contrib.metrics.RocCurve.html) only work for binary classification tasks. How to modify it/this code to use those functions?"
   ]
  },
  {
   "cell_type": "code",
   "execution_count": null,
   "metadata": {},
   "outputs": [],
   "source": []
  }
 ],
 "metadata": {
  "colab": {
   "collapsed_sections": [],
   "name": "unimp_arxiv.ipynb",
   "provenance": []
  },
  "kernelspec": {
   "display_name": "Python 3 (ipykernel)",
   "language": "python",
   "name": "python3"
  },
  "language_info": {
   "codemirror_mode": {
    "name": "ipython",
    "version": 3
   },
   "file_extension": ".py",
   "mimetype": "text/x-python",
   "name": "python",
   "nbconvert_exporter": "python",
   "pygments_lexer": "ipython3",
   "version": "3.9.10"
  }
 },
 "nbformat": 4,
 "nbformat_minor": 1
}
