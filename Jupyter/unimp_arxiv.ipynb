{
 "cells": [
  {
   "cell_type": "code",
   "execution_count": 3,
   "metadata": {
    "ExecuteTime": {
     "end_time": "2022-08-26T18:53:06.124787Z",
     "start_time": "2022-08-26T18:53:05.184751Z"
    }
   },
   "outputs": [
    {
     "name": "stdout",
     "output_type": "stream",
     "text": [
      "\n",
      "==============NVSMI LOG==============\n",
      "\n",
      "Timestamp                                 : Fri Aug 26 18:53:05 2022\n",
      "Driver Version                            : 510.54\n",
      "CUDA Version                              : 11.6\n",
      "\n",
      "Attached GPUs                             : 1\n",
      "GPU 00000000:09:00.0\n",
      "    Product Name                          : NVIDIA GeForce GTX 1080 Ti\n",
      "    Product Brand                         : GeForce\n",
      "    Product Architecture                  : Pascal\n",
      "    Display Mode                          : Disabled\n",
      "    Display Active                        : Disabled\n",
      "    Persistence Mode                      : Disabled\n",
      "    MIG Mode\n",
      "        Current                           : N/A\n",
      "        Pending                           : N/A\n",
      "    Accounting Mode                       : Disabled\n",
      "    Accounting Mode Buffer Size           : 4000\n",
      "    Driver Model\n",
      "        Current                           : N/A\n",
      "        Pending                           : N/A\n",
      "    Serial Number                         : 0321017145355\n",
      "    GPU UUID                              : GPU-257d3aea-b32a-f6ba-98b6-5b6ca2e8a658\n",
      "    Minor Number                          : 3\n",
      "    VBIOS Version                         : 86.02.39.00.01\n",
      "    MultiGPU Board                        : No\n",
      "    Board ID                              : 0x900\n",
      "    GPU Part Number                       : 900-1G611-0050-000\n",
      "    Module ID                             : 0\n",
      "    Inforom Version\n",
      "        Image Version                     : G001.0000.01.04\n",
      "        OEM Object                        : 1.1\n",
      "        ECC Object                        : N/A\n",
      "        Power Management Object           : N/A\n",
      "    GPU Operation Mode\n",
      "        Current                           : N/A\n",
      "        Pending                           : N/A\n",
      "    GSP Firmware Version                  : N/A\n",
      "    GPU Virtualization Mode\n",
      "        Virtualization Mode               : None\n",
      "        Host VGPU Mode                    : N/A\n",
      "    IBMNPU\n",
      "        Relaxed Ordering Mode             : N/A\n",
      "    PCI\n",
      "        Bus                               : 0x09\n",
      "        Device                            : 0x00\n",
      "        Domain                            : 0x0000\n",
      "        Device Id                         : 0x1B0610DE\n",
      "        Bus Id                            : 00000000:09:00.0\n",
      "        Sub System Id                     : 0x120F10DE\n",
      "        GPU Link Info\n",
      "            PCIe Generation\n",
      "                Max                       : 3\n",
      "                Current                   : 1\n",
      "            Link Width\n",
      "                Max                       : 16x\n",
      "                Current                   : 16x\n",
      "        Bridge Chip\n",
      "            Type                          : N/A\n",
      "            Firmware                      : N/A\n",
      "        Replays Since Reset               : 0\n",
      "        Replay Number Rollovers           : 0\n",
      "        Tx Throughput                     : 0 KB/s\n",
      "        Rx Throughput                     : 0 KB/s\n",
      "    Fan Speed                             : 23 %\n",
      "    Performance State                     : P8\n",
      "    Clocks Throttle Reasons\n",
      "        Idle                              : Active\n",
      "        Applications Clocks Setting       : Not Active\n",
      "        SW Power Cap                      : Not Active\n",
      "        HW Slowdown                       : Not Active\n",
      "            HW Thermal Slowdown           : Not Active\n",
      "            HW Power Brake Slowdown       : Not Active\n",
      "        Sync Boost                        : Not Active\n",
      "        SW Thermal Slowdown               : Not Active\n",
      "        Display Clock Setting             : Not Active\n",
      "    FB Memory Usage\n",
      "        Total                             : 11264 MiB\n",
      "        Reserved                          : 85 MiB\n",
      "        Used                              : 0 MiB\n",
      "        Free                              : 11178 MiB\n",
      "    BAR1 Memory Usage\n",
      "        Total                             : 256 MiB\n",
      "        Used                              : 2 MiB\n",
      "        Free                              : 254 MiB\n",
      "    Compute Mode                          : Default\n",
      "    Utilization\n",
      "        Gpu                               : 0 %\n",
      "        Memory                            : 0 %\n",
      "        Encoder                           : 0 %\n",
      "        Decoder                           : 0 %\n",
      "    Encoder Stats\n",
      "        Active Sessions                   : 0\n",
      "        Average FPS                       : 0\n",
      "        Average Latency                   : 0\n",
      "    FBC Stats\n",
      "        Active Sessions                   : 0\n",
      "        Average FPS                       : 0\n",
      "        Average Latency                   : 0\n",
      "    Ecc Mode\n",
      "        Current                           : N/A\n",
      "        Pending                           : N/A\n",
      "    ECC Errors\n",
      "        Volatile\n",
      "            Single Bit            \n",
      "                Device Memory             : N/A\n",
      "                Register File             : N/A\n",
      "                L1 Cache                  : N/A\n",
      "                L2 Cache                  : N/A\n",
      "                Texture Memory            : N/A\n",
      "                Texture Shared            : N/A\n",
      "                CBU                       : N/A\n",
      "                Total                     : N/A\n",
      "            Double Bit            \n",
      "                Device Memory             : N/A\n",
      "                Register File             : N/A\n",
      "                L1 Cache                  : N/A\n",
      "                L2 Cache                  : N/A\n",
      "                Texture Memory            : N/A\n",
      "                Texture Shared            : N/A\n",
      "                CBU                       : N/A\n",
      "                Total                     : N/A\n",
      "        Aggregate\n",
      "            Single Bit            \n",
      "                Device Memory             : N/A\n",
      "                Register File             : N/A\n",
      "                L1 Cache                  : N/A\n",
      "                L2 Cache                  : N/A\n",
      "                Texture Memory            : N/A\n",
      "                Texture Shared            : N/A\n",
      "                CBU                       : N/A\n",
      "                Total                     : N/A\n",
      "            Double Bit            \n",
      "                Device Memory             : N/A\n",
      "                Register File             : N/A\n",
      "                L1 Cache                  : N/A\n",
      "                L2 Cache                  : N/A\n",
      "                Texture Memory            : N/A\n",
      "                Texture Shared            : N/A\n",
      "                CBU                       : N/A\n",
      "                Total                     : N/A\n",
      "    Retired Pages\n",
      "        Single Bit ECC                    : N/A\n",
      "        Double Bit ECC                    : N/A\n",
      "        Pending Page Blacklist            : N/A\n",
      "    Remapped Rows                         : N/A\n",
      "    Temperature\n",
      "        GPU Current Temp                  : 24 C\n",
      "        GPU Shutdown Temp                 : 96 C\n",
      "        GPU Slowdown Temp                 : 93 C\n",
      "        GPU Max Operating Temp            : N/A\n",
      "        GPU Target Temperature            : 84 C\n",
      "        Memory Current Temp               : N/A\n",
      "        Memory Max Operating Temp         : N/A\n",
      "    Power Readings\n",
      "        Power Management                  : Supported\n",
      "        Power Draw                        : 9.26 W\n",
      "        Power Limit                       : 250.00 W\n",
      "        Default Power Limit               : 250.00 W\n",
      "        Enforced Power Limit              : 250.00 W\n",
      "        Min Power Limit                   : 125.00 W\n",
      "        Max Power Limit                   : 300.00 W\n",
      "    Clocks\n",
      "        Graphics                          : 139 MHz\n",
      "        SM                                : 139 MHz\n",
      "        Memory                            : 405 MHz\n",
      "        Video                             : 544 MHz\n",
      "    Applications Clocks\n",
      "        Graphics                          : N/A\n",
      "        Memory                            : N/A\n",
      "    Default Applications Clocks\n",
      "        Graphics                          : N/A\n",
      "        Memory                            : N/A\n",
      "    Max Clocks\n",
      "        Graphics                          : 1911 MHz\n",
      "        SM                                : 1911 MHz\n",
      "        Memory                            : 5505 MHz\n",
      "        Video                             : 1620 MHz\n",
      "    Max Customer Boost Clocks\n",
      "        Graphics                          : N/A\n",
      "    Clock Policy\n",
      "        Auto Boost                        : N/A\n",
      "        Auto Boost Default                : N/A\n",
      "    Voltage\n",
      "        Graphics                          : N/A\n",
      "    Processes                             : None\n",
      "\n"
     ]
    }
   ],
   "source": [
    "!nvidia-smi -q"
   ]
  },
  {
   "cell_type": "code",
   "execution_count": 4,
   "metadata": {
    "ExecuteTime": {
     "end_time": "2022-08-26T18:53:08.661536Z",
     "start_time": "2022-08-26T18:53:06.127260Z"
    },
    "colab": {
     "base_uri": "https://localhost:8080/",
     "height": 1000
    },
    "id": "SvhPQJwuouk-",
    "outputId": "cf8a2030-c3f4-4746-e325-8d34b78cdf5b"
   },
   "outputs": [
    {
     "name": "stderr",
     "output_type": "stream",
     "text": [
      "WARNING:root:The OGB package is out of date. Your version is 1.3.3, while the latest version is 1.3.4.\n"
     ]
    }
   ],
   "source": [
    "import os.path as osp\n",
    "\n",
    "import torch\n",
    "import torch.nn.functional as F\n",
    "from ogb.nodeproppred import PygNodePropPredDataset\n",
    "\n",
    "import torch_geometric.transforms as T\n",
    "from torch_geometric.nn import MaskLabel, TransformerConv\n",
    "from torch_geometric.utils import index_to_mask"
   ]
  },
  {
   "cell_type": "code",
   "execution_count": 5,
   "metadata": {
    "ExecuteTime": {
     "end_time": "2022-08-26T18:53:09.362421Z",
     "start_time": "2022-08-26T18:53:08.663554Z"
    },
    "scrolled": true
   },
   "outputs": [
    {
     "name": "stdout",
     "output_type": "stream",
     "text": [
      "/ssl-jet-vol/semi-supervised-tests/Jupyter\r\n"
     ]
    }
   ],
   "source": [
    "!pwd"
   ]
  },
  {
   "cell_type": "code",
   "execution_count": 6,
   "metadata": {
    "ExecuteTime": {
     "end_time": "2022-08-26T18:53:13.060648Z",
     "start_time": "2022-08-26T18:53:09.364661Z"
    },
    "colab": {
     "base_uri": "https://localhost:8080/",
     "height": 232
    },
    "id": "8fI-8u88ojNj",
    "outputId": "08afed7f-7c95-48e1-b8ab-324286483f24"
   },
   "outputs": [
    {
     "data": {
      "text/plain": [
       "PygNodePropPredDataset()"
      ]
     },
     "execution_count": 6,
     "metadata": {},
     "output_type": "execute_result"
    }
   ],
   "source": [
    "root = \"/ssl-jet-vol/semi-supervised-tests/Jupyter/data/OGB\"\n",
    "dataset = PygNodePropPredDataset('ogbn-arxiv', root, T.ToUndirected())\n",
    "dataset"
   ]
  },
  {
   "cell_type": "code",
   "execution_count": 7,
   "metadata": {
    "ExecuteTime": {
     "end_time": "2022-08-26T18:53:13.069607Z",
     "start_time": "2022-08-26T18:53:13.063091Z"
    },
    "colab": {
     "base_uri": "https://localhost:8080/",
     "height": 232
    },
    "id": "8fI-8u88ojNj",
    "outputId": "08afed7f-7c95-48e1-b8ab-324286483f24"
   },
   "outputs": [],
   "source": [
    "class UniMP(torch.nn.Module):   #UniMP stands for Unified Message Passing\n",
    "    def __init__(self, in_channels, num_classes, hidden_channels, num_layers,\n",
    "                 heads, dropout=0.3):\n",
    "        super().__init__()\n",
    "\n",
    "        self.label_emb = MaskLabel(num_classes, in_channels)\n",
    "\n",
    "        self.convs = torch.nn.ModuleList()  # initialize self.convs\n",
    "        self.norms = torch.nn.ModuleList()  # initialize self.norms\n",
    "        for i in range(1, num_layers + 1):\n",
    "            if i < num_layers:\n",
    "                out_channels = hidden_channels // heads #what is a head?\n",
    "                concat = True   #what does concat do?\n",
    "            else:\n",
    "                out_channels = num_classes\n",
    "                concat = False\n",
    "            conv = TransformerConv(in_channels, out_channels, heads,\n",
    "                                   concat=concat, beta=True, dropout=dropout)\n",
    "            self.convs.append(conv)\n",
    "            in_channels = hidden_channels\n",
    "\n",
    "            if i < num_layers:\n",
    "                self.norms.append(torch.nn.LayerNorm(hidden_channels))\n",
    "                \n",
    "    def forward(self, x, y, edge_index, label_mask):\n",
    "        x = self.label_emb(x, y, label_mask)  #mask some of the input labels\n",
    "        for conv, norm in zip(self.convs, self.norms):\n",
    "            x = norm(conv(x, edge_index)).relu()\n",
    "        # conv -> norm -> ReLu -> conv -> norm -> Relu -> ... -> out\n",
    "        return self.convs[-1](x, edge_index)"
   ]
  },
  {
   "cell_type": "markdown",
   "metadata": {
    "id": "VFtGqDeHUc6Y"
   },
   "source": [
    "## Questions:  \n",
    "\n",
    "### 2. What does emb stand for?  \n",
    "Embedding\n",
    "\n",
    "### 3. What are normalization layers?  what do they do and why do we need them?\n",
    "https://pytorch.org/docs/stable/generated/torch.nn.LayerNorm.html  \n",
    "Normalization? but why?\n",
    "\n",
    "### 3.1 What are heads?  \n",
    "\n",
    "### 4. What does concat do?  \n",
    "If set to False, the multi-head attentions are averaged instead of concatenated. (default: True)  \n",
    "\n",
    "### 4.1 What are attentions?  \n",
    "\n",
    "### 7. Why a separate if statement for self.norms?\n",
    "\n",
    "\n",
    "### 8. What does each parameter mean in this function?  \n",
    "x: input?  \n",
    "y: output?  \n",
    "edge_index: how the graph is connected  \n",
    "label_mask: \n",
    "\n",
    "### 8.1 What does the first line do?  "
   ]
  },
  {
   "cell_type": "code",
   "execution_count": 8,
   "metadata": {
    "ExecuteTime": {
     "end_time": "2022-08-26T18:53:13.074567Z",
     "start_time": "2022-08-26T18:53:13.071079Z"
    },
    "id": "VFtGqDeHUc6Y"
   },
   "outputs": [
    {
     "data": {
      "text/plain": [
       "'\\ndef forward(self, x: Tensor, y: Tensor, mask: Tensor) -> Tensor:  \\n          \\n        if self.method == \"concat\":  \\n            out = x.new_zeros(y.size(0), self.emb.weight.size(-1))  \\n            out[mask] = self.emb(y[mask])  \\n            return torch.cat([x, out], dim=-1)  \\n        else:  \\n            x = torch.clone(x)  \\n            x[mask] += self.emb(y[mask])  \\n            return x\\n'"
      ]
     },
     "execution_count": 8,
     "metadata": {},
     "output_type": "execute_result"
    }
   ],
   "source": [
    "\"\"\"\n",
    "def forward(self, x: Tensor, y: Tensor, mask: Tensor) -> Tensor:  \n",
    "        \"\"\"\"\"\"  \n",
    "        if self.method == \"concat\":  \n",
    "            out = x.new_zeros(y.size(0), self.emb.weight.size(-1))  \n",
    "            out[mask] = self.emb(y[mask])  \n",
    "            return torch.cat([x, out], dim=-1)  \n",
    "        else:  \n",
    "            x = torch.clone(x)  \n",
    "            x[mask] += self.emb(y[mask])  \n",
    "            return x\n",
    "\"\"\""
   ]
  },
  {
   "cell_type": "markdown",
   "metadata": {},
   "source": [
    "I assume this applies the mask to the inputs x but why does this process involve y?  "
   ]
  },
  {
   "cell_type": "code",
   "execution_count": 9,
   "metadata": {
    "ExecuteTime": {
     "end_time": "2022-08-26T18:53:15.804270Z",
     "start_time": "2022-08-26T18:53:13.076019Z"
    },
    "id": "gMlfPgRjr31t"
   },
   "outputs": [],
   "source": [
    "device = torch.device('cuda' if torch.cuda.is_available() else 'cpu')\n",
    "data = dataset[0].to(device)\n",
    "data.y = data.y.view(-1)\n",
    "model = UniMP(dataset.num_features, dataset.num_classes, hidden_channels=64,\n",
    "              num_layers=3, heads=2).to(device)\n",
    "optimizer = torch.optim.Adam(model.parameters(), lr=0.001, weight_decay=0.0005)\n",
    " \n",
    "split_idx = dataset.get_idx_split()   # train/val/test split\n",
    "train_mask = index_to_mask(split_idx['train'], size=data.num_nodes)\n",
    "val_mask = index_to_mask(split_idx['valid'], size=data.num_nodes)\n",
    "test_mask = index_to_mask(split_idx['test'], size=data.num_nodes)"
   ]
  },
  {
   "cell_type": "markdown",
   "metadata": {
    "id": "BeJyK5jpVwxU"
   },
   "source": [
    "### 10. What is weight_decay?  \n",
    "L2 penalty  \n",
    "https://swamp-father-f58.notion.site/2-3-Lecture-Dealing-with-Overfitting-f1a77a6d12f445698e4d8cb340300d88\n",
    "\n",
    "### 12. What does the mask do?  \n",
    "They mask some of the labels, preventing the nodes from accessing those labels during training/validation/testing\n",
    "\n"
   ]
  },
  {
   "cell_type": "code",
   "execution_count": 10,
   "metadata": {
    "ExecuteTime": {
     "end_time": "2022-08-26T18:53:15.819526Z",
     "start_time": "2022-08-26T18:53:15.807378Z"
    },
    "id": "K3nkFpQStWsW"
   },
   "outputs": [],
   "source": [
    "def train(label_rate=0.65):  # How many labels to use for propagation.\n",
    "    model.train()\n",
    "\n",
    "    propagation_mask = MaskLabel.ratio_mask(train_mask, ratio=label_rate)\n",
    "    # Randomly modifies mask by setting a certain ratio (label_rate) of True entries to False\n",
    "    supervision_mask = train_mask ^ propagation_mask  # Exclusive or: Sets each bit to 1 if only one of two bits is 1\n",
    "#     print(\"train_mask:\", train_mask)\n",
    "#     print(\"propagation_mask:\", propagation_mask)\n",
    "#     print(\"supervision_mask:\", supervision_mask)\n",
    "\n",
    "    # how to implement mini-batch gradient descent here? Right now going through the data set all at once, taking up too much memory\n",
    "    optimizer.zero_grad()\n",
    "    out = model(data.x, data.y, data.edge_index, propagation_mask)  #forward is called\n",
    "    loss = F.cross_entropy(out[supervision_mask], data.y[supervision_mask])\n",
    "    loss.backward()\n",
    "    optimizer.step()\n",
    "\n",
    "    return float(loss)\n",
    "\n",
    "\n",
    "@torch.no_grad()\n",
    "def test():\n",
    "    model.eval()\n",
    "\n",
    "    # evaluation\n",
    "    propagation_mask = train_mask  #no masked nodes while testing\n",
    "    out = model(data.x, data.y, data.edge_index, propagation_mask)  # forward is called\n",
    "    pred = out[val_mask].argmax(dim=-1)  #indices of maximum values across the last dimension\n",
    "    val_acc = int((pred == data.y[val_mask]).sum()) / pred.size(0)  # Validation accuracy\n",
    "#     print(\"out:\", out)\n",
    "#     print(\"out dim:\", out.size())\n",
    "#     print(\"out[val_mask] dim:\", out[val_mask].size())\n",
    "#     print(\"out[test_mask] size:\", out[test_mask].size())\n",
    "#     print(\"out[train_mask] size:\", out[train_mask].size())\n",
    "#     print(\"out summed over dimension 1\", torch.sum(out, dim=1))\n",
    "# #     print(\"out[val_mask]:\", out[val_mask])\n",
    "#     print(\"eval pred:\", pred)\n",
    "#     print(\"labels:\", data.y[val_mask])\n",
    "#     print(\"pred size:\",pred.size())\n",
    "#     print(\"data.y[val_mask] size:\", data.y[val_mask].size())\n",
    "\n",
    "    # testing\n",
    "    propagation_mask = train_mask | val_mask    #Or: Sets each bit to 1 if one of two bits is 1\n",
    "    out = model(data.x, data.y, data.edge_index, propagation_mask)\n",
    "    pred = out[test_mask].argmax(dim=-1)\n",
    "    test_acc = int((pred == data.y[test_mask]).sum()) / pred.size(0)\n",
    "#     print(\"test pred\", pred)\n",
    "    \n",
    "#     print(\"labels:\", data.y[test_mask])\n",
    "\n",
    "    return val_acc, test_acc"
   ]
  },
  {
   "cell_type": "markdown",
   "metadata": {},
   "source": [
    "# Summary\n",
    "out is a torch tensor of dimension [169343, 40].  \n",
    "out[val_mask] is a torch tensor of dimension [29799, 40].  \n",
    "This ratio 0.1759683 should be one of the three numbers in the train/val/test split.  \n",
    "This is confirmed by   \n",
    "out[val_mask] dim: torch.Size([29799, 40])  \n",
    "out[test_mask] size: torch.Size([48603, 40])  \n",
    "out[train_mask] size: torch.Size([90941, 40])  \n",
    "(The three numbers add up to out.size(0))  \n",
    "\n",
    "(during evaluation) pred is a torch tensor of dimension [29799]  \n",
    "It is the indices of maximum values across the second dimension of out[val_mask]\n",
    "\n",
    "I am assuming each of the 40 numbers is some sort of probability of classifying a data point into a certain category. **But they are negative and do not sum to 1. How to interpret these?**   \n",
    "\n",
    "Apply softmax to the results to obtain probabilities.\n",
    "This way, pred then consists of the predictions of the model (which category does a certain data point fall into)"
   ]
  },
  {
   "cell_type": "markdown",
   "metadata": {
    "id": "z9i8Jh2wWHqc"
   },
   "source": [
    "### 13. What is propagation_mask?  \n",
    "decides which nodes to use for message passing\n",
    "### 13.1 What is supervision_mask?  \n",
    "decides which nodes to use for verifying predictions  \n",
    "(propagation + supervision = training)\n",
    "\n",
    "## 14. What is argmax(dim=-1)\n",
    "Returns the indices of the maximum values of a tensor across a dimension.\n",
    "https://pytorch.org/docs/stable/generated/torch.argmax.html\n",
    "\n",
    "finding the argument that gives the max value across the last dimension, which is 40.  \n",
    "But now what does the 40 represent?  \n",
    "40 categories"
   ]
  },
  {
   "cell_type": "code",
   "execution_count": 11,
   "metadata": {
    "ExecuteTime": {
     "end_time": "2022-08-26T18:53:15.825327Z",
     "start_time": "2022-08-26T18:53:15.821646Z"
    }
   },
   "outputs": [],
   "source": [
    "def reset_params(model):\n",
    "    for layer in model.children():\n",
    "       if hasattr(layer, 'reset_parameters'):\n",
    "           layer.reset_parameters()"
   ]
  },
  {
   "cell_type": "code",
   "execution_count": 12,
   "metadata": {
    "ExecuteTime": {
     "end_time": "2022-08-26T18:56:52.753190Z",
     "start_time": "2022-08-26T18:53:27.311378Z"
    },
    "id": "5phe-4Fur8I4"
   },
   "outputs": [
    {
     "name": "stdout",
     "output_type": "stream",
     "text": [
      "Epoch: 001, Loss: 3.7783, Val: 0.0584, Test: 0.0439\n",
      "Epoch: 002, Loss: 3.6613, Val: 0.0996, Test: 0.0829\n",
      "Epoch: 003, Loss: 3.5622, Val: 0.1129, Test: 0.0964\n",
      "Epoch: 004, Loss: 3.4792, Val: 0.1300, Test: 0.1139\n",
      "Epoch: 005, Loss: 3.4024, Val: 0.1461, Test: 0.1362\n",
      "Epoch: 006, Loss: 3.3375, Val: 0.1948, Test: 0.2375\n",
      "Epoch: 007, Loss: 3.2801, Val: 0.3043, Test: 0.3550\n",
      "Epoch: 008, Loss: 3.2253, Val: 0.4378, Test: 0.5026\n",
      "Epoch: 009, Loss: 3.1780, Val: 0.4898, Test: 0.5446\n",
      "Epoch: 010, Loss: 3.1277, Val: 0.5164, Test: 0.5648\n",
      "Epoch: 011, Loss: 3.0794, Val: 0.5331, Test: 0.5761\n",
      "Epoch: 012, Loss: 3.0312, Val: 0.5444, Test: 0.5816\n",
      "Epoch: 013, Loss: 2.9912, Val: 0.5512, Test: 0.5838\n",
      "Epoch: 014, Loss: 2.9422, Val: 0.5571, Test: 0.5855\n",
      "Epoch: 015, Loss: 2.8944, Val: 0.5639, Test: 0.5878\n",
      "Epoch: 016, Loss: 2.8549, Val: 0.5703, Test: 0.5902\n",
      "Epoch: 017, Loss: 2.8061, Val: 0.5747, Test: 0.5927\n",
      "Epoch: 018, Loss: 2.7633, Val: 0.5800, Test: 0.5961\n",
      "Epoch: 019, Loss: 2.7162, Val: 0.5831, Test: 0.5977\n",
      "Epoch: 020, Loss: 2.6728, Val: 0.5868, Test: 0.5991\n",
      "Epoch: 021, Loss: 2.6358, Val: 0.5915, Test: 0.6020\n",
      "Epoch: 022, Loss: 2.5842, Val: 0.5964, Test: 0.6055\n",
      "Epoch: 023, Loss: 2.5480, Val: 0.6006, Test: 0.6087\n",
      "Epoch: 024, Loss: 2.5043, Val: 0.6037, Test: 0.6118\n",
      "Epoch: 025, Loss: 2.4655, Val: 0.6071, Test: 0.6145\n",
      "Epoch: 026, Loss: 2.4258, Val: 0.6110, Test: 0.6175\n",
      "Epoch: 027, Loss: 2.3783, Val: 0.6143, Test: 0.6206\n",
      "Epoch: 028, Loss: 2.3414, Val: 0.6184, Test: 0.6236\n",
      "Epoch: 029, Loss: 2.2933, Val: 0.6216, Test: 0.6267\n",
      "Epoch: 030, Loss: 2.2566, Val: 0.6246, Test: 0.6298\n",
      "Epoch: 031, Loss: 2.2076, Val: 0.6264, Test: 0.6323\n",
      "Epoch: 032, Loss: 2.1725, Val: 0.6293, Test: 0.6351\n",
      "Epoch: 033, Loss: 2.1405, Val: 0.6318, Test: 0.6380\n",
      "Epoch: 034, Loss: 2.0981, Val: 0.6337, Test: 0.6400\n",
      "Epoch: 035, Loss: 2.0647, Val: 0.6354, Test: 0.6420\n",
      "Epoch: 036, Loss: 2.0266, Val: 0.6373, Test: 0.6447\n",
      "Epoch: 037, Loss: 1.9829, Val: 0.6387, Test: 0.6460\n",
      "Epoch: 038, Loss: 1.9575, Val: 0.6406, Test: 0.6472\n",
      "Epoch: 039, Loss: 1.9220, Val: 0.6425, Test: 0.6487\n",
      "Epoch: 040, Loss: 1.8934, Val: 0.6452, Test: 0.6514\n",
      "Epoch: 041, Loss: 1.8600, Val: 0.6483, Test: 0.6540\n",
      "Epoch: 042, Loss: 1.8278, Val: 0.6516, Test: 0.6567\n",
      "Epoch: 043, Loss: 1.8064, Val: 0.6531, Test: 0.6593\n",
      "Epoch: 044, Loss: 1.7699, Val: 0.6549, Test: 0.6606\n",
      "Epoch: 045, Loss: 1.7555, Val: 0.6571, Test: 0.6618\n",
      "Epoch: 046, Loss: 1.7375, Val: 0.6584, Test: 0.6622\n",
      "Epoch: 047, Loss: 1.7139, Val: 0.6588, Test: 0.6628\n",
      "Epoch: 048, Loss: 1.6898, Val: 0.6599, Test: 0.6638\n",
      "Epoch: 049, Loss: 1.6675, Val: 0.6622, Test: 0.6653\n",
      "Epoch: 050, Loss: 1.6464, Val: 0.6646, Test: 0.6674\n",
      "Epoch: 051, Loss: 1.6385, Val: 0.6680, Test: 0.6702\n",
      "Epoch: 052, Loss: 1.6019, Val: 0.6705, Test: 0.6733\n",
      "Epoch: 053, Loss: 1.5867, Val: 0.6731, Test: 0.6754\n",
      "Epoch: 054, Loss: 1.5716, Val: 0.6740, Test: 0.6756\n",
      "Epoch: 055, Loss: 1.5512, Val: 0.6740, Test: 0.6750\n",
      "Epoch: 056, Loss: 1.5378, Val: 0.6753, Test: 0.6752\n",
      "Epoch: 057, Loss: 1.5150, Val: 0.6757, Test: 0.6756\n",
      "Epoch: 058, Loss: 1.5203, Val: 0.6767, Test: 0.6766\n",
      "Epoch: 059, Loss: 1.4923, Val: 0.6789, Test: 0.6784\n",
      "Epoch: 060, Loss: 1.4772, Val: 0.6812, Test: 0.6824\n",
      "Epoch: 061, Loss: 1.4608, Val: 0.6836, Test: 0.6857\n",
      "Epoch: 062, Loss: 1.4490, Val: 0.6853, Test: 0.6872\n",
      "Epoch: 063, Loss: 1.4429, Val: 0.6858, Test: 0.6881\n",
      "Epoch: 064, Loss: 1.4292, Val: 0.6858, Test: 0.6869\n",
      "Epoch: 065, Loss: 1.4181, Val: 0.6855, Test: 0.6862\n",
      "Epoch: 066, Loss: 1.4105, Val: 0.6859, Test: 0.6865\n",
      "Epoch: 067, Loss: 1.4167, Val: 0.6881, Test: 0.6887\n",
      "Epoch: 068, Loss: 1.3956, Val: 0.6897, Test: 0.6919\n",
      "Epoch: 069, Loss: 1.3894, Val: 0.6918, Test: 0.6940\n",
      "Epoch: 070, Loss: 1.3802, Val: 0.6933, Test: 0.6966\n",
      "Epoch: 071, Loss: 1.3611, Val: 0.6939, Test: 0.6974\n",
      "Epoch: 072, Loss: 1.3575, Val: 0.6943, Test: 0.6981\n",
      "Epoch: 073, Loss: 1.3431, Val: 0.6941, Test: 0.6978\n",
      "Epoch: 074, Loss: 1.3359, Val: 0.6949, Test: 0.6971\n",
      "Epoch: 075, Loss: 1.3390, Val: 0.6949, Test: 0.6956\n",
      "Epoch: 076, Loss: 1.3217, Val: 0.6950, Test: 0.6929\n",
      "Epoch: 077, Loss: 1.3252, Val: 0.6957, Test: 0.6932\n",
      "Epoch: 078, Loss: 1.3058, Val: 0.6960, Test: 0.6945\n",
      "Epoch: 079, Loss: 1.3016, Val: 0.6974, Test: 0.6974\n",
      "Epoch: 080, Loss: 1.3026, Val: 0.6981, Test: 0.6992\n",
      "Epoch: 081, Loss: 1.2894, Val: 0.6986, Test: 0.7004\n",
      "Epoch: 082, Loss: 1.2913, Val: 0.6992, Test: 0.7012\n",
      "Epoch: 083, Loss: 1.2786, Val: 0.6997, Test: 0.7012\n",
      "Epoch: 084, Loss: 1.2647, Val: 0.7000, Test: 0.7014\n",
      "Epoch: 085, Loss: 1.2631, Val: 0.7005, Test: 0.7017\n",
      "Epoch: 086, Loss: 1.2643, Val: 0.7018, Test: 0.7037\n",
      "Epoch: 087, Loss: 1.2614, Val: 0.7023, Test: 0.7066\n",
      "Epoch: 088, Loss: 1.2585, Val: 0.7025, Test: 0.7084\n",
      "Epoch: 089, Loss: 1.2441, Val: 0.7038, Test: 0.7097\n",
      "Epoch: 090, Loss: 1.2493, Val: 0.7041, Test: 0.7086\n",
      "Epoch: 091, Loss: 1.2469, Val: 0.7034, Test: 0.7057\n",
      "Epoch: 092, Loss: 1.2345, Val: 0.7032, Test: 0.7029\n",
      "Epoch: 093, Loss: 1.2362, Val: 0.7037, Test: 0.7033\n",
      "Epoch: 094, Loss: 1.2214, Val: 0.7046, Test: 0.7068\n",
      "Epoch: 095, Loss: 1.2182, Val: 0.7049, Test: 0.7092\n",
      "Epoch: 096, Loss: 1.2373, Val: 0.7057, Test: 0.7102\n",
      "Epoch: 097, Loss: 1.2138, Val: 0.7058, Test: 0.7106\n",
      "Epoch: 098, Loss: 1.2159, Val: 0.7059, Test: 0.7082\n",
      "Epoch: 099, Loss: 1.2150, Val: 0.7045, Test: 0.7045\n",
      "Epoch: 100, Loss: 1.1984, Val: 0.7046, Test: 0.7041\n",
      "Epoch: 101, Loss: 1.1972, Val: 0.7060, Test: 0.7071\n",
      "Epoch: 102, Loss: 1.1956, Val: 0.7082, Test: 0.7128\n",
      "Epoch: 103, Loss: 1.1935, Val: 0.7083, Test: 0.7146\n",
      "Epoch: 104, Loss: 1.1839, Val: 0.7084, Test: 0.7144\n",
      "Epoch: 105, Loss: 1.1932, Val: 0.7079, Test: 0.7116\n",
      "Epoch: 106, Loss: 1.1878, Val: 0.7056, Test: 0.7073\n",
      "Epoch: 107, Loss: 1.1800, Val: 0.7059, Test: 0.7064\n",
      "Epoch: 108, Loss: 1.1823, Val: 0.7072, Test: 0.7089\n",
      "Epoch: 109, Loss: 1.1820, Val: 0.7094, Test: 0.7129\n",
      "Epoch: 110, Loss: 1.1778, Val: 0.7096, Test: 0.7143\n",
      "Epoch: 111, Loss: 1.1670, Val: 0.7101, Test: 0.7144\n",
      "Epoch: 112, Loss: 1.1625, Val: 0.7103, Test: 0.7140\n",
      "Epoch: 113, Loss: 1.1770, Val: 0.7101, Test: 0.7119\n",
      "Epoch: 114, Loss: 1.1490, Val: 0.7089, Test: 0.7100\n",
      "Epoch: 115, Loss: 1.1570, Val: 0.7087, Test: 0.7094\n",
      "Epoch: 116, Loss: 1.1396, Val: 0.7094, Test: 0.7121\n",
      "Epoch: 117, Loss: 1.1458, Val: 0.7106, Test: 0.7152\n",
      "Epoch: 118, Loss: 1.1612, Val: 0.7118, Test: 0.7164\n",
      "Epoch: 119, Loss: 1.1423, Val: 0.7119, Test: 0.7161\n",
      "Epoch: 120, Loss: 1.1517, Val: 0.7120, Test: 0.7142\n",
      "Epoch: 121, Loss: 1.1459, Val: 0.7111, Test: 0.7106\n",
      "Epoch: 122, Loss: 1.1293, Val: 0.7115, Test: 0.7109\n",
      "Epoch: 123, Loss: 1.1442, Val: 0.7120, Test: 0.7138\n",
      "Epoch: 124, Loss: 1.1302, Val: 0.7126, Test: 0.7149\n",
      "Epoch: 125, Loss: 1.1207, Val: 0.7129, Test: 0.7164\n",
      "Epoch: 126, Loss: 1.1248, Val: 0.7132, Test: 0.7154\n",
      "Epoch: 127, Loss: 1.1243, Val: 0.7130, Test: 0.7138\n",
      "Epoch: 128, Loss: 1.1329, Val: 0.7122, Test: 0.7120\n",
      "Epoch: 129, Loss: 1.1247, Val: 0.7127, Test: 0.7133\n",
      "Epoch: 130, Loss: 1.1188, Val: 0.7129, Test: 0.7165\n",
      "Epoch: 131, Loss: 1.1161, Val: 0.7123, Test: 0.7172\n",
      "Epoch: 132, Loss: 1.1147, Val: 0.7131, Test: 0.7160\n",
      "Epoch: 133, Loss: 1.0989, Val: 0.7136, Test: 0.7137\n",
      "Epoch: 134, Loss: 1.1016, Val: 0.7126, Test: 0.7119\n",
      "Epoch: 135, Loss: 1.1112, Val: 0.7137, Test: 0.7132\n",
      "Epoch: 136, Loss: 1.1090, Val: 0.7147, Test: 0.7184\n",
      "Epoch: 137, Loss: 1.0991, Val: 0.7159, Test: 0.7205\n",
      "Epoch: 138, Loss: 1.0955, Val: 0.7162, Test: 0.7211\n",
      "Epoch: 139, Loss: 1.0890, Val: 0.7158, Test: 0.7207\n",
      "Epoch: 140, Loss: 1.0986, Val: 0.7159, Test: 0.7179\n",
      "Epoch: 141, Loss: 1.0952, Val: 0.7151, Test: 0.7156\n",
      "Epoch: 142, Loss: 1.0844, Val: 0.7166, Test: 0.7174\n",
      "Epoch: 143, Loss: 1.0705, Val: 0.7170, Test: 0.7193\n",
      "Epoch: 144, Loss: 1.0828, Val: 0.7179, Test: 0.7198\n",
      "Epoch: 145, Loss: 1.0893, Val: 0.7176, Test: 0.7179\n",
      "Epoch: 146, Loss: 1.0765, Val: 0.7169, Test: 0.7165\n",
      "Epoch: 147, Loss: 1.0859, Val: 0.7157, Test: 0.7144\n",
      "Epoch: 148, Loss: 1.0770, Val: 0.7163, Test: 0.7154\n",
      "Epoch: 149, Loss: 1.0860, Val: 0.7175, Test: 0.7172\n",
      "Epoch: 150, Loss: 1.0727, Val: 0.7180, Test: 0.7190\n",
      "Epoch: 151, Loss: 1.0781, Val: 0.7183, Test: 0.7192\n",
      "Epoch: 152, Loss: 1.0694, Val: 0.7176, Test: 0.7170\n",
      "Epoch: 153, Loss: 1.0696, Val: 0.7165, Test: 0.7144\n",
      "Epoch: 154, Loss: 1.0696, Val: 0.7161, Test: 0.7134\n",
      "Epoch: 155, Loss: 1.0771, Val: 0.7169, Test: 0.7161\n",
      "Epoch: 156, Loss: 1.0708, Val: 0.7175, Test: 0.7179\n",
      "Epoch: 157, Loss: 1.0661, Val: 0.7187, Test: 0.7207\n",
      "Epoch: 158, Loss: 1.0616, Val: 0.7195, Test: 0.7218\n",
      "Epoch: 159, Loss: 1.0671, Val: 0.7190, Test: 0.7191\n",
      "Epoch: 160, Loss: 1.0551, Val: 0.7179, Test: 0.7162\n",
      "Epoch: 161, Loss: 1.0565, Val: 0.7181, Test: 0.7165\n",
      "Epoch: 162, Loss: 1.0488, Val: 0.7186, Test: 0.7178\n",
      "Epoch: 163, Loss: 1.0576, Val: 0.7181, Test: 0.7169\n",
      "Epoch: 164, Loss: 1.0465, Val: 0.7182, Test: 0.7180\n",
      "Epoch: 165, Loss: 1.0393, Val: 0.7188, Test: 0.7195\n",
      "Epoch: 166, Loss: 1.0325, Val: 0.7193, Test: 0.7211\n",
      "Epoch: 167, Loss: 1.0495, Val: 0.7205, Test: 0.7226\n",
      "Epoch: 168, Loss: 1.0441, Val: 0.7198, Test: 0.7219\n",
      "Epoch: 169, Loss: 1.0530, Val: 0.7201, Test: 0.7201\n",
      "Epoch: 170, Loss: 1.0432, Val: 0.7198, Test: 0.7205\n",
      "Epoch: 171, Loss: 1.0416, Val: 0.7211, Test: 0.7220\n",
      "Epoch: 172, Loss: 1.0328, Val: 0.7215, Test: 0.7241\n",
      "Epoch: 173, Loss: 1.0260, Val: 0.7206, Test: 0.7252\n",
      "Epoch: 174, Loss: 1.0353, Val: 0.7209, Test: 0.7232\n",
      "Epoch: 175, Loss: 1.0339, Val: 0.7199, Test: 0.7212\n",
      "Epoch: 176, Loss: 1.0300, Val: 0.7185, Test: 0.7190\n",
      "Epoch: 177, Loss: 1.0153, Val: 0.7211, Test: 0.7224\n",
      "Epoch: 178, Loss: 1.0280, Val: 0.7220, Test: 0.7248\n",
      "Epoch: 179, Loss: 1.0218, Val: 0.7223, Test: 0.7255\n",
      "Epoch: 180, Loss: 1.0383, Val: 0.7221, Test: 0.7239\n",
      "Epoch: 181, Loss: 1.0175, Val: 0.7204, Test: 0.7194\n",
      "Epoch: 182, Loss: 1.0185, Val: 0.7198, Test: 0.7172\n",
      "Epoch: 183, Loss: 1.0257, Val: 0.7198, Test: 0.7186\n",
      "Epoch: 184, Loss: 1.0174, Val: 0.7218, Test: 0.7209\n",
      "Epoch: 185, Loss: 1.0180, Val: 0.7215, Test: 0.7220\n",
      "Epoch: 186, Loss: 1.0266, Val: 0.7219, Test: 0.7205\n",
      "Epoch: 187, Loss: 1.0094, Val: 0.7223, Test: 0.7219\n",
      "Epoch: 188, Loss: 1.0031, Val: 0.7228, Test: 0.7220\n",
      "Epoch: 189, Loss: 1.0106, Val: 0.7228, Test: 0.7231\n",
      "Epoch: 190, Loss: 0.9971, Val: 0.7221, Test: 0.7225\n",
      "Epoch: 191, Loss: 1.0008, Val: 0.7215, Test: 0.7212\n",
      "Epoch: 192, Loss: 1.0043, Val: 0.7214, Test: 0.7211\n",
      "Epoch: 193, Loss: 0.9995, Val: 0.7207, Test: 0.7230\n",
      "Epoch: 194, Loss: 1.0078, Val: 0.7221, Test: 0.7249\n",
      "Epoch: 195, Loss: 1.0102, Val: 0.7225, Test: 0.7256\n",
      "Epoch: 196, Loss: 0.9958, Val: 0.7229, Test: 0.7246\n",
      "Epoch: 197, Loss: 0.9955, Val: 0.7223, Test: 0.7231\n",
      "Epoch: 198, Loss: 1.0018, Val: 0.7226, Test: 0.7214\n",
      "Epoch: 199, Loss: 1.0047, Val: 0.7226, Test: 0.7223\n",
      "Epoch: 200, Loss: 1.0015, Val: 0.7229, Test: 0.7238\n",
      "Epoch: 201, Loss: 0.9961, Val: 0.7226, Test: 0.7246\n",
      "Epoch: 202, Loss: 0.9949, Val: 0.7224, Test: 0.7218\n",
      "Epoch: 203, Loss: 0.9829, Val: 0.7226, Test: 0.7216\n",
      "Epoch: 204, Loss: 0.9876, Val: 0.7232, Test: 0.7244\n",
      "Epoch: 205, Loss: 0.9927, Val: 0.7236, Test: 0.7258\n",
      "Epoch: 206, Loss: 0.9942, Val: 0.7224, Test: 0.7229\n",
      "Epoch: 207, Loss: 0.9832, Val: 0.7202, Test: 0.7194\n",
      "Epoch: 208, Loss: 0.9930, Val: 0.7206, Test: 0.7202\n",
      "Epoch: 209, Loss: 0.9743, Val: 0.7230, Test: 0.7235\n",
      "Epoch: 210, Loss: 0.9820, Val: 0.7237, Test: 0.7265\n",
      "Epoch: 211, Loss: 0.9779, Val: 0.7233, Test: 0.7247\n",
      "Epoch: 212, Loss: 0.9780, Val: 0.7230, Test: 0.7209\n",
      "Epoch: 213, Loss: 0.9727, Val: 0.7225, Test: 0.7208\n",
      "Epoch: 214, Loss: 0.9623, Val: 0.7234, Test: 0.7230\n",
      "Epoch: 215, Loss: 0.9779, Val: 0.7240, Test: 0.7238\n",
      "Epoch: 216, Loss: 0.9767, Val: 0.7222, Test: 0.7229\n",
      "Epoch: 217, Loss: 0.9732, Val: 0.7219, Test: 0.7211\n",
      "Epoch: 218, Loss: 0.9806, Val: 0.7234, Test: 0.7225\n",
      "Epoch: 219, Loss: 0.9687, Val: 0.7239, Test: 0.7247\n",
      "Epoch: 220, Loss: 0.9666, Val: 0.7240, Test: 0.7248\n",
      "Epoch: 221, Loss: 0.9627, Val: 0.7232, Test: 0.7233\n",
      "Epoch: 222, Loss: 0.9740, Val: 0.7231, Test: 0.7226\n",
      "Epoch: 223, Loss: 0.9694, Val: 0.7239, Test: 0.7243\n",
      "Epoch: 224, Loss: 0.9724, Val: 0.7235, Test: 0.7231\n",
      "Epoch: 225, Loss: 0.9690, Val: 0.7223, Test: 0.7205\n",
      "Epoch: 226, Loss: 0.9520, Val: 0.7225, Test: 0.7211\n",
      "Epoch: 227, Loss: 0.9738, Val: 0.7244, Test: 0.7246\n",
      "Epoch: 228, Loss: 0.9635, Val: 0.7251, Test: 0.7271\n",
      "Epoch: 229, Loss: 0.9708, Val: 0.7248, Test: 0.7255\n",
      "Epoch: 230, Loss: 0.9636, Val: 0.7233, Test: 0.7217\n",
      "Epoch: 231, Loss: 0.9621, Val: 0.7228, Test: 0.7195\n",
      "Epoch: 232, Loss: 0.9519, Val: 0.7237, Test: 0.7221\n",
      "Epoch: 233, Loss: 0.9645, Val: 0.7251, Test: 0.7252\n",
      "Epoch: 234, Loss: 0.9615, Val: 0.7254, Test: 0.7250\n",
      "Epoch: 235, Loss: 0.9400, Val: 0.7237, Test: 0.7213\n",
      "Epoch: 236, Loss: 0.9597, Val: 0.7218, Test: 0.7168\n",
      "Epoch: 237, Loss: 0.9621, Val: 0.7236, Test: 0.7204\n",
      "Epoch: 238, Loss: 0.9626, Val: 0.7248, Test: 0.7240\n",
      "Epoch: 239, Loss: 0.9576, Val: 0.7254, Test: 0.7251\n",
      "Epoch: 240, Loss: 0.9501, Val: 0.7260, Test: 0.7253\n",
      "Epoch: 241, Loss: 0.9516, Val: 0.7238, Test: 0.7222\n",
      "Epoch: 242, Loss: 0.9487, Val: 0.7244, Test: 0.7221\n",
      "Epoch: 243, Loss: 0.9459, Val: 0.7259, Test: 0.7244\n",
      "Epoch: 244, Loss: 0.9582, Val: 0.7266, Test: 0.7258\n",
      "Epoch: 245, Loss: 0.9475, Val: 0.7258, Test: 0.7244\n",
      "Epoch: 246, Loss: 0.9459, Val: 0.7234, Test: 0.7212\n",
      "Epoch: 247, Loss: 0.9325, Val: 0.7244, Test: 0.7233\n",
      "Epoch: 248, Loss: 0.9366, Val: 0.7262, Test: 0.7270\n",
      "Epoch: 249, Loss: 0.9504, Val: 0.7254, Test: 0.7273\n",
      "Epoch: 250, Loss: 0.9402, Val: 0.7252, Test: 0.7248\n",
      "Epoch: 251, Loss: 0.9518, Val: 0.7252, Test: 0.7239\n",
      "Epoch: 252, Loss: 0.9467, Val: 0.7258, Test: 0.7240\n",
      "Epoch: 253, Loss: 0.9511, Val: 0.7245, Test: 0.7226\n",
      "Epoch: 254, Loss: 0.9442, Val: 0.7250, Test: 0.7237\n",
      "Epoch: 255, Loss: 0.9390, Val: 0.7264, Test: 0.7257\n",
      "Epoch: 256, Loss: 0.9302, Val: 0.7259, Test: 0.7271\n",
      "Epoch: 257, Loss: 0.9442, Val: 0.7247, Test: 0.7241\n",
      "Epoch: 258, Loss: 0.9469, Val: 0.7252, Test: 0.7243\n",
      "Epoch: 259, Loss: 0.9344, Val: 0.7253, Test: 0.7262\n",
      "Epoch: 260, Loss: 0.9476, Val: 0.7258, Test: 0.7260\n",
      "Epoch: 261, Loss: 0.9434, Val: 0.7263, Test: 0.7260\n",
      "Epoch: 262, Loss: 0.9367, Val: 0.7258, Test: 0.7229\n",
      "Epoch: 263, Loss: 0.9292, Val: 0.7234, Test: 0.7207\n",
      "Epoch: 264, Loss: 0.9290, Val: 0.7252, Test: 0.7231\n",
      "Epoch: 265, Loss: 0.9370, Val: 0.7264, Test: 0.7271\n",
      "Epoch: 266, Loss: 0.9358, Val: 0.7267, Test: 0.7279\n",
      "Epoch: 267, Loss: 0.9316, Val: 0.7259, Test: 0.7242\n",
      "Epoch: 268, Loss: 0.9423, Val: 0.7235, Test: 0.7204\n",
      "Epoch: 269, Loss: 0.9327, Val: 0.7258, Test: 0.7241\n",
      "Epoch: 270, Loss: 0.9363, Val: 0.7266, Test: 0.7288\n",
      "Epoch: 271, Loss: 0.9290, Val: 0.7266, Test: 0.7286\n",
      "Epoch: 272, Loss: 0.9238, Val: 0.7255, Test: 0.7254\n",
      "Epoch: 273, Loss: 0.9308, Val: 0.7235, Test: 0.7221\n",
      "Epoch: 274, Loss: 0.9216, Val: 0.7251, Test: 0.7233\n",
      "Epoch: 275, Loss: 0.9370, Val: 0.7262, Test: 0.7264\n",
      "Epoch: 276, Loss: 0.9274, Val: 0.7271, Test: 0.7276\n",
      "Epoch: 277, Loss: 0.9401, Val: 0.7271, Test: 0.7261\n",
      "Epoch: 278, Loss: 0.9229, Val: 0.7270, Test: 0.7258\n",
      "Epoch: 279, Loss: 0.9136, Val: 0.7273, Test: 0.7268\n",
      "Epoch: 280, Loss: 0.9295, Val: 0.7267, Test: 0.7259\n",
      "Epoch: 281, Loss: 0.9291, Val: 0.7245, Test: 0.7230\n",
      "Epoch: 282, Loss: 0.9226, Val: 0.7259, Test: 0.7235\n",
      "Epoch: 283, Loss: 0.9244, Val: 0.7278, Test: 0.7260\n",
      "Epoch: 284, Loss: 0.9191, Val: 0.7267, Test: 0.7258\n",
      "Epoch: 285, Loss: 0.9216, Val: 0.7271, Test: 0.7266\n",
      "Epoch: 286, Loss: 0.9112, Val: 0.7266, Test: 0.7270\n",
      "Epoch: 287, Loss: 0.9227, Val: 0.7265, Test: 0.7261\n",
      "Epoch: 288, Loss: 0.9095, Val: 0.7266, Test: 0.7260\n",
      "Epoch: 289, Loss: 0.9118, Val: 0.7261, Test: 0.7252\n",
      "Epoch: 290, Loss: 0.9204, Val: 0.7255, Test: 0.7244\n",
      "Epoch: 291, Loss: 0.9128, Val: 0.7250, Test: 0.7235\n",
      "Epoch: 292, Loss: 0.9114, Val: 0.7255, Test: 0.7257\n",
      "Epoch: 293, Loss: 0.9162, Val: 0.7266, Test: 0.7251\n",
      "Epoch: 294, Loss: 0.9147, Val: 0.7258, Test: 0.7222\n",
      "Epoch: 295, Loss: 0.9109, Val: 0.7254, Test: 0.7223\n",
      "Epoch: 296, Loss: 0.9099, Val: 0.7271, Test: 0.7259\n",
      "Epoch: 297, Loss: 0.9119, Val: 0.7267, Test: 0.7277\n",
      "Epoch: 298, Loss: 0.9192, Val: 0.7249, Test: 0.7237\n",
      "Epoch: 299, Loss: 0.9151, Val: 0.7246, Test: 0.7230\n",
      "Epoch: 300, Loss: 0.9090, Val: 0.7257, Test: 0.7241\n"
     ]
    }
   ],
   "source": [
    "reset_params(model)\n",
    "\n",
    "label_rate = 0.65\n",
    "num_epochs = 300\n",
    "loss_lst, val_acc_lst, test_acc_lst = [], [], []\n",
    "\n",
    "for epoch in range(1, num_epochs+1):\n",
    "    loss = train(label_rate = label_rate)\n",
    "    val_acc, test_acc = test()\n",
    "    print(f'Epoch: {epoch:03d}, Loss: {loss:.4f}, Val: {val_acc:.4f}, '\n",
    "          f'Test: {test_acc:.4f}')\n",
    "    loss_lst.append(loss)\n",
    "    val_acc_lst.append(val_acc)\n",
    "    test_acc_lst.append(test_acc)"
   ]
  },
  {
   "cell_type": "code",
   "execution_count": 13,
   "metadata": {
    "ExecuteTime": {
     "end_time": "2022-08-26T18:57:55.837518Z",
     "start_time": "2022-08-26T18:57:55.146636Z"
    }
   },
   "outputs": [],
   "source": [
    "# To plot pretty figures\n",
    "%matplotlib inline\n",
    "import matplotlib as mpl\n",
    "import matplotlib.pyplot as plt\n",
    "mpl.rc('axes', labelsize=14)\n",
    "mpl.rc('xtick', labelsize=12)\n",
    "mpl.rc('ytick', labelsize=12)"
   ]
  },
  {
   "cell_type": "code",
   "execution_count": 14,
   "metadata": {
    "ExecuteTime": {
     "end_time": "2022-08-26T18:57:56.024743Z",
     "start_time": "2022-08-26T18:57:55.839674Z"
    }
   },
   "outputs": [
    {
     "data": {
      "image/png": "[encoded data removed]",
      "text/plain": [
       "<Figure size 432x288 with 1 Axes>"
      ]
     },
     "metadata": {
      "needs_background": "light"
     },
     "output_type": "display_data"
    }
   ],
   "source": [
    "marker_size = 1\n",
    "plt.plot(loss_lst, \"r.\", markersize=marker_size, label=\"loss\")\n",
    "plt.plot(val_acc_lst, \"b.\", markersize=marker_size, label=\"val acc\")\n",
    "plt.plot(test_acc_lst, \"g.\",markersize=marker_size, label=\"test acc\")\n",
    "plt.xlabel(\"Epochs\", fontsize=18)\n",
    "# plt.ylabel(\"value of params\", rotation=90, fontsize=18)\n",
    "plt.legend(loc=\"best\", fontsize=10)\n",
    "# plt.xlim([200, 500])\n",
    "plt.show()"
   ]
  },
  {
   "cell_type": "code",
   "execution_count": 15,
   "metadata": {
    "ExecuteTime": {
     "end_time": "2022-08-26T18:57:56.170050Z",
     "start_time": "2022-08-26T18:57:56.026445Z"
    }
   },
   "outputs": [
    {
     "data": {
      "image/png": "[encoded data removed]",
      "text/plain": [
       "<Figure size 432x288 with 1 Axes>"
      ]
     },
     "metadata": {
      "needs_background": "light"
     },
     "output_type": "display_data"
    }
   ],
   "source": [
    "marker_size = 1\n",
    "plt.plot(val_acc_lst, \"b.\", markersize=marker_size, label=\"val acc\")\n",
    "plt.plot(test_acc_lst, \"g.\",markersize=marker_size, label=\"test acc\")\n",
    "plt.xlabel(\"Epochs\", fontsize=18)\n",
    "# plt.ylabel(\"value of params\", rotation=90, fontsize=18)\n",
    "plt.legend(loc=\"best\", fontsize=10)\n",
    "# plt.xlim([200, 500])\n",
    "plt.show()"
   ]
  },
  {
   "cell_type": "code",
   "execution_count": 16,
   "metadata": {
    "ExecuteTime": {
     "end_time": "2022-08-26T18:57:56.177320Z",
     "start_time": "2022-08-26T18:57:56.171797Z"
    }
   },
   "outputs": [
    {
     "name": "stdout",
     "output_type": "stream",
     "text": [
      "best val epoch: tensor(282)\n",
      "best test epoch: tensor(269)\n",
      "best val acc: tensor(0.7278)\n",
      "best test acc: tensor(0.7288)\n"
     ]
    }
   ],
   "source": [
    "print(\"best val epoch:\", torch.Tensor(val_acc_lst).argmax())\n",
    "print(\"best test epoch:\", torch.Tensor(test_acc_lst).argmax())\n",
    "print(\"best val acc:\", torch.Tensor(val_acc_lst).max())\n",
    "print(\"best test acc:\", torch.Tensor(test_acc_lst).max())"
   ]
  },
  {
   "cell_type": "markdown",
   "metadata": {},
   "source": [
    "# Optimize label_rate"
   ]
  },
  {
   "cell_type": "code",
   "execution_count": 17,
   "metadata": {
    "ExecuteTime": {
     "end_time": "2022-08-26T18:57:56.182261Z",
     "start_time": "2022-08-26T18:57:56.179525Z"
    }
   },
   "outputs": [],
   "source": [
    "import numpy as np\n",
    "label_rate_arr = np.linspace(0.0, 1.0, num=21)"
   ]
  },
  {
   "cell_type": "code",
   "execution_count": 18,
   "metadata": {
    "ExecuteTime": {
     "end_time": "2022-08-26T18:57:56.188026Z",
     "start_time": "2022-08-26T18:57:56.183847Z"
    }
   },
   "outputs": [],
   "source": [
    "def optimization_loop(label_rate):\n",
    "    reset_params(model)\n",
    "    num_epochs = 300\n",
    "    loss_lst, val_acc_lst, test_acc_lst = [], [], []\n",
    "\n",
    "    print(f'Label_rate: {label_rate}')\n",
    "    for epoch in range(1, num_epochs+1):\n",
    "        loss = train(label_rate = label_rate)\n",
    "        val_acc, test_acc = test()\n",
    "        print(f'Epoch: {epoch:03d}, Loss: {loss:.4f}, Val: {val_acc:.4f}, '\n",
    "              f'Test: {test_acc:.4f}')\n",
    "        loss_lst.append(loss)\n",
    "        val_acc_lst.append(val_acc)\n",
    "        test_acc_lst.append(test_acc)\n",
    "    return loss_lst, val_acc_lst, test_acc_lst"
   ]
  },
  {
   "cell_type": "code",
   "execution_count": 19,
   "metadata": {
    "ExecuteTime": {
     "end_time": "2022-08-26T18:58:10.421474Z",
     "start_time": "2022-08-26T18:57:56.189564Z"
    }
   },
   "outputs": [
    {
     "name": "stdout",
     "output_type": "stream",
     "text": [
      "0.0\n",
      "Label_rate: 0.0\n",
      "Epoch: 001, Loss: 1.3113, Val: 0.2438, Test: 0.1492\n",
      "Epoch: 002, Loss: 1.3241, Val: 0.2090, Test: 0.1189\n",
      "Epoch: 003, Loss: 1.3552, Val: 0.2122, Test: 0.1270\n",
      "Epoch: 004, Loss: 1.3666, Val: 0.1934, Test: 0.1132\n",
      "Epoch: 005, Loss: 1.3224, Val: 0.1821, Test: 0.1037\n",
      "Epoch: 006, Loss: 1.3038, Val: 0.1922, Test: 0.1097\n",
      "Epoch: 007, Loss: 1.2709, Val: 0.1981, Test: 0.1147\n",
      "Epoch: 008, Loss: 1.2947, Val: 0.1796, Test: 0.1054\n",
      "Epoch: 009, Loss: 1.2638, Val: 0.1694, Test: 0.0991\n",
      "Epoch: 010, Loss: 1.2450, Val: 0.1664, Test: 0.0945\n",
      "Epoch: 011, Loss: 1.2494, Val: 0.1697, Test: 0.0944\n",
      "Epoch: 012, Loss: 1.2292, Val: 0.1717, Test: 0.0966\n",
      "Epoch: 013, Loss: 1.2283, Val: 0.1682, Test: 0.0974\n",
      "Epoch: 014, Loss: 1.2211, Val: 0.1653, Test: 0.0957\n",
      "Epoch: 015, Loss: 1.2110, Val: 0.1642, Test: 0.0957\n",
      "Epoch: 016, Loss: 1.2031, Val: 0.1649, Test: 0.0959\n",
      "Epoch: 017, Loss: 1.1922, Val: 0.1668, Test: 0.0949\n",
      "Epoch: 018, Loss: 1.1925, Val: 0.1648, Test: 0.0936\n",
      "Epoch: 019, Loss: 1.1899, Val: 0.1605, Test: 0.0920\n",
      "Epoch: 020, Loss: 1.1797, Val: 0.1579, Test: 0.0921\n",
      "Epoch: 021, Loss: 1.1752, Val: 0.1596, Test: 0.0931\n"
     ]
    },
    {
     "ename": "KeyboardInterrupt",
     "evalue": "",
     "output_type": "error",
     "traceback": [
      "\u001b[0;31m---------------------------------------------------------------------------\u001b[0m",
      "\u001b[0;31mKeyboardInterrupt\u001b[0m                         Traceback (most recent call last)",
      "Input \u001b[0;32mIn [19]\u001b[0m, in \u001b[0;36m<cell line: 2>\u001b[0;34m()\u001b[0m\n\u001b[1;32m      2\u001b[0m \u001b[38;5;28;01mfor\u001b[39;00m lr \u001b[38;5;129;01min\u001b[39;00m label_rate_arr:\n\u001b[1;32m      3\u001b[0m     \u001b[38;5;28mprint\u001b[39m(lr)\n\u001b[0;32m----> 4\u001b[0m     lost_lst, val_acc_lst, test_acc_lst \u001b[38;5;241m=\u001b[39m \u001b[43moptimization_loop\u001b[49m\u001b[43m(\u001b[49m\u001b[43mlr\u001b[49m\u001b[43m)\u001b[49m\n\u001b[1;32m      6\u001b[0m     best_val_epoch_lst\u001b[38;5;241m.\u001b[39mappend(torch\u001b[38;5;241m.\u001b[39mTensor(val_acc_lst)\u001b[38;5;241m.\u001b[39margmax())\n\u001b[1;32m      7\u001b[0m     best_val_acc_lst\u001b[38;5;241m.\u001b[39mappend(torch\u001b[38;5;241m.\u001b[39mTensor(val_acc_lst)\u001b[38;5;241m.\u001b[39mmax())\n",
      "Input \u001b[0;32mIn [18]\u001b[0m, in \u001b[0;36moptimization_loop\u001b[0;34m(label_rate)\u001b[0m\n\u001b[1;32m      6\u001b[0m \u001b[38;5;28mprint\u001b[39m(\u001b[38;5;124mf\u001b[39m\u001b[38;5;124m'\u001b[39m\u001b[38;5;124mLabel_rate: \u001b[39m\u001b[38;5;132;01m{\u001b[39;00mlabel_rate\u001b[38;5;132;01m}\u001b[39;00m\u001b[38;5;124m'\u001b[39m)\n\u001b[1;32m      7\u001b[0m \u001b[38;5;28;01mfor\u001b[39;00m epoch \u001b[38;5;129;01min\u001b[39;00m \u001b[38;5;28mrange\u001b[39m(\u001b[38;5;241m1\u001b[39m, num_epochs\u001b[38;5;241m+\u001b[39m\u001b[38;5;241m1\u001b[39m):\n\u001b[0;32m----> 8\u001b[0m     loss \u001b[38;5;241m=\u001b[39m \u001b[43mtrain\u001b[49m\u001b[43m(\u001b[49m\u001b[43mlabel_rate\u001b[49m\u001b[43m \u001b[49m\u001b[38;5;241;43m=\u001b[39;49m\u001b[43m \u001b[49m\u001b[43mlabel_rate\u001b[49m\u001b[43m)\u001b[49m\n\u001b[1;32m      9\u001b[0m     val_acc, test_acc \u001b[38;5;241m=\u001b[39m test()\n\u001b[1;32m     10\u001b[0m     \u001b[38;5;28mprint\u001b[39m(\u001b[38;5;124mf\u001b[39m\u001b[38;5;124m'\u001b[39m\u001b[38;5;124mEpoch: \u001b[39m\u001b[38;5;132;01m{\u001b[39;00mepoch\u001b[38;5;132;01m:\u001b[39;00m\u001b[38;5;124m03d\u001b[39m\u001b[38;5;132;01m}\u001b[39;00m\u001b[38;5;124m, Loss: \u001b[39m\u001b[38;5;132;01m{\u001b[39;00mloss\u001b[38;5;132;01m:\u001b[39;00m\u001b[38;5;124m.4f\u001b[39m\u001b[38;5;132;01m}\u001b[39;00m\u001b[38;5;124m, Val: \u001b[39m\u001b[38;5;132;01m{\u001b[39;00mval_acc\u001b[38;5;132;01m:\u001b[39;00m\u001b[38;5;124m.4f\u001b[39m\u001b[38;5;132;01m}\u001b[39;00m\u001b[38;5;124m, \u001b[39m\u001b[38;5;124m'\u001b[39m\n\u001b[1;32m     11\u001b[0m           \u001b[38;5;124mf\u001b[39m\u001b[38;5;124m'\u001b[39m\u001b[38;5;124mTest: \u001b[39m\u001b[38;5;132;01m{\u001b[39;00mtest_acc\u001b[38;5;132;01m:\u001b[39;00m\u001b[38;5;124m.4f\u001b[39m\u001b[38;5;132;01m}\u001b[39;00m\u001b[38;5;124m'\u001b[39m)\n",
      "Input \u001b[0;32mIn [10]\u001b[0m, in \u001b[0;36mtrain\u001b[0;34m(label_rate)\u001b[0m\n\u001b[1;32m     15\u001b[0m loss\u001b[38;5;241m.\u001b[39mbackward()\n\u001b[1;32m     16\u001b[0m optimizer\u001b[38;5;241m.\u001b[39mstep()\n\u001b[0;32m---> 18\u001b[0m \u001b[38;5;28;01mreturn\u001b[39;00m \u001b[38;5;28;43mfloat\u001b[39;49m\u001b[43m(\u001b[49m\u001b[43mloss\u001b[49m\u001b[43m)\u001b[49m\n",
      "\u001b[0;31mKeyboardInterrupt\u001b[0m: "
     ]
    }
   ],
   "source": [
    "best_val_acc_lst, best_val_epoch_lst, best_test_acc_lst, best_test_epoch_lst = [], [], [], []\n",
    "for lr in label_rate_arr:\n",
    "    print(lr)\n",
    "    lost_lst, val_acc_lst, test_acc_lst = optimization_loop(lr)\n",
    "    \n",
    "    best_val_epoch_lst.append(torch.Tensor(val_acc_lst).argmax())\n",
    "    best_val_acc_lst.append(torch.Tensor(val_acc_lst).max())\n",
    "    best_test_epoch_lst.append(torch.Tensor(test_acc_lst).argmax())\n",
    "    best_test_acc_lst.append(torch.Tensor(test_acc_lst).max())"
   ]
  },
  {
   "cell_type": "code",
   "execution_count": null,
   "metadata": {
    "ExecuteTime": {
     "end_time": "2022-08-26T18:58:10.423350Z",
     "start_time": "2022-08-26T18:58:10.423332Z"
    }
   },
   "outputs": [],
   "source": [
    "\n",
    "\n",
    "marker_size = 3\n",
    "fig, axs = plt.subplots(2, 2)\n",
    "axs[0, 0].plot(best_val_epoch_lst, \"b.\", markersize=marker_size)\n",
    "axs[0, 0].set_title(\"best val epoch\")\n",
    "\n",
    "\n",
    "axs[0, 1].plot(best_val_acc_lst, \"b.\",markersize=marker_size)\n",
    "axs[0, 1].set_title(\"best val acc\")\n",
    "\n",
    "axs[1, 0].plot(best_test_epoch_lst, \"b.\",markersize=marker_size)\n",
    "axs[1, 0].set_title(\"best test epoch\")\n",
    "\n",
    "axs[1, 1].plot(best_test_acc_lst, \"b.\",markersize=marker_size)\n",
    "axs[1, 1].set_title(\"best test acc\")\n",
    "\n",
    "plt.show()"
   ]
  },
  {
   "cell_type": "markdown",
   "metadata": {},
   "source": [
    "## Try to plot the ROC curve\n",
    "y-axis: true positive rate = test_acc  \n",
    "x-axis: false positive rate"
   ]
  },
  {
   "cell_type": "code",
   "execution_count": 20,
   "metadata": {
    "ExecuteTime": {
     "end_time": "2022-08-26T18:58:23.380698Z",
     "start_time": "2022-08-26T18:58:23.276492Z"
    }
   },
   "outputs": [],
   "source": [
    "import pandas as pd\n",
    "import numpy as np\n",
    "import matplotlib.pyplot as plt\n",
    "import seaborn as sns\n",
    "from scipy import stats\n",
    "\n",
    "from sklearn.model_selection import train_test_split\n",
    "from sklearn.metrics import confusion_matrix\n",
    "from sklearn.metrics import roc_auc_score\n",
    "from sklearn.ensemble import RandomForestClassifier"
   ]
  },
  {
   "cell_type": "code",
   "execution_count": 21,
   "metadata": {
    "ExecuteTime": {
     "end_time": "2022-08-26T18:58:23.387555Z",
     "start_time": "2022-08-26T18:58:23.382955Z"
    }
   },
   "outputs": [],
   "source": [
    "def calculate_tpr_fpr(y_real, y_pred):\n",
    "    '''\n",
    "    Calculates the True Positive Rate (tpr) and the True Negative Rate (fpr) based on real and predicted observations\n",
    "    \n",
    "    Args:\n",
    "        y_real: The list or series with the real classes\n",
    "        y_pred: The list or series with the predicted classes\n",
    "        \n",
    "    Returns:\n",
    "        tpr: The True Positive Rate of the classifier\n",
    "        fpr: The False Positive Rate of the classifier\n",
    "    '''\n",
    "    \n",
    "    # Calculates the confusion matrix and recover each element\n",
    "    cm = confusion_matrix(y_real, y_pred)\n",
    "    TN = cm[0, 0]\n",
    "    FP = cm[0, 1]\n",
    "    FN = cm[1, 0]\n",
    "    TP = cm[1, 1]\n",
    "    \n",
    "    # Calculates tpr and fpr\n",
    "    tpr =  TP/(TP + FN) # sensitivity - true positive rate\n",
    "    fpr = 1 - TN/(TN+FP) # 1-specificity - false positive rate\n",
    "    \n",
    "    return tpr, fpr"
   ]
  },
  {
   "cell_type": "code",
   "execution_count": 22,
   "metadata": {
    "ExecuteTime": {
     "end_time": "2022-08-26T18:58:23.393442Z",
     "start_time": "2022-08-26T18:58:23.389323Z"
    }
   },
   "outputs": [],
   "source": [
    "def get_all_roc_coordinates(y_real, y_proba):\n",
    "    '''\n",
    "    Calculates all the ROC Curve coordinates (tpr and fpr) by considering each point as a threshold for the predicion of the class.\n",
    "    \n",
    "    Args:\n",
    "        y_real: The list or series with the real classes.\n",
    "        y_proba: The array with the probabilities for each class, obtained by using the `.predict_proba()` method.\n",
    "        \n",
    "    Returns:\n",
    "        tpr_list: The list of TPRs representing each threshold.\n",
    "        fpr_list: The list of FPRs representing each threshold.\n",
    "    '''\n",
    "    tpr_list = [0]\n",
    "    fpr_list = [0]\n",
    "    resolution = 50\n",
    "    \n",
    "    for i in range(resolution):\n",
    "        threshold = i / resolution\n",
    "#         threshold = y_proba[i]\n",
    "        y_pred = y_proba >= threshold\n",
    "        tpr, fpr = calculate_tpr_fpr(y_real, y_pred)\n",
    "        tpr_list.append(tpr)\n",
    "        fpr_list.append(fpr)\n",
    "        \n",
    "    return tpr_list, fpr_list"
   ]
  },
  {
   "cell_type": "code",
   "execution_count": 23,
   "metadata": {
    "ExecuteTime": {
     "end_time": "2022-08-26T18:58:23.400364Z",
     "start_time": "2022-08-26T18:58:23.395486Z"
    }
   },
   "outputs": [],
   "source": [
    "def plot_roc_curve(tpr, fpr, scatter = True, ax = None):\n",
    "    '''\n",
    "    Plots the ROC Curve by using the list of coordinates (tpr and fpr).\n",
    "    \n",
    "    Args:\n",
    "        tpr: The list of TPRs representing each coordinate.\n",
    "        fpr: The list of FPRs representing each coordinate.\n",
    "        scatter: When True, the points used on the calculation will be plotted with the line (default = True).\n",
    "    '''\n",
    "    if ax == None:\n",
    "        plt.figure(figsize = (5, 5))\n",
    "        ax = plt.axes()\n",
    "    \n",
    "    if scatter:\n",
    "        sns.scatterplot(x = fpr, y = tpr, ax = ax)\n",
    "    sns.lineplot(x = fpr, y = tpr, ax = ax)\n",
    "    sns.lineplot(x = [0, 1], y = [0, 1], color = 'green', ax = ax)\n",
    "    plt.xlim(-0.05, 1.05)\n",
    "    plt.ylim(-0.05, 1.05)\n",
    "    plt.xlabel(\"False Positive Rate\")\n",
    "    plt.ylabel(\"True Positive Rate\")"
   ]
  },
  {
   "cell_type": "code",
   "execution_count": 27,
   "metadata": {
    "ExecuteTime": {
     "end_time": "2022-08-26T19:04:43.375246Z",
     "start_time": "2022-08-26T19:04:43.172951Z"
    }
   },
   "outputs": [],
   "source": [
    "propagation_mask = train_mask | val_mask    #Or: Sets each bit to 1 if one of two bits is 1\n",
    "out = model(data.x, data.y, data.edge_index, propagation_mask)\n",
    "pred = out[test_mask].argmax(dim=-1)\n",
    "test_acc = int((pred == data.y[test_mask]).sum()) / pred.size(0)"
   ]
  },
  {
   "cell_type": "code",
   "execution_count": 61,
   "metadata": {
    "ExecuteTime": {
     "end_time": "2022-08-26T19:18:56.128488Z",
     "start_time": "2022-08-26T19:18:56.124581Z"
    }
   },
   "outputs": [
    {
     "data": {
      "text/plain": [
       "True"
      ]
     },
     "execution_count": 61,
     "metadata": {},
     "output_type": "execute_result"
    }
   ],
   "source": [
    "0 in pred"
   ]
  },
  {
   "cell_type": "code",
   "execution_count": 31,
   "metadata": {
    "ExecuteTime": {
     "end_time": "2022-08-26T19:05:27.656995Z",
     "start_time": "2022-08-26T19:05:27.653104Z"
    }
   },
   "outputs": [
    {
     "data": {
      "text/plain": [
       "torch.Size([169343, 40])"
      ]
     },
     "execution_count": 31,
     "metadata": {},
     "output_type": "execute_result"
    }
   ],
   "source": [
    "out.size()"
   ]
  },
  {
   "cell_type": "code",
   "execution_count": 42,
   "metadata": {
    "ExecuteTime": {
     "end_time": "2022-08-26T19:08:22.329981Z",
     "start_time": "2022-08-26T19:08:22.310716Z"
    }
   },
   "outputs": [],
   "source": [
    "m = torch.nn.Softmax(dim=1)\n",
    "out_norm = m(out)"
   ]
  },
  {
   "cell_type": "code",
   "execution_count": 55,
   "metadata": {
    "ExecuteTime": {
     "end_time": "2022-08-26T19:11:48.884799Z",
     "start_time": "2022-08-26T19:11:48.879718Z"
    }
   },
   "outputs": [
    {
     "data": {
      "text/plain": [
       "torch.Size([48603, 40])"
      ]
     },
     "execution_count": 55,
     "metadata": {},
     "output_type": "execute_result"
    }
   ],
   "source": [
    "out_norm[test_mask].size()"
   ]
  },
  {
   "cell_type": "code",
   "execution_count": 67,
   "metadata": {
    "ExecuteTime": {
     "end_time": "2022-08-26T19:23:10.301461Z",
     "start_time": "2022-08-26T19:23:10.294095Z"
    }
   },
   "outputs": [
    {
     "data": {
      "text/plain": [
       "torch.Size([48603])"
      ]
     },
     "execution_count": 67,
     "metadata": {},
     "output_type": "execute_result"
    }
   ],
   "source": [
    "out_norm[test_mask][:, 0].size()"
   ]
  },
  {
   "cell_type": "code",
   "execution_count": 64,
   "metadata": {
    "ExecuteTime": {
     "end_time": "2022-08-26T19:21:21.843814Z",
     "start_time": "2022-08-26T19:21:20.246073Z"
    }
   },
   "outputs": [],
   "source": [
    "data.y[test_mask]\n",
    "y_real = [1 if y == 1 else 0 for y in data.y[test_mask]]"
   ]
  },
  {
   "cell_type": "code",
   "execution_count": 62,
   "metadata": {
    "ExecuteTime": {
     "end_time": "2022-08-26T19:19:09.551193Z",
     "start_time": "2022-08-26T19:19:09.546538Z"
    }
   },
   "outputs": [
    {
     "data": {
      "text/plain": [
       "array([ 0,  1,  2,  3,  4,  5,  6,  7,  8,  9, 10, 11, 12, 13, 14, 15, 16,\n",
       "       17, 18, 19, 20, 21, 22, 23, 24, 25, 26, 27, 28, 29, 30, 31, 32, 33,\n",
       "       34, 35, 36, 37, 38, 39])"
      ]
     },
     "execution_count": 62,
     "metadata": {},
     "output_type": "execute_result"
    }
   ],
   "source": [
    "classes = np.array([i for i in range(40)])\n",
    "classes"
   ]
  },
  {
   "cell_type": "code",
   "execution_count": 71,
   "metadata": {
    "ExecuteTime": {
     "end_time": "2022-08-26T19:33:44.678325Z",
     "start_time": "2022-08-26T19:31:23.047459Z"
    }
   },
   "outputs": [
    {
     "data": {
      "image/png": "[encoded data removed]",
      "text/plain": [
       "<Figure size 432x288 with 1 Axes>"
      ]
     },
     "metadata": {
      "needs_background": "light"
     },
     "output_type": "display_data"
    }
   ],
   "source": [
    "for i in range(len(classes)):\n",
    "    c = classes[i]\n",
    "    y_real = [1 if y == c else 0 for y in data.y[test_mask]]\n",
    "    y_proba = out_norm[test_mask][:, i].cpu()\n",
    "    tpr, fpr = get_all_roc_coordinates(y_real, y_proba)\n",
    "    plt.plot(fpr, tpr, label = c)\n",
    "\n",
    "x = np.linspace(0, 1, 10)\n",
    "Y = x\n",
    "plt.plot(x, Y, color='g')\n",
    "plt.xlim(-0.05, 1.05)\n",
    "plt.ylim(-0.05, 1.05)\n",
    "plt.xlabel(\"False Positive Rate\")\n",
    "plt.ylabel(\"True Positive Rate\")\n",
    "# plt.legend()\n",
    "plt.title(\"ROC Curve OvR\")\n",
    "plt.show()"
   ]
  },
  {
   "cell_type": "code",
   "execution_count": null,
   "metadata": {},
   "outputs": [],
   "source": []
  }
 ],
 "metadata": {
  "colab": {
   "collapsed_sections": [],
   "name": "unimp_arxiv.ipynb",
   "provenance": []
  },
  "kernelspec": {
   "display_name": "Python 3 (ipykernel)",
   "language": "python",
   "name": "python3"
  },
  "language_info": {
   "codemirror_mode": {
    "name": "ipython",
    "version": 3
   },
   "file_extension": ".py",
   "mimetype": "text/x-python",
   "name": "python",
   "nbconvert_exporter": "python",
   "pygments_lexer": "ipython3",
   "version": "3.9.12"
  }
 },
 "nbformat": 4,
 "nbformat_minor": 1
}
