{
 "cells": [
  {
   "cell_type": "code",
   "execution_count": 1,
   "metadata": {
    "ExecuteTime": {
     "end_time": "2022-08-29T19:27:36.124937Z",
     "start_time": "2022-08-29T19:27:35.326167Z"
    }
   },
   "outputs": [
    {
     "name": "stdout",
     "output_type": "stream",
     "text": [
      "\n",
      "==============NVSMI LOG==============\n",
      "\n",
      "Timestamp                                 : Mon Aug 29 19:27:35 2022\n",
      "Driver Version                            : 510.54\n",
      "CUDA Version                              : 11.6\n",
      "\n",
      "Attached GPUs                             : 1\n",
      "GPU 00000000:08:00.0\n",
      "    Product Name                          : NVIDIA GeForce GTX 1080 Ti\n",
      "    Product Brand                         : GeForce\n",
      "    Product Architecture                  : Pascal\n",
      "    Display Mode                          : Disabled\n",
      "    Display Active                        : Disabled\n",
      "    Persistence Mode                      : Disabled\n",
      "    MIG Mode\n",
      "        Current                           : N/A\n",
      "        Pending                           : N/A\n",
      "    Accounting Mode                       : Disabled\n",
      "    Accounting Mode Buffer Size           : 4000\n",
      "    Driver Model\n",
      "        Current                           : N/A\n",
      "        Pending                           : N/A\n",
      "    Serial Number                         : 0321117094193\n",
      "    GPU UUID                              : GPU-f24f8385-1c67-23d9-87be-bbed9c2ab8f1\n",
      "    Minor Number                          : 2\n",
      "    VBIOS Version                         : 86.02.39.00.01\n",
      "    MultiGPU Board                        : No\n",
      "    Board ID                              : 0x800\n",
      "    GPU Part Number                       : 900-1G611-0050-000\n",
      "    Module ID                             : 0\n",
      "    Inforom Version\n",
      "        Image Version                     : G001.0000.01.04\n",
      "        OEM Object                        : 1.1\n",
      "        ECC Object                        : N/A\n",
      "        Power Management Object           : N/A\n",
      "    GPU Operation Mode\n",
      "        Current                           : N/A\n",
      "        Pending                           : N/A\n",
      "    GSP Firmware Version                  : N/A\n",
      "    GPU Virtualization Mode\n",
      "        Virtualization Mode               : None\n",
      "        Host VGPU Mode                    : N/A\n",
      "    IBMNPU\n",
      "        Relaxed Ordering Mode             : N/A\n",
      "    PCI\n",
      "        Bus                               : 0x08\n",
      "        Device                            : 0x00\n",
      "        Domain                            : 0x0000\n",
      "        Device Id                         : 0x1B0610DE\n",
      "        Bus Id                            : 00000000:08:00.0\n",
      "        Sub System Id                     : 0x120F10DE\n",
      "        GPU Link Info\n",
      "            PCIe Generation\n",
      "                Max                       : 3\n",
      "                Current                   : 1\n",
      "            Link Width\n",
      "                Max                       : 16x\n",
      "                Current                   : 16x\n",
      "        Bridge Chip\n",
      "            Type                          : N/A\n",
      "            Firmware                      : N/A\n",
      "        Replays Since Reset               : 0\n",
      "        Replay Number Rollovers           : 0\n",
      "        Tx Throughput                     : 0 KB/s\n",
      "        Rx Throughput                     : 0 KB/s\n",
      "    Fan Speed                             : 23 %\n",
      "    Performance State                     : P8\n",
      "    Clocks Throttle Reasons\n",
      "        Idle                              : Not Active\n",
      "        Applications Clocks Setting       : Not Active\n",
      "        SW Power Cap                      : Active\n",
      "        HW Slowdown                       : Not Active\n",
      "            HW Thermal Slowdown           : Not Active\n",
      "            HW Power Brake Slowdown       : Not Active\n",
      "        Sync Boost                        : Not Active\n",
      "        SW Thermal Slowdown               : Not Active\n",
      "        Display Clock Setting             : Not Active\n",
      "    FB Memory Usage\n",
      "        Total                             : 11264 MiB\n",
      "        Reserved                          : 85 MiB\n",
      "        Used                              : 0 MiB\n",
      "        Free                              : 11178 MiB\n",
      "    BAR1 Memory Usage\n",
      "        Total                             : 256 MiB\n",
      "        Used                              : 2 MiB\n",
      "        Free                              : 254 MiB\n",
      "    Compute Mode                          : Default\n",
      "    Utilization\n",
      "        Gpu                               : 0 %\n",
      "        Memory                            : 0 %\n",
      "        Encoder                           : 0 %\n",
      "        Decoder                           : 0 %\n",
      "    Encoder Stats\n",
      "        Active Sessions                   : 0\n",
      "        Average FPS                       : 0\n",
      "        Average Latency                   : 0\n",
      "    FBC Stats\n",
      "        Active Sessions                   : 0\n",
      "        Average FPS                       : 0\n",
      "        Average Latency                   : 0\n",
      "    Ecc Mode\n",
      "        Current                           : N/A\n",
      "        Pending                           : N/A\n",
      "    ECC Errors\n",
      "        Volatile\n",
      "            Single Bit            \n",
      "                Device Memory             : N/A\n",
      "                Register File             : N/A\n",
      "                L1 Cache                  : N/A\n",
      "                L2 Cache                  : N/A\n",
      "                Texture Memory            : N/A\n",
      "                Texture Shared            : N/A\n",
      "                CBU                       : N/A\n",
      "                Total                     : N/A\n",
      "            Double Bit            \n",
      "                Device Memory             : N/A\n",
      "                Register File             : N/A\n",
      "                L1 Cache                  : N/A\n",
      "                L2 Cache                  : N/A\n",
      "                Texture Memory            : N/A\n",
      "                Texture Shared            : N/A\n",
      "                CBU                       : N/A\n",
      "                Total                     : N/A\n",
      "        Aggregate\n",
      "            Single Bit            \n",
      "                Device Memory             : N/A\n",
      "                Register File             : N/A\n",
      "                L1 Cache                  : N/A\n",
      "                L2 Cache                  : N/A\n",
      "                Texture Memory            : N/A\n",
      "                Texture Shared            : N/A\n",
      "                CBU                       : N/A\n",
      "                Total                     : N/A\n",
      "            Double Bit            \n",
      "                Device Memory             : N/A\n",
      "                Register File             : N/A\n",
      "                L1 Cache                  : N/A\n",
      "                L2 Cache                  : N/A\n",
      "                Texture Memory            : N/A\n",
      "                Texture Shared            : N/A\n",
      "                CBU                       : N/A\n",
      "                Total                     : N/A\n",
      "    Retired Pages\n",
      "        Single Bit ECC                    : N/A\n",
      "        Double Bit ECC                    : N/A\n",
      "        Pending Page Blacklist            : N/A\n",
      "    Remapped Rows                         : N/A\n",
      "    Temperature\n",
      "        GPU Current Temp                  : 25 C\n",
      "        GPU Shutdown Temp                 : 96 C\n",
      "        GPU Slowdown Temp                 : 93 C\n",
      "        GPU Max Operating Temp            : N/A\n",
      "        GPU Target Temperature            : 84 C\n",
      "        Memory Current Temp               : N/A\n",
      "        Memory Max Operating Temp         : N/A\n",
      "    Power Readings\n",
      "        Power Management                  : Supported\n",
      "        Power Draw                        : 8.88 W\n",
      "        Power Limit                       : 250.00 W\n",
      "        Default Power Limit               : 250.00 W\n",
      "        Enforced Power Limit              : 250.00 W\n",
      "        Min Power Limit                   : 125.00 W\n",
      "        Max Power Limit                   : 300.00 W\n",
      "    Clocks\n",
      "        Graphics                          : 139 MHz\n",
      "        SM                                : 139 MHz\n",
      "        Memory                            : 405 MHz\n",
      "        Video                             : 544 MHz\n",
      "    Applications Clocks\n",
      "        Graphics                          : N/A\n",
      "        Memory                            : N/A\n",
      "    Default Applications Clocks\n",
      "        Graphics                          : N/A\n",
      "        Memory                            : N/A\n",
      "    Max Clocks\n",
      "        Graphics                          : 1911 MHz\n",
      "        SM                                : 1911 MHz\n",
      "        Memory                            : 5505 MHz\n",
      "        Video                             : 1620 MHz\n",
      "    Max Customer Boost Clocks\n",
      "        Graphics                          : N/A\n",
      "    Clock Policy\n",
      "        Auto Boost                        : N/A\n",
      "        Auto Boost Default                : N/A\n",
      "    Voltage\n",
      "        Graphics                          : N/A\n",
      "    Processes                             : None\n",
      "\n"
     ]
    }
   ],
   "source": [
    "!nvidia-smi -q"
   ]
  },
  {
   "cell_type": "code",
   "execution_count": 2,
   "metadata": {
    "ExecuteTime": {
     "end_time": "2022-08-29T19:27:38.110550Z",
     "start_time": "2022-08-29T19:27:36.127453Z"
    },
    "colab": {
     "base_uri": "https://localhost:8080/",
     "height": 1000
    },
    "id": "SvhPQJwuouk-",
    "outputId": "cf8a2030-c3f4-4746-e325-8d34b78cdf5b"
   },
   "outputs": [],
   "source": [
    "import os.path as osp\n",
    "\n",
    "import torch\n",
    "import torch.nn.functional as F\n",
    "from ogb.nodeproppred import PygNodePropPredDataset\n",
    "\n",
    "import torch_geometric.transforms as T\n",
    "from torch_geometric.nn import MaskLabel, TransformerConv\n",
    "from torch_geometric.utils import index_to_mask"
   ]
  },
  {
   "cell_type": "code",
   "execution_count": 3,
   "metadata": {
    "ExecuteTime": {
     "end_time": "2022-08-29T19:27:38.835396Z",
     "start_time": "2022-08-29T19:27:38.112482Z"
    }
   },
   "outputs": [],
   "source": [
    "import sys\n",
    "sys.path.insert(0, '..')  #go up one directory\n",
    "from custom_libraries.my_functions import *"
   ]
  },
  {
   "cell_type": "code",
   "execution_count": 4,
   "metadata": {
    "ExecuteTime": {
     "end_time": "2022-08-29T19:27:39.487657Z",
     "start_time": "2022-08-29T19:27:38.837504Z"
    },
    "scrolled": true
   },
   "outputs": [
    {
     "name": "stdout",
     "output_type": "stream",
     "text": [
      "/ssl-jet-vol/semi-supervised-tests/Jupyter\r\n"
     ]
    }
   ],
   "source": [
    "!pwd"
   ]
  },
  {
   "cell_type": "code",
   "execution_count": 5,
   "metadata": {
    "ExecuteTime": {
     "end_time": "2022-08-29T19:27:39.618580Z",
     "start_time": "2022-08-29T19:27:39.490870Z"
    },
    "colab": {
     "base_uri": "https://localhost:8080/",
     "height": 232
    },
    "id": "8fI-8u88ojNj",
    "outputId": "08afed7f-7c95-48e1-b8ab-324286483f24"
   },
   "outputs": [
    {
     "data": {
      "text/plain": [
       "PygNodePropPredDataset()"
      ]
     },
     "execution_count": 5,
     "metadata": {},
     "output_type": "execute_result"
    }
   ],
   "source": [
    "root = \"/ssl-jet-vol/semi-supervised-tests/Jupyter/data/OGB\"\n",
    "dataset = PygNodePropPredDataset('ogbn-arxiv', root, T.ToUndirected())\n",
    "dataset"
   ]
  },
  {
   "cell_type": "code",
   "execution_count": 6,
   "metadata": {
    "ExecuteTime": {
     "end_time": "2022-08-29T19:27:39.627989Z",
     "start_time": "2022-08-29T19:27:39.620313Z"
    },
    "colab": {
     "base_uri": "https://localhost:8080/",
     "height": 232
    },
    "id": "8fI-8u88ojNj",
    "outputId": "08afed7f-7c95-48e1-b8ab-324286483f24"
   },
   "outputs": [],
   "source": [
    "class UniMP(torch.nn.Module):   #UniMP stands for Unified Message Passing\n",
    "    def __init__(self, in_channels, num_classes, hidden_channels, num_layers,\n",
    "                 heads, dropout=0.3):\n",
    "        super().__init__()\n",
    "\n",
    "        self.label_emb = MaskLabel(num_classes, in_channels)\n",
    "\n",
    "        self.convs = torch.nn.ModuleList()  # initialize self.convs\n",
    "        self.norms = torch.nn.ModuleList()  # initialize self.norms\n",
    "        for i in range(1, num_layers + 1):\n",
    "            if i < num_layers:\n",
    "                out_channels = hidden_channels // heads #what is a head?\n",
    "                concat = True   #what does concat do?\n",
    "            else:\n",
    "                out_channels = num_classes\n",
    "                concat = False\n",
    "            conv = TransformerConv(in_channels, out_channels, heads,\n",
    "                                   concat=concat, beta=True, dropout=dropout)\n",
    "            self.convs.append(conv)\n",
    "            in_channels = hidden_channels\n",
    "\n",
    "            if i < num_layers:\n",
    "                self.norms.append(torch.nn.LayerNorm(hidden_channels))\n",
    "                \n",
    "    def forward(self, x, y, edge_index, label_mask):\n",
    "        x = self.label_emb(x, y, label_mask)  #mask some of the input labels\n",
    "        for conv, norm in zip(self.convs, self.norms):\n",
    "            x = norm(conv(x, edge_index)).relu()\n",
    "        # conv -> norm -> ReLu -> conv -> norm -> Relu -> ... -> out\n",
    "        return self.convs[-1](x, edge_index)"
   ]
  },
  {
   "cell_type": "markdown",
   "metadata": {
    "id": "VFtGqDeHUc6Y"
   },
   "source": [
    "## Questions:  \n",
    "\n",
    "### 2. What does emb stand for?  \n",
    "Embedding\n",
    "\n",
    "### 3. What are normalization layers?  what do they do and why do we need them?\n",
    "https://pytorch.org/docs/stable/generated/torch.nn.LayerNorm.html  \n",
    "Normalization? but why?\n",
    "\n",
    "### 3.1 What are heads?  \n",
    "\n",
    "### 4. What does concat do?  \n",
    "If set to False, the multi-head attentions are averaged instead of concatenated. (default: True)  \n",
    "\n",
    "### 4.1 What are attentions?  \n",
    "\n",
    "### 7. Why a separate if statement for self.norms?\n",
    "\n",
    "\n",
    "### 8. What does each parameter mean in this function?  \n",
    "x: input?  \n",
    "y: output?  \n",
    "edge_index: how the graph is connected  \n",
    "label_mask: \n",
    "\n",
    "### 8.1 What does the first line do?  "
   ]
  },
  {
   "cell_type": "code",
   "execution_count": 7,
   "metadata": {
    "ExecuteTime": {
     "end_time": "2022-08-29T19:27:39.632990Z",
     "start_time": "2022-08-29T19:27:39.629537Z"
    },
    "id": "VFtGqDeHUc6Y"
   },
   "outputs": [
    {
     "data": {
      "text/plain": [
       "'\\ndef forward(self, x: Tensor, y: Tensor, mask: Tensor) -> Tensor:  \\n          \\n        if self.method == \"concat\":  \\n            out = x.new_zeros(y.size(0), self.emb.weight.size(-1))  \\n            out[mask] = self.emb(y[mask])  \\n            return torch.cat([x, out], dim=-1)  \\n        else:  \\n            x = torch.clone(x)  \\n            x[mask] += self.emb(y[mask])  \\n            return x\\n'"
      ]
     },
     "execution_count": 7,
     "metadata": {},
     "output_type": "execute_result"
    }
   ],
   "source": [
    "\"\"\"\n",
    "def forward(self, x: Tensor, y: Tensor, mask: Tensor) -> Tensor:  \n",
    "        \"\"\"\"\"\"  \n",
    "        if self.method == \"concat\":  \n",
    "            out = x.new_zeros(y.size(0), self.emb.weight.size(-1))  \n",
    "            out[mask] = self.emb(y[mask])  \n",
    "            return torch.cat([x, out], dim=-1)  \n",
    "        else:  \n",
    "            x = torch.clone(x)  \n",
    "            x[mask] += self.emb(y[mask])  \n",
    "            return x\n",
    "\"\"\""
   ]
  },
  {
   "cell_type": "markdown",
   "metadata": {},
   "source": [
    "I assume this applies the mask to the inputs x but why does this process involve y?  "
   ]
  },
  {
   "cell_type": "code",
   "execution_count": 8,
   "metadata": {
    "ExecuteTime": {
     "end_time": "2022-08-29T19:27:41.843716Z",
     "start_time": "2022-08-29T19:27:39.634547Z"
    },
    "id": "gMlfPgRjr31t"
   },
   "outputs": [],
   "source": [
    "device = torch.device('cuda' if torch.cuda.is_available() else 'cpu')\n",
    "data = dataset[0].to(device)\n",
    "data.y = data.y.view(-1)\n",
    "model = UniMP(dataset.num_features, dataset.num_classes, hidden_channels=64,\n",
    "              num_layers=3, heads=2).to(device)\n",
    "optimizer = torch.optim.Adam(model.parameters(), lr=0.001, weight_decay=0.0005)\n",
    " \n",
    "split_idx = dataset.get_idx_split()   # train/val/test split\n",
    "train_mask = index_to_mask(split_idx['train'], size=data.num_nodes)\n",
    "val_mask = index_to_mask(split_idx['valid'], size=data.num_nodes)\n",
    "test_mask = index_to_mask(split_idx['test'], size=data.num_nodes)"
   ]
  },
  {
   "cell_type": "markdown",
   "metadata": {
    "id": "BeJyK5jpVwxU"
   },
   "source": [
    "### 10. What is weight_decay?  \n",
    "L2 penalty  \n",
    "https://swamp-father-f58.notion.site/2-3-Lecture-Dealing-with-Overfitting-f1a77a6d12f445698e4d8cb340300d88\n",
    "\n",
    "### 12. What does the mask do?  \n",
    "They mask some of the labels, preventing the nodes from accessing those labels during training/validation/testing\n",
    "\n"
   ]
  },
  {
   "cell_type": "code",
   "execution_count": 9,
   "metadata": {
    "ExecuteTime": {
     "end_time": "2022-08-29T19:27:41.863762Z",
     "start_time": "2022-08-29T19:27:41.846242Z"
    },
    "id": "K3nkFpQStWsW"
   },
   "outputs": [],
   "source": [
    "def train(label_rate=0.65):  # How many labels to use for propagation.\n",
    "    model.train()\n",
    "\n",
    "    propagation_mask = MaskLabel.ratio_mask(train_mask, ratio=label_rate)\n",
    "    # Randomly modifies mask by setting a certain ratio (label_rate) of True entries to False\n",
    "    supervision_mask = train_mask ^ propagation_mask  # Exclusive or: Sets each bit to 1 if only one of two bits is 1\n",
    "#     print(\"train_mask:\", train_mask)\n",
    "#     print(\"propagation_mask:\", propagation_mask)\n",
    "#     print(\"supervision_mask:\", supervision_mask)\n",
    "\n",
    "    # how to implement mini-batch gradient descent here? Right now going through the data set all at once, taking up too much memory\n",
    "    optimizer.zero_grad()\n",
    "    out = model(data.x, data.y, data.edge_index, propagation_mask)  #forward is called\n",
    "    loss = F.cross_entropy(out[supervision_mask], data.y[supervision_mask])\n",
    "    loss.backward()\n",
    "    optimizer.step()\n",
    "\n",
    "    return float(loss)\n",
    "\n",
    "\n",
    "@torch.no_grad()\n",
    "def test():\n",
    "    model.eval()\n",
    "\n",
    "    # evaluation\n",
    "    propagation_mask = train_mask  #no masked nodes while testing\n",
    "    out = model(data.x, data.y, data.edge_index, propagation_mask)  # forward is called\n",
    "    pred = out[val_mask].argmax(dim=-1)  #indices of maximum values across the last dimension\n",
    "    val_acc = int((pred == data.y[val_mask]).sum()) / pred.size(0)  # Validation accuracy\n",
    "#     print(\"out:\", out)\n",
    "#     print(\"out dim:\", out.size())\n",
    "#     print(\"out[val_mask] dim:\", out[val_mask].size())\n",
    "#     print(\"out[test_mask] size:\", out[test_mask].size())\n",
    "#     print(\"out[train_mask] size:\", out[train_mask].size())\n",
    "#     print(\"out summed over dimension 1\", torch.sum(out, dim=1))\n",
    "# #     print(\"out[val_mask]:\", out[val_mask])\n",
    "#     print(\"eval pred:\", pred)\n",
    "#     print(\"labels:\", data.y[val_mask])\n",
    "#     print(\"pred size:\",pred.size())\n",
    "#     print(\"data.y[val_mask] size:\", data.y[val_mask].size())\n",
    "\n",
    "    # testing\n",
    "    propagation_mask = train_mask | val_mask    #Or: Sets each bit to 1 if one of two bits is 1\n",
    "    out = model(data.x, data.y, data.edge_index, propagation_mask)\n",
    "    pred = out[test_mask].argmax(dim=-1)\n",
    "    test_acc = int((pred == data.y[test_mask]).sum()) / pred.size(0)\n",
    "#     print(\"test pred\", pred)\n",
    "    \n",
    "#     print(\"labels:\", data.y[test_mask])\n",
    "\n",
    "    return val_acc, test_acc"
   ]
  },
  {
   "cell_type": "markdown",
   "metadata": {},
   "source": [
    "# Summary\n",
    "out is a torch tensor of dimension [169343, 40].  \n",
    "out[val_mask] is a torch tensor of dimension [29799, 40].  \n",
    "This ratio 0.1759683 should be one of the three numbers in the train/val/test split.  \n",
    "This is confirmed by   \n",
    "out[val_mask] dim: torch.Size([29799, 40])  \n",
    "out[test_mask] size: torch.Size([48603, 40])  \n",
    "out[train_mask] size: torch.Size([90941, 40])  \n",
    "(The three numbers add up to out.size(0))  \n",
    "\n",
    "(during evaluation) pred is a torch tensor of dimension [29799]  \n",
    "It is the indices of maximum values across the second dimension of out[val_mask]\n",
    "\n",
    "I am assuming each of the 40 numbers is some sort of probability of classifying a data point into a certain category. **But they are negative and do not sum to 1. How to interpret these?**   \n",
    "\n",
    "Apply softmax to the results to obtain probabilities.\n",
    "This way, pred then consists of the predictions of the model (which category does a certain data point fall into)"
   ]
  },
  {
   "cell_type": "markdown",
   "metadata": {
    "id": "z9i8Jh2wWHqc"
   },
   "source": [
    "### 13. What is propagation_mask?  \n",
    "decides which nodes to use for message passing\n",
    "### 13.1 What is supervision_mask?  \n",
    "decides which nodes to use for verifying predictions  \n",
    "(propagation + supervision = training)\n",
    "\n",
    "## 14. What is argmax(dim=-1)\n",
    "Returns the indices of the maximum values of a tensor across a dimension.\n",
    "https://pytorch.org/docs/stable/generated/torch.argmax.html\n",
    "\n",
    "finding the argument that gives the max value across the last dimension, which is 40.  \n",
    "But now what does the 40 represent?  \n",
    "40 categories"
   ]
  },
  {
   "cell_type": "code",
   "execution_count": 10,
   "metadata": {
    "ExecuteTime": {
     "end_time": "2022-08-29T19:27:41.869872Z",
     "start_time": "2022-08-29T19:27:41.865799Z"
    }
   },
   "outputs": [],
   "source": [
    "def reset_params(model):\n",
    "    for layer in model.children():\n",
    "       if hasattr(layer, 'reset_parameters'):\n",
    "           layer.reset_parameters()"
   ]
  },
  {
   "cell_type": "code",
   "execution_count": 11,
   "metadata": {
    "ExecuteTime": {
     "end_time": "2022-08-29T19:28:49.875869Z",
     "start_time": "2022-08-29T19:27:41.872022Z"
    },
    "id": "5phe-4Fur8I4"
   },
   "outputs": [
    {
     "name": "stdout",
     "output_type": "stream",
     "text": [
      "Epoch: 001, Loss: 3.7619, Val: 0.0071, Test: 0.0055\n",
      "Epoch: 002, Loss: 3.6362, Val: 0.0158, Test: 0.0193\n",
      "Epoch: 003, Loss: 3.5258, Val: 0.2531, Test: 0.2625\n",
      "Epoch: 004, Loss: 3.4371, Val: 0.3759, Test: 0.4128\n",
      "Epoch: 005, Loss: 3.3646, Val: 0.3914, Test: 0.4240\n",
      "Epoch: 006, Loss: 3.2989, Val: 0.3913, Test: 0.4224\n",
      "Epoch: 007, Loss: 3.2413, Val: 0.3954, Test: 0.4279\n",
      "Epoch: 008, Loss: 3.1863, Val: 0.4099, Test: 0.4572\n",
      "Epoch: 009, Loss: 3.1340, Val: 0.4352, Test: 0.4875\n",
      "Epoch: 010, Loss: 3.0857, Val: 0.4616, Test: 0.5090\n",
      "Epoch: 011, Loss: 3.0322, Val: 0.4853, Test: 0.5263\n",
      "Epoch: 012, Loss: 2.9806, Val: 0.5053, Test: 0.5399\n",
      "Epoch: 013, Loss: 2.9304, Val: 0.5226, Test: 0.5507\n",
      "Epoch: 014, Loss: 2.8787, Val: 0.5366, Test: 0.5597\n",
      "Epoch: 015, Loss: 2.8324, Val: 0.5479, Test: 0.5689\n",
      "Epoch: 016, Loss: 2.7742, Val: 0.5563, Test: 0.5760\n",
      "Epoch: 017, Loss: 2.7223, Val: 0.5658, Test: 0.5842\n",
      "Epoch: 018, Loss: 2.6686, Val: 0.5742, Test: 0.5918\n",
      "Epoch: 019, Loss: 2.6209, Val: 0.5835, Test: 0.6001\n",
      "Epoch: 020, Loss: 2.5750, Val: 0.5911, Test: 0.6058\n",
      "Epoch: 021, Loss: 2.5216, Val: 0.5971, Test: 0.6092\n",
      "Epoch: 022, Loss: 2.4689, Val: 0.6024, Test: 0.6133\n",
      "Epoch: 023, Loss: 2.4334, Val: 0.6070, Test: 0.6173\n",
      "Epoch: 024, Loss: 2.3865, Val: 0.6113, Test: 0.6215\n",
      "Epoch: 025, Loss: 2.3514, Val: 0.6154, Test: 0.6252\n",
      "Epoch: 026, Loss: 2.3014, Val: 0.6197, Test: 0.6289\n",
      "Epoch: 027, Loss: 2.2563, Val: 0.6225, Test: 0.6319\n",
      "Epoch: 028, Loss: 2.2305, Val: 0.6267, Test: 0.6352\n",
      "Epoch: 029, Loss: 2.1881, Val: 0.6292, Test: 0.6381\n",
      "Epoch: 030, Loss: 2.1563, Val: 0.6319, Test: 0.6395\n",
      "Epoch: 031, Loss: 2.1149, Val: 0.6343, Test: 0.6414\n",
      "Epoch: 032, Loss: 2.0856, Val: 0.6366, Test: 0.6432\n",
      "Epoch: 033, Loss: 2.0503, Val: 0.6387, Test: 0.6446\n",
      "Epoch: 034, Loss: 2.0162, Val: 0.6407, Test: 0.6465\n",
      "Epoch: 035, Loss: 1.9825, Val: 0.6430, Test: 0.6487\n",
      "Epoch: 036, Loss: 1.9584, Val: 0.6452, Test: 0.6518\n",
      "Epoch: 037, Loss: 1.9192, Val: 0.6476, Test: 0.6542\n",
      "Epoch: 038, Loss: 1.9033, Val: 0.6505, Test: 0.6567\n",
      "Epoch: 039, Loss: 1.8805, Val: 0.6534, Test: 0.6588\n",
      "Epoch: 040, Loss: 1.8440, Val: 0.6559, Test: 0.6619\n",
      "Epoch: 041, Loss: 1.8374, Val: 0.6577, Test: 0.6640\n",
      "Epoch: 042, Loss: 1.8087, Val: 0.6597, Test: 0.6659\n",
      "Epoch: 043, Loss: 1.7984, Val: 0.6611, Test: 0.6675\n",
      "Epoch: 044, Loss: 1.7614, Val: 0.6634, Test: 0.6693\n",
      "Epoch: 045, Loss: 1.7445, Val: 0.6644, Test: 0.6706\n",
      "Epoch: 046, Loss: 1.7141, Val: 0.6654, Test: 0.6693\n",
      "Epoch: 047, Loss: 1.7099, Val: 0.6654, Test: 0.6684\n",
      "Epoch: 048, Loss: 1.6868, Val: 0.6655, Test: 0.6691\n",
      "Epoch: 049, Loss: 1.6758, Val: 0.6671, Test: 0.6706\n",
      "Epoch: 050, Loss: 1.6487, Val: 0.6699, Test: 0.6732\n",
      "Epoch: 051, Loss: 1.6296, Val: 0.6718, Test: 0.6768\n",
      "Epoch: 052, Loss: 1.6126, Val: 0.6742, Test: 0.6791\n",
      "Epoch: 053, Loss: 1.5873, Val: 0.6754, Test: 0.6814\n",
      "Epoch: 054, Loss: 1.5818, Val: 0.6768, Test: 0.6831\n",
      "Epoch: 055, Loss: 1.5669, Val: 0.6777, Test: 0.6841\n",
      "Epoch: 056, Loss: 1.5438, Val: 0.6787, Test: 0.6849\n",
      "Epoch: 057, Loss: 1.5386, Val: 0.6792, Test: 0.6835\n",
      "Epoch: 058, Loss: 1.5209, Val: 0.6788, Test: 0.6823\n",
      "Epoch: 059, Loss: 1.4981, Val: 0.6790, Test: 0.6803\n",
      "Epoch: 060, Loss: 1.4932, Val: 0.6792, Test: 0.6806\n",
      "Epoch: 061, Loss: 1.4835, Val: 0.6805, Test: 0.6834\n",
      "Epoch: 062, Loss: 1.4619, Val: 0.6819, Test: 0.6868\n",
      "Epoch: 063, Loss: 1.4578, Val: 0.6837, Test: 0.6894\n",
      "Epoch: 064, Loss: 1.4518, Val: 0.6850, Test: 0.6908\n",
      "Epoch: 065, Loss: 1.4383, Val: 0.6854, Test: 0.6894\n",
      "Epoch: 066, Loss: 1.4220, Val: 0.6859, Test: 0.6894\n",
      "Epoch: 067, Loss: 1.4313, Val: 0.6856, Test: 0.6893\n",
      "Epoch: 068, Loss: 1.4074, Val: 0.6855, Test: 0.6879\n",
      "Epoch: 069, Loss: 1.4023, Val: 0.6844, Test: 0.6865\n",
      "Epoch: 070, Loss: 1.3922, Val: 0.6852, Test: 0.6874\n",
      "Epoch: 071, Loss: 1.3697, Val: 0.6880, Test: 0.6928\n",
      "Epoch: 072, Loss: 1.3676, Val: 0.6902, Test: 0.6976\n",
      "Epoch: 073, Loss: 1.3600, Val: 0.6910, Test: 0.7007\n",
      "Epoch: 074, Loss: 1.3620, Val: 0.6914, Test: 0.7012\n",
      "Epoch: 075, Loss: 1.3594, Val: 0.6919, Test: 0.7008\n",
      "Epoch: 076, Loss: 1.3305, Val: 0.6920, Test: 0.6973\n",
      "Epoch: 077, Loss: 1.3349, Val: 0.6921, Test: 0.6942\n",
      "Epoch: 078, Loss: 1.3235, Val: 0.6923, Test: 0.6932\n",
      "Epoch: 079, Loss: 1.3144, Val: 0.6934, Test: 0.6950\n",
      "Epoch: 080, Loss: 1.3062, Val: 0.6951, Test: 0.6997\n",
      "Epoch: 081, Loss: 1.3289, Val: 0.6956, Test: 0.7035\n",
      "Epoch: 082, Loss: 1.3069, Val: 0.6962, Test: 0.7054\n",
      "Epoch: 083, Loss: 1.2928, Val: 0.6963, Test: 0.7040\n",
      "Epoch: 084, Loss: 1.2902, Val: 0.6965, Test: 0.7026\n",
      "Epoch: 085, Loss: 1.2904, Val: 0.6968, Test: 0.6997\n",
      "Epoch: 086, Loss: 1.2818, Val: 0.6964, Test: 0.6980\n",
      "Epoch: 087, Loss: 1.2650, Val: 0.6972, Test: 0.6983\n",
      "Epoch: 088, Loss: 1.2756, Val: 0.6985, Test: 0.7024\n",
      "Epoch: 089, Loss: 1.2732, Val: 0.6989, Test: 0.7069\n",
      "Epoch: 090, Loss: 1.2564, Val: 0.6997, Test: 0.7096\n",
      "Epoch: 091, Loss: 1.2514, Val: 0.7010, Test: 0.7099\n",
      "Epoch: 092, Loss: 1.2541, Val: 0.7016, Test: 0.7072\n",
      "Epoch: 093, Loss: 1.2436, Val: 0.7017, Test: 0.7044\n",
      "Epoch: 094, Loss: 1.2432, Val: 0.7020, Test: 0.7052\n",
      "Epoch: 095, Loss: 1.2416, Val: 0.7032, Test: 0.7063\n",
      "Epoch: 096, Loss: 1.2177, Val: 0.7038, Test: 0.7094\n",
      "Epoch: 097, Loss: 1.2232, Val: 0.7039, Test: 0.7113\n",
      "Epoch: 098, Loss: 1.2064, Val: 0.7041, Test: 0.7120\n",
      "Epoch: 099, Loss: 1.2166, Val: 0.7049, Test: 0.7118\n",
      "Epoch: 100, Loss: 1.2169, Val: 0.7052, Test: 0.7120\n"
     ]
    }
   ],
   "source": [
    "reset_params(model)\n",
    "\n",
    "label_rate = 0.65\n",
    "num_epochs = 100\n",
    "loss_lst, val_acc_lst, test_acc_lst = [], [], []\n",
    "\n",
    "for epoch in range(1, num_epochs+1):\n",
    "    loss = train(label_rate = label_rate)\n",
    "    val_acc, test_acc = test()\n",
    "    print(f'Epoch: {epoch:03d}, Loss: {loss:.4f}, Val: {val_acc:.4f}, '\n",
    "          f'Test: {test_acc:.4f}')\n",
    "    loss_lst.append(loss)\n",
    "    val_acc_lst.append(val_acc)\n",
    "    test_acc_lst.append(test_acc)"
   ]
  },
  {
   "cell_type": "code",
   "execution_count": 12,
   "metadata": {
    "ExecuteTime": {
     "end_time": "2022-08-29T19:28:49.897952Z",
     "start_time": "2022-08-29T19:28:49.879221Z"
    }
   },
   "outputs": [],
   "source": [
    "# To plot pretty figures\n",
    "%matplotlib inline\n",
    "import matplotlib as mpl\n",
    "import matplotlib.pyplot as plt\n",
    "mpl.rc('axes', labelsize=14)\n",
    "mpl.rc('xtick', labelsize=12)\n",
    "mpl.rc('ytick', labelsize=12)"
   ]
  },
  {
   "cell_type": "code",
   "execution_count": 13,
   "metadata": {
    "ExecuteTime": {
     "end_time": "2022-08-29T19:28:50.118729Z",
     "start_time": "2022-08-29T19:28:49.900172Z"
    }
   },
   "outputs": [
    {
     "data": {
      "image/png": "[encoded data removed]",
      "text/plain": [
       "<Figure size 432x288 with 1 Axes>"
      ]
     },
     "metadata": {
      "needs_background": "light"
     },
     "output_type": "display_data"
    }
   ],
   "source": [
    "marker_size = 1\n",
    "plt.plot(loss_lst, \"r.\", markersize=marker_size, label=\"loss\")\n",
    "plt.plot(val_acc_lst, \"b.\", markersize=marker_size, label=\"val acc\")\n",
    "plt.plot(test_acc_lst, \"g.\",markersize=marker_size, label=\"test acc\")\n",
    "plt.xlabel(\"Epochs\", fontsize=18)\n",
    "# plt.ylabel(\"value of params\", rotation=90, fontsize=18)\n",
    "plt.legend(loc=\"best\", fontsize=10)\n",
    "# plt.xlim([200, 500])\n",
    "plt.show()"
   ]
  },
  {
   "cell_type": "code",
   "execution_count": 14,
   "metadata": {
    "ExecuteTime": {
     "end_time": "2022-08-29T19:28:50.258442Z",
     "start_time": "2022-08-29T19:28:50.122332Z"
    }
   },
   "outputs": [
    {
     "data": {
      "image/png": "[encoded data removed]",
      "text/plain": [
       "<Figure size 432x288 with 1 Axes>"
      ]
     },
     "metadata": {
      "needs_background": "light"
     },
     "output_type": "display_data"
    }
   ],
   "source": [
    "marker_size = 1\n",
    "plt.plot(val_acc_lst, \"b.\", markersize=marker_size, label=\"val acc\")\n",
    "plt.plot(test_acc_lst, \"g.\",markersize=marker_size, label=\"test acc\")\n",
    "plt.xlabel(\"Epochs\", fontsize=18)\n",
    "# plt.ylabel(\"value of params\", rotation=90, fontsize=18)\n",
    "plt.legend(loc=\"best\", fontsize=10)\n",
    "# plt.xlim([200, 500])\n",
    "plt.show()"
   ]
  },
  {
   "cell_type": "code",
   "execution_count": 15,
   "metadata": {
    "ExecuteTime": {
     "end_time": "2022-08-29T19:28:50.265382Z",
     "start_time": "2022-08-29T19:28:50.260005Z"
    }
   },
   "outputs": [
    {
     "name": "stdout",
     "output_type": "stream",
     "text": [
      "best val epoch: tensor(99)\n",
      "best test epoch: tensor(97)\n",
      "best val acc: tensor(0.7052)\n",
      "best test acc: tensor(0.7120)\n"
     ]
    }
   ],
   "source": [
    "print(\"best val epoch:\", torch.Tensor(val_acc_lst).argmax())\n",
    "print(\"best test epoch:\", torch.Tensor(test_acc_lst).argmax())\n",
    "print(\"best val acc:\", torch.Tensor(val_acc_lst).max())\n",
    "print(\"best test acc:\", torch.Tensor(test_acc_lst).max())"
   ]
  },
  {
   "cell_type": "markdown",
   "metadata": {},
   "source": [
    "# Optimize label_rate"
   ]
  },
  {
   "cell_type": "code",
   "execution_count": 16,
   "metadata": {
    "ExecuteTime": {
     "end_time": "2022-08-29T19:28:50.269563Z",
     "start_time": "2022-08-29T19:28:50.266881Z"
    }
   },
   "outputs": [],
   "source": [
    "import numpy as np\n",
    "label_rate_arr = np.linspace(0.0, 1.0, num=21)"
   ]
  },
  {
   "cell_type": "code",
   "execution_count": 17,
   "metadata": {
    "ExecuteTime": {
     "end_time": "2022-08-29T19:28:50.275349Z",
     "start_time": "2022-08-29T19:28:50.271073Z"
    }
   },
   "outputs": [],
   "source": [
    "def optimization_loop(label_rate):\n",
    "    reset_params(model)\n",
    "    num_epochs = 300\n",
    "    loss_lst, val_acc_lst, test_acc_lst = [], [], []\n",
    "\n",
    "    print(f'Label_rate: {label_rate}')\n",
    "    for epoch in range(1, num_epochs+1):\n",
    "        loss = train(label_rate = label_rate)\n",
    "        val_acc, test_acc = test()\n",
    "        print(f'Epoch: {epoch:03d}, Loss: {loss:.4f}, Val: {val_acc:.4f}, '\n",
    "              f'Test: {test_acc:.4f}')\n",
    "        loss_lst.append(loss)\n",
    "        val_acc_lst.append(val_acc)\n",
    "        test_acc_lst.append(test_acc)\n",
    "    return loss_lst, val_acc_lst, test_acc_lst"
   ]
  },
  {
   "cell_type": "code",
   "execution_count": 18,
   "metadata": {
    "ExecuteTime": {
     "end_time": "2022-08-29T19:28:50.279065Z",
     "start_time": "2022-08-29T19:28:50.276843Z"
    }
   },
   "outputs": [],
   "source": [
    "# best_val_acc_lst, best_val_epoch_lst, best_test_acc_lst, best_test_epoch_lst = [], [], [], []\n",
    "# for lr in label_rate_arr:\n",
    "#     print(lr)\n",
    "#     lost_lst, val_acc_lst, test_acc_lst = optimization_loop(lr)\n",
    "    \n",
    "#     best_val_epoch_lst.append(torch.Tensor(val_acc_lst).argmax())\n",
    "#     best_val_acc_lst.append(torch.Tensor(val_acc_lst).max())\n",
    "#     best_test_epoch_lst.append(torch.Tensor(test_acc_lst).argmax())\n",
    "#     best_test_acc_lst.append(torch.Tensor(test_acc_lst).max())"
   ]
  },
  {
   "cell_type": "code",
   "execution_count": 19,
   "metadata": {
    "ExecuteTime": {
     "end_time": "2022-08-29T19:28:50.282957Z",
     "start_time": "2022-08-29T19:28:50.280617Z"
    }
   },
   "outputs": [],
   "source": [
    "\n",
    "\n",
    "# marker_size = 3\n",
    "# fig, axs = plt.subplots(2, 2)\n",
    "# axs[0, 0].plot(best_val_epoch_lst, \"b.\", markersize=marker_size)\n",
    "# axs[0, 0].set_title(\"best val epoch\")\n",
    "\n",
    "\n",
    "# axs[0, 1].plot(best_val_acc_lst, \"b.\",markersize=marker_size)\n",
    "# axs[0, 1].set_title(\"best val acc\")\n",
    "\n",
    "# axs[1, 0].plot(best_test_epoch_lst, \"b.\",markersize=marker_size)\n",
    "# axs[1, 0].set_title(\"best test epoch\")\n",
    "\n",
    "# axs[1, 1].plot(best_test_acc_lst, \"b.\",markersize=marker_size)\n",
    "# axs[1, 1].set_title(\"best test acc\")\n",
    "\n",
    "# plt.show()"
   ]
  },
  {
   "cell_type": "markdown",
   "metadata": {},
   "source": [
    "## Try to plot the ROC curve\n",
    "y-axis: true positive rate = test_acc  \n",
    "x-axis: false positive rate"
   ]
  },
  {
   "cell_type": "code",
   "execution_count": 20,
   "metadata": {
    "ExecuteTime": {
     "end_time": "2022-08-29T19:28:50.335275Z",
     "start_time": "2022-08-29T19:28:50.284423Z"
    }
   },
   "outputs": [],
   "source": [
    "import pandas as pd\n",
    "import numpy as np\n",
    "import matplotlib.pyplot as plt\n",
    "import seaborn as sns\n",
    "from scipy import stats\n",
    "\n",
    "from sklearn.model_selection import train_test_split\n",
    "from sklearn.metrics import confusion_matrix\n",
    "from sklearn.metrics import roc_auc_score\n",
    "from sklearn.ensemble import RandomForestClassifier"
   ]
  },
  {
   "cell_type": "code",
   "execution_count": 24,
   "metadata": {
    "ExecuteTime": {
     "end_time": "2022-08-29T19:28:50.519478Z",
     "start_time": "2022-08-29T19:28:50.348937Z"
    }
   },
   "outputs": [],
   "source": [
    "propagation_mask = train_mask | val_mask    #Or: Sets each bit to 1 if one of two bits is 1\n",
    "out = model(data.x, data.y, data.edge_index, propagation_mask)\n",
    "pred = out[test_mask].argmax(dim=-1)\n",
    "test_acc = int((pred == data.y[test_mask]).sum()) / pred.size(0)"
   ]
  },
  {
   "cell_type": "code",
   "execution_count": 25,
   "metadata": {
    "ExecuteTime": {
     "end_time": "2022-08-29T19:28:50.526943Z",
     "start_time": "2022-08-29T19:28:50.521866Z"
    }
   },
   "outputs": [
    {
     "data": {
      "text/plain": [
       "True"
      ]
     },
     "execution_count": 25,
     "metadata": {},
     "output_type": "execute_result"
    }
   ],
   "source": [
    "0 in pred"
   ]
  },
  {
   "cell_type": "code",
   "execution_count": 26,
   "metadata": {
    "ExecuteTime": {
     "end_time": "2022-08-29T19:28:50.533408Z",
     "start_time": "2022-08-29T19:28:50.528978Z"
    }
   },
   "outputs": [
    {
     "data": {
      "text/plain": [
       "torch.Size([169343, 40])"
      ]
     },
     "execution_count": 26,
     "metadata": {},
     "output_type": "execute_result"
    }
   ],
   "source": [
    "out.size()"
   ]
  },
  {
   "cell_type": "code",
   "execution_count": 27,
   "metadata": {
    "ExecuteTime": {
     "end_time": "2022-08-29T19:28:50.538975Z",
     "start_time": "2022-08-29T19:28:50.535429Z"
    }
   },
   "outputs": [],
   "source": [
    "m = torch.nn.Softmax(dim=1)\n",
    "out_norm = m(out)"
   ]
  },
  {
   "cell_type": "code",
   "execution_count": 28,
   "metadata": {
    "ExecuteTime": {
     "end_time": "2022-08-29T19:28:50.545627Z",
     "start_time": "2022-08-29T19:28:50.541049Z"
    }
   },
   "outputs": [
    {
     "data": {
      "text/plain": [
       "torch.Size([48603, 40])"
      ]
     },
     "execution_count": 28,
     "metadata": {},
     "output_type": "execute_result"
    }
   ],
   "source": [
    "out_norm[test_mask].size()"
   ]
  },
  {
   "cell_type": "code",
   "execution_count": 29,
   "metadata": {
    "ExecuteTime": {
     "end_time": "2022-08-29T19:28:50.553161Z",
     "start_time": "2022-08-29T19:28:50.547668Z"
    }
   },
   "outputs": [
    {
     "data": {
      "text/plain": [
       "torch.Size([48603, 10])"
      ]
     },
     "execution_count": 29,
     "metadata": {},
     "output_type": "execute_result"
    }
   ],
   "source": [
    "classes = np.array([i for i in range(10)])\n",
    "out_norm[test_mask][:, classes].size()"
   ]
  },
  {
   "cell_type": "code",
   "execution_count": 30,
   "metadata": {
    "ExecuteTime": {
     "end_time": "2022-08-29T19:28:50.559970Z",
     "start_time": "2022-08-29T19:28:50.555189Z"
    }
   },
   "outputs": [
    {
     "data": {
      "text/plain": [
       "'torch.cuda.FloatTensor'"
      ]
     },
     "execution_count": 30,
     "metadata": {},
     "output_type": "execute_result"
    }
   ],
   "source": [
    "out_norm[test_mask][:, 0].type()"
   ]
  },
  {
   "cell_type": "code",
   "execution_count": 31,
   "metadata": {
    "ExecuteTime": {
     "end_time": "2022-08-29T19:28:50.566861Z",
     "start_time": "2022-08-29T19:28:50.562025Z"
    }
   },
   "outputs": [
    {
     "data": {
      "text/plain": [
       "True"
      ]
     },
     "execution_count": 31,
     "metadata": {},
     "output_type": "execute_result"
    }
   ],
   "source": [
    "out_norm[test_mask][:, 0].type() == 'torch.cuda.FloatTensor'"
   ]
  },
  {
   "cell_type": "code",
   "execution_count": 32,
   "metadata": {
    "ExecuteTime": {
     "end_time": "2022-08-29T19:28:50.573485Z",
     "start_time": "2022-08-29T19:28:50.568896Z"
    }
   },
   "outputs": [
    {
     "data": {
      "text/plain": [
       "torch.Size([48603])"
      ]
     },
     "execution_count": 32,
     "metadata": {},
     "output_type": "execute_result"
    }
   ],
   "source": [
    "data.y[test_mask].size()\n",
    "# y_real = [1 if y == 1 else 0 for y in data.y[test_mask]]"
   ]
  },
  {
   "cell_type": "code",
   "execution_count": 33,
   "metadata": {
    "ExecuteTime": {
     "end_time": "2022-08-29T19:28:50.579274Z",
     "start_time": "2022-08-29T19:28:50.575537Z"
    }
   },
   "outputs": [],
   "source": [
    "assert data.y[test_mask].size() == out_norm[test_mask][:, 0].size()"
   ]
  },
  {
   "cell_type": "code",
   "execution_count": 34,
   "metadata": {
    "ExecuteTime": {
     "end_time": "2022-08-29T19:28:50.586612Z",
     "start_time": "2022-08-29T19:28:50.581323Z"
    }
   },
   "outputs": [
    {
     "data": {
      "text/plain": [
       "array([ 0,  1,  2,  3,  4,  5,  6,  7,  8,  9, 10, 11, 12, 13, 14, 15, 16,\n",
       "       17, 18, 19, 20, 21, 22, 23, 24, 25, 26, 27, 28, 29, 30, 31, 32, 33,\n",
       "       34, 35, 36, 37, 38, 39])"
      ]
     },
     "execution_count": 34,
     "metadata": {},
     "output_type": "execute_result"
    }
   ],
   "source": [
    "classes = np.array([i for i in range(40)])\n",
    "classes"
   ]
  },
  {
   "cell_type": "code",
   "execution_count": 48,
   "metadata": {
    "ExecuteTime": {
     "end_time": "2022-08-29T19:41:43.088764Z",
     "start_time": "2022-08-29T19:41:43.071866Z"
    }
   },
   "outputs": [
    {
     "ename": "AttributeError",
     "evalue": "'numpy.int64' object has no attribute 'y'",
     "output_type": "error",
     "traceback": [
      "\u001b[0;31m---------------------------------------------------------------------------\u001b[0m",
      "\u001b[0;31mAttributeError\u001b[0m                            Traceback (most recent call last)",
      "Input \u001b[0;32mIn [48]\u001b[0m, in \u001b[0;36m<cell line: 2>\u001b[0;34m()\u001b[0m\n\u001b[1;32m      1\u001b[0m classes \u001b[38;5;241m=\u001b[39m np\u001b[38;5;241m.\u001b[39marray([i \u001b[38;5;28;01mfor\u001b[39;00m i \u001b[38;5;129;01min\u001b[39;00m \u001b[38;5;28mrange\u001b[39m(\u001b[38;5;241m20\u001b[39m, \u001b[38;5;241m23\u001b[39m)])\n\u001b[0;32m----> 2\u001b[0m plot_overlayed_roc_curve(classes, \u001b[43mdata\u001b[49m\u001b[38;5;241;43m.\u001b[39;49m\u001b[43my\u001b[49m[test_mask], out_norm[test_mask][:, classes], ncol\u001b[38;5;241m=\u001b[39m\u001b[38;5;241m5\u001b[39m)\n",
      "\u001b[0;31mAttributeError\u001b[0m: 'numpy.int64' object has no attribute 'y'"
     ]
    }
   ],
   "source": [
    "classes = np.array([i for i in range(20, 23)])\n",
    "plot_overlayed_roc_curve(classes, data.y[test_mask], out_norm[test_mask][:, classes], ncol=5)"
   ]
  },
  {
   "cell_type": "markdown",
   "metadata": {},
   "source": [
    "### Plot number of data points for each label"
   ]
  },
  {
   "cell_type": "code",
   "execution_count": 39,
   "metadata": {
    "ExecuteTime": {
     "end_time": "2022-08-29T19:29:58.984675Z",
     "start_time": "2022-08-29T19:29:58.961755Z"
    }
   },
   "outputs": [],
   "source": [
    "data.y[train_mask]\n",
    "labels_arr = data.y[train_mask].cpu().numpy()"
   ]
  },
  {
   "cell_type": "code",
   "execution_count": 47,
   "metadata": {
    "ExecuteTime": {
     "end_time": "2022-08-29T19:37:30.516718Z",
     "start_time": "2022-08-29T19:37:30.497725Z"
    }
   },
   "outputs": [
    {
     "ename": "AttributeError",
     "evalue": "'numpy.int64' object has no attribute 'y'",
     "output_type": "error",
     "traceback": [
      "\u001b[0;31m---------------------------------------------------------------------------\u001b[0m",
      "\u001b[0;31mAttributeError\u001b[0m                            Traceback (most recent call last)",
      "Input \u001b[0;32mIn [47]\u001b[0m, in \u001b[0;36m<cell line: 1>\u001b[0;34m()\u001b[0m\n\u001b[0;32m----> 1\u001b[0m \u001b[43mdata\u001b[49m\u001b[38;5;241;43m.\u001b[39;49m\u001b[43my\u001b[49m[train_mask]\u001b[38;5;241m.\u001b[39mtype()\n",
      "\u001b[0;31mAttributeError\u001b[0m: 'numpy.int64' object has no attribute 'y'"
     ]
    }
   ],
   "source": [
    "data.y[train_mask].type()"
   ]
  },
  {
   "cell_type": "code",
   "execution_count": 40,
   "metadata": {
    "ExecuteTime": {
     "end_time": "2022-08-29T19:30:01.149103Z",
     "start_time": "2022-08-29T19:30:01.144820Z"
    }
   },
   "outputs": [],
   "source": [
    "# List of keys\n",
    "classes = np.array([i for i in range(40)])\n",
    "  \n",
    "# initialize dictionary\n",
    "d = {}\n",
    "\n",
    "# iterating through the elements of list\n",
    "for i in classes:\n",
    "    d[i] = 0"
   ]
  },
  {
   "cell_type": "code",
   "execution_count": null,
   "metadata": {
    "ExecuteTime": {
     "end_time": "2022-08-29T19:30:11.124821Z",
     "start_time": "2022-08-29T19:30:10.659208Z"
    }
   },
   "outputs": [],
   "source": [
    "for data_pt in labels_arr:\n",
    "    d[data_pt] += 1\n",
    "d"
   ]
  },
  {
   "cell_type": "code",
   "execution_count": 43,
   "metadata": {
    "ExecuteTime": {
     "end_time": "2022-08-29T19:32:20.425031Z",
     "start_time": "2022-08-29T19:32:20.420580Z"
    }
   },
   "outputs": [
    {
     "data": {
      "text/plain": [
       "[437,\n",
       " 382,\n",
       " 3604,\n",
       " 1014,\n",
       " 2864,\n",
       " 2933,\n",
       " 703,\n",
       " 380,\n",
       " 4056,\n",
       " 2245,\n",
       " 5182,\n",
       " 391,\n",
       " 21,\n",
       " 1290,\n",
       " 473,\n",
       " 248,\n",
       " 9998,\n",
       " 202,\n",
       " 402,\n",
       " 1873,\n",
       " 1495,\n",
       " 304,\n",
       " 1268,\n",
       " 1539,\n",
       " 6989,\n",
       " 457,\n",
       " 2854,\n",
       " 1661,\n",
       " 16284,\n",
       " 239,\n",
       " 4334,\n",
       " 1350,\n",
       " 270,\n",
       " 926,\n",
       " 5426,\n",
       " 75,\n",
       " 2506,\n",
       " 1615,\n",
       " 1100,\n",
       " 1551]"
      ]
     },
     "execution_count": 43,
     "metadata": {},
     "output_type": "execute_result"
    }
   ],
   "source": [
    "list(d.values())"
   ]
  },
  {
   "cell_type": "code",
   "execution_count": 46,
   "metadata": {
    "ExecuteTime": {
     "end_time": "2022-08-29T19:34:53.949139Z",
     "start_time": "2022-08-29T19:34:53.667388Z"
    }
   },
   "outputs": [
    {
     "data": {
      "text/plain": [
       "<BarContainer object of 40 artists>"
      ]
     },
     "execution_count": 46,
     "metadata": {},
     "output_type": "execute_result"
    },
    {
     "data": {
      "image/png": "[encoded data removed]",
      "text/plain": [
       "<Figure size 864x432 with 1 Axes>"
      ]
     },
     "metadata": {
      "needs_background": "light"
     },
     "output_type": "display_data"
    }
   ],
   "source": [
    "fig, ax = plt.subplots(figsize=(12, 6))\n",
    "ax.bar(list(d.keys()), list(d.values()))"
   ]
  },
  {
   "cell_type": "code",
   "execution_count": 49,
   "metadata": {
    "ExecuteTime": {
     "end_time": "2022-08-29T19:43:35.970910Z",
     "start_time": "2022-08-29T19:43:35.966455Z"
    }
   },
   "outputs": [],
   "source": [
    "def plot_class_balance(classes, labels):\n",
    "    '''\n",
    "    Plots a bar graph of # of data points for each class\n",
    "    \n",
    "    Args:\n",
    "        classes: list of classes. Accepted datatypes: numpy list, python list\n",
    "        labels: list of labels. Accepted datatypes: numpy list, python list\n",
    "    '''\n",
    "    # initialize dictionary\n",
    "    d = {}\n",
    "\n",
    "    # iterating through the elements of list\n",
    "    for i in classes:\n",
    "        d[i] = 0\n",
    "    for data in labels:\n",
    "        d[data] += 1\n",
    "    fig, ax = plt.subplots(figsize=(12, 6))\n",
    "    ax.bar(list(d.keys()), list(d.values()))"
   ]
  },
  {
   "cell_type": "code",
   "execution_count": null,
   "metadata": {},
   "outputs": [],
   "source": []
  }
 ],
 "metadata": {
  "colab": {
   "collapsed_sections": [],
   "name": "unimp_arxiv.ipynb",
   "provenance": []
  },
  "kernelspec": {
   "display_name": "Python 3 (ipykernel)",
   "language": "python",
   "name": "python3"
  },
  "language_info": {
   "codemirror_mode": {
    "name": "ipython",
    "version": 3
   },
   "file_extension": ".py",
   "mimetype": "text/x-python",
   "name": "python",
   "nbconvert_exporter": "python",
   "pygments_lexer": "ipython3",
   "version": "3.9.12"
  }
 },
 "nbformat": 4,
 "nbformat_minor": 1
}
