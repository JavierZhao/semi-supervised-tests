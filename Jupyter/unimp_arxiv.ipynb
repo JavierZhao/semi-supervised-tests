{
 "cells": [
  {
   "cell_type": "code",
   "execution_count": 2,
   "metadata": {
    "ExecuteTime": {
     "end_time": "2022-08-31T17:15:07.399582Z",
     "start_time": "2022-08-31T17:15:06.893108Z"
    }
   },
   "outputs": [
    {
     "name": "stdout",
     "output_type": "stream",
     "text": [
      "\n",
      "==============NVSMI LOG==============\n",
      "\n",
      "Timestamp                                 : Wed Aug 31 17:15:06 2022\n",
      "Driver Version                            : 510.54\n",
      "CUDA Version                              : 11.6\n",
      "\n",
      "Attached GPUs                             : 1\n",
      "GPU 00000000:C4:00.0\n",
      "    Product Name                          : NVIDIA GeForce RTX 3090\n",
      "    Product Brand                         : GeForce\n",
      "    Product Architecture                  : Ampere\n",
      "    Display Mode                          : Disabled\n",
      "    Display Active                        : Disabled\n",
      "    Persistence Mode                      : Disabled\n",
      "    MIG Mode\n",
      "        Current                           : N/A\n",
      "        Pending                           : N/A\n",
      "    Accounting Mode                       : Disabled\n",
      "    Accounting Mode Buffer Size           : 4000\n",
      "    Driver Model\n",
      "        Current                           : N/A\n",
      "        Pending                           : N/A\n",
      "    Serial Number                         : N/A\n",
      "    GPU UUID                              : GPU-44a9dae1-a664-01ad-7158-a41c278b26fe\n",
      "    Minor Number                          : 7\n",
      "    VBIOS Version                         : 94.02.42.40.34\n",
      "    MultiGPU Board                        : No\n",
      "    Board ID                              : 0xc400\n",
      "    GPU Part Number                       : N/A\n",
      "    Module ID                             : 0\n",
      "    Inforom Version\n",
      "        Image Version                     : G001.0000.03.03\n",
      "        OEM Object                        : 2.0\n",
      "        ECC Object                        : N/A\n",
      "        Power Management Object           : N/A\n",
      "    GPU Operation Mode\n",
      "        Current                           : N/A\n",
      "        Pending                           : N/A\n",
      "    GSP Firmware Version                  : N/A\n",
      "    GPU Virtualization Mode\n",
      "        Virtualization Mode               : None\n",
      "        Host VGPU Mode                    : N/A\n",
      "    IBMNPU\n",
      "        Relaxed Ordering Mode             : N/A\n",
      "    PCI\n",
      "        Bus                               : 0xC4\n",
      "        Device                            : 0x00\n",
      "        Domain                            : 0x0000\n",
      "        Device Id                         : 0x220410DE\n",
      "        Bus Id                            : 00000000:C4:00.0\n",
      "        Sub System Id                     : 0x403B1458\n",
      "        GPU Link Info\n",
      "            PCIe Generation\n",
      "                Max                       : 4\n",
      "                Current                   : 1\n",
      "            Link Width\n",
      "                Max                       : 16x\n",
      "                Current                   : 16x\n",
      "        Bridge Chip\n",
      "            Type                          : N/A\n",
      "            Firmware                      : N/A\n",
      "        Replays Since Reset               : 0\n",
      "        Replay Number Rollovers           : 0\n",
      "        Tx Throughput                     : 0 KB/s\n",
      "        Rx Throughput                     : 0 KB/s\n",
      "    Fan Speed                             : 30 %\n",
      "    Performance State                     : P8\n",
      "    Clocks Throttle Reasons\n",
      "        Idle                              : Active\n",
      "        Applications Clocks Setting       : Not Active\n",
      "        SW Power Cap                      : Not Active\n",
      "        HW Slowdown                       : Not Active\n",
      "            HW Thermal Slowdown           : Not Active\n",
      "            HW Power Brake Slowdown       : Not Active\n",
      "        Sync Boost                        : Not Active\n",
      "        SW Thermal Slowdown               : Not Active\n",
      "        Display Clock Setting             : Not Active\n",
      "    FB Memory Usage\n",
      "        Total                             : 24576 MiB\n",
      "        Reserved                          : 307 MiB\n",
      "        Used                              : 0 MiB\n",
      "        Free                              : 24268 MiB\n",
      "    BAR1 Memory Usage\n",
      "        Total                             : 256 MiB\n",
      "        Used                              : 1 MiB\n",
      "        Free                              : 255 MiB\n",
      "    Compute Mode                          : Default\n",
      "    Utilization\n",
      "        Gpu                               : 0 %\n",
      "        Memory                            : 0 %\n",
      "        Encoder                           : 0 %\n",
      "        Decoder                           : 0 %\n",
      "    Encoder Stats\n",
      "        Active Sessions                   : 0\n",
      "        Average FPS                       : 0\n",
      "        Average Latency                   : 0\n",
      "    FBC Stats\n",
      "        Active Sessions                   : 0\n",
      "        Average FPS                       : 0\n",
      "        Average Latency                   : 0\n",
      "    Ecc Mode\n",
      "        Current                           : N/A\n",
      "        Pending                           : N/A\n",
      "    ECC Errors\n",
      "        Volatile\n",
      "            SRAM Correctable              : N/A\n",
      "            SRAM Uncorrectable            : N/A\n",
      "            DRAM Correctable              : N/A\n",
      "            DRAM Uncorrectable            : N/A\n",
      "        Aggregate\n",
      "            SRAM Correctable              : N/A\n",
      "            SRAM Uncorrectable            : N/A\n",
      "            DRAM Correctable              : N/A\n",
      "            DRAM Uncorrectable            : N/A\n",
      "    Retired Pages\n",
      "        Single Bit ECC                    : N/A\n",
      "        Double Bit ECC                    : N/A\n",
      "        Pending Page Blacklist            : N/A\n",
      "    Remapped Rows                         : N/A\n",
      "    Temperature\n",
      "        GPU Current Temp                  : 31 C\n",
      "        GPU Shutdown Temp                 : 98 C\n",
      "        GPU Slowdown Temp                 : 95 C\n",
      "        GPU Max Operating Temp            : 93 C\n",
      "        GPU Target Temperature            : 88 C\n",
      "        Memory Current Temp               : N/A\n",
      "        Memory Max Operating Temp         : N/A\n",
      "    Power Readings\n",
      "        Power Management                  : Supported\n",
      "        Power Draw                        : 22.27 W\n",
      "        Power Limit                       : 350.00 W\n",
      "        Default Power Limit               : 350.00 W\n",
      "        Enforced Power Limit              : 350.00 W\n",
      "        Min Power Limit                   : 100.00 W\n",
      "        Max Power Limit                   : 350.00 W\n",
      "    Clocks\n",
      "        Graphics                          : 0 MHz\n",
      "        SM                                : 0 MHz\n",
      "        Memory                            : 405 MHz\n",
      "        Video                             : 555 MHz\n",
      "    Applications Clocks\n",
      "        Graphics                          : N/A\n",
      "        Memory                            : N/A\n",
      "    Default Applications Clocks\n",
      "        Graphics                          : N/A\n",
      "        Memory                            : N/A\n",
      "    Max Clocks\n",
      "        Graphics                          : 2100 MHz\n",
      "        SM                                : 2100 MHz\n",
      "        Memory                            : 9751 MHz\n",
      "        Video                             : 1950 MHz\n",
      "    Max Customer Boost Clocks\n",
      "        Graphics                          : N/A\n",
      "    Clock Policy\n",
      "        Auto Boost                        : N/A\n",
      "        Auto Boost Default                : N/A\n",
      "    Voltage\n",
      "        Graphics                          : 0.000 mV\n",
      "    Processes                             : None\n",
      "\n"
     ]
    }
   ],
   "source": [
    "!nvidia-smi -q"
   ]
  },
  {
   "cell_type": "code",
   "execution_count": 3,
   "metadata": {
    "ExecuteTime": {
     "end_time": "2022-08-31T17:15:09.086501Z",
     "start_time": "2022-08-31T17:15:07.419660Z"
    },
    "colab": {
     "base_uri": "https://localhost:8080/",
     "height": 1000
    },
    "id": "SvhPQJwuouk-",
    "outputId": "cf8a2030-c3f4-4746-e325-8d34b78cdf5b"
   },
   "outputs": [],
   "source": [
    "import os.path as osp\n",
    "\n",
    "import torch\n",
    "import torch.nn.functional as F\n",
    "from ogb.nodeproppred import PygNodePropPredDataset\n",
    "\n",
    "import torch_geometric.transforms as T\n",
    "from torch_geometric.nn import MaskLabel, TransformerConv\n",
    "from torch_geometric.utils import index_to_mask"
   ]
  },
  {
   "cell_type": "code",
   "execution_count": 4,
   "metadata": {
    "ExecuteTime": {
     "end_time": "2022-08-31T17:15:10.208370Z",
     "start_time": "2022-08-31T17:15:09.087831Z"
    }
   },
   "outputs": [],
   "source": [
    "import sys\n",
    "sys.path.insert(0, '..')  #go up one directory\n",
    "from custom_libraries.my_functions import *"
   ]
  },
  {
   "cell_type": "code",
   "execution_count": 5,
   "metadata": {
    "ExecuteTime": {
     "end_time": "2022-08-31T17:15:10.510917Z",
     "start_time": "2022-08-31T17:15:10.210013Z"
    },
    "scrolled": true
   },
   "outputs": [
    {
     "name": "stdout",
     "output_type": "stream",
     "text": [
      "/ssl-jet-vol/semi-supervised-tests/Jupyter\r\n"
     ]
    }
   ],
   "source": [
    "!pwd"
   ]
  },
  {
   "cell_type": "code",
   "execution_count": 6,
   "metadata": {
    "ExecuteTime": {
     "end_time": "2022-08-31T17:15:15.182736Z",
     "start_time": "2022-08-31T17:15:10.512193Z"
    },
    "colab": {
     "base_uri": "https://localhost:8080/",
     "height": 232
    },
    "id": "8fI-8u88ojNj",
    "outputId": "08afed7f-7c95-48e1-b8ab-324286483f24"
   },
   "outputs": [
    {
     "data": {
      "text/plain": [
       "PygNodePropPredDataset()"
      ]
     },
     "execution_count": 6,
     "metadata": {},
     "output_type": "execute_result"
    }
   ],
   "source": [
    "root = \"/ssl-jet-vol/semi-supervised-tests/Jupyter/data/OGB\"\n",
    "dataset = PygNodePropPredDataset('ogbn-arxiv', root, T.ToUndirected())\n",
    "dataset"
   ]
  },
  {
   "cell_type": "code",
   "execution_count": 7,
   "metadata": {
    "ExecuteTime": {
     "end_time": "2022-08-31T17:15:15.189985Z",
     "start_time": "2022-08-31T17:15:15.184071Z"
    },
    "colab": {
     "base_uri": "https://localhost:8080/",
     "height": 232
    },
    "id": "8fI-8u88ojNj",
    "outputId": "08afed7f-7c95-48e1-b8ab-324286483f24"
   },
   "outputs": [],
   "source": [
    "class UniMP(torch.nn.Module):   #UniMP stands for Unified Message Passing\n",
    "    def __init__(self, in_channels, num_classes, hidden_channels, num_layers,\n",
    "                 heads, dropout=0.3):\n",
    "        super().__init__()\n",
    "\n",
    "        self.label_emb = MaskLabel(num_classes, in_channels)\n",
    "\n",
    "        self.convs = torch.nn.ModuleList()  # initialize self.convs\n",
    "        self.norms = torch.nn.ModuleList()  # initialize self.norms\n",
    "        for i in range(1, num_layers + 1):\n",
    "            if i < num_layers:\n",
    "                out_channels = hidden_channels // heads #what is a head?\n",
    "                concat = True   #what does concat do?\n",
    "            else:\n",
    "                out_channels = num_classes\n",
    "                concat = False\n",
    "            conv = TransformerConv(in_channels, out_channels, heads,\n",
    "                                   concat=concat, beta=True, dropout=dropout)\n",
    "            self.convs.append(conv)\n",
    "            in_channels = hidden_channels\n",
    "\n",
    "            if i < num_layers:\n",
    "                self.norms.append(torch.nn.LayerNorm(hidden_channels))\n",
    "                \n",
    "    def forward(self, x, y, edge_index, label_mask):\n",
    "        x = self.label_emb(x, y, label_mask)  #mask some of the input labels\n",
    "        for conv, norm in zip(self.convs, self.norms):\n",
    "            x = norm(conv(x, edge_index)).relu()\n",
    "        # conv -> norm -> ReLu -> conv -> norm -> Relu -> ... -> out\n",
    "        return self.convs[-1](x, edge_index)"
   ]
  },
  {
   "cell_type": "markdown",
   "metadata": {
    "id": "VFtGqDeHUc6Y"
   },
   "source": [
    "## Questions:  \n",
    "\n",
    "### 2. What does emb stand for?  \n",
    "Embedding\n",
    "\n",
    "### 3. What are normalization layers?  what do they do and why do we need them?\n",
    "https://pytorch.org/docs/stable/generated/torch.nn.LayerNorm.html  \n",
    "Normalization? but why?\n",
    "\n",
    "### 3.1 What are heads?  \n",
    "\n",
    "### 4. What does concat do?  \n",
    "If set to False, the multi-head attentions are averaged instead of concatenated. (default: True)  \n",
    "\n",
    "### 4.1 What are attentions?  \n",
    "\n",
    "### 7. Why a separate if statement for self.norms?\n",
    "\n",
    "\n",
    "### 8. What does each parameter mean in this function?  \n",
    "x: input?  \n",
    "y: output?  \n",
    "edge_index: how the graph is connected  \n",
    "label_mask: \n",
    "\n",
    "### 8.1 What does the first line do?  "
   ]
  },
  {
   "cell_type": "code",
   "execution_count": 8,
   "metadata": {
    "ExecuteTime": {
     "end_time": "2022-08-31T17:15:15.199989Z",
     "start_time": "2022-08-31T17:15:15.190688Z"
    },
    "id": "VFtGqDeHUc6Y"
   },
   "outputs": [
    {
     "data": {
      "text/plain": [
       "'\\ndef forward(self, x: Tensor, y: Tensor, mask: Tensor) -> Tensor:  \\n          \\n        if self.method == \"concat\":  \\n            out = x.new_zeros(y.size(0), self.emb.weight.size(-1))  \\n            out[mask] = self.emb(y[mask])  \\n            return torch.cat([x, out], dim=-1)  \\n        else:  \\n            x = torch.clone(x)  \\n            x[mask] += self.emb(y[mask])  \\n            return x\\n'"
      ]
     },
     "execution_count": 8,
     "metadata": {},
     "output_type": "execute_result"
    }
   ],
   "source": [
    "\"\"\"\n",
    "def forward(self, x: Tensor, y: Tensor, mask: Tensor) -> Tensor:  \n",
    "        \"\"\"\"\"\"  \n",
    "        if self.method == \"concat\":  \n",
    "            out = x.new_zeros(y.size(0), self.emb.weight.size(-1))  \n",
    "            out[mask] = self.emb(y[mask])  \n",
    "            return torch.cat([x, out], dim=-1)  \n",
    "        else:  \n",
    "            x = torch.clone(x)  \n",
    "            x[mask] += self.emb(y[mask])  \n",
    "            return x\n",
    "\"\"\""
   ]
  },
  {
   "cell_type": "markdown",
   "metadata": {},
   "source": [
    "I assume this applies the mask to the inputs x but why does this process involve y?  "
   ]
  },
  {
   "cell_type": "code",
   "execution_count": 9,
   "metadata": {
    "ExecuteTime": {
     "end_time": "2022-08-31T17:15:19.055707Z",
     "start_time": "2022-08-31T17:15:15.200686Z"
    },
    "id": "gMlfPgRjr31t"
   },
   "outputs": [],
   "source": [
    "device = torch.device('cuda' if torch.cuda.is_available() else 'cpu')\n",
    "data = dataset[0].to(device)\n",
    "data.y = data.y.view(-1)\n",
    "model = UniMP(dataset.num_features, dataset.num_classes, hidden_channels=64,\n",
    "              num_layers=3, heads=2).to(device)\n",
    "optimizer = torch.optim.Adam(model.parameters(), lr=0.001, weight_decay=0.0005)\n",
    " \n",
    "split_idx = dataset.get_idx_split()   # train/val/test split\n",
    "train_mask = index_to_mask(split_idx['train'], size=data.num_nodes)\n",
    "val_mask = index_to_mask(split_idx['valid'], size=data.num_nodes)\n",
    "test_mask = index_to_mask(split_idx['test'], size=data.num_nodes)"
   ]
  },
  {
   "cell_type": "markdown",
   "metadata": {
    "id": "BeJyK5jpVwxU"
   },
   "source": [
    "### 10. What is weight_decay?  \n",
    "L2 penalty  \n",
    "https://swamp-father-f58.notion.site/2-3-Lecture-Dealing-with-Overfitting-f1a77a6d12f445698e4d8cb340300d88\n",
    "\n",
    "### 12. What does the mask do?  \n",
    "They mask some of the labels, preventing the nodes from accessing those labels during training/validation/testing\n",
    "\n"
   ]
  },
  {
   "cell_type": "code",
   "execution_count": 10,
   "metadata": {
    "ExecuteTime": {
     "end_time": "2022-08-31T17:15:19.061519Z",
     "start_time": "2022-08-31T17:15:19.056738Z"
    },
    "id": "K3nkFpQStWsW"
   },
   "outputs": [],
   "source": [
    "def train(label_rate=0.65):  # How many labels to use for propagation.\n",
    "    model.train()\n",
    "\n",
    "    propagation_mask = MaskLabel.ratio_mask(train_mask, ratio=label_rate)\n",
    "    # Randomly modifies mask by setting a certain ratio (label_rate) of True entries to False\n",
    "    supervision_mask = train_mask ^ propagation_mask  # Exclusive or: Sets each bit to 1 if only one of two bits is 1\n",
    "#     print(\"train_mask:\", train_mask)\n",
    "#     print(\"propagation_mask:\", propagation_mask)\n",
    "#     print(\"supervision_mask:\", supervision_mask)\n",
    "\n",
    "    # how to implement mini-batch gradient descent here? Right now going through the data set all at once, taking up too much memory\n",
    "    optimizer.zero_grad()\n",
    "    out = model(data.x, data.y, data.edge_index, propagation_mask)  #forward is called\n",
    "    loss = F.cross_entropy(out[supervision_mask], data.y[supervision_mask])\n",
    "    loss.backward()\n",
    "    optimizer.step()\n",
    "\n",
    "    return float(loss)\n",
    "\n",
    "\n",
    "@torch.no_grad()\n",
    "def test():\n",
    "    model.eval()\n",
    "\n",
    "    # evaluation\n",
    "    propagation_mask = train_mask  #no masked nodes while testing\n",
    "    out = model(data.x, data.y, data.edge_index, propagation_mask)  # forward is called\n",
    "    pred = out[val_mask].argmax(dim=-1)  #indices of maximum values across the last dimension\n",
    "    val_acc = int((pred == data.y[val_mask]).sum()) / pred.size(0)  # Validation accuracy\n",
    "#     print(\"out:\", out)\n",
    "#     print(\"out dim:\", out.size())\n",
    "#     print(\"out[val_mask] dim:\", out[val_mask].size())\n",
    "#     print(\"out[test_mask] size:\", out[test_mask].size())\n",
    "#     print(\"out[train_mask] size:\", out[train_mask].size())\n",
    "#     print(\"out summed over dimension 1\", torch.sum(out, dim=1))\n",
    "# #     print(\"out[val_mask]:\", out[val_mask])\n",
    "#     print(\"eval pred:\", pred)\n",
    "#     print(\"labels:\", data.y[val_mask])\n",
    "#     print(\"pred size:\",pred.size())\n",
    "#     print(\"data.y[val_mask] size:\", data.y[val_mask].size())\n",
    "\n",
    "    # testing\n",
    "    propagation_mask = train_mask | val_mask    #Or: Sets each bit to 1 if one of two bits is 1\n",
    "    out = model(data.x, data.y, data.edge_index, propagation_mask)\n",
    "    pred = out[test_mask].argmax(dim=-1)\n",
    "    test_acc = int((pred == data.y[test_mask]).sum()) / pred.size(0)\n",
    "#     print(\"test pred\", pred)\n",
    "    \n",
    "#     print(\"labels:\", data.y[test_mask])\n",
    "\n",
    "    return val_acc, test_acc"
   ]
  },
  {
   "cell_type": "markdown",
   "metadata": {},
   "source": [
    "# Summary\n",
    "out is a torch tensor of dimension [169343, 40].  \n",
    "out[val_mask] is a torch tensor of dimension [29799, 40].  \n",
    "This ratio 0.1759683 should be one of the three numbers in the train/val/test split.  \n",
    "This is confirmed by   \n",
    "out[val_mask] dim: torch.Size([29799, 40])  \n",
    "out[test_mask] size: torch.Size([48603, 40])  \n",
    "out[train_mask] size: torch.Size([90941, 40])  \n",
    "(The three numbers add up to out.size(0))  \n",
    "\n",
    "(during evaluation) pred is a torch tensor of dimension [29799]  \n",
    "It is the indices of maximum values across the second dimension of out[val_mask]\n",
    "\n",
    "I am assuming each of the 40 numbers is some sort of probability of classifying a data point into a certain category. **But they are negative and do not sum to 1. How to interpret these?**   \n",
    "\n",
    "Apply softmax to the results to obtain probabilities.\n",
    "This way, pred then consists of the predictions of the model (which category does a certain data point fall into)"
   ]
  },
  {
   "cell_type": "markdown",
   "metadata": {
    "id": "z9i8Jh2wWHqc"
   },
   "source": [
    "### 13. What is propagation_mask?  \n",
    "decides which nodes to use for message passing\n",
    "### 13.1 What is supervision_mask?  \n",
    "decides which nodes to use for verifying predictions  \n",
    "(propagation + supervision = training)\n",
    "\n",
    "## 14. What is argmax(dim=-1)\n",
    "Returns the indices of the maximum values of a tensor across a dimension.\n",
    "https://pytorch.org/docs/stable/generated/torch.argmax.html\n",
    "\n",
    "finding the argument that gives the max value across the last dimension, which is 40.  \n",
    "But now what does the 40 represent?  \n",
    "40 categories"
   ]
  },
  {
   "cell_type": "code",
   "execution_count": 11,
   "metadata": {
    "ExecuteTime": {
     "end_time": "2022-08-31T17:15:19.067430Z",
     "start_time": "2022-08-31T17:15:19.063143Z"
    }
   },
   "outputs": [],
   "source": [
    "def reset_params(model):\n",
    "    for layer in model.children():\n",
    "       if hasattr(layer, 'reset_parameters'):\n",
    "           layer.reset_parameters()"
   ]
  },
  {
   "cell_type": "code",
   "execution_count": 12,
   "metadata": {
    "ExecuteTime": {
     "end_time": "2022-08-31T17:16:41.200645Z",
     "start_time": "2022-08-31T17:15:19.089805Z"
    },
    "id": "5phe-4Fur8I4"
   },
   "outputs": [
    {
     "name": "stdout",
     "output_type": "stream",
     "text": [
      "Epoch: 001, Loss: 3.6915, Val: 0.1641, Test: 0.1834\n",
      "Epoch: 002, Loss: 3.5769, Val: 0.3928, Test: 0.4312\n",
      "Epoch: 003, Loss: 3.4839, Val: 0.4150, Test: 0.4491\n",
      "Epoch: 004, Loss: 3.4081, Val: 0.4208, Test: 0.4559\n",
      "Epoch: 005, Loss: 3.3362, Val: 0.4357, Test: 0.4708\n",
      "Epoch: 006, Loss: 3.2734, Val: 0.4506, Test: 0.4853\n",
      "Epoch: 007, Loss: 3.2124, Val: 0.4687, Test: 0.5000\n",
      "Epoch: 008, Loss: 3.1562, Val: 0.4951, Test: 0.5271\n",
      "Epoch: 009, Loss: 3.1040, Val: 0.5187, Test: 0.5509\n",
      "Epoch: 010, Loss: 3.0538, Val: 0.5346, Test: 0.5657\n",
      "Epoch: 011, Loss: 3.0065, Val: 0.5470, Test: 0.5774\n",
      "Epoch: 012, Loss: 2.9587, Val: 0.5581, Test: 0.5873\n",
      "Epoch: 013, Loss: 2.9120, Val: 0.5677, Test: 0.5972\n",
      "Epoch: 014, Loss: 2.8653, Val: 0.5754, Test: 0.6037\n",
      "Epoch: 015, Loss: 2.8221, Val: 0.5819, Test: 0.6106\n",
      "Epoch: 016, Loss: 2.7772, Val: 0.5900, Test: 0.6169\n",
      "Epoch: 017, Loss: 2.7323, Val: 0.5965, Test: 0.6225\n",
      "Epoch: 018, Loss: 2.6902, Val: 0.6028, Test: 0.6264\n",
      "Epoch: 019, Loss: 2.6450, Val: 0.6082, Test: 0.6292\n",
      "Epoch: 020, Loss: 2.6110, Val: 0.6115, Test: 0.6319\n",
      "Epoch: 021, Loss: 2.5652, Val: 0.6143, Test: 0.6345\n",
      "Epoch: 022, Loss: 2.5243, Val: 0.6176, Test: 0.6361\n",
      "Epoch: 023, Loss: 2.4812, Val: 0.6199, Test: 0.6378\n",
      "Epoch: 024, Loss: 2.4433, Val: 0.6220, Test: 0.6401\n",
      "Epoch: 025, Loss: 2.4041, Val: 0.6247, Test: 0.6418\n",
      "Epoch: 026, Loss: 2.3639, Val: 0.6275, Test: 0.6433\n",
      "Epoch: 027, Loss: 2.3236, Val: 0.6300, Test: 0.6453\n",
      "Epoch: 028, Loss: 2.2892, Val: 0.6323, Test: 0.6470\n",
      "Epoch: 029, Loss: 2.2553, Val: 0.6344, Test: 0.6489\n",
      "Epoch: 030, Loss: 2.2183, Val: 0.6380, Test: 0.6515\n",
      "Epoch: 031, Loss: 2.1769, Val: 0.6399, Test: 0.6535\n",
      "Epoch: 032, Loss: 2.1610, Val: 0.6419, Test: 0.6547\n",
      "Epoch: 033, Loss: 2.1279, Val: 0.6430, Test: 0.6555\n",
      "Epoch: 034, Loss: 2.0799, Val: 0.6445, Test: 0.6564\n",
      "Epoch: 035, Loss: 2.0496, Val: 0.6462, Test: 0.6573\n",
      "Epoch: 036, Loss: 2.0195, Val: 0.6480, Test: 0.6588\n",
      "Epoch: 037, Loss: 1.9994, Val: 0.6498, Test: 0.6606\n",
      "Epoch: 038, Loss: 1.9727, Val: 0.6519, Test: 0.6623\n",
      "Epoch: 039, Loss: 1.9365, Val: 0.6538, Test: 0.6644\n",
      "Epoch: 040, Loss: 1.9122, Val: 0.6557, Test: 0.6670\n",
      "Epoch: 041, Loss: 1.8869, Val: 0.6576, Test: 0.6685\n",
      "Epoch: 042, Loss: 1.8609, Val: 0.6591, Test: 0.6698\n",
      "Epoch: 043, Loss: 1.8309, Val: 0.6597, Test: 0.6707\n",
      "Epoch: 044, Loss: 1.8001, Val: 0.6607, Test: 0.6710\n",
      "Epoch: 045, Loss: 1.7800, Val: 0.6625, Test: 0.6723\n",
      "Epoch: 046, Loss: 1.7651, Val: 0.6637, Test: 0.6738\n",
      "Epoch: 047, Loss: 1.7330, Val: 0.6651, Test: 0.6743\n",
      "Epoch: 048, Loss: 1.7064, Val: 0.6668, Test: 0.6755\n",
      "Epoch: 049, Loss: 1.6968, Val: 0.6679, Test: 0.6764\n",
      "Epoch: 050, Loss: 1.6791, Val: 0.6696, Test: 0.6783\n",
      "Epoch: 051, Loss: 1.6519, Val: 0.6707, Test: 0.6807\n",
      "Epoch: 052, Loss: 1.6442, Val: 0.6719, Test: 0.6830\n",
      "Epoch: 053, Loss: 1.6185, Val: 0.6741, Test: 0.6844\n",
      "Epoch: 054, Loss: 1.6191, Val: 0.6759, Test: 0.6860\n",
      "Epoch: 055, Loss: 1.5850, Val: 0.6776, Test: 0.6877\n",
      "Epoch: 056, Loss: 1.5723, Val: 0.6791, Test: 0.6900\n",
      "Epoch: 057, Loss: 1.5509, Val: 0.6805, Test: 0.6916\n",
      "Epoch: 058, Loss: 1.5354, Val: 0.6810, Test: 0.6923\n",
      "Epoch: 059, Loss: 1.5314, Val: 0.6817, Test: 0.6916\n",
      "Epoch: 060, Loss: 1.5186, Val: 0.6819, Test: 0.6901\n",
      "Epoch: 061, Loss: 1.4958, Val: 0.6823, Test: 0.6903\n",
      "Epoch: 062, Loss: 1.4848, Val: 0.6839, Test: 0.6927\n",
      "Epoch: 063, Loss: 1.4701, Val: 0.6861, Test: 0.6952\n",
      "Epoch: 064, Loss: 1.4699, Val: 0.6875, Test: 0.6967\n",
      "Epoch: 065, Loss: 1.4501, Val: 0.6882, Test: 0.6968\n",
      "Epoch: 066, Loss: 1.4495, Val: 0.6887, Test: 0.6975\n",
      "Epoch: 067, Loss: 1.4298, Val: 0.6888, Test: 0.6982\n",
      "Epoch: 068, Loss: 1.4297, Val: 0.6882, Test: 0.6970\n",
      "Epoch: 069, Loss: 1.4111, Val: 0.6882, Test: 0.6969\n",
      "Epoch: 070, Loss: 1.3823, Val: 0.6889, Test: 0.6969\n",
      "Epoch: 071, Loss: 1.3734, Val: 0.6902, Test: 0.6984\n",
      "Epoch: 072, Loss: 1.3860, Val: 0.6913, Test: 0.6993\n",
      "Epoch: 073, Loss: 1.3667, Val: 0.6926, Test: 0.7002\n",
      "Epoch: 074, Loss: 1.3548, Val: 0.6923, Test: 0.7004\n",
      "Epoch: 075, Loss: 1.3574, Val: 0.6926, Test: 0.7009\n",
      "Epoch: 076, Loss: 1.3416, Val: 0.6925, Test: 0.7010\n",
      "Epoch: 077, Loss: 1.3416, Val: 0.6933, Test: 0.7018\n",
      "Epoch: 078, Loss: 1.3243, Val: 0.6949, Test: 0.7039\n",
      "Epoch: 079, Loss: 1.3284, Val: 0.6958, Test: 0.7039\n",
      "Epoch: 080, Loss: 1.3230, Val: 0.6954, Test: 0.7032\n",
      "Epoch: 081, Loss: 1.3279, Val: 0.6960, Test: 0.7026\n",
      "Epoch: 082, Loss: 1.3048, Val: 0.6956, Test: 0.7024\n",
      "Epoch: 083, Loss: 1.3046, Val: 0.6961, Test: 0.7027\n",
      "Epoch: 084, Loss: 1.2839, Val: 0.6969, Test: 0.7043\n",
      "Epoch: 085, Loss: 1.2757, Val: 0.6982, Test: 0.7063\n",
      "Epoch: 086, Loss: 1.2718, Val: 0.6991, Test: 0.7073\n",
      "Epoch: 087, Loss: 1.2695, Val: 0.6996, Test: 0.7071\n",
      "Epoch: 088, Loss: 1.2727, Val: 0.6976, Test: 0.7049\n",
      "Epoch: 089, Loss: 1.2547, Val: 0.6971, Test: 0.7027\n",
      "Epoch: 090, Loss: 1.2445, Val: 0.6975, Test: 0.7030\n",
      "Epoch: 091, Loss: 1.2499, Val: 0.6994, Test: 0.7051\n",
      "Epoch: 092, Loss: 1.2549, Val: 0.7016, Test: 0.7085\n",
      "Epoch: 093, Loss: 1.2303, Val: 0.7020, Test: 0.7112\n",
      "Epoch: 094, Loss: 1.2436, Val: 0.7022, Test: 0.7111\n",
      "Epoch: 095, Loss: 1.2341, Val: 0.7031, Test: 0.7113\n",
      "Epoch: 096, Loss: 1.2175, Val: 0.7038, Test: 0.7115\n",
      "Epoch: 097, Loss: 1.2264, Val: 0.7044, Test: 0.7117\n",
      "Epoch: 098, Loss: 1.2093, Val: 0.7056, Test: 0.7117\n",
      "Epoch: 099, Loss: 1.2172, Val: 0.7062, Test: 0.7128\n",
      "Epoch: 100, Loss: 1.2107, Val: 0.7068, Test: 0.7129\n"
     ]
    }
   ],
   "source": [
    "reset_params(model)\n",
    "\n",
    "label_rate = 0.65\n",
    "num_epochs = 100\n",
    "loss_lst, val_acc_lst, test_acc_lst = [], [], []\n",
    "\n",
    "for epoch in range(1, num_epochs+1):\n",
    "    loss = train(label_rate = label_rate)\n",
    "    val_acc, test_acc = test()\n",
    "    print(f'Epoch: {epoch:03d}, Loss: {loss:.4f}, Val: {val_acc:.4f}, '\n",
    "          f'Test: {test_acc:.4f}')\n",
    "    loss_lst.append(loss)\n",
    "    val_acc_lst.append(val_acc)\n",
    "    test_acc_lst.append(test_acc)"
   ]
  },
  {
   "cell_type": "code",
   "execution_count": 13,
   "metadata": {
    "ExecuteTime": {
     "end_time": "2022-08-31T17:16:41.220831Z",
     "start_time": "2022-08-31T17:16:41.202122Z"
    }
   },
   "outputs": [],
   "source": [
    "# To plot pretty figures\n",
    "%matplotlib inline\n",
    "import matplotlib as mpl\n",
    "import matplotlib.pyplot as plt\n",
    "mpl.rc('axes', labelsize=14)\n",
    "mpl.rc('xtick', labelsize=12)\n",
    "mpl.rc('ytick', labelsize=12)"
   ]
  },
  {
   "cell_type": "code",
   "execution_count": 14,
   "metadata": {
    "ExecuteTime": {
     "end_time": "2022-08-31T17:16:41.394376Z",
     "start_time": "2022-08-31T17:16:41.221774Z"
    }
   },
   "outputs": [
    {
     "data": {
      "image/png": "[encoded data removed]",
      "text/plain": [
       "<Figure size 432x288 with 1 Axes>"
      ]
     },
     "metadata": {
      "needs_background": "light"
     },
     "output_type": "display_data"
    }
   ],
   "source": [
    "marker_size = 1\n",
    "plt.plot(loss_lst, \"r.\", markersize=marker_size, label=\"loss\")\n",
    "plt.plot(val_acc_lst, \"b.\", markersize=marker_size, label=\"val acc\")\n",
    "plt.plot(test_acc_lst, \"g.\",markersize=marker_size, label=\"test acc\")\n",
    "plt.xlabel(\"Epochs\", fontsize=18)\n",
    "# plt.ylabel(\"value of params\", rotation=90, fontsize=18)\n",
    "plt.legend(loc=\"best\", fontsize=10)\n",
    "# plt.xlim([200, 500])\n",
    "plt.show()"
   ]
  },
  {
   "cell_type": "code",
   "execution_count": 15,
   "metadata": {
    "ExecuteTime": {
     "end_time": "2022-08-31T17:16:41.560178Z",
     "start_time": "2022-08-31T17:16:41.395465Z"
    }
   },
   "outputs": [
    {
     "data": {
      "image/png": "[encoded data removed]",
      "text/plain": [
       "<Figure size 432x288 with 1 Axes>"
      ]
     },
     "metadata": {
      "needs_background": "light"
     },
     "output_type": "display_data"
    }
   ],
   "source": [
    "marker_size = 1\n",
    "plt.plot(val_acc_lst, \"b.\", markersize=marker_size, label=\"val acc\")\n",
    "plt.plot(test_acc_lst, \"g.\",markersize=marker_size, label=\"test acc\")\n",
    "plt.xlabel(\"Epochs\", fontsize=18)\n",
    "# plt.ylabel(\"value of params\", rotation=90, fontsize=18)\n",
    "plt.legend(loc=\"best\", fontsize=10)\n",
    "# plt.xlim([200, 500])\n",
    "plt.show()"
   ]
  },
  {
   "cell_type": "code",
   "execution_count": 16,
   "metadata": {
    "ExecuteTime": {
     "end_time": "2022-08-31T17:16:41.571398Z",
     "start_time": "2022-08-31T17:16:41.566540Z"
    }
   },
   "outputs": [
    {
     "name": "stdout",
     "output_type": "stream",
     "text": [
      "best val epoch: tensor(99)\n",
      "best test epoch: tensor(99)\n",
      "best val acc: tensor(0.7068)\n",
      "best test acc: tensor(0.7129)\n"
     ]
    }
   ],
   "source": [
    "print(\"best val epoch:\", torch.Tensor(val_acc_lst).argmax())\n",
    "print(\"best test epoch:\", torch.Tensor(test_acc_lst).argmax())\n",
    "print(\"best val acc:\", torch.Tensor(val_acc_lst).max())\n",
    "print(\"best test acc:\", torch.Tensor(test_acc_lst).max())"
   ]
  },
  {
   "cell_type": "markdown",
   "metadata": {},
   "source": [
    "# Optimize label_rate"
   ]
  },
  {
   "cell_type": "code",
   "execution_count": 17,
   "metadata": {
    "ExecuteTime": {
     "end_time": "2022-08-31T17:16:41.577284Z",
     "start_time": "2022-08-31T17:16:41.572165Z"
    }
   },
   "outputs": [],
   "source": [
    "import numpy as np\n",
    "label_rate_arr = np.linspace(0.0, 1.0, num=21)"
   ]
  },
  {
   "cell_type": "code",
   "execution_count": 18,
   "metadata": {
    "ExecuteTime": {
     "end_time": "2022-08-31T17:16:41.580940Z",
     "start_time": "2022-08-31T17:16:41.578222Z"
    }
   },
   "outputs": [],
   "source": [
    "def optimization_loop(label_rate):\n",
    "    reset_params(model)\n",
    "    num_epochs = 300\n",
    "    loss_lst, val_acc_lst, test_acc_lst = [], [], []\n",
    "\n",
    "    print(f'Label_rate: {label_rate}')\n",
    "    for epoch in range(1, num_epochs+1):\n",
    "        loss = train(label_rate = label_rate)\n",
    "        val_acc, test_acc = test()\n",
    "        print(f'Epoch: {epoch:03d}, Loss: {loss:.4f}, Val: {val_acc:.4f}, '\n",
    "              f'Test: {test_acc:.4f}')\n",
    "        loss_lst.append(loss)\n",
    "        val_acc_lst.append(val_acc)\n",
    "        test_acc_lst.append(test_acc)\n",
    "    return loss_lst, val_acc_lst, test_acc_lst"
   ]
  },
  {
   "cell_type": "code",
   "execution_count": 19,
   "metadata": {
    "ExecuteTime": {
     "end_time": "2022-08-31T17:16:41.583556Z",
     "start_time": "2022-08-31T17:16:41.581809Z"
    }
   },
   "outputs": [],
   "source": [
    "# best_val_acc_lst, best_val_epoch_lst, best_test_acc_lst, best_test_epoch_lst = [], [], [], []\n",
    "# for lr in label_rate_arr:\n",
    "#     print(lr)\n",
    "#     lost_lst, val_acc_lst, test_acc_lst = optimization_loop(lr)\n",
    "    \n",
    "#     best_val_epoch_lst.append(torch.Tensor(val_acc_lst).argmax())\n",
    "#     best_val_acc_lst.append(torch.Tensor(val_acc_lst).max())\n",
    "#     best_test_epoch_lst.append(torch.Tensor(test_acc_lst).argmax())\n",
    "#     best_test_acc_lst.append(torch.Tensor(test_acc_lst).max())"
   ]
  },
  {
   "cell_type": "code",
   "execution_count": 20,
   "metadata": {
    "ExecuteTime": {
     "end_time": "2022-08-31T17:16:41.587551Z",
     "start_time": "2022-08-31T17:16:41.584443Z"
    }
   },
   "outputs": [],
   "source": [
    "\n",
    "\n",
    "# marker_size = 3\n",
    "# fig, axs = plt.subplots(2, 2)\n",
    "# axs[0, 0].plot(best_val_epoch_lst, \"b.\", markersize=marker_size)\n",
    "# axs[0, 0].set_title(\"best val epoch\")\n",
    "\n",
    "\n",
    "# axs[0, 1].plot(best_val_acc_lst, \"b.\",markersize=marker_size)\n",
    "# axs[0, 1].set_title(\"best val acc\")\n",
    "\n",
    "# axs[1, 0].plot(best_test_epoch_lst, \"b.\",markersize=marker_size)\n",
    "# axs[1, 0].set_title(\"best test epoch\")\n",
    "\n",
    "# axs[1, 1].plot(best_test_acc_lst, \"b.\",markersize=marker_size)\n",
    "# axs[1, 1].set_title(\"best test acc\")\n",
    "\n",
    "# plt.show()"
   ]
  },
  {
   "cell_type": "markdown",
   "metadata": {},
   "source": [
    "## Try to plot the ROC curve\n",
    "y-axis: true positive rate = test_acc  \n",
    "x-axis: false positive rate"
   ]
  },
  {
   "cell_type": "code",
   "execution_count": 21,
   "metadata": {
    "ExecuteTime": {
     "end_time": "2022-08-31T17:16:41.621154Z",
     "start_time": "2022-08-31T17:16:41.588453Z"
    }
   },
   "outputs": [],
   "source": [
    "import pandas as pd\n",
    "import numpy as np\n",
    "import matplotlib.pyplot as plt\n",
    "import seaborn as sns\n",
    "from scipy import stats\n",
    "\n",
    "from sklearn.model_selection import train_test_split\n",
    "from sklearn.metrics import confusion_matrix\n",
    "from sklearn.metrics import roc_auc_score\n",
    "from sklearn.ensemble import RandomForestClassifier"
   ]
  },
  {
   "cell_type": "code",
   "execution_count": 22,
   "metadata": {
    "ExecuteTime": {
     "end_time": "2022-08-31T17:16:41.809872Z",
     "start_time": "2022-08-31T17:16:41.622262Z"
    }
   },
   "outputs": [],
   "source": [
    "propagation_mask = train_mask | val_mask    #Or: Sets each bit to 1 if one of two bits is 1\n",
    "out = model(data.x, data.y, data.edge_index, propagation_mask)\n",
    "pred = out[test_mask].argmax(dim=-1)\n",
    "test_acc = int((pred == data.y[test_mask]).sum()) / pred.size(0)"
   ]
  },
  {
   "cell_type": "code",
   "execution_count": 23,
   "metadata": {
    "ExecuteTime": {
     "end_time": "2022-08-31T17:16:41.816127Z",
     "start_time": "2022-08-31T17:16:41.810969Z"
    }
   },
   "outputs": [
    {
     "data": {
      "text/plain": [
       "True"
      ]
     },
     "execution_count": 23,
     "metadata": {},
     "output_type": "execute_result"
    }
   ],
   "source": [
    "0 in pred"
   ]
  },
  {
   "cell_type": "code",
   "execution_count": 24,
   "metadata": {
    "ExecuteTime": {
     "end_time": "2022-08-31T17:16:41.822925Z",
     "start_time": "2022-08-31T17:16:41.817042Z"
    }
   },
   "outputs": [
    {
     "data": {
      "text/plain": [
       "torch.Size([169343, 40])"
      ]
     },
     "execution_count": 24,
     "metadata": {},
     "output_type": "execute_result"
    }
   ],
   "source": [
    "out.size()"
   ]
  },
  {
   "cell_type": "code",
   "execution_count": 25,
   "metadata": {
    "ExecuteTime": {
     "end_time": "2022-08-31T17:16:41.831066Z",
     "start_time": "2022-08-31T17:16:41.826436Z"
    }
   },
   "outputs": [],
   "source": [
    "m = torch.nn.Softmax(dim=1)\n",
    "out_norm = m(out)"
   ]
  },
  {
   "cell_type": "code",
   "execution_count": 26,
   "metadata": {
    "ExecuteTime": {
     "end_time": "2022-08-31T17:16:41.852098Z",
     "start_time": "2022-08-31T17:16:41.831963Z"
    }
   },
   "outputs": [
    {
     "data": {
      "text/plain": [
       "torch.Size([48603, 40])"
      ]
     },
     "execution_count": 26,
     "metadata": {},
     "output_type": "execute_result"
    }
   ],
   "source": [
    "out_norm[test_mask].size()"
   ]
  },
  {
   "cell_type": "code",
   "execution_count": 27,
   "metadata": {
    "ExecuteTime": {
     "end_time": "2022-08-31T17:16:41.916099Z",
     "start_time": "2022-08-31T17:16:41.853048Z"
    }
   },
   "outputs": [
    {
     "data": {
      "text/plain": [
       "torch.Size([48603, 10])"
      ]
     },
     "execution_count": 27,
     "metadata": {},
     "output_type": "execute_result"
    }
   ],
   "source": [
    "classes = np.array([i for i in range(10)])\n",
    "out_norm[test_mask][:, classes].size()"
   ]
  },
  {
   "cell_type": "code",
   "execution_count": 28,
   "metadata": {
    "ExecuteTime": {
     "end_time": "2022-08-31T17:16:41.924092Z",
     "start_time": "2022-08-31T17:16:41.917325Z"
    }
   },
   "outputs": [
    {
     "data": {
      "text/plain": [
       "'torch.cuda.FloatTensor'"
      ]
     },
     "execution_count": 28,
     "metadata": {},
     "output_type": "execute_result"
    }
   ],
   "source": [
    "out_norm[test_mask][:, 0].type()"
   ]
  },
  {
   "cell_type": "code",
   "execution_count": 29,
   "metadata": {
    "ExecuteTime": {
     "end_time": "2022-08-31T17:16:41.928681Z",
     "start_time": "2022-08-31T17:16:41.926128Z"
    }
   },
   "outputs": [
    {
     "data": {
      "text/plain": [
       "True"
      ]
     },
     "execution_count": 29,
     "metadata": {},
     "output_type": "execute_result"
    }
   ],
   "source": [
    "out_norm[test_mask][:, 0].type() == 'torch.cuda.FloatTensor'"
   ]
  },
  {
   "cell_type": "code",
   "execution_count": 30,
   "metadata": {
    "ExecuteTime": {
     "end_time": "2022-08-31T17:16:41.942204Z",
     "start_time": "2022-08-31T17:16:41.929559Z"
    }
   },
   "outputs": [
    {
     "data": {
      "text/plain": [
       "torch.Size([48603])"
      ]
     },
     "execution_count": 30,
     "metadata": {},
     "output_type": "execute_result"
    }
   ],
   "source": [
    "data.y[test_mask].size()\n",
    "# y_real = [1 if y == 1 else 0 for y in data.y[test_mask]]"
   ]
  },
  {
   "cell_type": "code",
   "execution_count": 31,
   "metadata": {
    "ExecuteTime": {
     "end_time": "2022-08-31T17:16:41.945888Z",
     "start_time": "2022-08-31T17:16:41.943049Z"
    }
   },
   "outputs": [],
   "source": [
    "assert data.y[test_mask].size() == out_norm[test_mask][:, 0].size()"
   ]
  },
  {
   "cell_type": "code",
   "execution_count": 32,
   "metadata": {
    "ExecuteTime": {
     "end_time": "2022-08-31T17:16:41.949723Z",
     "start_time": "2022-08-31T17:16:41.946806Z"
    }
   },
   "outputs": [
    {
     "data": {
      "text/plain": [
       "array([ 0,  1,  2,  3,  4,  5,  6,  7,  8,  9, 10, 11, 12, 13, 14, 15, 16,\n",
       "       17, 18, 19, 20, 21, 22, 23, 24, 25, 26, 27, 28, 29, 30, 31, 32, 33,\n",
       "       34, 35, 36, 37, 38, 39])"
      ]
     },
     "execution_count": 32,
     "metadata": {},
     "output_type": "execute_result"
    }
   ],
   "source": [
    "classes = np.array([i for i in range(40)])\n",
    "classes"
   ]
  },
  {
   "cell_type": "code",
   "execution_count": 33,
   "metadata": {
    "ExecuteTime": {
     "end_time": "2022-08-31T17:16:48.937734Z",
     "start_time": "2022-08-31T17:16:41.950613Z"
    }
   },
   "outputs": [
    {
     "data": {
      "image/png": "[encoded data removed]",
      "text/plain": [
       "<Figure size 864x432 with 1 Axes>"
      ]
     },
     "metadata": {
      "needs_background": "light"
     },
     "output_type": "display_data"
    }
   ],
   "source": [
    "classes = np.array([i for i in range(20, 23)])\n",
    "plot_overlayed_roc_curve(classes, data.y[test_mask], out_norm[test_mask][:, classes], ncol=5)"
   ]
  },
  {
   "cell_type": "markdown",
   "metadata": {},
   "source": [
    "### Plot number of data points for each label"
   ]
  },
  {
   "cell_type": "code",
   "execution_count": 34,
   "metadata": {
    "ExecuteTime": {
     "end_time": "2022-08-31T17:16:48.984376Z",
     "start_time": "2022-08-31T17:16:48.938622Z"
    }
   },
   "outputs": [],
   "source": [
    "data.y[train_mask]\n",
    "labels_arr = data.y[train_mask].cpu().numpy()"
   ]
  },
  {
   "cell_type": "code",
   "execution_count": 35,
   "metadata": {
    "ExecuteTime": {
     "end_time": "2022-08-31T17:16:48.989037Z",
     "start_time": "2022-08-31T17:16:48.985378Z"
    }
   },
   "outputs": [
    {
     "data": {
      "text/plain": [
       "'torch.cuda.LongTensor'"
      ]
     },
     "execution_count": 35,
     "metadata": {},
     "output_type": "execute_result"
    }
   ],
   "source": [
    "data.y[train_mask].type()"
   ]
  },
  {
   "cell_type": "code",
   "execution_count": 36,
   "metadata": {
    "ExecuteTime": {
     "end_time": "2022-08-31T17:16:48.992172Z",
     "start_time": "2022-08-31T17:16:48.990125Z"
    }
   },
   "outputs": [],
   "source": [
    "# List of keys\n",
    "classes = np.array([i for i in range(40)])\n",
    "  \n",
    "# initialize dictionary\n",
    "d = {}\n",
    "\n",
    "# iterating through the elements of list\n",
    "for i in classes:\n",
    "    d[i] = 0"
   ]
  },
  {
   "cell_type": "code",
   "execution_count": 37,
   "metadata": {
    "ExecuteTime": {
     "end_time": "2022-08-31T17:16:49.028476Z",
     "start_time": "2022-08-31T17:16:48.993157Z"
    }
   },
   "outputs": [
    {
     "data": {
      "text/plain": [
       "{0: 437,\n",
       " 1: 382,\n",
       " 2: 3604,\n",
       " 3: 1014,\n",
       " 4: 2864,\n",
       " 5: 2933,\n",
       " 6: 703,\n",
       " 7: 380,\n",
       " 8: 4056,\n",
       " 9: 2245,\n",
       " 10: 5182,\n",
       " 11: 391,\n",
       " 12: 21,\n",
       " 13: 1290,\n",
       " 14: 473,\n",
       " 15: 248,\n",
       " 16: 9998,\n",
       " 17: 202,\n",
       " 18: 402,\n",
       " 19: 1873,\n",
       " 20: 1495,\n",
       " 21: 304,\n",
       " 22: 1268,\n",
       " 23: 1539,\n",
       " 24: 6989,\n",
       " 25: 457,\n",
       " 26: 2854,\n",
       " 27: 1661,\n",
       " 28: 16284,\n",
       " 29: 239,\n",
       " 30: 4334,\n",
       " 31: 1350,\n",
       " 32: 270,\n",
       " 33: 926,\n",
       " 34: 5426,\n",
       " 35: 75,\n",
       " 36: 2506,\n",
       " 37: 1615,\n",
       " 38: 1100,\n",
       " 39: 1551}"
      ]
     },
     "execution_count": 37,
     "metadata": {},
     "output_type": "execute_result"
    }
   ],
   "source": [
    "for data_pt in labels_arr:\n",
    "    d[data_pt] += 1\n",
    "d"
   ]
  },
  {
   "cell_type": "code",
   "execution_count": 38,
   "metadata": {
    "ExecuteTime": {
     "end_time": "2022-08-31T17:16:49.039429Z",
     "start_time": "2022-08-31T17:16:49.029165Z"
    }
   },
   "outputs": [
    {
     "data": {
      "text/plain": [
       "[437,\n",
       " 382,\n",
       " 3604,\n",
       " 1014,\n",
       " 2864,\n",
       " 2933,\n",
       " 703,\n",
       " 380,\n",
       " 4056,\n",
       " 2245,\n",
       " 5182,\n",
       " 391,\n",
       " 21,\n",
       " 1290,\n",
       " 473,\n",
       " 248,\n",
       " 9998,\n",
       " 202,\n",
       " 402,\n",
       " 1873,\n",
       " 1495,\n",
       " 304,\n",
       " 1268,\n",
       " 1539,\n",
       " 6989,\n",
       " 457,\n",
       " 2854,\n",
       " 1661,\n",
       " 16284,\n",
       " 239,\n",
       " 4334,\n",
       " 1350,\n",
       " 270,\n",
       " 926,\n",
       " 5426,\n",
       " 75,\n",
       " 2506,\n",
       " 1615,\n",
       " 1100,\n",
       " 1551]"
      ]
     },
     "execution_count": 38,
     "metadata": {},
     "output_type": "execute_result"
    }
   ],
   "source": [
    "list(d.values())"
   ]
  },
  {
   "cell_type": "code",
   "execution_count": 39,
   "metadata": {
    "ExecuteTime": {
     "end_time": "2022-08-31T17:16:49.257073Z",
     "start_time": "2022-08-31T17:16:49.040100Z"
    }
   },
   "outputs": [
    {
     "data": {
      "text/plain": [
       "<BarContainer object of 40 artists>"
      ]
     },
     "execution_count": 39,
     "metadata": {},
     "output_type": "execute_result"
    },
    {
     "data": {
      "image/png": "[encoded data removed]",
      "text/plain": [
       "<Figure size 864x432 with 1 Axes>"
      ]
     },
     "metadata": {
      "needs_background": "light"
     },
     "output_type": "display_data"
    }
   ],
   "source": [
    "fig, ax = plt.subplots(figsize=(12, 6))\n",
    "ax.bar(list(d.keys()), list(d.values()))"
   ]
  },
  {
   "cell_type": "code",
   "execution_count": 40,
   "metadata": {
    "ExecuteTime": {
     "end_time": "2022-08-31T17:16:49.262682Z",
     "start_time": "2022-08-31T17:16:49.258118Z"
    }
   },
   "outputs": [],
   "source": []
  },
  {
   "cell_type": "markdown",
   "metadata": {},
   "source": [
    "### Plot accuracy of predictions for each class"
   ]
  },
  {
   "cell_type": "code",
   "execution_count": 42,
   "metadata": {
    "ExecuteTime": {
     "end_time": "2022-08-31T17:19:33.638074Z",
     "start_time": "2022-08-31T17:19:33.633604Z"
    }
   },
   "outputs": [
    {
     "data": {
      "text/plain": [
       "torch.Size([48603])"
      ]
     },
     "execution_count": 42,
     "metadata": {},
     "output_type": "execute_result"
    }
   ],
   "source": [
    "pred.size()"
   ]
  },
  {
   "cell_type": "code",
   "execution_count": 126,
   "metadata": {
    "ExecuteTime": {
     "end_time": "2022-08-31T19:06:12.626430Z",
     "start_time": "2022-08-31T19:06:12.220934Z"
    }
   },
   "outputs": [
    {
     "data": {
      "text/plain": [
       "'torch.cuda.LongTensor'"
      ]
     },
     "execution_count": 126,
     "metadata": {},
     "output_type": "execute_result"
    }
   ],
   "source": [
    "data.y[test_mask].type()  #labels"
   ]
  },
  {
   "cell_type": "code",
   "execution_count": 49,
   "metadata": {
    "ExecuteTime": {
     "end_time": "2022-08-31T17:22:43.900696Z",
     "start_time": "2022-08-31T17:22:43.792720Z"
    }
   },
   "outputs": [],
   "source": [
    "labels = data.y[test_mask].cpu().numpy()"
   ]
  },
  {
   "cell_type": "code",
   "execution_count": 51,
   "metadata": {
    "ExecuteTime": {
     "end_time": "2022-08-31T17:22:59.722113Z",
     "start_time": "2022-08-31T17:22:59.718046Z"
    }
   },
   "outputs": [
    {
     "data": {
      "text/plain": [
       "10"
      ]
     },
     "execution_count": 51,
     "metadata": {},
     "output_type": "execute_result"
    }
   ],
   "source": [
    "labels[1]"
   ]
  },
  {
   "cell_type": "code",
   "execution_count": 64,
   "metadata": {
    "ExecuteTime": {
     "end_time": "2022-08-31T17:28:30.305025Z",
     "start_time": "2022-08-31T17:28:30.296240Z"
    }
   },
   "outputs": [],
   "source": [
    "dict = {i: [0, 0] for i in classes}\n",
    "# dict"
   ]
  },
  {
   "cell_type": "code",
   "execution_count": 67,
   "metadata": {
    "ExecuteTime": {
     "end_time": "2022-08-31T17:28:43.176088Z",
     "start_time": "2022-08-31T17:28:43.150879Z"
    }
   },
   "outputs": [],
   "source": [
    "dict[1][0] -= 1"
   ]
  },
  {
   "cell_type": "code",
   "execution_count": 69,
   "metadata": {
    "ExecuteTime": {
     "end_time": "2022-08-31T17:28:46.421115Z",
     "start_time": "2022-08-31T17:28:46.418332Z"
    }
   },
   "outputs": [],
   "source": [
    "# dict"
   ]
  },
  {
   "cell_type": "code",
   "execution_count": 71,
   "metadata": {
    "ExecuteTime": {
     "end_time": "2022-08-31T17:30:59.222432Z",
     "start_time": "2022-08-31T17:30:58.209195Z"
    }
   },
   "outputs": [],
   "source": [
    "for i in range(pred.size()[0]):\n",
    "    c = labels[i] # the true class\n",
    "    dict[c][0] += 1 # the first element is the number of data points\n",
    "    if c == pred[i]:\n",
    "        dict[c][1] += 1  # if the prediction matches the label, add 1 to the number of correctly predicted datapoints"
   ]
  },
  {
   "cell_type": "code",
   "execution_count": 72,
   "metadata": {
    "ExecuteTime": {
     "end_time": "2022-08-31T17:31:02.046733Z",
     "start_time": "2022-08-31T17:31:02.042858Z"
    }
   },
   "outputs": [
    {
     "data": {
      "text/plain": [
       "{0: [54, 8],\n",
       " 1: [187, 4],\n",
       " 2: [733, 496],\n",
       " 3: [654, 39],\n",
       " 4: [1869, 1281],\n",
       " 5: [1246, 653],\n",
       " 6: [622, 90],\n",
       " 7: [134, 0],\n",
       " 8: [1250, 812],\n",
       " 9: [345, 184],\n",
       " 10: [1455, 592],\n",
       " 11: [239, 0],\n",
       " 12: [5, 0],\n",
       " 13: [628, 250],\n",
       " 14: [71, 59],\n",
       " 15: [87, 1],\n",
       " 16: [10477, 9730],\n",
       " 17: [203, 0],\n",
       " 18: [209, 72],\n",
       " 19: [419, 264],\n",
       " 20: [313, 239],\n",
       " 21: [51, 0],\n",
       " 22: [386, 218],\n",
       " 23: [808, 515],\n",
       " 24: [10740, 7577],\n",
       " 25: [475, 167],\n",
       " 26: [1041, 695],\n",
       " 27: [2066, 1406],\n",
       " 28: [2849, 2509],\n",
       " 29: [120, 0],\n",
       " 30: [4631, 4293],\n",
       " 31: [892, 402],\n",
       " 32: [83, 3],\n",
       " 33: [220, 112],\n",
       " 34: [1414, 1012],\n",
       " 35: [36, 0],\n",
       " 36: [627, 448],\n",
       " 37: [481, 298],\n",
       " 38: [214, 158],\n",
       " 39: [269, 62]}"
      ]
     },
     "execution_count": 72,
     "metadata": {},
     "output_type": "execute_result"
    }
   ],
   "source": [
    "dict"
   ]
  },
  {
   "cell_type": "markdown",
   "metadata": {},
   "source": [
    "Check whether the above makes sense"
   ]
  },
  {
   "cell_type": "code",
   "execution_count": 77,
   "metadata": {
    "ExecuteTime": {
     "end_time": "2022-08-31T17:35:53.322059Z",
     "start_time": "2022-08-31T17:35:53.318927Z"
    }
   },
   "outputs": [
    {
     "data": {
      "text/plain": [
       "True"
      ]
     },
     "execution_count": 77,
     "metadata": {},
     "output_type": "execute_result"
    }
   ],
   "source": [
    "total, correct = 0, 0\n",
    "for elem in dict.values():\n",
    "    total += elem[0]\n",
    "    correct += elem[1]\n",
    "\n",
    "correct/total == test_acc"
   ]
  },
  {
   "cell_type": "code",
   "execution_count": 73,
   "metadata": {
    "ExecuteTime": {
     "end_time": "2022-08-31T17:32:34.643341Z",
     "start_time": "2022-08-31T17:32:34.637847Z"
    }
   },
   "outputs": [
    {
     "data": {
      "text/plain": [
       "[0.14814814814814814,\n",
       " 0.0213903743315508,\n",
       " 0.6766712141882674,\n",
       " 0.05963302752293578,\n",
       " 0.6853932584269663,\n",
       " 0.5240770465489567,\n",
       " 0.14469453376205788,\n",
       " 0.0,\n",
       " 0.6496,\n",
       " 0.5333333333333333,\n",
       " 0.406872852233677,\n",
       " 0.0,\n",
       " 0.0,\n",
       " 0.3980891719745223,\n",
       " 0.8309859154929577,\n",
       " 0.011494252873563218,\n",
       " 0.9287009640164169,\n",
       " 0.0,\n",
       " 0.3444976076555024,\n",
       " 0.630071599045346,\n",
       " 0.7635782747603834,\n",
       " 0.0,\n",
       " 0.5647668393782384,\n",
       " 0.6373762376237624,\n",
       " 0.7054934823091248,\n",
       " 0.35157894736842105,\n",
       " 0.6676272814601345,\n",
       " 0.68054211035818,\n",
       " 0.8806598806598807,\n",
       " 0.0,\n",
       " 0.927013603973224,\n",
       " 0.45067264573991034,\n",
       " 0.03614457831325301,\n",
       " 0.509090909090909,\n",
       " 0.7157001414427157,\n",
       " 0.0,\n",
       " 0.7145135566188198,\n",
       " 0.6195426195426196,\n",
       " 0.7383177570093458,\n",
       " 0.23048327137546468]"
      ]
     },
     "execution_count": 73,
     "metadata": {},
     "output_type": "execute_result"
    }
   ],
   "source": [
    "acc_lst = [elem[1] / elem[0] for elem in dict.values()]\n",
    "acc_lst"
   ]
  },
  {
   "cell_type": "code",
   "execution_count": 74,
   "metadata": {
    "ExecuteTime": {
     "end_time": "2022-08-31T17:33:17.319414Z",
     "start_time": "2022-08-31T17:33:17.089622Z"
    }
   },
   "outputs": [
    {
     "data": {
      "text/plain": [
       "<BarContainer object of 40 artists>"
      ]
     },
     "execution_count": 74,
     "metadata": {},
     "output_type": "execute_result"
    },
    {
     "data": {
      "image/png": "[encoded data removed]",
      "text/plain": [
       "<Figure size 864x432 with 1 Axes>"
      ]
     },
     "metadata": {
      "needs_background": "light"
     },
     "output_type": "display_data"
    }
   ],
   "source": [
    "fig, ax = plt.subplots(figsize=(12, 6))\n",
    "ax.bar(list(d.keys()), acc_lst)"
   ]
  },
  {
   "cell_type": "code",
   "execution_count": 93,
   "metadata": {
    "ExecuteTime": {
     "end_time": "2022-08-31T17:59:40.255811Z",
     "start_time": "2022-08-31T17:59:40.246056Z"
    }
   },
   "outputs": [
    {
     "data": {
      "text/plain": [
       "[(437, 0.14814814814814814),\n",
       " (382, 0.0213903743315508),\n",
       " (3604, 0.6766712141882674),\n",
       " (1014, 0.05963302752293578),\n",
       " (2864, 0.6853932584269663),\n",
       " (2933, 0.5240770465489567),\n",
       " (703, 0.14469453376205788),\n",
       " (380, 0.0),\n",
       " (4056, 0.6496),\n",
       " (2245, 0.5333333333333333),\n",
       " (5182, 0.406872852233677),\n",
       " (391, 0.0),\n",
       " (21, 0.0),\n",
       " (1290, 0.3980891719745223),\n",
       " (473, 0.8309859154929577),\n",
       " (248, 0.011494252873563218),\n",
       " (9998, 0.9287009640164169),\n",
       " (202, 0.0),\n",
       " (402, 0.3444976076555024),\n",
       " (1873, 0.630071599045346),\n",
       " (1495, 0.7635782747603834),\n",
       " (304, 0.0),\n",
       " (1268, 0.5647668393782384),\n",
       " (1539, 0.6373762376237624),\n",
       " (6989, 0.7054934823091248),\n",
       " (457, 0.35157894736842105),\n",
       " (2854, 0.6676272814601345),\n",
       " (1661, 0.68054211035818),\n",
       " (16284, 0.8806598806598807),\n",
       " (239, 0.0),\n",
       " (4334, 0.927013603973224),\n",
       " (1350, 0.45067264573991034),\n",
       " (270, 0.03614457831325301),\n",
       " (926, 0.509090909090909),\n",
       " (5426, 0.7157001414427157),\n",
       " (75, 0.0),\n",
       " (2506, 0.7145135566188198),\n",
       " (1615, 0.6195426195426196),\n",
       " (1100, 0.7383177570093458),\n",
       " (1551, 0.23048327137546468)]"
      ]
     },
     "execution_count": 93,
     "metadata": {},
     "output_type": "execute_result"
    }
   ],
   "source": [
    "data_tuples = list(zip(list(d.values()), acc_lst))\n",
    "data_tuples"
   ]
  },
  {
   "cell_type": "code",
   "execution_count": 95,
   "metadata": {
    "ExecuteTime": {
     "end_time": "2022-08-31T18:00:15.101108Z",
     "start_time": "2022-08-31T18:00:15.056136Z"
    }
   },
   "outputs": [
    {
     "data": {
      "text/html": [
       "<div>\n",
       "<style scoped>\n",
       "    .dataframe tbody tr th:only-of-type {\n",
       "        vertical-align: middle;\n",
       "    }\n",
       "\n",
       "    .dataframe tbody tr th {\n",
       "        vertical-align: top;\n",
       "    }\n",
       "\n",
       "    .dataframe thead th {\n",
       "        text-align: right;\n",
       "    }\n",
       "</style>\n",
       "<table border=\"1\" class=\"dataframe\">\n",
       "  <thead>\n",
       "    <tr style=\"text-align: right;\">\n",
       "      <th></th>\n",
       "      <th># of data points</th>\n",
       "      <th>Accuracy</th>\n",
       "    </tr>\n",
       "  </thead>\n",
       "  <tbody>\n",
       "    <tr>\n",
       "      <th>0</th>\n",
       "      <td>437</td>\n",
       "      <td>0.148148</td>\n",
       "    </tr>\n",
       "    <tr>\n",
       "      <th>1</th>\n",
       "      <td>382</td>\n",
       "      <td>0.021390</td>\n",
       "    </tr>\n",
       "    <tr>\n",
       "      <th>2</th>\n",
       "      <td>3604</td>\n",
       "      <td>0.676671</td>\n",
       "    </tr>\n",
       "    <tr>\n",
       "      <th>3</th>\n",
       "      <td>1014</td>\n",
       "      <td>0.059633</td>\n",
       "    </tr>\n",
       "    <tr>\n",
       "      <th>4</th>\n",
       "      <td>2864</td>\n",
       "      <td>0.685393</td>\n",
       "    </tr>\n",
       "    <tr>\n",
       "      <th>5</th>\n",
       "      <td>2933</td>\n",
       "      <td>0.524077</td>\n",
       "    </tr>\n",
       "    <tr>\n",
       "      <th>6</th>\n",
       "      <td>703</td>\n",
       "      <td>0.144695</td>\n",
       "    </tr>\n",
       "    <tr>\n",
       "      <th>7</th>\n",
       "      <td>380</td>\n",
       "      <td>0.000000</td>\n",
       "    </tr>\n",
       "    <tr>\n",
       "      <th>8</th>\n",
       "      <td>4056</td>\n",
       "      <td>0.649600</td>\n",
       "    </tr>\n",
       "    <tr>\n",
       "      <th>9</th>\n",
       "      <td>2245</td>\n",
       "      <td>0.533333</td>\n",
       "    </tr>\n",
       "    <tr>\n",
       "      <th>10</th>\n",
       "      <td>5182</td>\n",
       "      <td>0.406873</td>\n",
       "    </tr>\n",
       "    <tr>\n",
       "      <th>11</th>\n",
       "      <td>391</td>\n",
       "      <td>0.000000</td>\n",
       "    </tr>\n",
       "    <tr>\n",
       "      <th>12</th>\n",
       "      <td>21</td>\n",
       "      <td>0.000000</td>\n",
       "    </tr>\n",
       "    <tr>\n",
       "      <th>13</th>\n",
       "      <td>1290</td>\n",
       "      <td>0.398089</td>\n",
       "    </tr>\n",
       "    <tr>\n",
       "      <th>14</th>\n",
       "      <td>473</td>\n",
       "      <td>0.830986</td>\n",
       "    </tr>\n",
       "    <tr>\n",
       "      <th>15</th>\n",
       "      <td>248</td>\n",
       "      <td>0.011494</td>\n",
       "    </tr>\n",
       "    <tr>\n",
       "      <th>16</th>\n",
       "      <td>9998</td>\n",
       "      <td>0.928701</td>\n",
       "    </tr>\n",
       "    <tr>\n",
       "      <th>17</th>\n",
       "      <td>202</td>\n",
       "      <td>0.000000</td>\n",
       "    </tr>\n",
       "    <tr>\n",
       "      <th>18</th>\n",
       "      <td>402</td>\n",
       "      <td>0.344498</td>\n",
       "    </tr>\n",
       "    <tr>\n",
       "      <th>19</th>\n",
       "      <td>1873</td>\n",
       "      <td>0.630072</td>\n",
       "    </tr>\n",
       "    <tr>\n",
       "      <th>20</th>\n",
       "      <td>1495</td>\n",
       "      <td>0.763578</td>\n",
       "    </tr>\n",
       "    <tr>\n",
       "      <th>21</th>\n",
       "      <td>304</td>\n",
       "      <td>0.000000</td>\n",
       "    </tr>\n",
       "    <tr>\n",
       "      <th>22</th>\n",
       "      <td>1268</td>\n",
       "      <td>0.564767</td>\n",
       "    </tr>\n",
       "    <tr>\n",
       "      <th>23</th>\n",
       "      <td>1539</td>\n",
       "      <td>0.637376</td>\n",
       "    </tr>\n",
       "    <tr>\n",
       "      <th>24</th>\n",
       "      <td>6989</td>\n",
       "      <td>0.705493</td>\n",
       "    </tr>\n",
       "    <tr>\n",
       "      <th>25</th>\n",
       "      <td>457</td>\n",
       "      <td>0.351579</td>\n",
       "    </tr>\n",
       "    <tr>\n",
       "      <th>26</th>\n",
       "      <td>2854</td>\n",
       "      <td>0.667627</td>\n",
       "    </tr>\n",
       "    <tr>\n",
       "      <th>27</th>\n",
       "      <td>1661</td>\n",
       "      <td>0.680542</td>\n",
       "    </tr>\n",
       "    <tr>\n",
       "      <th>28</th>\n",
       "      <td>16284</td>\n",
       "      <td>0.880660</td>\n",
       "    </tr>\n",
       "    <tr>\n",
       "      <th>29</th>\n",
       "      <td>239</td>\n",
       "      <td>0.000000</td>\n",
       "    </tr>\n",
       "    <tr>\n",
       "      <th>30</th>\n",
       "      <td>4334</td>\n",
       "      <td>0.927014</td>\n",
       "    </tr>\n",
       "    <tr>\n",
       "      <th>31</th>\n",
       "      <td>1350</td>\n",
       "      <td>0.450673</td>\n",
       "    </tr>\n",
       "    <tr>\n",
       "      <th>32</th>\n",
       "      <td>270</td>\n",
       "      <td>0.036145</td>\n",
       "    </tr>\n",
       "    <tr>\n",
       "      <th>33</th>\n",
       "      <td>926</td>\n",
       "      <td>0.509091</td>\n",
       "    </tr>\n",
       "    <tr>\n",
       "      <th>34</th>\n",
       "      <td>5426</td>\n",
       "      <td>0.715700</td>\n",
       "    </tr>\n",
       "    <tr>\n",
       "      <th>35</th>\n",
       "      <td>75</td>\n",
       "      <td>0.000000</td>\n",
       "    </tr>\n",
       "    <tr>\n",
       "      <th>36</th>\n",
       "      <td>2506</td>\n",
       "      <td>0.714514</td>\n",
       "    </tr>\n",
       "    <tr>\n",
       "      <th>37</th>\n",
       "      <td>1615</td>\n",
       "      <td>0.619543</td>\n",
       "    </tr>\n",
       "    <tr>\n",
       "      <th>38</th>\n",
       "      <td>1100</td>\n",
       "      <td>0.738318</td>\n",
       "    </tr>\n",
       "    <tr>\n",
       "      <th>39</th>\n",
       "      <td>1551</td>\n",
       "      <td>0.230483</td>\n",
       "    </tr>\n",
       "  </tbody>\n",
       "</table>\n",
       "</div>"
      ],
      "text/plain": [
       "    # of data points  Accuracy\n",
       "0                437  0.148148\n",
       "1                382  0.021390\n",
       "2               3604  0.676671\n",
       "3               1014  0.059633\n",
       "4               2864  0.685393\n",
       "5               2933  0.524077\n",
       "6                703  0.144695\n",
       "7                380  0.000000\n",
       "8               4056  0.649600\n",
       "9               2245  0.533333\n",
       "10              5182  0.406873\n",
       "11               391  0.000000\n",
       "12                21  0.000000\n",
       "13              1290  0.398089\n",
       "14               473  0.830986\n",
       "15               248  0.011494\n",
       "16              9998  0.928701\n",
       "17               202  0.000000\n",
       "18               402  0.344498\n",
       "19              1873  0.630072\n",
       "20              1495  0.763578\n",
       "21               304  0.000000\n",
       "22              1268  0.564767\n",
       "23              1539  0.637376\n",
       "24              6989  0.705493\n",
       "25               457  0.351579\n",
       "26              2854  0.667627\n",
       "27              1661  0.680542\n",
       "28             16284  0.880660\n",
       "29               239  0.000000\n",
       "30              4334  0.927014\n",
       "31              1350  0.450673\n",
       "32               270  0.036145\n",
       "33               926  0.509091\n",
       "34              5426  0.715700\n",
       "35                75  0.000000\n",
       "36              2506  0.714514\n",
       "37              1615  0.619543\n",
       "38              1100  0.738318\n",
       "39              1551  0.230483"
      ]
     },
     "execution_count": 95,
     "metadata": {},
     "output_type": "execute_result"
    }
   ],
   "source": [
    "df = pd.DataFrame(data_tuples, columns=['# of data points', \"Accuracy\"])\n",
    "df"
   ]
  },
  {
   "cell_type": "code",
   "execution_count": 105,
   "metadata": {
    "ExecuteTime": {
     "end_time": "2022-08-31T18:11:07.769287Z",
     "start_time": "2022-08-31T18:11:07.278945Z"
    }
   },
   "outputs": [
    {
     "data": {
      "image/png": "[encoded data removed]",
      "text/plain": [
       "<Figure size 864x432 with 2 Axes>"
      ]
     },
     "metadata": {
      "needs_background": "light"
     },
     "output_type": "display_data"
    }
   ],
   "source": [
    "fig = plt.figure(figsize=(12, 6)) # Create matplotlib figure\n",
    "\n",
    "ax = fig.add_subplot(111) # Create matplotlib axes\n",
    "ax2 = ax.twinx() # Create another axes that shares the same x-axis as ax.\n",
    "\n",
    "width = 0.4\n",
    "\n",
    "df['# of data points'].plot(kind='bar', color='red', ax=ax, width=width, position=1, label='# of data points')\n",
    "df[\"Accuracy\"].plot(kind='bar', color='blue', ax=ax2, width=width, position=0, label=\"Accuracy\")\n",
    "\n",
    "ax.set_xlabel('classes')\n",
    "ax.set_ylabel('# of data points')\n",
    "ax2.set_ylabel(\"Accuracy\")\n",
    "plt.legend()\n",
    "plt.show()"
   ]
  },
  {
   "cell_type": "code",
   "execution_count": 111,
   "metadata": {
    "ExecuteTime": {
     "end_time": "2022-08-31T18:16:08.927752Z",
     "start_time": "2022-08-31T18:16:08.568455Z"
    }
   },
   "outputs": [
    {
     "data": {
      "image/png": "[encoded data removed]",
      "text/plain": [
       "<Figure size 864x432 with 2 Axes>"
      ]
     },
     "metadata": {
      "needs_background": "light"
     },
     "output_type": "display_data"
    }
   ],
   "source": [
    "fig = plt.figure(figsize=(12, 6)) # Create matplotlib figure\n",
    "ax = fig.add_subplot(111) # Create matplotlib axes\n",
    "width = 0.8\n",
    "_ = df.plot(kind= 'bar' , secondary_y= '# of data points' ,width=width, ax=ax, rot= 0)\n",
    "ax.set_xlabel('classes')\n",
    "plt.show()"
   ]
  },
  {
   "cell_type": "code",
   "execution_count": null,
   "metadata": {},
   "outputs": [],
   "source": [
    "def plot_class_balance_and_accuracy(classes, labels, predictions):\n",
    "    '''\n",
    "    Plots a bar graph of the # of data points AND the accuracy for each class \n",
    "    \n",
    "    Args:\n",
    "        classes: list of classes. Accepted datatypes: numpy list, python list\n",
    "        labels: list of labels. Accepted datatypes: numpy list, python list\n",
    "        predictions: The list of predicted classes.\n",
    "    '''\n",
    "    if predictions.type() == 'torch.cuda.FloatTensor' or 'torch.cuda.LongTensor':\n",
    "        predictions = predictions.cpu()\n",
    "        \n",
    "    if ax == None:\n",
    "        fig, ax = plt.subplots(figsize=(9, 9))"
   ]
  },
  {
   "cell_type": "markdown",
   "metadata": {},
   "source": [
    "### Calculate and plot AUC for each class"
   ]
  },
  {
   "cell_type": "code",
   "execution_count": 116,
   "metadata": {
    "ExecuteTime": {
     "end_time": "2022-08-31T18:46:31.841806Z",
     "start_time": "2022-08-31T18:46:31.834786Z"
    }
   },
   "outputs": [],
   "source": [
    "def plot_overlayed_roc_curve(classes, labels, predictions, ax = None, figsize=(9, 9), ncol=2):\n",
    "    '''\n",
    "    Plots overlayed ROC curves and returns a list of AUC.\n",
    "    \n",
    "    Args:\n",
    "        classes: The classes used in classification\n",
    "        labels: The list of labels.\n",
    "        predictions: The list of predicted classes. First dimension should match with the dimension of labels\n",
    "    Return:\n",
    "        roc_auc_ovr: Dictionary of AUC, one for each class\n",
    "    '''\n",
    "    assert labels.size() == predictions[:, 0].size()\n",
    "    if predictions.type() == 'torch.cuda.FloatTensor':\n",
    "        predictions = predictions.cpu()\n",
    "        \n",
    "    if ax == None:\n",
    "        fig, ax = plt.subplots(figsize=(9, 9))\n",
    "    \n",
    "    roc_auc_ovr = {}\n",
    "    for i in range(len(classes)):\n",
    "        c = classes[i]\n",
    "        y_real = [1 if y == c else 0 for y in labels]\n",
    "        y_proba = predictions[:, i]\n",
    "        tpr, fpr = get_all_roc_coordinates(y_real, y_proba)\n",
    "        ax.plot(fpr, tpr, label = c)\n",
    "        \n",
    "        # Calculates the ROC AUC\n",
    "        roc_auc_ovr[c] = roc_auc_score(y_real, y_proba.detach())\n",
    "        print(roc_auc_ovr[c])\n",
    "\n",
    "    x = np.linspace(0, 1, 10)\n",
    "    Y = x\n",
    "    plt.plot(x, Y, color='g')\n",
    "    plt.xlim(-0.05, 1.05)\n",
    "    plt.ylim(-0.05, 1.05)\n",
    "    plt.xlabel(\"False Positive Rate\")\n",
    "    plt.ylabel(\"True Positive Rate\")\n",
    "    ax.legend(loc='best', bbox_to_anchor=(0.5, -0.20), shadow=False, ncol=ncol)\n",
    "    plt.title(\"ROC Curve OvR\")\n",
    "    plt.show()\n",
    "    \n",
    "    return roc_auc_ovr"
   ]
  },
  {
   "cell_type": "code",
   "execution_count": 117,
   "metadata": {
    "ExecuteTime": {
     "end_time": "2022-08-31T18:48:11.454699Z",
     "start_time": "2022-08-31T18:46:32.777967Z"
    }
   },
   "outputs": [
    {
     "name": "stdout",
     "output_type": "stream",
     "text": [
      "0.9024738656553937\n",
      "0.8015981590917928\n",
      "0.9869220042572098\n",
      "0.8121560478089519\n",
      "0.960331473576889\n",
      "0.9405935978046742\n",
      "0.7789743072870954\n",
      "0.8477130943520447\n",
      "0.9676967203767449\n",
      "0.983003914346859\n",
      "0.8805496153517606\n",
      "0.7886283981757586\n",
      "0.8354294415408042\n",
      "0.918813142460743\n",
      "0.9674763739446487\n",
      "0.9378816136494371\n",
      "0.9753840519390022\n",
      "0.7065263811423685\n",
      "0.9620754520361474\n",
      "0.9516949149184293\n",
      "0.9686048811857542\n",
      "0.7493425282454389\n",
      "0.9738367060571695\n",
      "0.9489242422516129\n",
      "0.9270978639986531\n",
      "0.9569212363521836\n",
      "0.9599383923611955\n",
      "0.9622678992936555\n",
      "0.9906324700441062\n",
      "0.8544912649794774\n",
      "0.986014160912709\n",
      "0.9398587280875427\n",
      "0.9520036452487609\n",
      "0.9707557876263827\n",
      "0.9793378506240352\n",
      "0.7597351196399933\n",
      "0.9663006343682209\n",
      "0.960924593857556\n",
      "0.9658443652618198\n",
      "0.9512926087572487\n"
     ]
    },
    {
     "data": {
      "image/png": "[encoded data removed]",
      "text/plain": [
       "<Figure size 864x432 with 1 Axes>"
      ]
     },
     "metadata": {
      "needs_background": "light"
     },
     "output_type": "display_data"
    }
   ],
   "source": [
    "classes = np.array([i for i in range(40)])\n",
    "roc_auc_ovr = plot_overlayed_roc_curve(classes, data.y[test_mask], out_norm[test_mask][:, classes], ncol=5)"
   ]
  },
  {
   "cell_type": "code",
   "execution_count": 118,
   "metadata": {
    "ExecuteTime": {
     "end_time": "2022-08-31T18:51:18.442941Z",
     "start_time": "2022-08-31T18:51:18.321673Z"
    }
   },
   "outputs": [
    {
     "data": {
      "text/plain": [
       "<BarContainer object of 40 artists>"
      ]
     },
     "execution_count": 118,
     "metadata": {},
     "output_type": "execute_result"
    },
    {
     "data": {
      "image/png": "[encoded data removed]",
      "text/plain": [
       "<Figure size 864x432 with 1 Axes>"
      ]
     },
     "metadata": {
      "needs_background": "light"
     },
     "output_type": "display_data"
    }
   ],
   "source": [
    "fig, ax = plt.subplots(figsize=(12, 6))\n",
    "\n",
    "ax.bar(list(roc_auc_ovr.keys()), list(roc_auc_ovr.values()), color='b')"
   ]
  },
  {
   "cell_type": "code",
   "execution_count": 121,
   "metadata": {
    "ExecuteTime": {
     "end_time": "2022-08-31T18:56:04.127408Z",
     "start_time": "2022-08-31T18:56:04.114578Z"
    }
   },
   "outputs": [
    {
     "data": {
      "text/plain": [
       "[(437, 0.9024738656553937),\n",
       " (382, 0.8015981590917928),\n",
       " (3604, 0.9869220042572098),\n",
       " (1014, 0.8121560478089519),\n",
       " (2864, 0.960331473576889),\n",
       " (2933, 0.9405935978046742),\n",
       " (703, 0.7789743072870954),\n",
       " (380, 0.8477130943520447),\n",
       " (4056, 0.9676967203767449),\n",
       " (2245, 0.983003914346859),\n",
       " (5182, 0.8805496153517606),\n",
       " (391, 0.7886283981757586),\n",
       " (21, 0.8354294415408042),\n",
       " (1290, 0.918813142460743),\n",
       " (473, 0.9674763739446487),\n",
       " (248, 0.9378816136494371),\n",
       " (9998, 0.9753840519390022),\n",
       " (202, 0.7065263811423685),\n",
       " (402, 0.9620754520361474),\n",
       " (1873, 0.9516949149184293),\n",
       " (1495, 0.9686048811857542),\n",
       " (304, 0.7493425282454389),\n",
       " (1268, 0.9738367060571695),\n",
       " (1539, 0.9489242422516129),\n",
       " (6989, 0.9270978639986531),\n",
       " (457, 0.9569212363521836),\n",
       " (2854, 0.9599383923611955),\n",
       " (1661, 0.9622678992936555),\n",
       " (16284, 0.9906324700441062),\n",
       " (239, 0.8544912649794774),\n",
       " (4334, 0.986014160912709),\n",
       " (1350, 0.9398587280875427),\n",
       " (270, 0.9520036452487609),\n",
       " (926, 0.9707557876263827),\n",
       " (5426, 0.9793378506240352),\n",
       " (75, 0.7597351196399933),\n",
       " (2506, 0.9663006343682209),\n",
       " (1615, 0.960924593857556),\n",
       " (1100, 0.9658443652618198),\n",
       " (1551, 0.9512926087572487)]"
      ]
     },
     "execution_count": 121,
     "metadata": {},
     "output_type": "execute_result"
    }
   ],
   "source": [
    "data_tuples = list(zip(list(d.values()), list(roc_auc_ovr.values())))\n",
    "data_tuples"
   ]
  },
  {
   "cell_type": "code",
   "execution_count": 122,
   "metadata": {
    "ExecuteTime": {
     "end_time": "2022-08-31T18:56:24.568393Z",
     "start_time": "2022-08-31T18:56:24.559665Z"
    }
   },
   "outputs": [
    {
     "data": {
      "text/html": [
       "<div>\n",
       "<style scoped>\n",
       "    .dataframe tbody tr th:only-of-type {\n",
       "        vertical-align: middle;\n",
       "    }\n",
       "\n",
       "    .dataframe tbody tr th {\n",
       "        vertical-align: top;\n",
       "    }\n",
       "\n",
       "    .dataframe thead th {\n",
       "        text-align: right;\n",
       "    }\n",
       "</style>\n",
       "<table border=\"1\" class=\"dataframe\">\n",
       "  <thead>\n",
       "    <tr style=\"text-align: right;\">\n",
       "      <th></th>\n",
       "      <th># of data points</th>\n",
       "      <th>ROC_AUC</th>\n",
       "    </tr>\n",
       "  </thead>\n",
       "  <tbody>\n",
       "    <tr>\n",
       "      <th>0</th>\n",
       "      <td>437</td>\n",
       "      <td>0.902474</td>\n",
       "    </tr>\n",
       "    <tr>\n",
       "      <th>1</th>\n",
       "      <td>382</td>\n",
       "      <td>0.801598</td>\n",
       "    </tr>\n",
       "    <tr>\n",
       "      <th>2</th>\n",
       "      <td>3604</td>\n",
       "      <td>0.986922</td>\n",
       "    </tr>\n",
       "    <tr>\n",
       "      <th>3</th>\n",
       "      <td>1014</td>\n",
       "      <td>0.812156</td>\n",
       "    </tr>\n",
       "    <tr>\n",
       "      <th>4</th>\n",
       "      <td>2864</td>\n",
       "      <td>0.960331</td>\n",
       "    </tr>\n",
       "    <tr>\n",
       "      <th>5</th>\n",
       "      <td>2933</td>\n",
       "      <td>0.940594</td>\n",
       "    </tr>\n",
       "    <tr>\n",
       "      <th>6</th>\n",
       "      <td>703</td>\n",
       "      <td>0.778974</td>\n",
       "    </tr>\n",
       "    <tr>\n",
       "      <th>7</th>\n",
       "      <td>380</td>\n",
       "      <td>0.847713</td>\n",
       "    </tr>\n",
       "    <tr>\n",
       "      <th>8</th>\n",
       "      <td>4056</td>\n",
       "      <td>0.967697</td>\n",
       "    </tr>\n",
       "    <tr>\n",
       "      <th>9</th>\n",
       "      <td>2245</td>\n",
       "      <td>0.983004</td>\n",
       "    </tr>\n",
       "    <tr>\n",
       "      <th>10</th>\n",
       "      <td>5182</td>\n",
       "      <td>0.880550</td>\n",
       "    </tr>\n",
       "    <tr>\n",
       "      <th>11</th>\n",
       "      <td>391</td>\n",
       "      <td>0.788628</td>\n",
       "    </tr>\n",
       "    <tr>\n",
       "      <th>12</th>\n",
       "      <td>21</td>\n",
       "      <td>0.835429</td>\n",
       "    </tr>\n",
       "    <tr>\n",
       "      <th>13</th>\n",
       "      <td>1290</td>\n",
       "      <td>0.918813</td>\n",
       "    </tr>\n",
       "    <tr>\n",
       "      <th>14</th>\n",
       "      <td>473</td>\n",
       "      <td>0.967476</td>\n",
       "    </tr>\n",
       "    <tr>\n",
       "      <th>15</th>\n",
       "      <td>248</td>\n",
       "      <td>0.937882</td>\n",
       "    </tr>\n",
       "    <tr>\n",
       "      <th>16</th>\n",
       "      <td>9998</td>\n",
       "      <td>0.975384</td>\n",
       "    </tr>\n",
       "    <tr>\n",
       "      <th>17</th>\n",
       "      <td>202</td>\n",
       "      <td>0.706526</td>\n",
       "    </tr>\n",
       "    <tr>\n",
       "      <th>18</th>\n",
       "      <td>402</td>\n",
       "      <td>0.962075</td>\n",
       "    </tr>\n",
       "    <tr>\n",
       "      <th>19</th>\n",
       "      <td>1873</td>\n",
       "      <td>0.951695</td>\n",
       "    </tr>\n",
       "    <tr>\n",
       "      <th>20</th>\n",
       "      <td>1495</td>\n",
       "      <td>0.968605</td>\n",
       "    </tr>\n",
       "    <tr>\n",
       "      <th>21</th>\n",
       "      <td>304</td>\n",
       "      <td>0.749343</td>\n",
       "    </tr>\n",
       "    <tr>\n",
       "      <th>22</th>\n",
       "      <td>1268</td>\n",
       "      <td>0.973837</td>\n",
       "    </tr>\n",
       "    <tr>\n",
       "      <th>23</th>\n",
       "      <td>1539</td>\n",
       "      <td>0.948924</td>\n",
       "    </tr>\n",
       "    <tr>\n",
       "      <th>24</th>\n",
       "      <td>6989</td>\n",
       "      <td>0.927098</td>\n",
       "    </tr>\n",
       "    <tr>\n",
       "      <th>25</th>\n",
       "      <td>457</td>\n",
       "      <td>0.956921</td>\n",
       "    </tr>\n",
       "    <tr>\n",
       "      <th>26</th>\n",
       "      <td>2854</td>\n",
       "      <td>0.959938</td>\n",
       "    </tr>\n",
       "    <tr>\n",
       "      <th>27</th>\n",
       "      <td>1661</td>\n",
       "      <td>0.962268</td>\n",
       "    </tr>\n",
       "    <tr>\n",
       "      <th>28</th>\n",
       "      <td>16284</td>\n",
       "      <td>0.990632</td>\n",
       "    </tr>\n",
       "    <tr>\n",
       "      <th>29</th>\n",
       "      <td>239</td>\n",
       "      <td>0.854491</td>\n",
       "    </tr>\n",
       "    <tr>\n",
       "      <th>30</th>\n",
       "      <td>4334</td>\n",
       "      <td>0.986014</td>\n",
       "    </tr>\n",
       "    <tr>\n",
       "      <th>31</th>\n",
       "      <td>1350</td>\n",
       "      <td>0.939859</td>\n",
       "    </tr>\n",
       "    <tr>\n",
       "      <th>32</th>\n",
       "      <td>270</td>\n",
       "      <td>0.952004</td>\n",
       "    </tr>\n",
       "    <tr>\n",
       "      <th>33</th>\n",
       "      <td>926</td>\n",
       "      <td>0.970756</td>\n",
       "    </tr>\n",
       "    <tr>\n",
       "      <th>34</th>\n",
       "      <td>5426</td>\n",
       "      <td>0.979338</td>\n",
       "    </tr>\n",
       "    <tr>\n",
       "      <th>35</th>\n",
       "      <td>75</td>\n",
       "      <td>0.759735</td>\n",
       "    </tr>\n",
       "    <tr>\n",
       "      <th>36</th>\n",
       "      <td>2506</td>\n",
       "      <td>0.966301</td>\n",
       "    </tr>\n",
       "    <tr>\n",
       "      <th>37</th>\n",
       "      <td>1615</td>\n",
       "      <td>0.960925</td>\n",
       "    </tr>\n",
       "    <tr>\n",
       "      <th>38</th>\n",
       "      <td>1100</td>\n",
       "      <td>0.965844</td>\n",
       "    </tr>\n",
       "    <tr>\n",
       "      <th>39</th>\n",
       "      <td>1551</td>\n",
       "      <td>0.951293</td>\n",
       "    </tr>\n",
       "  </tbody>\n",
       "</table>\n",
       "</div>"
      ],
      "text/plain": [
       "    # of data points   ROC_AUC\n",
       "0                437  0.902474\n",
       "1                382  0.801598\n",
       "2               3604  0.986922\n",
       "3               1014  0.812156\n",
       "4               2864  0.960331\n",
       "5               2933  0.940594\n",
       "6                703  0.778974\n",
       "7                380  0.847713\n",
       "8               4056  0.967697\n",
       "9               2245  0.983004\n",
       "10              5182  0.880550\n",
       "11               391  0.788628\n",
       "12                21  0.835429\n",
       "13              1290  0.918813\n",
       "14               473  0.967476\n",
       "15               248  0.937882\n",
       "16              9998  0.975384\n",
       "17               202  0.706526\n",
       "18               402  0.962075\n",
       "19              1873  0.951695\n",
       "20              1495  0.968605\n",
       "21               304  0.749343\n",
       "22              1268  0.973837\n",
       "23              1539  0.948924\n",
       "24              6989  0.927098\n",
       "25               457  0.956921\n",
       "26              2854  0.959938\n",
       "27              1661  0.962268\n",
       "28             16284  0.990632\n",
       "29               239  0.854491\n",
       "30              4334  0.986014\n",
       "31              1350  0.939859\n",
       "32               270  0.952004\n",
       "33               926  0.970756\n",
       "34              5426  0.979338\n",
       "35                75  0.759735\n",
       "36              2506  0.966301\n",
       "37              1615  0.960925\n",
       "38              1100  0.965844\n",
       "39              1551  0.951293"
      ]
     },
     "execution_count": 122,
     "metadata": {},
     "output_type": "execute_result"
    }
   ],
   "source": [
    "df = pd.DataFrame(data_tuples, columns=['# of data points', \"ROC_AUC\"])\n",
    "df"
   ]
  },
  {
   "cell_type": "code",
   "execution_count": 123,
   "metadata": {
    "ExecuteTime": {
     "end_time": "2022-08-31T18:56:40.185784Z",
     "start_time": "2022-08-31T18:56:39.762544Z"
    }
   },
   "outputs": [
    {
     "data": {
      "image/png": "[encoded data removed]",
      "text/plain": [
       "<Figure size 864x432 with 2 Axes>"
      ]
     },
     "metadata": {
      "needs_background": "light"
     },
     "output_type": "display_data"
    }
   ],
   "source": [
    "fig = plt.figure(figsize=(12, 6)) # Create matplotlib figure\n",
    "ax = fig.add_subplot(111) # Create matplotlib axes\n",
    "width = 0.8\n",
    "_ = df.plot(kind= 'bar' , secondary_y= '# of data points' ,width=width, ax=ax, rot= 0)\n",
    "ax.set_xlabel('classes')\n",
    "plt.show()"
   ]
  },
  {
   "cell_type": "markdown",
   "metadata": {},
   "source": [
    "### Package the above two plots into functions"
   ]
  },
  {
   "cell_type": "code",
   "execution_count": 136,
   "metadata": {
    "ExecuteTime": {
     "end_time": "2022-08-31T19:15:19.496590Z",
     "start_time": "2022-08-31T19:15:19.491591Z"
    }
   },
   "outputs": [],
   "source": [
    "def plot_class_balance(classes, labels):\n",
    "    '''\n",
    "    Plots a bar graph of # of data points for each class\n",
    "    \n",
    "    Args:\n",
    "        classes: list of classes. Accepted datatypes: numpy list, python list\n",
    "        labels: list of labels. Accepted datatypes: numpy list, python list\n",
    "    Return:\n",
    "        d: dictionary of number of data points for each class\n",
    "    '''\n",
    "    # initialize dictionary\n",
    "    d = {i: 0 for i in classes}\n",
    "\n",
    "    for data in labels:\n",
    "        d[data] += 1\n",
    "    fig, ax = plt.subplots(figsize=(12, 6))\n",
    "    ax.bar(list(d.keys()), list(d.values()))\n",
    "#     print(d)\n",
    "    return d"
   ]
  },
  {
   "cell_type": "code",
   "execution_count": 161,
   "metadata": {
    "ExecuteTime": {
     "end_time": "2022-08-31T19:37:30.350428Z",
     "start_time": "2022-08-31T19:37:29.955621Z"
    }
   },
   "outputs": [
    {
     "data": {
      "image/png": "[encoded data removed]",
      "text/plain": [
       "<Figure size 864x432 with 1 Axes>"
      ]
     },
     "metadata": {
      "needs_background": "light"
     },
     "output_type": "display_data"
    }
   ],
   "source": [
    "classes = np.array([i for i in range(40)])\n",
    "labels_arr = data.y[train_mask].cpu().numpy()\n",
    "class_dict = plot_class_balance(classes, labels_arr)"
   ]
  },
  {
   "cell_type": "code",
   "execution_count": 162,
   "metadata": {
    "ExecuteTime": {
     "end_time": "2022-08-31T19:37:35.363380Z",
     "start_time": "2022-08-31T19:37:35.355555Z"
    }
   },
   "outputs": [
    {
     "data": {
      "text/plain": [
       "{0: 437,\n",
       " 1: 382,\n",
       " 2: 3604,\n",
       " 3: 1014,\n",
       " 4: 2864,\n",
       " 5: 2933,\n",
       " 6: 703,\n",
       " 7: 380,\n",
       " 8: 4056,\n",
       " 9: 2245,\n",
       " 10: 5182,\n",
       " 11: 391,\n",
       " 12: 21,\n",
       " 13: 1290,\n",
       " 14: 473,\n",
       " 15: 248,\n",
       " 16: 9998,\n",
       " 17: 202,\n",
       " 18: 402,\n",
       " 19: 1873,\n",
       " 20: 1495,\n",
       " 21: 304,\n",
       " 22: 1268,\n",
       " 23: 1539,\n",
       " 24: 6989,\n",
       " 25: 457,\n",
       " 26: 2854,\n",
       " 27: 1661,\n",
       " 28: 16284,\n",
       " 29: 239,\n",
       " 30: 4334,\n",
       " 31: 1350,\n",
       " 32: 270,\n",
       " 33: 926,\n",
       " 34: 5426,\n",
       " 35: 75,\n",
       " 36: 2506,\n",
       " 37: 1615,\n",
       " 38: 1100,\n",
       " 39: 1551}"
      ]
     },
     "execution_count": 162,
     "metadata": {},
     "output_type": "execute_result"
    }
   ],
   "source": [
    "class_dict"
   ]
  },
  {
   "cell_type": "code",
   "execution_count": 163,
   "metadata": {
    "ExecuteTime": {
     "end_time": "2022-08-31T19:37:39.523035Z",
     "start_time": "2022-08-31T19:37:39.515046Z"
    }
   },
   "outputs": [],
   "source": [
    "def plot_class_balance_and_accuracy(class_dict, classes, labels, predictions, width=0.8):\n",
    "    '''\n",
    "    Plots two bar graphs:\n",
    "        a bar graph of accuracy for each class\n",
    "        a bar graph of the # of data points AND the accuracy for each class\n",
    "    \n",
    "    Args:\n",
    "        class_dict: dictionary of number of data points for each class. Can be obtained by calling plot_class_balance\n",
    "        classes: list of classes. Accepted datatypes: numpy list, python list\n",
    "        labels: list of labels. Accepted datatypes: numpy list, python list\n",
    "        predictions: The list of predicted classes.\n",
    "        width: width of the bars. Default = 0.8\n",
    "    '''\n",
    "    # calcualte the accuracy for each class\n",
    "    dict = {i: [0, 0] for i in classes}\n",
    "    for i in range(predictions.size()[0]):\n",
    "        c = labels[i] # the true class\n",
    "        dict[c][0] += 1 # the first element is the number of data points\n",
    "        if c == pred[i]:\n",
    "            dict[c][1] += 1  # if the prediction matches the label, add 1 to the number of correctly predicted datapoints\n",
    "    acc_lst = [elem[1] / elem[0] for elem in dict.values()]\n",
    "    print(dict)\n",
    "    \n",
    "    # plot the accuracy\n",
    "    fig, ax = plt.subplots(figsize=(12, 6))\n",
    "    ax.bar(classes, acc_lst, color='tab:orange')\n",
    "    ax.set_xlabel('Classes')\n",
    "    ax.set_ylabel('Accuracy')\n",
    "    plt.show()\n",
    "\n",
    "    # plot the accuracy and # of data points per class\n",
    "    data_tuples = list(zip(list(class_dict.values()), acc_lst))\n",
    "    df = pd.DataFrame(data_tuples, columns=['# of data points', 'Accuracy'])\n",
    "\n",
    "    fig = plt.figure(figsize=(12, 6)) # Create matplotlib figure\n",
    "    ax = fig.add_subplot(111) # Create matplotlib axes\n",
    "    width = width\n",
    "    _ = df.plot(kind= 'bar' , secondary_y= '# of data points' ,width=width, ax=ax, rot= 0)\n",
    "    ax.set_xlabel('Classes')\n",
    "    plt.show()"
   ]
  },
  {
   "cell_type": "code",
   "execution_count": 164,
   "metadata": {
    "ExecuteTime": {
     "end_time": "2022-08-31T19:37:42.069908Z",
     "start_time": "2022-08-31T19:37:40.239041Z"
    }
   },
   "outputs": [
    {
     "name": "stdout",
     "output_type": "stream",
     "text": [
      "{0: [54, 8], 1: [187, 4], 2: [733, 496], 3: [654, 39], 4: [1869, 1281], 5: [1246, 653], 6: [622, 90], 7: [134, 0], 8: [1250, 812], 9: [345, 184], 10: [1455, 592], 11: [239, 0], 12: [5, 0], 13: [628, 250], 14: [71, 59], 15: [87, 1], 16: [10477, 9730], 17: [203, 0], 18: [209, 72], 19: [419, 264], 20: [313, 239], 21: [51, 0], 22: [386, 218], 23: [808, 515], 24: [10740, 7577], 25: [475, 167], 26: [1041, 695], 27: [2066, 1406], 28: [2849, 2509], 29: [120, 0], 30: [4631, 4293], 31: [892, 402], 32: [83, 3], 33: [220, 112], 34: [1414, 1012], 35: [36, 0], 36: [627, 448], 37: [481, 298], 38: [214, 158], 39: [269, 62]}\n"
     ]
    },
    {
     "data": {
      "image/png": "[encoded data removed]",
      "text/plain": [
       "<Figure size 864x432 with 1 Axes>"
      ]
     },
     "metadata": {
      "needs_background": "light"
     },
     "output_type": "display_data"
    },
    {
     "data": {
      "image/png": "[encoded data removed]",
      "text/plain": [
       "<Figure size 864x432 with 2 Axes>"
      ]
     },
     "metadata": {
      "needs_background": "light"
     },
     "output_type": "display_data"
    }
   ],
   "source": [
    "labels_arr = data.y[test_mask].cpu().numpy()\n",
    "plot_class_balance_and_accuracy(class_dict, classes, labels_arr, pred)"
   ]
  },
  {
   "cell_type": "code",
   "execution_count": null,
   "metadata": {},
   "outputs": [],
   "source": []
  }
 ],
 "metadata": {
  "colab": {
   "collapsed_sections": [],
   "name": "unimp_arxiv.ipynb",
   "provenance": []
  },
  "kernelspec": {
   "display_name": "Python 3 (ipykernel)",
   "language": "python",
   "name": "python3"
  },
  "language_info": {
   "codemirror_mode": {
    "name": "ipython",
    "version": 3
   },
   "file_extension": ".py",
   "mimetype": "text/x-python",
   "name": "python",
   "nbconvert_exporter": "python",
   "pygments_lexer": "ipython3",
   "version": "3.9.10"
  }
 },
 "nbformat": 4,
 "nbformat_minor": 1
}
