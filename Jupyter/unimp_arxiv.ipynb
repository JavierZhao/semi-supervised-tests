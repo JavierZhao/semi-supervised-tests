{
 "cells": [
  {
   "cell_type": "code",
   "execution_count": 1,
   "metadata": {
    "ExecuteTime": {
     "end_time": "2022-08-12T23:18:03.339275Z",
     "start_time": "2022-08-12T23:17:50.056674Z"
    },
    "colab": {
     "base_uri": "https://localhost:8080/",
     "height": 1000
    },
    "id": "SvhPQJwuouk-",
    "outputId": "cf8a2030-c3f4-4746-e325-8d34b78cdf5b"
   },
   "outputs": [],
   "source": [
    "import os.path as osp\n",
    "\n",
    "import torch\n",
    "import torch.nn.functional as F\n",
    "from ogb.nodeproppred import PygNodePropPredDataset\n",
    "\n",
    "import torch_geometric.transforms as T\n",
    "from torch_geometric.nn import MaskLabel, TransformerConv\n",
    "from torch_geometric.utils import index_to_mask"
   ]
  },
  {
   "cell_type": "code",
   "execution_count": 2,
   "metadata": {
    "ExecuteTime": {
     "end_time": "2022-08-12T23:17:37.015925Z",
     "start_time": "2022-08-12T23:17:36.677284Z"
    },
    "scrolled": true
   },
   "outputs": [
    {
     "name": "stdout",
     "output_type": "stream",
     "text": [
      "/home/jovyan/work/semi-supervised-tests/Jupyter\r\n"
     ]
    }
   ],
   "source": [
    "!pwd"
   ]
  },
  {
   "cell_type": "code",
   "execution_count": 3,
   "metadata": {
    "ExecuteTime": {
     "end_time": "2022-08-12T23:18:11.710513Z",
     "start_time": "2022-08-12T23:18:11.484742Z"
    },
    "colab": {
     "base_uri": "https://localhost:8080/",
     "height": 232
    },
    "id": "8fI-8u88ojNj",
    "outputId": "08afed7f-7c95-48e1-b8ab-324286483f24"
   },
   "outputs": [
    {
     "name": "stdout",
     "output_type": "stream",
     "text": [
      "Downloading http://snap.stanford.edu/ogb/data/nodeproppred/arxiv.zip\n"
     ]
    },
    {
     "name": "stderr",
     "output_type": "stream",
     "text": [
      "Downloaded 0.08 GB: 100%|█████████████████████████████████████████████████████████████████████████████████████████████████████████████████████████████████████████████████| 81/81 [00:02<00:00, 28.45it/s]\n",
      "Processing...\n"
     ]
    },
    {
     "name": "stdout",
     "output_type": "stream",
     "text": [
      "Extracting /home/jovyan/work/semi-supervised-tests/Jupyter/data/OGB/arxiv.zip\n",
      "Loading necessary files...\n",
      "This might take a while.\n",
      "Processing graphs...\n"
     ]
    },
    {
     "name": "stderr",
     "output_type": "stream",
     "text": [
      "100%|████████████████████████████████████████████████████████████████████████████████████████████████████████████████████████████████████████████████████████████████████| 1/1 [00:00<00:00, 21845.33it/s]\n"
     ]
    },
    {
     "name": "stdout",
     "output_type": "stream",
     "text": [
      "Converting graphs into PyG objects...\n"
     ]
    },
    {
     "name": "stderr",
     "output_type": "stream",
     "text": [
      "100%|█████████████████████████████████████████████████████████████████████████████████████████████████████████████████████████████████████████████████████████████████████| 1/1 [00:00<00:00, 6492.73it/s]"
     ]
    },
    {
     "name": "stdout",
     "output_type": "stream",
     "text": [
      "Saving...\n"
     ]
    },
    {
     "name": "stderr",
     "output_type": "stream",
     "text": [
      "\n",
      "Done!\n"
     ]
    }
   ],
   "source": [
    "root = \"/home/jovyan/work/semi-supervised-tests/Jupyter/data/OGB\"\n",
    "dataset = PygNodePropPredDataset('ogbn-arxiv', root, T.ToUndirected())"
   ]
  },
  {
   "cell_type": "code",
   "execution_count": 4,
   "metadata": {
    "ExecuteTime": {
     "end_time": "2022-08-08T19:47:37.295170Z",
     "start_time": "2022-08-08T19:47:37.276788Z"
    },
    "colab": {
     "base_uri": "https://localhost:8080/",
     "height": 232
    },
    "id": "8fI-8u88ojNj",
    "outputId": "08afed7f-7c95-48e1-b8ab-324286483f24"
   },
   "outputs": [],
   "source": [
    "class UniMP(torch.nn.Module):   #UniMP stands for Unified Message Passing\n",
    "    def __init__(self, in_channels, num_classes, hidden_channels, num_layers,\n",
    "                 heads, dropout=0.3):\n",
    "        super().__init__()\n",
    "\n",
    "        self.label_emb = MaskLabel(num_classes, in_channels)\n",
    "\n",
    "        self.convs = torch.nn.ModuleList()  # initialize self.convs\n",
    "        self.norms = torch.nn.ModuleList()  # initialize self.norms\n",
    "        for i in range(1, num_layers + 1):\n",
    "            if i < num_layers:\n",
    "                out_channels = hidden_channels // heads #what is a head?\n",
    "                concat = True   #what does concat do?\n",
    "            else:\n",
    "                out_channels = num_classes\n",
    "                concat = False\n",
    "            conv = TransformerConv(in_channels, out_channels, heads,\n",
    "                                   concat=concat, beta=True, dropout=dropout)\n",
    "            self.convs.append(conv)\n",
    "            in_channels = hidden_channels\n",
    "\n",
    "            if i < num_layers:\n",
    "                self.norms.append(torch.nn.LayerNorm(hidden_channels))\n",
    "                #why a separate if statement?\n",
    "                \n",
    "    def forward(self, x, y, edge_index, label_mask):\n",
    "        x = self.label_emb(x, y, label_mask)\n",
    "        for conv, norm in zip(self.convs, self.norms):\n",
    "            x = norm(conv(x, edge_index)).relu()\n",
    "        # conv -> norm -> ReLu -> conv -> norm -> Relu -> ... -> out\n",
    "        return self.convs[-1](x, edge_index)"
   ]
  },
  {
   "cell_type": "markdown",
   "metadata": {
    "id": "VFtGqDeHUc6Y"
   },
   "source": [
    "## Questions:  \n",
    "\n",
    "### 2. What does emb stand for?  \n",
    "Embedding\n",
    "\n",
    "### 3. What are normalization layers?  what do they do and why do we need them?\n",
    "https://pytorch.org/docs/stable/generated/torch.nn.LayerNorm.html  \n",
    "Normalization? but why?\n",
    "\n",
    "### 3.1 What are heads?  \n",
    "\n",
    "### 4. What does concat do?  \n",
    "If set to False, the multi-head attentions are averaged instead of concatenated. (default: True)  \n",
    "\n",
    "### 4.1 What are attentions?  \n",
    "\n",
    "### 7. Why a separate if statement for self.norms?\n",
    "\n",
    "\n",
    "### 8. What does each parameter mean in this function?  \n",
    "x: input?  \n",
    "y: output?  \n",
    "edge_index: how the graph is connected  \n",
    "label_mask: \n",
    "\n",
    "### 8.1 What does the first line do?  "
   ]
  },
  {
   "cell_type": "code",
   "execution_count": null,
   "metadata": {
    "id": "VFtGqDeHUc6Y"
   },
   "outputs": [],
   "source": [
    "\"\"\"\n",
    "def forward(self, x: Tensor, y: Tensor, mask: Tensor) -> Tensor:  \n",
    "        \"\"\"\"\"\"  \n",
    "        if self.method == \"concat\":  \n",
    "            out = x.new_zeros(y.size(0), self.emb.weight.size(-1))  \n",
    "            out[mask] = self.emb(y[mask])  \n",
    "            return torch.cat([x, out], dim=-1)  \n",
    "        else:  \n",
    "            x = torch.clone(x)  \n",
    "            x[mask] += self.emb(y[mask])  \n",
    "            return x\n",
    "\"\"\""
   ]
  },
  {
   "cell_type": "markdown",
   "metadata": {},
   "source": [
    "I assume this applies the mask to the inputs x but why does this process involve y?  "
   ]
  },
  {
   "cell_type": "code",
   "execution_count": 5,
   "metadata": {
    "ExecuteTime": {
     "end_time": "2022-08-08T19:47:43.098140Z",
     "start_time": "2022-08-08T19:47:42.458425Z"
    },
    "id": "gMlfPgRjr31t"
   },
   "outputs": [],
   "source": [
    "device = torch.device('cuda' if torch.cuda.is_available() else 'cpu')\n",
    "data = dataset[0].to(device)\n",
    "data.y = data.y.view(-1)\n",
    "model = UniMP(dataset.num_features, dataset.num_classes, hidden_channels=64,\n",
    "              num_layers=3, heads=2).to(device)\n",
    "optimizer = torch.optim.Adam(model.parameters(), lr=0.001, weight_decay=0.0005)\n",
    " \n",
    "split_idx = dataset.get_idx_split()   # train/val/test split\n",
    "train_mask = index_to_mask(split_idx['train'], size=data.num_nodes)\n",
    "val_mask = index_to_mask(split_idx['valid'], size=data.num_nodes)\n",
    "test_mask = index_to_mask(split_idx['test'], size=data.num_nodes)"
   ]
  },
  {
   "cell_type": "markdown",
   "metadata": {
    "id": "BeJyK5jpVwxU"
   },
   "source": [
    "##  Questions:  \n",
    "### 10. What is weight_decay?  \n",
    "L2 penalty  \n",
    "https://swamp-father-f58.notion.site/2-3-Lecture-Dealing-with-Overfitting-f1a77a6d12f445698e4d8cb340300d88\n",
    "\n",
    "### 12. What does the mask do?  \n",
    "They mask some of the labels, preventing the nodes from accessing those labels during training/validation/testing\n",
    "\n"
   ]
  },
  {
   "cell_type": "code",
   "execution_count": 6,
   "metadata": {
    "ExecuteTime": {
     "end_time": "2022-08-08T20:12:27.868541Z",
     "start_time": "2022-08-08T20:12:27.853075Z"
    },
    "id": "K3nkFpQStWsW"
   },
   "outputs": [],
   "source": [
    "def train(label_rate=0.65):  # How many labels to use for propagation.\n",
    "    model.train()\n",
    "\n",
    "    propagation_mask = MaskLabel.ratio_mask(train_mask, ratio=label_rate)\n",
    "    # Randomly modifies mask by setting ratio of True entries to False\n",
    "    supervision_mask = train_mask ^ propagation_mask  # Exclusive or: Sets each bit to 1 if only one of two bits is 1\n",
    "#     print(\"train_mask:\", train_mask)\n",
    "#     print(\"propagation_mask:\", propagation_mask)\n",
    "#     print(\"supervision_mask:\", supervision_mask)\n",
    "\n",
    "    optimizer.zero_grad()\n",
    "    out = model(data.x, data.y, data.edge_index, propagation_mask)\n",
    "    loss = F.cross_entropy(out[supervision_mask], data.y[supervision_mask])\n",
    "    loss.backward()\n",
    "    optimizer.step()\n",
    "\n",
    "    return float(loss)\n",
    "\n",
    "\n",
    "@torch.no_grad()\n",
    "def test():\n",
    "    model.eval()\n",
    "\n",
    "    propagation_mask = train_mask  #no masked nodes while testing\n",
    "    out = model(data.x, data.y, data.edge_index, propagation_mask)  # forward is called\n",
    "    pred = out[val_mask].argmax(dim=-1)\n",
    "    val_acc = int((pred == data.y[val_mask]).sum()) / pred.size(0)  # Validation accuracy\n",
    "\n",
    "    propagation_mask = train_mask | val_mask    #Or: Sets each bit to 1 if one of two bits is 1\n",
    "    out = model(data.x, data.y, data.edge_index, propagation_mask)\n",
    "    pred = out[test_mask].argmax(dim=-1)\n",
    "    test_acc = int((pred == data.y[test_mask]).sum()) / pred.size(0)\n",
    "\n",
    "    return val_acc, test_acc"
   ]
  },
  {
   "cell_type": "markdown",
   "metadata": {
    "id": "z9i8Jh2wWHqc"
   },
   "source": [
    "## Questions:  \n",
    "\n",
    "### 13. What is propagation_mask?  \n",
    "decides which nodes to use for message passing\n",
    "### 13.1 What is supervision_mask?  \n",
    "decides which nodes to use for verifying predictions  \n",
    "(propagation + supervision = training)\n",
    "### 14. Why use exclusive OR for supervision_mask but regular OR for propagation_mask\n",
    "\n"
   ]
  },
  {
   "cell_type": "code",
   "execution_count": 7,
   "metadata": {
    "ExecuteTime": {
     "end_time": "2022-08-08T20:35:57.333224Z",
     "start_time": "2022-08-08T20:12:31.556674Z"
    },
    "id": "5phe-4Fur8I4"
   },
   "outputs": [
    {
     "name": "stdout",
     "output_type": "stream",
     "text": [
      "Epoch: 001, Loss: 3.7609, Val: 0.1050, Test: 0.1105\n",
      "Epoch: 002, Loss: 3.6352, Val: 0.1719, Test: 0.1589\n",
      "Epoch: 003, Loss: 3.5299, Val: 0.1853, Test: 0.1759\n",
      "Epoch: 004, Loss: 3.4331, Val: 0.3491, Test: 0.3568\n",
      "Epoch: 005, Loss: 3.3609, Val: 0.3835, Test: 0.3820\n",
      "Epoch: 006, Loss: 3.2967, Val: 0.3967, Test: 0.3908\n",
      "Epoch: 007, Loss: 3.2391, Val: 0.4076, Test: 0.3984\n",
      "Epoch: 008, Loss: 3.1857, Val: 0.4168, Test: 0.4071\n",
      "Epoch: 009, Loss: 3.1330, Val: 0.4281, Test: 0.4182\n",
      "Epoch: 010, Loss: 3.0832, Val: 0.4407, Test: 0.4328\n",
      "Epoch: 011, Loss: 3.0346, Val: 0.4541, Test: 0.4510\n",
      "Epoch: 012, Loss: 2.9812, Val: 0.4683, Test: 0.4695\n",
      "Epoch: 013, Loss: 2.9291, Val: 0.4817, Test: 0.4850\n",
      "Epoch: 014, Loss: 2.8750, Val: 0.4946, Test: 0.4983\n",
      "Epoch: 015, Loss: 2.8258, Val: 0.5059, Test: 0.5113\n",
      "Epoch: 016, Loss: 2.7738, Val: 0.5167, Test: 0.5229\n",
      "Epoch: 017, Loss: 2.7219, Val: 0.5275, Test: 0.5340\n",
      "Epoch: 018, Loss: 2.6787, Val: 0.5378, Test: 0.5434\n",
      "Epoch: 019, Loss: 2.6228, Val: 0.5485, Test: 0.5537\n",
      "Epoch: 020, Loss: 2.5861, Val: 0.5598, Test: 0.5633\n",
      "Epoch: 021, Loss: 2.5356, Val: 0.5699, Test: 0.5720\n",
      "Epoch: 022, Loss: 2.4950, Val: 0.5774, Test: 0.5794\n",
      "Epoch: 023, Loss: 2.4376, Val: 0.5849, Test: 0.5860\n",
      "Epoch: 024, Loss: 2.3964, Val: 0.5906, Test: 0.5922\n",
      "Epoch: 025, Loss: 2.3528, Val: 0.5972, Test: 0.5981\n",
      "Epoch: 026, Loss: 2.3046, Val: 0.6023, Test: 0.6041\n",
      "Epoch: 027, Loss: 2.2660, Val: 0.6064, Test: 0.6098\n",
      "Epoch: 028, Loss: 2.2365, Val: 0.6113, Test: 0.6153\n",
      "Epoch: 029, Loss: 2.1941, Val: 0.6150, Test: 0.6200\n",
      "Epoch: 030, Loss: 2.1571, Val: 0.6187, Test: 0.6243\n",
      "Epoch: 031, Loss: 2.1171, Val: 0.6223, Test: 0.6281\n",
      "Epoch: 032, Loss: 2.0790, Val: 0.6255, Test: 0.6316\n",
      "Epoch: 033, Loss: 2.0380, Val: 0.6285, Test: 0.6353\n",
      "Epoch: 034, Loss: 2.0064, Val: 0.6321, Test: 0.6396\n",
      "Epoch: 035, Loss: 1.9823, Val: 0.6349, Test: 0.6434\n",
      "Epoch: 036, Loss: 1.9456, Val: 0.6370, Test: 0.6465\n",
      "Epoch: 037, Loss: 1.9217, Val: 0.6395, Test: 0.6496\n",
      "Epoch: 038, Loss: 1.9088, Val: 0.6425, Test: 0.6522\n",
      "Epoch: 039, Loss: 1.8706, Val: 0.6445, Test: 0.6541\n",
      "Epoch: 040, Loss: 1.8440, Val: 0.6460, Test: 0.6555\n",
      "Epoch: 041, Loss: 1.8057, Val: 0.6476, Test: 0.6574\n",
      "Epoch: 042, Loss: 1.7862, Val: 0.6493, Test: 0.6586\n",
      "Epoch: 043, Loss: 1.7763, Val: 0.6511, Test: 0.6606\n",
      "Epoch: 044, Loss: 1.7391, Val: 0.6535, Test: 0.6623\n",
      "Epoch: 045, Loss: 1.7133, Val: 0.6554, Test: 0.6649\n",
      "Epoch: 046, Loss: 1.6958, Val: 0.6575, Test: 0.6673\n",
      "Epoch: 047, Loss: 1.6710, Val: 0.6591, Test: 0.6688\n",
      "Epoch: 048, Loss: 1.6709, Val: 0.6608, Test: 0.6709\n",
      "Epoch: 049, Loss: 1.6581, Val: 0.6627, Test: 0.6723\n",
      "Epoch: 050, Loss: 1.6247, Val: 0.6642, Test: 0.6740\n",
      "Epoch: 051, Loss: 1.6073, Val: 0.6655, Test: 0.6754\n",
      "Epoch: 052, Loss: 1.5928, Val: 0.6669, Test: 0.6770\n",
      "Epoch: 053, Loss: 1.5850, Val: 0.6692, Test: 0.6781\n",
      "Epoch: 054, Loss: 1.5606, Val: 0.6707, Test: 0.6799\n",
      "Epoch: 055, Loss: 1.5500, Val: 0.6721, Test: 0.6816\n",
      "Epoch: 056, Loss: 1.5467, Val: 0.6742, Test: 0.6830\n",
      "Epoch: 057, Loss: 1.5154, Val: 0.6754, Test: 0.6849\n",
      "Epoch: 058, Loss: 1.5011, Val: 0.6772, Test: 0.6865\n",
      "Epoch: 059, Loss: 1.4900, Val: 0.6783, Test: 0.6877\n",
      "Epoch: 060, Loss: 1.4816, Val: 0.6793, Test: 0.6878\n",
      "Epoch: 061, Loss: 1.4621, Val: 0.6794, Test: 0.6856\n",
      "Epoch: 062, Loss: 1.4622, Val: 0.6795, Test: 0.6837\n",
      "Epoch: 063, Loss: 1.4362, Val: 0.6809, Test: 0.6842\n",
      "Epoch: 064, Loss: 1.4361, Val: 0.6820, Test: 0.6858\n",
      "Epoch: 065, Loss: 1.4147, Val: 0.6845, Test: 0.6890\n",
      "Epoch: 066, Loss: 1.4154, Val: 0.6861, Test: 0.6936\n",
      "Epoch: 067, Loss: 1.4022, Val: 0.6886, Test: 0.6953\n",
      "Epoch: 068, Loss: 1.3910, Val: 0.6887, Test: 0.6953\n",
      "Epoch: 069, Loss: 1.3844, Val: 0.6885, Test: 0.6941\n",
      "Epoch: 070, Loss: 1.3732, Val: 0.6864, Test: 0.6908\n",
      "Epoch: 071, Loss: 1.3604, Val: 0.6868, Test: 0.6899\n",
      "Epoch: 072, Loss: 1.3699, Val: 0.6877, Test: 0.6913\n",
      "Epoch: 073, Loss: 1.3540, Val: 0.6898, Test: 0.6938\n",
      "Epoch: 074, Loss: 1.3524, Val: 0.6918, Test: 0.6973\n",
      "Epoch: 075, Loss: 1.3319, Val: 0.6936, Test: 0.6994\n",
      "Epoch: 076, Loss: 1.3198, Val: 0.6944, Test: 0.7002\n",
      "Epoch: 077, Loss: 1.3333, Val: 0.6947, Test: 0.7011\n",
      "Epoch: 078, Loss: 1.3173, Val: 0.6953, Test: 0.7013\n",
      "Epoch: 079, Loss: 1.3169, Val: 0.6963, Test: 0.7032\n",
      "Epoch: 080, Loss: 1.3008, Val: 0.6970, Test: 0.7046\n",
      "Epoch: 081, Loss: 1.2864, Val: 0.6978, Test: 0.7065\n",
      "Epoch: 082, Loss: 1.2814, Val: 0.6992, Test: 0.7074\n",
      "Epoch: 083, Loss: 1.2735, Val: 0.6995, Test: 0.7075\n",
      "Epoch: 084, Loss: 1.2786, Val: 0.7001, Test: 0.7084\n",
      "Epoch: 085, Loss: 1.2847, Val: 0.6999, Test: 0.7085\n",
      "Epoch: 086, Loss: 1.2693, Val: 0.6999, Test: 0.7077\n",
      "Epoch: 087, Loss: 1.2581, Val: 0.6998, Test: 0.7066\n",
      "Epoch: 088, Loss: 1.2500, Val: 0.6998, Test: 0.7055\n",
      "Epoch: 089, Loss: 1.2541, Val: 0.7011, Test: 0.7072\n",
      "Epoch: 090, Loss: 1.2361, Val: 0.7026, Test: 0.7092\n",
      "Epoch: 091, Loss: 1.2399, Val: 0.7029, Test: 0.7099\n",
      "Epoch: 092, Loss: 1.2357, Val: 0.7027, Test: 0.7099\n",
      "Epoch: 093, Loss: 1.2385, Val: 0.7030, Test: 0.7096\n",
      "Epoch: 094, Loss: 1.2224, Val: 0.7037, Test: 0.7104\n",
      "Epoch: 095, Loss: 1.2209, Val: 0.7039, Test: 0.7105\n",
      "Epoch: 096, Loss: 1.2039, Val: 0.7044, Test: 0.7118\n",
      "Epoch: 097, Loss: 1.2187, Val: 0.7052, Test: 0.7128\n",
      "Epoch: 098, Loss: 1.2207, Val: 0.7052, Test: 0.7127\n",
      "Epoch: 099, Loss: 1.2012, Val: 0.7057, Test: 0.7138\n",
      "Epoch: 100, Loss: 1.2061, Val: 0.7070, Test: 0.7154\n",
      "Epoch: 101, Loss: 1.1964, Val: 0.7072, Test: 0.7148\n",
      "Epoch: 102, Loss: 1.2029, Val: 0.7063, Test: 0.7122\n",
      "Epoch: 103, Loss: 1.1945, Val: 0.7069, Test: 0.7113\n",
      "Epoch: 104, Loss: 1.1879, Val: 0.7073, Test: 0.7106\n",
      "Epoch: 105, Loss: 1.1802, Val: 0.7071, Test: 0.7111\n",
      "Epoch: 106, Loss: 1.1699, Val: 0.7073, Test: 0.7119\n",
      "Epoch: 107, Loss: 1.1704, Val: 0.7079, Test: 0.7143\n",
      "Epoch: 108, Loss: 1.1593, Val: 0.7086, Test: 0.7148\n",
      "Epoch: 109, Loss: 1.1754, Val: 0.7077, Test: 0.7125\n",
      "Epoch: 110, Loss: 1.1566, Val: 0.7068, Test: 0.7095\n",
      "Epoch: 111, Loss: 1.1528, Val: 0.7062, Test: 0.7081\n",
      "Epoch: 112, Loss: 1.1553, Val: 0.7080, Test: 0.7109\n",
      "Epoch: 113, Loss: 1.1556, Val: 0.7093, Test: 0.7136\n",
      "Epoch: 114, Loss: 1.1427, Val: 0.7095, Test: 0.7150\n",
      "Epoch: 115, Loss: 1.1373, Val: 0.7101, Test: 0.7151\n",
      "Epoch: 116, Loss: 1.1469, Val: 0.7100, Test: 0.7151\n",
      "Epoch: 117, Loss: 1.1416, Val: 0.7102, Test: 0.7144\n",
      "Epoch: 118, Loss: 1.1438, Val: 0.7105, Test: 0.7152\n",
      "Epoch: 119, Loss: 1.1435, Val: 0.7113, Test: 0.7174\n",
      "Epoch: 120, Loss: 1.1407, Val: 0.7109, Test: 0.7176\n",
      "Epoch: 121, Loss: 1.1241, Val: 0.7109, Test: 0.7172\n",
      "Epoch: 122, Loss: 1.1371, Val: 0.7114, Test: 0.7167\n",
      "Epoch: 123, Loss: 1.1225, Val: 0.7113, Test: 0.7147\n",
      "Epoch: 124, Loss: 1.1323, Val: 0.7115, Test: 0.7144\n",
      "Epoch: 125, Loss: 1.1233, Val: 0.7112, Test: 0.7131\n",
      "Epoch: 126, Loss: 1.1151, Val: 0.7116, Test: 0.7146\n",
      "Epoch: 127, Loss: 1.1269, Val: 0.7119, Test: 0.7158\n",
      "Epoch: 128, Loss: 1.1123, Val: 0.7125, Test: 0.7153\n",
      "Epoch: 129, Loss: 1.1088, Val: 0.7125, Test: 0.7148\n",
      "Epoch: 130, Loss: 1.1171, Val: 0.7124, Test: 0.7135\n",
      "Epoch: 131, Loss: 1.1038, Val: 0.7120, Test: 0.7133\n",
      "Epoch: 132, Loss: 1.1113, Val: 0.7126, Test: 0.7148\n",
      "Epoch: 133, Loss: 1.1112, Val: 0.7140, Test: 0.7171\n",
      "Epoch: 134, Loss: 1.0928, Val: 0.7138, Test: 0.7165\n",
      "Epoch: 135, Loss: 1.0887, Val: 0.7127, Test: 0.7135\n",
      "Epoch: 136, Loss: 1.0949, Val: 0.7117, Test: 0.7122\n",
      "Epoch: 137, Loss: 1.0840, Val: 0.7126, Test: 0.7148\n",
      "Epoch: 138, Loss: 1.0903, Val: 0.7133, Test: 0.7175\n",
      "Epoch: 139, Loss: 1.0762, Val: 0.7145, Test: 0.7191\n",
      "Epoch: 140, Loss: 1.0953, Val: 0.7153, Test: 0.7196\n",
      "Epoch: 141, Loss: 1.0782, Val: 0.7152, Test: 0.7192\n",
      "Epoch: 142, Loss: 1.0855, Val: 0.7155, Test: 0.7180\n",
      "Epoch: 143, Loss: 1.0803, Val: 0.7149, Test: 0.7167\n",
      "Epoch: 144, Loss: 1.0777, Val: 0.7161, Test: 0.7174\n",
      "Epoch: 145, Loss: 1.0908, Val: 0.7159, Test: 0.7181\n",
      "Epoch: 146, Loss: 1.0767, Val: 0.7163, Test: 0.7216\n",
      "Epoch: 147, Loss: 1.0708, Val: 0.7166, Test: 0.7222\n",
      "Epoch: 148, Loss: 1.0808, Val: 0.7164, Test: 0.7185\n",
      "Epoch: 149, Loss: 1.0704, Val: 0.7132, Test: 0.7151\n",
      "Epoch: 150, Loss: 1.0710, Val: 0.7144, Test: 0.7163\n",
      "Epoch: 151, Loss: 1.0614, Val: 0.7169, Test: 0.7199\n",
      "Epoch: 152, Loss: 1.0554, Val: 0.7176, Test: 0.7234\n",
      "Epoch: 153, Loss: 1.0704, Val: 0.7189, Test: 0.7241\n",
      "Epoch: 154, Loss: 1.0615, Val: 0.7171, Test: 0.7199\n",
      "Epoch: 155, Loss: 1.0564, Val: 0.7143, Test: 0.7164\n",
      "Epoch: 156, Loss: 1.0594, Val: 0.7153, Test: 0.7169\n",
      "Epoch: 157, Loss: 1.0578, Val: 0.7184, Test: 0.7226\n",
      "Epoch: 158, Loss: 1.0513, Val: 0.7181, Test: 0.7251\n",
      "Epoch: 159, Loss: 1.0541, Val: 0.7186, Test: 0.7251\n",
      "Epoch: 160, Loss: 1.0425, Val: 0.7180, Test: 0.7218\n",
      "Epoch: 161, Loss: 1.0424, Val: 0.7155, Test: 0.7179\n",
      "Epoch: 162, Loss: 1.0450, Val: 0.7182, Test: 0.7209\n",
      "Epoch: 163, Loss: 1.0403, Val: 0.7194, Test: 0.7230\n",
      "Epoch: 164, Loss: 1.0494, Val: 0.7200, Test: 0.7253\n",
      "Epoch: 165, Loss: 1.0386, Val: 0.7197, Test: 0.7224\n",
      "Epoch: 166, Loss: 1.0362, Val: 0.7175, Test: 0.7204\n",
      "Epoch: 167, Loss: 1.0400, Val: 0.7169, Test: 0.7193\n",
      "Epoch: 168, Loss: 1.0259, Val: 0.7177, Test: 0.7203\n",
      "Epoch: 169, Loss: 1.0375, Val: 0.7188, Test: 0.7226\n",
      "Epoch: 170, Loss: 1.0388, Val: 0.7195, Test: 0.7245\n",
      "Epoch: 171, Loss: 1.0264, Val: 0.7194, Test: 0.7238\n",
      "Epoch: 172, Loss: 1.0213, Val: 0.7199, Test: 0.7230\n",
      "Epoch: 173, Loss: 1.0317, Val: 0.7196, Test: 0.7231\n",
      "Epoch: 174, Loss: 1.0239, Val: 0.7200, Test: 0.7235\n",
      "Epoch: 175, Loss: 1.0182, Val: 0.7196, Test: 0.7232\n",
      "Epoch: 176, Loss: 1.0282, Val: 0.7182, Test: 0.7214\n",
      "Epoch: 177, Loss: 1.0276, Val: 0.7181, Test: 0.7214\n",
      "Epoch: 178, Loss: 1.0148, Val: 0.7192, Test: 0.7247\n",
      "Epoch: 179, Loss: 1.0152, Val: 0.7200, Test: 0.7258\n",
      "Epoch: 180, Loss: 1.0133, Val: 0.7190, Test: 0.7250\n",
      "Epoch: 181, Loss: 1.0149, Val: 0.7197, Test: 0.7241\n",
      "Epoch: 182, Loss: 1.0206, Val: 0.7204, Test: 0.7252\n",
      "Epoch: 183, Loss: 1.0132, Val: 0.7214, Test: 0.7271\n",
      "Epoch: 184, Loss: 1.0197, Val: 0.7210, Test: 0.7256\n",
      "Epoch: 185, Loss: 1.0089, Val: 0.7197, Test: 0.7239\n",
      "Epoch: 186, Loss: 1.0102, Val: 0.7176, Test: 0.7210\n",
      "Epoch: 187, Loss: 1.0112, Val: 0.7190, Test: 0.7230\n",
      "Epoch: 188, Loss: 1.0132, Val: 0.7212, Test: 0.7273\n",
      "Epoch: 189, Loss: 1.0072, Val: 0.7220, Test: 0.7290\n",
      "Epoch: 190, Loss: 1.0121, Val: 0.7218, Test: 0.7278\n",
      "Epoch: 191, Loss: 1.0049, Val: 0.7210, Test: 0.7255\n",
      "Epoch: 192, Loss: 0.9992, Val: 0.7195, Test: 0.7228\n",
      "Epoch: 193, Loss: 1.0015, Val: 0.7206, Test: 0.7230\n",
      "Epoch: 194, Loss: 0.9943, Val: 0.7220, Test: 0.7268\n",
      "Epoch: 195, Loss: 1.0011, Val: 0.7229, Test: 0.7272\n",
      "Epoch: 196, Loss: 0.9912, Val: 0.7231, Test: 0.7259\n",
      "Epoch: 197, Loss: 1.0021, Val: 0.7223, Test: 0.7245\n",
      "Epoch: 198, Loss: 0.9908, Val: 0.7204, Test: 0.7252\n",
      "Epoch: 199, Loss: 0.9955, Val: 0.7227, Test: 0.7262\n",
      "Epoch: 200, Loss: 0.9847, Val: 0.7235, Test: 0.7279\n",
      "Epoch: 201, Loss: 0.9861, Val: 0.7237, Test: 0.7274\n",
      "Epoch: 202, Loss: 0.9885, Val: 0.7210, Test: 0.7249\n",
      "Epoch: 203, Loss: 0.9933, Val: 0.7213, Test: 0.7236\n",
      "Epoch: 204, Loss: 0.9808, Val: 0.7235, Test: 0.7249\n",
      "Epoch: 205, Loss: 0.9859, Val: 0.7247, Test: 0.7263\n",
      "Epoch: 206, Loss: 0.9816, Val: 0.7237, Test: 0.7256\n",
      "Epoch: 207, Loss: 0.9805, Val: 0.7217, Test: 0.7235\n",
      "Epoch: 208, Loss: 0.9935, Val: 0.7229, Test: 0.7259\n",
      "Epoch: 209, Loss: 0.9761, Val: 0.7242, Test: 0.7273\n",
      "Epoch: 210, Loss: 0.9695, Val: 0.7237, Test: 0.7259\n",
      "Epoch: 211, Loss: 0.9766, Val: 0.7206, Test: 0.7228\n",
      "Epoch: 212, Loss: 0.9797, Val: 0.7212, Test: 0.7228\n",
      "Epoch: 213, Loss: 0.9811, Val: 0.7230, Test: 0.7245\n",
      "Epoch: 214, Loss: 0.9678, Val: 0.7241, Test: 0.7260\n",
      "Epoch: 215, Loss: 0.9734, Val: 0.7219, Test: 0.7246\n",
      "Epoch: 216, Loss: 0.9742, Val: 0.7220, Test: 0.7238\n",
      "Epoch: 217, Loss: 0.9753, Val: 0.7223, Test: 0.7250\n",
      "Epoch: 218, Loss: 0.9777, Val: 0.7228, Test: 0.7257\n",
      "Epoch: 219, Loss: 0.9735, Val: 0.7225, Test: 0.7253\n",
      "Epoch: 220, Loss: 0.9686, Val: 0.7234, Test: 0.7273\n",
      "Epoch: 221, Loss: 0.9634, Val: 0.7244, Test: 0.7294\n",
      "Epoch: 222, Loss: 0.9618, Val: 0.7230, Test: 0.7270\n",
      "Epoch: 223, Loss: 0.9694, Val: 0.7226, Test: 0.7252\n",
      "Epoch: 224, Loss: 0.9654, Val: 0.7232, Test: 0.7264\n",
      "Epoch: 225, Loss: 0.9581, Val: 0.7251, Test: 0.7293\n",
      "Epoch: 226, Loss: 0.9698, Val: 0.7256, Test: 0.7296\n",
      "Epoch: 227, Loss: 0.9578, Val: 0.7236, Test: 0.7270\n",
      "Epoch: 228, Loss: 0.9568, Val: 0.7233, Test: 0.7253\n",
      "Epoch: 229, Loss: 0.9420, Val: 0.7243, Test: 0.7272\n",
      "Epoch: 230, Loss: 0.9616, Val: 0.7250, Test: 0.7281\n",
      "Epoch: 231, Loss: 0.9632, Val: 0.7252, Test: 0.7285\n",
      "Epoch: 232, Loss: 0.9577, Val: 0.7241, Test: 0.7263\n",
      "Epoch: 233, Loss: 0.9648, Val: 0.7236, Test: 0.7251\n",
      "Epoch: 234, Loss: 0.9559, Val: 0.7241, Test: 0.7240\n",
      "Epoch: 235, Loss: 0.9599, Val: 0.7243, Test: 0.7254\n",
      "Epoch: 236, Loss: 0.9588, Val: 0.7250, Test: 0.7279\n",
      "Epoch: 237, Loss: 0.9361, Val: 0.7248, Test: 0.7284\n",
      "Epoch: 238, Loss: 0.9498, Val: 0.7246, Test: 0.7278\n",
      "Epoch: 239, Loss: 0.9411, Val: 0.7244, Test: 0.7257\n",
      "Epoch: 240, Loss: 0.9535, Val: 0.7259, Test: 0.7278\n",
      "Epoch: 241, Loss: 0.9509, Val: 0.7257, Test: 0.7286\n",
      "Epoch: 242, Loss: 0.9433, Val: 0.7258, Test: 0.7287\n",
      "Epoch: 243, Loss: 0.9456, Val: 0.7245, Test: 0.7261\n",
      "Epoch: 244, Loss: 0.9437, Val: 0.7260, Test: 0.7286\n",
      "Epoch: 245, Loss: 0.9472, Val: 0.7267, Test: 0.7303\n",
      "Epoch: 246, Loss: 0.9440, Val: 0.7267, Test: 0.7288\n",
      "Epoch: 247, Loss: 0.9411, Val: 0.7257, Test: 0.7271\n",
      "Epoch: 248, Loss: 0.9383, Val: 0.7267, Test: 0.7268\n",
      "Epoch: 249, Loss: 0.9463, Val: 0.7273, Test: 0.7284\n",
      "Epoch: 250, Loss: 0.9417, Val: 0.7267, Test: 0.7292\n",
      "Epoch: 251, Loss: 0.9523, Val: 0.7244, Test: 0.7252\n",
      "Epoch: 252, Loss: 0.9345, Val: 0.7255, Test: 0.7259\n",
      "Epoch: 253, Loss: 0.9408, Val: 0.7273, Test: 0.7266\n",
      "Epoch: 254, Loss: 0.9519, Val: 0.7266, Test: 0.7283\n",
      "Epoch: 255, Loss: 0.9395, Val: 0.7278, Test: 0.7306\n",
      "Epoch: 256, Loss: 0.9383, Val: 0.7260, Test: 0.7295\n",
      "Epoch: 257, Loss: 0.9352, Val: 0.7258, Test: 0.7287\n",
      "Epoch: 258, Loss: 0.9276, Val: 0.7253, Test: 0.7266\n",
      "Epoch: 259, Loss: 0.9346, Val: 0.7249, Test: 0.7253\n",
      "Epoch: 260, Loss: 0.9413, Val: 0.7250, Test: 0.7243\n",
      "Epoch: 261, Loss: 0.9358, Val: 0.7266, Test: 0.7275\n",
      "Epoch: 262, Loss: 0.9297, Val: 0.7269, Test: 0.7293\n",
      "Epoch: 263, Loss: 0.9376, Val: 0.7261, Test: 0.7277\n",
      "Epoch: 264, Loss: 0.9509, Val: 0.7251, Test: 0.7253\n",
      "Epoch: 265, Loss: 0.9349, Val: 0.7247, Test: 0.7244\n",
      "Epoch: 266, Loss: 0.9390, Val: 0.7266, Test: 0.7278\n",
      "Epoch: 267, Loss: 0.9302, Val: 0.7278, Test: 0.7284\n",
      "Epoch: 268, Loss: 0.9390, Val: 0.7272, Test: 0.7273\n",
      "Epoch: 269, Loss: 0.9279, Val: 0.7265, Test: 0.7277\n",
      "Epoch: 270, Loss: 0.9259, Val: 0.7267, Test: 0.7289\n",
      "Epoch: 271, Loss: 0.9421, Val: 0.7274, Test: 0.7297\n",
      "Epoch: 272, Loss: 0.9295, Val: 0.7273, Test: 0.7292\n",
      "Epoch: 273, Loss: 0.9374, Val: 0.7267, Test: 0.7292\n",
      "Epoch: 274, Loss: 0.9275, Val: 0.7272, Test: 0.7305\n",
      "Epoch: 275, Loss: 0.9096, Val: 0.7273, Test: 0.7298\n",
      "Epoch: 276, Loss: 0.9237, Val: 0.7256, Test: 0.7276\n",
      "Epoch: 277, Loss: 0.9161, Val: 0.7264, Test: 0.7265\n",
      "Epoch: 278, Loss: 0.9229, Val: 0.7264, Test: 0.7251\n",
      "Epoch: 279, Loss: 0.9209, Val: 0.7270, Test: 0.7275\n",
      "Epoch: 280, Loss: 0.9155, Val: 0.7276, Test: 0.7291\n",
      "Epoch: 281, Loss: 0.9233, Val: 0.7269, Test: 0.7294\n",
      "Epoch: 282, Loss: 0.9226, Val: 0.7260, Test: 0.7261\n",
      "Epoch: 283, Loss: 0.9241, Val: 0.7246, Test: 0.7244\n",
      "Epoch: 284, Loss: 0.9122, Val: 0.7268, Test: 0.7259\n",
      "Epoch: 285, Loss: 0.9098, Val: 0.7279, Test: 0.7292\n",
      "Epoch: 286, Loss: 0.9224, Val: 0.7286, Test: 0.7299\n",
      "Epoch: 287, Loss: 0.9096, Val: 0.7267, Test: 0.7269\n",
      "Epoch: 288, Loss: 0.9200, Val: 0.7258, Test: 0.7251\n",
      "Epoch: 289, Loss: 0.9036, Val: 0.7287, Test: 0.7311\n",
      "Epoch: 290, Loss: 0.9085, Val: 0.7282, Test: 0.7313\n",
      "Epoch: 291, Loss: 0.9148, Val: 0.7275, Test: 0.7286\n",
      "Epoch: 292, Loss: 0.9266, Val: 0.7268, Test: 0.7279\n",
      "Epoch: 293, Loss: 0.9069, Val: 0.7274, Test: 0.7278\n",
      "Epoch: 294, Loss: 0.9164, Val: 0.7279, Test: 0.7302\n",
      "Epoch: 295, Loss: 0.9136, Val: 0.7281, Test: 0.7284\n",
      "Epoch: 296, Loss: 0.9166, Val: 0.7268, Test: 0.7273\n",
      "Epoch: 297, Loss: 0.9140, Val: 0.7280, Test: 0.7300\n",
      "Epoch: 298, Loss: 0.9150, Val: 0.7288, Test: 0.7313\n",
      "Epoch: 299, Loss: 0.9141, Val: 0.7276, Test: 0.7272\n",
      "Epoch: 300, Loss: 0.9221, Val: 0.7260, Test: 0.7249\n",
      "Epoch: 301, Loss: 0.9113, Val: 0.7259, Test: 0.7279\n",
      "Epoch: 302, Loss: 0.9086, Val: 0.7279, Test: 0.7296\n",
      "Epoch: 303, Loss: 0.9203, Val: 0.7284, Test: 0.7299\n",
      "Epoch: 304, Loss: 0.9013, Val: 0.7282, Test: 0.7298\n",
      "Epoch: 305, Loss: 0.9140, Val: 0.7279, Test: 0.7287\n",
      "Epoch: 306, Loss: 0.9104, Val: 0.7275, Test: 0.7270\n",
      "Epoch: 307, Loss: 0.9131, Val: 0.7305, Test: 0.7316\n",
      "Epoch: 308, Loss: 0.9043, Val: 0.7299, Test: 0.7301\n",
      "Epoch: 309, Loss: 0.9186, Val: 0.7273, Test: 0.7261\n",
      "Epoch: 310, Loss: 0.9087, Val: 0.7262, Test: 0.7250\n",
      "Epoch: 311, Loss: 0.9109, Val: 0.7260, Test: 0.7241\n",
      "Epoch: 312, Loss: 0.9070, Val: 0.7288, Test: 0.7292\n",
      "Epoch: 313, Loss: 0.8985, Val: 0.7292, Test: 0.7317\n",
      "Epoch: 314, Loss: 0.9034, Val: 0.7279, Test: 0.7268\n",
      "Epoch: 315, Loss: 0.8957, Val: 0.7255, Test: 0.7223\n",
      "Epoch: 316, Loss: 0.8953, Val: 0.7278, Test: 0.7265\n",
      "Epoch: 317, Loss: 0.8923, Val: 0.7290, Test: 0.7317\n",
      "Epoch: 318, Loss: 0.9008, Val: 0.7298, Test: 0.7321\n",
      "Epoch: 319, Loss: 0.9076, Val: 0.7268, Test: 0.7261\n",
      "Epoch: 320, Loss: 0.9020, Val: 0.7277, Test: 0.7271\n",
      "Epoch: 321, Loss: 0.8990, Val: 0.7296, Test: 0.7322\n",
      "Epoch: 322, Loss: 0.9028, Val: 0.7303, Test: 0.7294\n",
      "Epoch: 323, Loss: 0.8948, Val: 0.7276, Test: 0.7245\n",
      "Epoch: 324, Loss: 0.9090, Val: 0.7270, Test: 0.7238\n",
      "Epoch: 325, Loss: 0.8966, Val: 0.7292, Test: 0.7292\n",
      "Epoch: 326, Loss: 0.8965, Val: 0.7301, Test: 0.7298\n",
      "Epoch: 327, Loss: 0.8984, Val: 0.7281, Test: 0.7260\n",
      "Epoch: 328, Loss: 0.9032, Val: 0.7253, Test: 0.7224\n",
      "Epoch: 329, Loss: 0.8863, Val: 0.7291, Test: 0.7272\n",
      "Epoch: 330, Loss: 0.8981, Val: 0.7302, Test: 0.7298\n",
      "Epoch: 331, Loss: 0.8927, Val: 0.7308, Test: 0.7303\n",
      "Epoch: 332, Loss: 0.8966, Val: 0.7283, Test: 0.7283\n",
      "Epoch: 333, Loss: 0.9023, Val: 0.7275, Test: 0.7251\n",
      "Epoch: 334, Loss: 0.8911, Val: 0.7298, Test: 0.7288\n",
      "Epoch: 335, Loss: 0.9059, Val: 0.7302, Test: 0.7311\n",
      "Epoch: 336, Loss: 0.8952, Val: 0.7302, Test: 0.7305\n",
      "Epoch: 337, Loss: 0.8983, Val: 0.7302, Test: 0.7301\n",
      "Epoch: 338, Loss: 0.8995, Val: 0.7298, Test: 0.7288\n",
      "Epoch: 339, Loss: 0.8983, Val: 0.7296, Test: 0.7272\n",
      "Epoch: 340, Loss: 0.8835, Val: 0.7289, Test: 0.7274\n",
      "Epoch: 341, Loss: 0.8912, Val: 0.7283, Test: 0.7273\n",
      "Epoch: 342, Loss: 0.8945, Val: 0.7274, Test: 0.7273\n",
      "Epoch: 343, Loss: 0.8941, Val: 0.7273, Test: 0.7252\n",
      "Epoch: 344, Loss: 0.8866, Val: 0.7294, Test: 0.7289\n",
      "Epoch: 345, Loss: 0.8870, Val: 0.7296, Test: 0.7317\n",
      "Epoch: 346, Loss: 0.8915, Val: 0.7297, Test: 0.7288\n",
      "Epoch: 347, Loss: 0.8866, Val: 0.7268, Test: 0.7243\n",
      "Epoch: 348, Loss: 0.9009, Val: 0.7284, Test: 0.7265\n",
      "Epoch: 349, Loss: 0.8827, Val: 0.7309, Test: 0.7298\n",
      "Epoch: 350, Loss: 0.8808, Val: 0.7298, Test: 0.7300\n",
      "Epoch: 351, Loss: 0.8868, Val: 0.7284, Test: 0.7295\n",
      "Epoch: 352, Loss: 0.8833, Val: 0.7286, Test: 0.7310\n",
      "Epoch: 353, Loss: 0.8885, Val: 0.7299, Test: 0.7313\n",
      "Epoch: 354, Loss: 0.8797, Val: 0.7310, Test: 0.7319\n",
      "Epoch: 355, Loss: 0.8945, Val: 0.7311, Test: 0.7305\n",
      "Epoch: 356, Loss: 0.8761, Val: 0.7298, Test: 0.7291\n",
      "Epoch: 357, Loss: 0.8854, Val: 0.7276, Test: 0.7278\n",
      "Epoch: 358, Loss: 0.8845, Val: 0.7293, Test: 0.7298\n",
      "Epoch: 359, Loss: 0.8876, Val: 0.7301, Test: 0.7302\n",
      "Epoch: 360, Loss: 0.8915, Val: 0.7291, Test: 0.7276\n",
      "Epoch: 361, Loss: 0.8863, Val: 0.7306, Test: 0.7286\n",
      "Epoch: 362, Loss: 0.8870, Val: 0.7308, Test: 0.7312\n",
      "Epoch: 363, Loss: 0.8833, Val: 0.7301, Test: 0.7323\n",
      "Epoch: 364, Loss: 0.8756, Val: 0.7304, Test: 0.7298\n",
      "Epoch: 365, Loss: 0.8801, Val: 0.7282, Test: 0.7277\n",
      "Epoch: 366, Loss: 0.8842, Val: 0.7303, Test: 0.7280\n",
      "Epoch: 367, Loss: 0.8794, Val: 0.7317, Test: 0.7300\n",
      "Epoch: 368, Loss: 0.8842, Val: 0.7325, Test: 0.7306\n",
      "Epoch: 369, Loss: 0.8913, Val: 0.7308, Test: 0.7289\n",
      "Epoch: 370, Loss: 0.8735, Val: 0.7305, Test: 0.7276\n",
      "Epoch: 371, Loss: 0.8808, Val: 0.7305, Test: 0.7269\n",
      "Epoch: 372, Loss: 0.8848, Val: 0.7301, Test: 0.7254\n",
      "Epoch: 373, Loss: 0.8813, Val: 0.7305, Test: 0.7271\n",
      "Epoch: 374, Loss: 0.8839, Val: 0.7306, Test: 0.7287\n",
      "Epoch: 375, Loss: 0.8876, Val: 0.7314, Test: 0.7299\n",
      "Epoch: 376, Loss: 0.8747, Val: 0.7309, Test: 0.7314\n",
      "Epoch: 377, Loss: 0.8861, Val: 0.7322, Test: 0.7327\n",
      "Epoch: 378, Loss: 0.8711, Val: 0.7305, Test: 0.7277\n",
      "Epoch: 379, Loss: 0.8648, Val: 0.7288, Test: 0.7262\n",
      "Epoch: 380, Loss: 0.8816, Val: 0.7310, Test: 0.7295\n",
      "Epoch: 381, Loss: 0.8805, Val: 0.7317, Test: 0.7320\n",
      "Epoch: 382, Loss: 0.8864, Val: 0.7314, Test: 0.7323\n",
      "Epoch: 383, Loss: 0.8646, Val: 0.7295, Test: 0.7277\n",
      "Epoch: 384, Loss: 0.8784, Val: 0.7262, Test: 0.7229\n",
      "Epoch: 385, Loss: 0.8732, Val: 0.7303, Test: 0.7301\n",
      "Epoch: 386, Loss: 0.8904, Val: 0.7313, Test: 0.7347\n",
      "Epoch: 387, Loss: 0.8817, Val: 0.7317, Test: 0.7315\n",
      "Epoch: 388, Loss: 0.8827, Val: 0.7309, Test: 0.7304\n",
      "Epoch: 389, Loss: 0.8779, Val: 0.7310, Test: 0.7311\n",
      "Epoch: 390, Loss: 0.8735, Val: 0.7314, Test: 0.7311\n",
      "Epoch: 391, Loss: 0.8838, Val: 0.7298, Test: 0.7294\n",
      "Epoch: 392, Loss: 0.8691, Val: 0.7310, Test: 0.7324\n",
      "Epoch: 393, Loss: 0.8695, Val: 0.7317, Test: 0.7334\n",
      "Epoch: 394, Loss: 0.8723, Val: 0.7313, Test: 0.7307\n",
      "Epoch: 395, Loss: 0.8677, Val: 0.7310, Test: 0.7281\n",
      "Epoch: 396, Loss: 0.8665, Val: 0.7302, Test: 0.7284\n",
      "Epoch: 397, Loss: 0.8800, Val: 0.7314, Test: 0.7308\n",
      "Epoch: 398, Loss: 0.8668, Val: 0.7313, Test: 0.7316\n",
      "Epoch: 399, Loss: 0.8706, Val: 0.7309, Test: 0.7314\n",
      "Epoch: 400, Loss: 0.8756, Val: 0.7291, Test: 0.7268\n",
      "Epoch: 401, Loss: 0.8661, Val: 0.7295, Test: 0.7283\n",
      "Epoch: 402, Loss: 0.8666, Val: 0.7311, Test: 0.7317\n",
      "Epoch: 403, Loss: 0.8757, Val: 0.7317, Test: 0.7318\n",
      "Epoch: 404, Loss: 0.8719, Val: 0.7282, Test: 0.7258\n",
      "Epoch: 405, Loss: 0.8672, Val: 0.7297, Test: 0.7264\n",
      "Epoch: 406, Loss: 0.8718, Val: 0.7307, Test: 0.7296\n",
      "Epoch: 407, Loss: 0.8695, Val: 0.7315, Test: 0.7329\n",
      "Epoch: 408, Loss: 0.8624, Val: 0.7314, Test: 0.7324\n",
      "Epoch: 409, Loss: 0.8644, Val: 0.7298, Test: 0.7285\n",
      "Epoch: 410, Loss: 0.8634, Val: 0.7296, Test: 0.7285\n",
      "Epoch: 411, Loss: 0.8700, Val: 0.7303, Test: 0.7303\n",
      "Epoch: 412, Loss: 0.8766, Val: 0.7302, Test: 0.7277\n",
      "Epoch: 413, Loss: 0.8562, Val: 0.7301, Test: 0.7271\n",
      "Epoch: 414, Loss: 0.8575, Val: 0.7308, Test: 0.7277\n",
      "Epoch: 415, Loss: 0.8687, Val: 0.7310, Test: 0.7285\n",
      "Epoch: 416, Loss: 0.8568, Val: 0.7290, Test: 0.7248\n",
      "Epoch: 417, Loss: 0.8671, Val: 0.7312, Test: 0.7295\n",
      "Epoch: 418, Loss: 0.8756, Val: 0.7316, Test: 0.7330\n",
      "Epoch: 419, Loss: 0.8650, Val: 0.7311, Test: 0.7316\n",
      "Epoch: 420, Loss: 0.8630, Val: 0.7301, Test: 0.7290\n",
      "Epoch: 421, Loss: 0.8586, Val: 0.7315, Test: 0.7324\n",
      "Epoch: 422, Loss: 0.8637, Val: 0.7312, Test: 0.7318\n",
      "Epoch: 423, Loss: 0.8775, Val: 0.7276, Test: 0.7240\n",
      "Epoch: 424, Loss: 0.8594, Val: 0.7301, Test: 0.7275\n",
      "Epoch: 425, Loss: 0.8583, Val: 0.7322, Test: 0.7332\n",
      "Epoch: 426, Loss: 0.8609, Val: 0.7323, Test: 0.7322\n",
      "Epoch: 427, Loss: 0.8505, Val: 0.7290, Test: 0.7249\n",
      "Epoch: 428, Loss: 0.8549, Val: 0.7276, Test: 0.7233\n",
      "Epoch: 429, Loss: 0.8550, Val: 0.7321, Test: 0.7316\n",
      "Epoch: 430, Loss: 0.8605, Val: 0.7326, Test: 0.7311\n",
      "Epoch: 431, Loss: 0.8657, Val: 0.7310, Test: 0.7289\n",
      "Epoch: 432, Loss: 0.8648, Val: 0.7303, Test: 0.7282\n",
      "Epoch: 433, Loss: 0.8552, Val: 0.7306, Test: 0.7304\n",
      "Epoch: 434, Loss: 0.8546, Val: 0.7315, Test: 0.7293\n",
      "Epoch: 435, Loss: 0.8644, Val: 0.7321, Test: 0.7297\n",
      "Epoch: 436, Loss: 0.8641, Val: 0.7320, Test: 0.7297\n",
      "Epoch: 437, Loss: 0.8623, Val: 0.7325, Test: 0.7327\n",
      "Epoch: 438, Loss: 0.8558, Val: 0.7325, Test: 0.7318\n",
      "Epoch: 439, Loss: 0.8668, Val: 0.7296, Test: 0.7273\n",
      "Epoch: 440, Loss: 0.8653, Val: 0.7291, Test: 0.7274\n",
      "Epoch: 441, Loss: 0.8620, Val: 0.7315, Test: 0.7315\n",
      "Epoch: 442, Loss: 0.8540, Val: 0.7316, Test: 0.7330\n",
      "Epoch: 443, Loss: 0.8493, Val: 0.7323, Test: 0.7324\n",
      "Epoch: 444, Loss: 0.8515, Val: 0.7312, Test: 0.7306\n",
      "Epoch: 445, Loss: 0.8628, Val: 0.7323, Test: 0.7330\n",
      "Epoch: 446, Loss: 0.8588, Val: 0.7324, Test: 0.7329\n",
      "Epoch: 447, Loss: 0.8566, Val: 0.7333, Test: 0.7325\n",
      "Epoch: 448, Loss: 0.8514, Val: 0.7322, Test: 0.7298\n",
      "Epoch: 449, Loss: 0.8594, Val: 0.7312, Test: 0.7291\n",
      "Epoch: 450, Loss: 0.8710, Val: 0.7316, Test: 0.7323\n",
      "Epoch: 451, Loss: 0.8494, Val: 0.7322, Test: 0.7322\n",
      "Epoch: 452, Loss: 0.8589, Val: 0.7310, Test: 0.7290\n",
      "Epoch: 453, Loss: 0.8701, Val: 0.7313, Test: 0.7294\n",
      "Epoch: 454, Loss: 0.8567, Val: 0.7315, Test: 0.7313\n",
      "Epoch: 455, Loss: 0.8598, Val: 0.7312, Test: 0.7307\n",
      "Epoch: 456, Loss: 0.8565, Val: 0.7311, Test: 0.7292\n",
      "Epoch: 457, Loss: 0.8459, Val: 0.7315, Test: 0.7306\n",
      "Epoch: 458, Loss: 0.8538, Val: 0.7318, Test: 0.7330\n",
      "Epoch: 459, Loss: 0.8475, Val: 0.7326, Test: 0.7341\n",
      "Epoch: 460, Loss: 0.8591, Val: 0.7318, Test: 0.7303\n",
      "Epoch: 461, Loss: 0.8600, Val: 0.7304, Test: 0.7287\n",
      "Epoch: 462, Loss: 0.8549, Val: 0.7312, Test: 0.7294\n",
      "Epoch: 463, Loss: 0.8644, Val: 0.7330, Test: 0.7340\n",
      "Epoch: 464, Loss: 0.8522, Val: 0.7326, Test: 0.7332\n",
      "Epoch: 465, Loss: 0.8568, Val: 0.7313, Test: 0.7299\n",
      "Epoch: 466, Loss: 0.8487, Val: 0.7319, Test: 0.7302\n",
      "Epoch: 467, Loss: 0.8450, Val: 0.7321, Test: 0.7304\n",
      "Epoch: 468, Loss: 0.8544, Val: 0.7322, Test: 0.7305\n",
      "Epoch: 469, Loss: 0.8533, Val: 0.7305, Test: 0.7279\n",
      "Epoch: 470, Loss: 0.8589, Val: 0.7313, Test: 0.7314\n",
      "Epoch: 471, Loss: 0.8590, Val: 0.7320, Test: 0.7346\n",
      "Epoch: 472, Loss: 0.8542, Val: 0.7319, Test: 0.7330\n",
      "Epoch: 473, Loss: 0.8661, Val: 0.7303, Test: 0.7277\n",
      "Epoch: 474, Loss: 0.8458, Val: 0.7318, Test: 0.7280\n",
      "Epoch: 475, Loss: 0.8512, Val: 0.7331, Test: 0.7321\n",
      "Epoch: 476, Loss: 0.8639, Val: 0.7332, Test: 0.7311\n",
      "Epoch: 477, Loss: 0.8554, Val: 0.7299, Test: 0.7280\n",
      "Epoch: 478, Loss: 0.8465, Val: 0.7303, Test: 0.7287\n",
      "Epoch: 479, Loss: 0.8552, Val: 0.7321, Test: 0.7319\n",
      "Epoch: 480, Loss: 0.8515, Val: 0.7316, Test: 0.7299\n",
      "Epoch: 481, Loss: 0.8434, Val: 0.7298, Test: 0.7265\n",
      "Epoch: 482, Loss: 0.8541, Val: 0.7308, Test: 0.7285\n",
      "Epoch: 483, Loss: 0.8522, Val: 0.7339, Test: 0.7332\n",
      "Epoch: 484, Loss: 0.8548, Val: 0.7328, Test: 0.7346\n",
      "Epoch: 485, Loss: 0.8540, Val: 0.7309, Test: 0.7285\n",
      "Epoch: 486, Loss: 0.8483, Val: 0.7284, Test: 0.7235\n",
      "Epoch: 487, Loss: 0.8597, Val: 0.7323, Test: 0.7316\n",
      "Epoch: 488, Loss: 0.8356, Val: 0.7336, Test: 0.7343\n",
      "Epoch: 489, Loss: 0.8522, Val: 0.7301, Test: 0.7302\n",
      "Epoch: 490, Loss: 0.8464, Val: 0.7289, Test: 0.7263\n",
      "Epoch: 491, Loss: 0.8512, Val: 0.7310, Test: 0.7317\n",
      "Epoch: 492, Loss: 0.8467, Val: 0.7324, Test: 0.7345\n",
      "Epoch: 493, Loss: 0.8548, Val: 0.7313, Test: 0.7321\n",
      "Epoch: 494, Loss: 0.8478, Val: 0.7286, Test: 0.7263\n",
      "Epoch: 495, Loss: 0.8411, Val: 0.7319, Test: 0.7289\n",
      "Epoch: 496, Loss: 0.8650, Val: 0.7323, Test: 0.7342\n",
      "Epoch: 497, Loss: 0.8425, Val: 0.7319, Test: 0.7343\n",
      "Epoch: 498, Loss: 0.8523, Val: 0.7309, Test: 0.7310\n",
      "Epoch: 499, Loss: 0.8472, Val: 0.7306, Test: 0.7282\n",
      "Epoch: 500, Loss: 0.8381, Val: 0.7306, Test: 0.7290\n"
     ]
    }
   ],
   "source": [
    "num_epochs = 500\n",
    "loss_lst, val_acc_lst, test_acc_lst = [], [], []\n",
    "\n",
    "for epoch in range(1, num_epochs+1):\n",
    "    loss = train()\n",
    "    val_acc, test_acc = test()\n",
    "    print(f'Epoch: {epoch:03d}, Loss: {loss:.4f}, Val: {val_acc:.4f}, '\n",
    "          f'Test: {test_acc:.4f}')\n",
    "    loss_lst.append(loss)\n",
    "    val_acc_lst.append(val_acc)\n",
    "    test_acc_lst.append(test_acc)"
   ]
  },
  {
   "cell_type": "code",
   "execution_count": 8,
   "metadata": {
    "ExecuteTime": {
     "end_time": "2022-08-08T19:56:50.173585Z",
     "start_time": "2022-08-08T19:56:48.108274Z"
    }
   },
   "outputs": [],
   "source": [
    "# To plot pretty figures\n",
    "%matplotlib inline\n",
    "import matplotlib as mpl\n",
    "import matplotlib.pyplot as plt\n",
    "mpl.rc('axes', labelsize=14)\n",
    "mpl.rc('xtick', labelsize=12)\n",
    "mpl.rc('ytick', labelsize=12)"
   ]
  },
  {
   "cell_type": "code",
   "execution_count": 9,
   "metadata": {
    "ExecuteTime": {
     "end_time": "2022-08-08T20:57:43.030561Z",
     "start_time": "2022-08-08T20:57:42.872368Z"
    }
   },
   "outputs": [
    {
     "data": {
      "image/png": "[encoded data removed]",
      "text/plain": [
       "<Figure size 432x288 with 1 Axes>"
      ]
     },
     "metadata": {
      "needs_background": "light"
     },
     "output_type": "display_data"
    }
   ],
   "source": [
    "plt.plot(loss_lst, \"r.\", label=\"loss\")\n",
    "plt.plot(val_acc_lst, \"b.\", label=\"val acc\")\n",
    "plt.plot(test_acc_lst, \"g.\",label=\"test acc\")\n",
    "plt.xlabel(\"Epochs\", fontsize=18)\n",
    "# plt.ylabel(\"value of params\", rotation=90, fontsize=18)\n",
    "plt.legend(loc=\"best\", fontsize=10)\n",
    "plt.show()"
   ]
  },
  {
   "cell_type": "code",
   "execution_count": 13,
   "metadata": {
    "ExecuteTime": {
     "end_time": "2022-08-08T20:58:27.249923Z",
     "start_time": "2022-08-08T20:58:27.147265Z"
    }
   },
   "outputs": [
    {
     "data": {
      "image/png": "[encoded data removed]",
      "text/plain": [
       "<Figure size 432x288 with 1 Axes>"
      ]
     },
     "metadata": {
      "needs_background": "light"
     },
     "output_type": "display_data"
    }
   ],
   "source": [
    "marker_size = 1\n",
    "plt.plot(val_acc_lst, \"b.\", markersize=marker_size, label=\"val acc\")\n",
    "plt.plot(test_acc_lst, \"g.\",markersize=marker_size, label=\"test acc\")\n",
    "plt.xlabel(\"Epochs\", fontsize=18)\n",
    "# plt.ylabel(\"value of params\", rotation=90, fontsize=18)\n",
    "plt.legend(loc=\"best\", fontsize=10)\n",
    "plt.show()"
   ]
  },
  {
   "cell_type": "markdown",
   "metadata": {},
   "source": [
    "## Try to plot the ROC curve\n",
    "y-axis: true positive rate = test_acc  \n",
    "x-axis: false positive rate"
   ]
  },
  {
   "cell_type": "code",
   "execution_count": 14,
   "metadata": {},
   "outputs": [],
   "source": [
    "from sklearn.metrics import roc_curve"
   ]
  },
  {
   "cell_type": "code",
   "execution_count": null,
   "metadata": {},
   "outputs": [],
   "source": [
    "fpr, tpr, thresholds = roc_curve(y_train_5, y_scores)\n",
    "def plot_roc_curve(fpr, tpr, label=None):\n",
    "    plt.plot(fpr, tpr, linewidth=2, label=label)\n",
    "    plt.plot([0, 1], [0, 1], 'k--') \n",
    "    plt.axis([0, 1, 0, 1])\n",
    "    plt.xlabel('False Positive Rate (Fall-Out)', fontsize=16) \n",
    "    plt.ylabel('True Positive Rate (Recall)', fontsize=16)\n",
    "    plt.grid(True)\n",
    "\n",
    "plt.figure(figsize=(8, 6))\n",
    "plot_roc_curve(fpr, tpr)"
   ]
  }
 ],
 "metadata": {
  "colab": {
   "collapsed_sections": [],
   "name": "unimp_arxiv.ipynb",
   "provenance": []
  },
  "kernelspec": {
   "display_name": "Python 3 (ipykernel)",
   "language": "python",
   "name": "python3"
  },
  "language_info": {
   "codemirror_mode": {
    "name": "ipython",
    "version": 3
   },
   "file_extension": ".py",
   "mimetype": "text/x-python",
   "name": "python",
   "nbconvert_exporter": "python",
   "pygments_lexer": "ipython3",
   "version": "3.9.10"
  }
 },
 "nbformat": 4,
 "nbformat_minor": 1
}
