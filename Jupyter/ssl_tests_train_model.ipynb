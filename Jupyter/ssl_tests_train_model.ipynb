{
 "cells": [
  {
   "cell_type": "code",
   "execution_count": 1,
   "metadata": {
    "ExecuteTime": {
     "end_time": "2022-09-07T22:13:05.495203Z",
     "start_time": "2022-09-07T22:13:04.979325Z"
    }
   },
   "outputs": [
    {
     "name": "stdout",
     "output_type": "stream",
     "text": [
      "\n",
      "==============NVSMI LOG==============\n",
      "\n",
      "Timestamp                                 : Wed Sep  7 22:13:05 2022\n",
      "Driver Version                            : 510.54\n",
      "CUDA Version                              : 11.6\n",
      "\n",
      "Attached GPUs                             : 1\n",
      "GPU 00000000:89:00.0\n",
      "    Product Name                          : NVIDIA GeForce RTX 3090\n",
      "    Product Brand                         : GeForce\n",
      "    Product Architecture                  : Ampere\n",
      "    Display Mode                          : Disabled\n",
      "    Display Active                        : Disabled\n",
      "    Persistence Mode                      : Disabled\n",
      "    MIG Mode\n",
      "        Current                           : N/A\n",
      "        Pending                           : N/A\n",
      "    Accounting Mode                       : Disabled\n",
      "    Accounting Mode Buffer Size           : 4000\n",
      "    Driver Model\n",
      "        Current                           : N/A\n",
      "        Pending                           : N/A\n",
      "    Serial Number                         : N/A\n",
      "    GPU UUID                              : GPU-c00d15fc-e1f9-30c0-4e06-151c62317e84\n",
      "    Minor Number                          : 3\n",
      "    VBIOS Version                         : 94.02.42.40.34\n",
      "    MultiGPU Board                        : No\n",
      "    Board ID                              : 0x8900\n",
      "    GPU Part Number                       : N/A\n",
      "    Module ID                             : 0\n",
      "    Inforom Version\n",
      "        Image Version                     : G001.0000.03.03\n",
      "        OEM Object                        : 2.0\n",
      "        ECC Object                        : N/A\n",
      "        Power Management Object           : N/A\n",
      "    GPU Operation Mode\n",
      "        Current                           : N/A\n",
      "        Pending                           : N/A\n",
      "    GSP Firmware Version                  : N/A\n",
      "    GPU Virtualization Mode\n",
      "        Virtualization Mode               : None\n",
      "        Host VGPU Mode                    : N/A\n",
      "    IBMNPU\n",
      "        Relaxed Ordering Mode             : N/A\n",
      "    PCI\n",
      "        Bus                               : 0x89\n",
      "        Device                            : 0x00\n",
      "        Domain                            : 0x0000\n",
      "        Device Id                         : 0x220410DE\n",
      "        Bus Id                            : 00000000:89:00.0\n",
      "        Sub System Id                     : 0x403B1458\n",
      "        GPU Link Info\n",
      "            PCIe Generation\n",
      "                Max                       : 4\n",
      "                Current                   : 1\n",
      "            Link Width\n",
      "                Max                       : 16x\n",
      "                Current                   : 16x\n",
      "        Bridge Chip\n",
      "            Type                          : N/A\n",
      "            Firmware                      : N/A\n",
      "        Replays Since Reset               : 0\n",
      "        Replay Number Rollovers           : 0\n",
      "        Tx Throughput                     : 0 KB/s\n",
      "        Rx Throughput                     : 0 KB/s\n",
      "    Fan Speed                             : 30 %\n",
      "    Performance State                     : P8\n",
      "    Clocks Throttle Reasons\n",
      "        Idle                              : Active\n",
      "        Applications Clocks Setting       : Not Active\n",
      "        SW Power Cap                      : Not Active\n",
      "        HW Slowdown                       : Not Active\n",
      "            HW Thermal Slowdown           : Not Active\n",
      "            HW Power Brake Slowdown       : Not Active\n",
      "        Sync Boost                        : Not Active\n",
      "        SW Thermal Slowdown               : Not Active\n",
      "        Display Clock Setting             : Not Active\n",
      "    FB Memory Usage\n",
      "        Total                             : 24576 MiB\n",
      "        Reserved                          : 307 MiB\n",
      "        Used                              : 0 MiB\n",
      "        Free                              : 24268 MiB\n",
      "    BAR1 Memory Usage\n",
      "        Total                             : 256 MiB\n",
      "        Used                              : 1 MiB\n",
      "        Free                              : 255 MiB\n",
      "    Compute Mode                          : Default\n",
      "    Utilization\n",
      "        Gpu                               : 0 %\n",
      "        Memory                            : 0 %\n",
      "        Encoder                           : 0 %\n",
      "        Decoder                           : 0 %\n",
      "    Encoder Stats\n",
      "        Active Sessions                   : 0\n",
      "        Average FPS                       : 0\n",
      "        Average Latency                   : 0\n",
      "    FBC Stats\n",
      "        Active Sessions                   : 0\n",
      "        Average FPS                       : 0\n",
      "        Average Latency                   : 0\n",
      "    Ecc Mode\n",
      "        Current                           : N/A\n",
      "        Pending                           : N/A\n",
      "    ECC Errors\n",
      "        Volatile\n",
      "            SRAM Correctable              : N/A\n",
      "            SRAM Uncorrectable            : N/A\n",
      "            DRAM Correctable              : N/A\n",
      "            DRAM Uncorrectable            : N/A\n",
      "        Aggregate\n",
      "            SRAM Correctable              : N/A\n",
      "            SRAM Uncorrectable            : N/A\n",
      "            DRAM Correctable              : N/A\n",
      "            DRAM Uncorrectable            : N/A\n",
      "    Retired Pages\n",
      "        Single Bit ECC                    : N/A\n",
      "        Double Bit ECC                    : N/A\n",
      "        Pending Page Blacklist            : N/A\n",
      "    Remapped Rows                         : N/A\n",
      "    Temperature\n",
      "        GPU Current Temp                  : 26 C\n",
      "        GPU Shutdown Temp                 : 98 C\n",
      "        GPU Slowdown Temp                 : 95 C\n",
      "        GPU Max Operating Temp            : 93 C\n",
      "        GPU Target Temperature            : 88 C\n",
      "        Memory Current Temp               : N/A\n",
      "        Memory Max Operating Temp         : N/A\n",
      "    Power Readings\n",
      "        Power Management                  : Supported\n",
      "        Power Draw                        : 31.69 W\n",
      "        Power Limit                       : 350.00 W\n",
      "        Default Power Limit               : 350.00 W\n",
      "        Enforced Power Limit              : 350.00 W\n",
      "        Min Power Limit                   : 100.00 W\n",
      "        Max Power Limit                   : 350.00 W\n",
      "    Clocks\n",
      "        Graphics                          : 0 MHz\n",
      "        SM                                : 0 MHz\n",
      "        Memory                            : 405 MHz\n",
      "        Video                             : 555 MHz\n",
      "    Applications Clocks\n",
      "        Graphics                          : N/A\n",
      "        Memory                            : N/A\n",
      "    Default Applications Clocks\n",
      "        Graphics                          : N/A\n",
      "        Memory                            : N/A\n",
      "    Max Clocks\n",
      "        Graphics                          : 2100 MHz\n",
      "        SM                                : 2100 MHz\n",
      "        Memory                            : 9751 MHz\n",
      "        Video                             : 1950 MHz\n",
      "    Max Customer Boost Clocks\n",
      "        Graphics                          : N/A\n",
      "    Clock Policy\n",
      "        Auto Boost                        : N/A\n",
      "        Auto Boost Default                : N/A\n",
      "    Voltage\n",
      "        Graphics                          : 0.000 mV\n",
      "    Processes                             : None\n",
      "\n"
     ]
    }
   ],
   "source": [
    "!nvidia-smi -q"
   ]
  },
  {
   "cell_type": "code",
   "execution_count": 2,
   "metadata": {
    "ExecuteTime": {
     "end_time": "2022-09-07T22:13:05.664852Z",
     "start_time": "2022-09-07T22:13:05.496660Z"
    }
   },
   "outputs": [
    {
     "name": "stdout",
     "output_type": "stream",
     "text": [
      "/ssl-jet-vol/semi-supervised-tests/Jupyter\r\n"
     ]
    }
   ],
   "source": [
    "!pwd"
   ]
  },
  {
   "cell_type": "code",
   "execution_count": 3,
   "metadata": {
    "ExecuteTime": {
     "end_time": "2022-09-07T22:13:05.672879Z",
     "start_time": "2022-09-07T22:13:05.666054Z"
    }
   },
   "outputs": [
    {
     "data": {
      "text/plain": [
       "False"
      ]
     },
     "execution_count": 3,
     "metadata": {},
     "output_type": "execute_result"
    }
   ],
   "source": [
    "mylst = [1,2,3, 'str']\n",
    "all_ints = True\n",
    "for i in mylst:\n",
    "    if type(i) != type(mylst[0]):\n",
    "        all_ints = False\n",
    "all_ints\n"
   ]
  },
  {
   "cell_type": "code",
   "execution_count": 4,
   "metadata": {
    "ExecuteTime": {
     "end_time": "2022-09-07T22:13:08.320817Z",
     "start_time": "2022-09-07T22:13:05.674003Z"
    },
    "colab": {
     "base_uri": "https://localhost:8080/",
     "height": 1000
    },
    "id": "1OAfKz8Ys-W6",
    "outputId": "81b6db96-9b92-4941-ff58-35f0be0d8260"
   },
   "outputs": [],
   "source": [
    "import math\n",
    "import os.path as osp\n",
    "\n",
    "import numpy as np\n",
    "import torch\n",
    "import torch.nn.functional as F\n",
    "from torch_geometric.nn import MaskLabel, TransformerConv\n",
    "from torch_geometric.utils import index_to_mask\n",
    "\n",
    "import sys\n",
    "sys.path.insert(0, '..')  #go up one directory\n",
    "from src.data.jetnet_graph import JetNetGraph\n",
    "from custom_libraries.my_functions import *\n",
    "from focal_loss import FocalLoss\n",
    "\n",
    "import pandas as pd\n",
    "import numpy as np\n",
    "import matplotlib.pyplot as plt\n",
    "import seaborn as sns\n",
    "from scipy import stats\n",
    "\n",
    "# To plot pretty figures\n",
    "%matplotlib inline\n",
    "import matplotlib as mpl\n",
    "import matplotlib.pyplot as plt\n",
    "mpl.rc('axes', labelsize=14)\n",
    "mpl.rc('xtick', labelsize=12)\n",
    "mpl.rc('ytick', labelsize=12)"
   ]
  },
  {
   "cell_type": "code",
   "execution_count": 5,
   "metadata": {
    "ExecuteTime": {
     "end_time": "2022-09-07T22:13:13.085133Z",
     "start_time": "2022-09-07T22:13:08.323127Z"
    },
    "id": "YjJkozIOs4DD"
   },
   "outputs": [
    {
     "name": "stdout",
     "output_type": "stream",
     "text": [
      "Loading QG_jets_withbc_0.npz\n"
     ]
    },
    {
     "name": "stderr",
     "output_type": "stream",
     "text": [
      "Processing...\n"
     ]
    },
    {
     "ename": "TypeError",
     "evalue": "unsupported operand type(s) for +: 'Data' and 'Data'",
     "output_type": "error",
     "traceback": [
      "\u001b[0;31m---------------------------------------------------------------------------\u001b[0m",
      "\u001b[0;31mTypeError\u001b[0m                                 Traceback (most recent call last)",
      "Input \u001b[0;32mIn [5]\u001b[0m, in \u001b[0;36m<cell line: 2>\u001b[0;34m()\u001b[0m\n\u001b[1;32m      1\u001b[0m root \u001b[38;5;241m=\u001b[39m \u001b[38;5;124m\"\u001b[39m\u001b[38;5;124m/ssl-jet-vol/semi-supervised-tests/Jupyter\u001b[39m\u001b[38;5;124m\"\u001b[39m\n\u001b[0;32m----> 2\u001b[0m dataset \u001b[38;5;241m=\u001b[39m \u001b[43mJetNetGraph\u001b[49m\u001b[43m(\u001b[49m\u001b[43mroot\u001b[49m\u001b[43m,\u001b[49m\u001b[43m \u001b[49m\u001b[43mmax_jets\u001b[49m\u001b[38;5;241;43m=\u001b[39;49m\u001b[38;5;241;43m2_000\u001b[39;49m\u001b[43m,\u001b[49m\u001b[43m \u001b[49m\u001b[43mn_files\u001b[49m\u001b[38;5;241;43m=\u001b[39;49m\u001b[38;5;241;43m1\u001b[39;49m\u001b[43m)\u001b[49m\n\u001b[1;32m      4\u001b[0m \u001b[38;5;28;01mclass\u001b[39;00m \u001b[38;5;21;01mUniMP\u001b[39;00m(torch\u001b[38;5;241m.\u001b[39mnn\u001b[38;5;241m.\u001b[39mModule):\n\u001b[1;32m      5\u001b[0m     \u001b[38;5;28;01mdef\u001b[39;00m \u001b[38;5;21m__init__\u001b[39m(\u001b[38;5;28mself\u001b[39m, in_channels, num_classes, hidden_channels, num_layers, heads, dropout\u001b[38;5;241m=\u001b[39m\u001b[38;5;241m0.3\u001b[39m):\n",
      "File \u001b[0;32m/ssl-jet-vol/semi-supervised-tests/Jupyter/../src/data/jetnet_graph.py:42\u001b[0m, in \u001b[0;36mJetNetGraph.__init__\u001b[0;34m(self, root, transform, pre_transform, pre_filter, max_jets, n_files, n_jets_merge)\u001b[0m\n\u001b[1;32m     40\u001b[0m \u001b[38;5;28mself\u001b[39m\u001b[38;5;241m.\u001b[39mn_files \u001b[38;5;241m=\u001b[39m n_files\n\u001b[1;32m     41\u001b[0m \u001b[38;5;28mself\u001b[39m\u001b[38;5;241m.\u001b[39mn_jets_merge \u001b[38;5;241m=\u001b[39m n_jets_merge\n\u001b[0;32m---> 42\u001b[0m \u001b[38;5;28;43msuper\u001b[39;49m\u001b[43m(\u001b[49m\u001b[43m)\u001b[49m\u001b[38;5;241;43m.\u001b[39;49m\u001b[38;5;21;43m__init__\u001b[39;49m\u001b[43m(\u001b[49m\u001b[43mroot\u001b[49m\u001b[43m,\u001b[49m\u001b[43m \u001b[49m\u001b[43mtransform\u001b[49m\u001b[43m,\u001b[49m\u001b[43m \u001b[49m\u001b[43mpre_transform\u001b[49m\u001b[43m,\u001b[49m\u001b[43m \u001b[49m\u001b[43mpre_filter\u001b[49m\u001b[43m)\u001b[49m\n\u001b[1;32m     43\u001b[0m \u001b[38;5;28mself\u001b[39m\u001b[38;5;241m.\u001b[39mdata, \u001b[38;5;28mself\u001b[39m\u001b[38;5;241m.\u001b[39mslices \u001b[38;5;241m=\u001b[39m torch\u001b[38;5;241m.\u001b[39mload(\u001b[38;5;28mself\u001b[39m\u001b[38;5;241m.\u001b[39mprocessed_paths[\u001b[38;5;241m0\u001b[39m])\n",
      "File \u001b[0;32m/opt/conda/lib/python3.9/site-packages/torch_geometric/data/dataset.py:87\u001b[0m, in \u001b[0;36mDataset.__init__\u001b[0;34m(self, root, transform, pre_transform, pre_filter)\u001b[0m\n\u001b[1;32m     84\u001b[0m     \u001b[38;5;28mself\u001b[39m\u001b[38;5;241m.\u001b[39m_download()\n\u001b[1;32m     86\u001b[0m \u001b[38;5;28;01mif\u001b[39;00m \u001b[38;5;28mself\u001b[39m\u001b[38;5;241m.\u001b[39mprocess\u001b[38;5;241m.\u001b[39m\u001b[38;5;18m__qualname__\u001b[39m\u001b[38;5;241m.\u001b[39msplit(\u001b[38;5;124m'\u001b[39m\u001b[38;5;124m.\u001b[39m\u001b[38;5;124m'\u001b[39m)[\u001b[38;5;241m0\u001b[39m] \u001b[38;5;241m!=\u001b[39m \u001b[38;5;124m'\u001b[39m\u001b[38;5;124mDataset\u001b[39m\u001b[38;5;124m'\u001b[39m:\n\u001b[0;32m---> 87\u001b[0m     \u001b[38;5;28;43mself\u001b[39;49m\u001b[38;5;241;43m.\u001b[39;49m\u001b[43m_process\u001b[49m\u001b[43m(\u001b[49m\u001b[43m)\u001b[49m\n",
      "File \u001b[0;32m/opt/conda/lib/python3.9/site-packages/torch_geometric/data/dataset.py:195\u001b[0m, in \u001b[0;36mDataset._process\u001b[0;34m(self)\u001b[0m\n\u001b[1;32m    192\u001b[0m \u001b[38;5;28mprint\u001b[39m(\u001b[38;5;124m'\u001b[39m\u001b[38;5;124mProcessing...\u001b[39m\u001b[38;5;124m'\u001b[39m, file\u001b[38;5;241m=\u001b[39msys\u001b[38;5;241m.\u001b[39mstderr)\n\u001b[1;32m    194\u001b[0m makedirs(\u001b[38;5;28mself\u001b[39m\u001b[38;5;241m.\u001b[39mprocessed_dir)\n\u001b[0;32m--> 195\u001b[0m \u001b[38;5;28;43mself\u001b[39;49m\u001b[38;5;241;43m.\u001b[39;49m\u001b[43mprocess\u001b[49m\u001b[43m(\u001b[49m\u001b[43m)\u001b[49m\n\u001b[1;32m    197\u001b[0m path \u001b[38;5;241m=\u001b[39m osp\u001b[38;5;241m.\u001b[39mjoin(\u001b[38;5;28mself\u001b[39m\u001b[38;5;241m.\u001b[39mprocessed_dir, \u001b[38;5;124m'\u001b[39m\u001b[38;5;124mpre_transform.pt\u001b[39m\u001b[38;5;124m'\u001b[39m)\n\u001b[1;32m    198\u001b[0m torch\u001b[38;5;241m.\u001b[39msave(_repr(\u001b[38;5;28mself\u001b[39m\u001b[38;5;241m.\u001b[39mpre_transform), path)\n",
      "File \u001b[0;32m/ssl-jet-vol/semi-supervised-tests/Jupyter/../src/data/jetnet_graph.py:131\u001b[0m, in \u001b[0;36mJetNetGraph.process\u001b[0;34m(self)\u001b[0m\n\u001b[1;32m    129\u001b[0m                 new_data \u001b[38;5;241m=\u001b[39m Data()\n\u001b[1;32m    130\u001b[0m                 \u001b[38;5;28;01mfor\u001b[39;00m data \u001b[38;5;129;01min\u001b[39;00m data_list:\n\u001b[0;32m--> 131\u001b[0m                     new_data \u001b[38;5;241m=\u001b[39m \u001b[43mnew_data\u001b[49m\u001b[43m \u001b[49m\u001b[38;5;241;43m+\u001b[39;49m\u001b[43m \u001b[49m\u001b[43mdata\u001b[49m\n\u001b[1;32m    132\u001b[0m \u001b[38;5;66;03m#                 data_list = sum(data_list, Data())\u001b[39;00m\n\u001b[1;32m    133\u001b[0m \u001b[38;5;66;03m#                 data_list = sum(data_list, [])\u001b[39;00m\n\u001b[1;32m    134\u001b[0m                 torch\u001b[38;5;241m.\u001b[39msave(data_list, osp\u001b[38;5;241m.\u001b[39mjoin(\u001b[38;5;28mself\u001b[39m\u001b[38;5;241m.\u001b[39mprocessed_dir, \u001b[38;5;124mf\u001b[39m\u001b[38;5;124m\"\u001b[39m\u001b[38;5;124mqg_graph_\u001b[39m\u001b[38;5;132;01m{\u001b[39;00mi\u001b[38;5;132;01m}\u001b[39;00m\u001b[38;5;124m.pt\u001b[39m\u001b[38;5;124m\"\u001b[39m))\n",
      "\u001b[0;31mTypeError\u001b[0m: unsupported operand type(s) for +: 'Data' and 'Data'"
     ]
    }
   ],
   "source": [
    "root = \"/ssl-jet-vol/semi-supervised-tests/Jupyter\"\n",
    "dataset = JetNetGraph(root, max_jets=2_000, n_files=1)\n",
    "\n",
    "class UniMP(torch.nn.Module):\n",
    "    def __init__(self, in_channels, num_classes, hidden_channels, num_layers, heads, dropout=0.3):\n",
    "        super().__init__()\n",
    "\n",
    "        self.in_channels = in_channels\n",
    "        self.num_classes = num_classes\n",
    "        self.label_emb = MaskLabel(self.num_classes, self.in_channels)\n",
    "        self.hidden_channels = hidden_channels\n",
    "\n",
    "        self.convs = torch.nn.ModuleList()\n",
    "        self.norms = torch.nn.ModuleList()\n",
    "        for i in range(1, num_layers + 1):\n",
    "            if i < num_layers:\n",
    "                out_channels = self.hidden_channels // heads\n",
    "                concat = True\n",
    "            else:\n",
    "                out_channels = self.num_classes\n",
    "                concat = False\n",
    "            conv = TransformerConv(in_channels, out_channels, heads, concat=concat, beta=True, dropout=dropout)\n",
    "            self.convs.append(conv)\n",
    "            in_channels = self.hidden_channels\n",
    "\n",
    "            if i < num_layers:\n",
    "                self.norms.append(torch.nn.LayerNorm(self.hidden_channels))\n",
    "\n",
    "    def forward(self, x, y, edge_index, label_mask):\n",
    "        x = self.label_emb(x, y, label_mask)\n",
    "        for conv, norm in zip(self.convs, self.norms):\n",
    "            x = norm(conv(x, edge_index)).relu()\n",
    "        return self.convs[-1](x, edge_index)"
   ]
  },
  {
   "cell_type": "code",
   "execution_count": null,
   "metadata": {
    "ExecuteTime": {
     "end_time": "2022-09-07T22:13:13.086374Z",
     "start_time": "2022-09-07T22:13:13.086366Z"
    },
    "id": "c_TB_JD3tH39"
   },
   "outputs": [],
   "source": [
    "device = torch.device(\"cuda\" if torch.cuda.is_available() else \"cpu\")\n",
    "data = dataset.data.to(device)\n",
    "\n",
    "model = UniMP(in_channels=dataset.num_features, num_classes=5, hidden_channels=64, num_layers=3, heads=2).to(device)\n",
    "optimizer = torch.optim.Adam(model.parameters(), lr=0.001, weight_decay=0.0005)\n",
    "\n",
    "tv_frac = 0.10\n",
    "tv_num = math.ceil(data.num_nodes * tv_frac)  # round to nearest integer\n",
    "splits = np.cumsum([data.num_nodes - 2 * tv_num, tv_num, tv_num])\n",
    "\n",
    "train_index = torch.tensor(np.arange(start=0, stop=splits[0]), dtype=torch.long)\n",
    "val_index = torch.tensor(np.arange(start=splits[0], stop=splits[1]), dtype=torch.long)\n",
    "test_index = torch.tensor(np.arange(start=splits[1], stop=data.num_nodes), dtype=torch.long)\n",
    "\n",
    "train_mask = index_to_mask(train_index, size=data.num_nodes)\n",
    "val_mask = index_to_mask(val_index, size=data.num_nodes)\n",
    "test_mask = index_to_mask(test_index, size=data.num_nodes)"
   ]
  },
  {
   "cell_type": "code",
   "execution_count": null,
   "metadata": {
    "ExecuteTime": {
     "end_time": "2022-09-07T22:13:13.087032Z",
     "start_time": "2022-09-07T22:13:13.087024Z"
    }
   },
   "outputs": [],
   "source": [
    "data.size()"
   ]
  },
  {
   "cell_type": "markdown",
   "metadata": {},
   "source": [
    "### Question: why is this constant for any max_jets\n",
    "Need to delete the .pt files in the \"processed\" folder"
   ]
  },
  {
   "cell_type": "code",
   "execution_count": null,
   "metadata": {
    "ExecuteTime": {
     "end_time": "2022-09-07T22:13:13.087566Z",
     "start_time": "2022-09-07T22:13:13.087559Z"
    }
   },
   "outputs": [],
   "source": [
    "splits"
   ]
  },
  {
   "cell_type": "code",
   "execution_count": null,
   "metadata": {
    "ExecuteTime": {
     "end_time": "2022-09-07T22:13:13.088250Z",
     "start_time": "2022-09-07T22:13:13.088242Z"
    }
   },
   "outputs": [],
   "source": [
    "[data.num_nodes - 2 * tv_num, tv_num, tv_num]"
   ]
  },
  {
   "cell_type": "code",
   "execution_count": null,
   "metadata": {
    "ExecuteTime": {
     "end_time": "2022-09-07T22:13:13.088811Z",
     "start_time": "2022-09-07T22:13:13.088803Z"
    },
    "id": "7BQ2azrUtGQs"
   },
   "outputs": [],
   "source": [
    "def train(label_rate=0.75):  # How many labels to use for propagation\n",
    "    model.train()\n",
    "\n",
    "    propagation_mask = MaskLabel.ratio_mask(train_mask, ratio=label_rate)\n",
    "    supervision_mask = train_mask ^ propagation_mask\n",
    "\n",
    "    optimizer.zero_grad()\n",
    "    out = model(data.x, data.y, data.edge_index, propagation_mask)\n",
    "#     loss = F.cross_entropy(out[supervision_mask], data.y[supervision_mask])\n",
    "    \n",
    "    #focal loss\n",
    "    gamma = 1\n",
    "    floss = FocalLoss(gamma=gamma, reduction='mean')\n",
    "    loss = floss(out[supervision_mask], data.y[supervision_mask])\n",
    "    loss.backward()\n",
    "    optimizer.step()\n",
    "\n",
    "    return float(loss)\n",
    "\n",
    "\n",
    "@torch.no_grad()\n",
    "def test():\n",
    "    model.eval()\n",
    "\n",
    "    propagation_mask = train_mask\n",
    "    out = model(data.x, data.y, data.edge_index, propagation_mask)\n",
    "    pred = out[val_mask].argmax(dim=-1)\n",
    "    val_acc = int((pred == data.y[val_mask]).sum()) / pred.size(0)\n",
    "\n",
    "    propagation_mask = train_mask | val_mask\n",
    "    out = model(data.x, data.y, data.edge_index, propagation_mask)\n",
    "    pred = out[test_mask].argmax(dim=-1)\n",
    "    test_acc = int((pred == data.y[test_mask]).sum()) / pred.size(0)\n",
    "\n",
    "    return val_acc, test_acc"
   ]
  },
  {
   "cell_type": "code",
   "execution_count": null,
   "metadata": {
    "ExecuteTime": {
     "end_time": "2022-09-07T22:13:13.089328Z",
     "start_time": "2022-09-07T22:13:13.089320Z"
    }
   },
   "outputs": [],
   "source": [
    "model"
   ]
  },
  {
   "cell_type": "code",
   "execution_count": null,
   "metadata": {
    "ExecuteTime": {
     "end_time": "2022-09-07T22:13:13.089842Z",
     "start_time": "2022-09-07T22:13:13.089835Z"
    }
   },
   "outputs": [],
   "source": [
    "def reset_params(model):\n",
    "    for layer in model.children():\n",
    "        if hasattr(layer, 'reset_parameters'):\n",
    "            print(layer)\n",
    "            layer.reset_parameters()\n",
    "        else:\n",
    "            for sublayer in layer:\n",
    "                if hasattr(sublayer, 'reset_parameters'):\n",
    "                    print(sublayer)\n",
    "                    sublayer.reset_parameters()"
   ]
  },
  {
   "cell_type": "code",
   "execution_count": null,
   "metadata": {
    "ExecuteTime": {
     "end_time": "2022-09-07T22:13:13.090493Z",
     "start_time": "2022-09-07T22:13:13.090485Z"
    },
    "id": "bM4EsZnPtEO1"
   },
   "outputs": [],
   "source": [
    "reset_params(model)\n",
    "label_rate = 0.65\n",
    "num_epochs = 100\n",
    "loss_lst, val_acc_lst, test_acc_lst = [], [], []\n",
    "for epoch in range(1, num_epochs+1):\n",
    "    loss = train(label_rate=label_rate)\n",
    "    val_acc, test_acc = test()\n",
    "    print(f\"Epoch: {epoch:03d}, Train Loss: {loss:.4f}, Val Acc: {val_acc:.4f}, Test Acc: {test_acc:.4f}\")\n",
    "    loss_lst.append(loss)\n",
    "    val_acc_lst.append(val_acc)\n",
    "    test_acc_lst.append(test_acc)"
   ]
  },
  {
   "cell_type": "code",
   "execution_count": null,
   "metadata": {
    "ExecuteTime": {
     "end_time": "2022-09-07T22:13:13.091042Z",
     "start_time": "2022-09-07T22:13:13.091034Z"
    }
   },
   "outputs": [],
   "source": [
    "fig, ax = plt.subplots(figsize=(12, 6))\n",
    "marker_size = 3\n",
    "plt.plot(loss_lst, \"r.\", markersize=marker_size, label=\"loss\")\n",
    "plt.plot(val_acc_lst, \"b.\", markersize=marker_size, label=\"val acc\")\n",
    "plt.plot(test_acc_lst, \"g.\",markersize=marker_size, label=\"test acc\")\n",
    "plt.xlabel(\"Epochs\", fontsize=18)\n",
    "# plt.ylabel(\"value of params\", rotation=90, fontsize=18)\n",
    "plt.legend(loc=\"best\", fontsize=10)\n",
    "# plt.xlim([200, 500])\n",
    "plt.show()"
   ]
  },
  {
   "cell_type": "markdown",
   "metadata": {},
   "source": [
    "### Obtain predicted probabilities"
   ]
  },
  {
   "cell_type": "code",
   "execution_count": null,
   "metadata": {
    "ExecuteTime": {
     "end_time": "2022-09-07T22:13:13.091661Z",
     "start_time": "2022-09-07T22:13:13.091654Z"
    }
   },
   "outputs": [],
   "source": [
    "propagation_mask = train_mask | val_mask    #Or: Sets each bit to 1 if one of two bits is 1\n",
    "out = model(data.x, data.y, data.edge_index, propagation_mask)\n",
    "pred = out[test_mask].argmax(dim=-1)\n",
    "test_acc = int((pred == data.y[test_mask]).sum()) / pred.size(0)\n",
    "m = torch.nn.Softmax(dim=1)\n",
    "out_norm = m(out)  # the predicted probabilities"
   ]
  },
  {
   "cell_type": "code",
   "execution_count": null,
   "metadata": {
    "ExecuteTime": {
     "end_time": "2022-09-07T22:13:13.092163Z",
     "start_time": "2022-09-07T22:13:13.092156Z"
    }
   },
   "outputs": [],
   "source": [
    "0 in pred"
   ]
  },
  {
   "cell_type": "code",
   "execution_count": null,
   "metadata": {
    "ExecuteTime": {
     "end_time": "2022-09-07T22:13:13.092709Z",
     "start_time": "2022-09-07T22:13:13.092701Z"
    }
   },
   "outputs": [],
   "source": [
    "1 in pred"
   ]
  },
  {
   "cell_type": "code",
   "execution_count": null,
   "metadata": {
    "ExecuteTime": {
     "end_time": "2022-09-07T22:13:13.093202Z",
     "start_time": "2022-09-07T22:13:13.093195Z"
    }
   },
   "outputs": [],
   "source": [
    "2 in pred"
   ]
  },
  {
   "cell_type": "code",
   "execution_count": null,
   "metadata": {
    "ExecuteTime": {
     "end_time": "2022-09-07T22:13:13.093804Z",
     "start_time": "2022-09-07T22:13:13.093796Z"
    }
   },
   "outputs": [],
   "source": [
    "3 in pred"
   ]
  },
  {
   "cell_type": "code",
   "execution_count": null,
   "metadata": {
    "ExecuteTime": {
     "end_time": "2022-09-07T22:13:13.094339Z",
     "start_time": "2022-09-07T22:13:13.094332Z"
    }
   },
   "outputs": [],
   "source": [
    "4 in pred"
   ]
  },
  {
   "cell_type": "markdown",
   "metadata": {},
   "source": [
    "The 5 cells above shows that the model ONLY predicted classes 2 (photon) and classes 3 (charged_hadron)"
   ]
  },
  {
   "cell_type": "markdown",
   "metadata": {},
   "source": [
    "### Plot class balance\n",
    "PDG_CLASSES = [\"electron\", \"muon\", \"photon\", \"charged_hadron\", \"neutral_hadron\"]"
   ]
  },
  {
   "cell_type": "code",
   "execution_count": null,
   "metadata": {
    "ExecuteTime": {
     "end_time": "2022-09-07T22:13:13.095004Z",
     "start_time": "2022-09-07T22:13:13.094997Z"
    }
   },
   "outputs": [],
   "source": [
    "classes = np.array([i for i in range(5)])\n",
    "PDG_CLASSES = [\"electron\", \"muon\", \"photon\", \"charged_hadron\", \"neutral_hadron\"]\n",
    "labels_training = data.y[train_mask].cpu().numpy()\n",
    "class_dict = plot_class_balance(classes, labels_training, PDG_CLASSES)"
   ]
  },
  {
   "cell_type": "code",
   "execution_count": null,
   "metadata": {
    "ExecuteTime": {
     "end_time": "2022-09-07T22:13:13.095902Z",
     "start_time": "2022-09-07T22:13:13.095894Z"
    }
   },
   "outputs": [],
   "source": [
    "sum(list(class_dict.values()))"
   ]
  },
  {
   "cell_type": "markdown",
   "metadata": {},
   "source": [
    "### Plot accuracy for each class"
   ]
  },
  {
   "cell_type": "code",
   "execution_count": null,
   "metadata": {
    "ExecuteTime": {
     "end_time": "2022-09-07T22:13:13.096473Z",
     "start_time": "2022-09-07T22:13:13.096465Z"
    }
   },
   "outputs": [],
   "source": [
    "labels_testing = data.y[test_mask].cpu().numpy()\n",
    "plot_class_balance_and_accuracy(class_dict, labels_testing, PDG_CLASSES, pred)"
   ]
  },
  {
   "cell_type": "markdown",
   "metadata": {},
   "source": [
    "### ROC Curve OvR for Muon"
   ]
  },
  {
   "cell_type": "code",
   "execution_count": null,
   "metadata": {
    "ExecuteTime": {
     "end_time": "2022-09-07T22:13:13.097021Z",
     "start_time": "2022-09-07T22:13:13.097014Z"
    }
   },
   "outputs": [],
   "source": [
    "classes = [1]\n",
    "class_labels = [\"muon\"]\n",
    "roc_auc_ovr = plot_overlayed_roc_curve(classes, data.y[test_mask], out_norm[test_mask][:, classes], class_labels, ncol=1)"
   ]
  },
  {
   "cell_type": "markdown",
   "metadata": {},
   "source": [
    "# Question: why AUC > 0.5?"
   ]
  },
  {
   "cell_type": "code",
   "execution_count": null,
   "metadata": {
    "ExecuteTime": {
     "end_time": "2022-09-07T22:13:13.097613Z",
     "start_time": "2022-09-07T22:13:13.097606Z"
    }
   },
   "outputs": [],
   "source": [
    "classes = np.array([i for i in range(5)])\n",
    "roc_auc_ovr = plot_overlayed_roc_curve(classes, data.y[test_mask], out_norm[test_mask][:, classes], PDG_CLASSES, ncol=1)"
   ]
  },
  {
   "cell_type": "code",
   "execution_count": null,
   "metadata": {
    "ExecuteTime": {
     "end_time": "2022-09-07T22:13:13.098147Z",
     "start_time": "2022-09-07T22:13:13.098141Z"
    }
   },
   "outputs": [],
   "source": [
    "classes = [2, 3]\n",
    "class_labels = [\"photon\", \"charged_hadron\"]\n",
    "plot_overlayed_roc_curve(classes, data.y[test_mask], out_norm[test_mask][:, classes], class_labels, ncol=1)"
   ]
  },
  {
   "cell_type": "code",
   "execution_count": null,
   "metadata": {
    "ExecuteTime": {
     "end_time": "2022-09-07T22:13:13.098906Z",
     "start_time": "2022-09-07T22:13:13.098899Z"
    }
   },
   "outputs": [],
   "source": [
    "# import seaborn as sns\n",
    "# from scipy import stats\n",
    "# def plot_roc_curve(tpr, fpr, scatter = True, ax = None):\n",
    "#     '''\n",
    "#     Plots the ROC Curve by using the list of coordinates (tpr and fpr).\n",
    "    \n",
    "#     Args:\n",
    "#         tpr: The list of TPRs representing each coordinate.\n",
    "#         fpr: The list of FPRs representing each coordinate.\n",
    "#         scatter: When True, the points used on the calculation will be plotted with the line (default = True).\n",
    "#     '''\n",
    "#     if ax == None:\n",
    "#         plt.figure(figsize = (5, 5))\n",
    "#         ax = plt.axes()\n",
    "    \n",
    "#     if scatter:\n",
    "#         sns.scatterplot(x = fpr, y = tpr, ax = ax)\n",
    "#     sns.lineplot(x = fpr, y = tpr, ax = ax)\n",
    "#     sns.lineplot(x = [0, 1], y = [0, 1], color = 'green', ax = ax)\n",
    "#     plt.xlim(-0.05, 1.05)\n",
    "#     plt.ylim(-0.05, 1.05)\n",
    "#     plt.xlabel(\"False Positive Rate\")\n",
    "#     plt.ylabel(\"True Positive Rate\")"
   ]
  },
  {
   "cell_type": "code",
   "execution_count": null,
   "metadata": {
    "ExecuteTime": {
     "end_time": "2022-09-07T22:13:13.099483Z",
     "start_time": "2022-09-07T22:13:13.099475Z"
    }
   },
   "outputs": [],
   "source": [
    "# # Plots the ROC Curves One vs Rest\n",
    "# plt.figure(figsize = (12, 3))\n",
    "# roc_auc_ovr = {}\n",
    "# predictions = out_norm[test_mask]\n",
    "# for i in range(len(classes)):  #for each of the classes\n",
    "#     # Gets the class\n",
    "#     c = classes[i]\n",
    "#     y_real = [1 if y == c else 0 for y in labels_testing]\n",
    "#     y_proba = predictions[:, i]\n",
    "#     tpr, fpr = get_all_roc_coordinates(y_real, y_proba.cpu())\n",
    "    \n",
    "#     # Calculates the ROC Coordinates and plots the ROC Curves\n",
    "#     ax_bottom = plt.subplot(1, 5, i+1)\n",
    "#     plot_roc_curve(tpr, fpr, scatter = False, ax = ax_bottom)\n",
    "#     ax_bottom.set_title(f\"ROC OvR {PDG_CLASSES[i]}\")\n",
    "    \n",
    "#     # Calculates the ROC AUC OvR\n",
    "#     roc_auc_ovr[c] = roc_auc_score(y_real, y_proba.detach().cpu())\n",
    "    \n",
    "# plt.tight_layout()"
   ]
  },
  {
   "cell_type": "code",
   "execution_count": null,
   "metadata": {
    "ExecuteTime": {
     "end_time": "2022-09-07T22:13:13.099966Z",
     "start_time": "2022-09-07T22:13:13.099959Z"
    }
   },
   "outputs": [],
   "source": [
    "plot_class_balance_and_AUC(class_dict, roc_auc_ovr, PDG_CLASSES)"
   ]
  },
  {
   "cell_type": "code",
   "execution_count": null,
   "metadata": {},
   "outputs": [],
   "source": []
  }
 ],
 "metadata": {
  "colab": {
   "name": "ssl-tests train_model.ipynb",
   "provenance": []
  },
  "kernelspec": {
   "display_name": "Python 3 (ipykernel)",
   "language": "python",
   "name": "python3"
  },
  "language_info": {
   "codemirror_mode": {
    "name": "ipython",
    "version": 3
   },
   "file_extension": ".py",
   "mimetype": "text/x-python",
   "name": "python",
   "nbconvert_exporter": "python",
   "pygments_lexer": "ipython3",
   "version": "3.9.10"
  }
 },
 "nbformat": 4,
 "nbformat_minor": 1
}
