{
 "cells": [
  {
   "cell_type": "code",
   "execution_count": 3,
   "metadata": {
    "ExecuteTime": {
     "end_time": "2022-08-31T19:58:08.570315Z",
     "start_time": "2022-08-31T19:58:08.272877Z"
    }
   },
   "outputs": [
    {
     "name": "stdout",
     "output_type": "stream",
     "text": [
      "/ssl-jet-vol/semi-supervised-tests/Jupyter\r\n"
     ]
    }
   ],
   "source": [
    "!pwd"
   ]
  },
  {
   "cell_type": "code",
   "execution_count": 4,
   "metadata": {
    "ExecuteTime": {
     "end_time": "2022-08-31T19:58:13.220227Z",
     "start_time": "2022-08-31T19:58:08.572141Z"
    },
    "colab": {
     "base_uri": "https://localhost:8080/",
     "height": 1000
    },
    "id": "1OAfKz8Ys-W6",
    "outputId": "81b6db96-9b92-4941-ff58-35f0be0d8260"
   },
   "outputs": [],
   "source": [
    "import math\n",
    "import os.path as osp\n",
    "\n",
    "import numpy as np\n",
    "import torch\n",
    "import torch.nn.functional as F\n",
    "from torch_geometric.nn import MaskLabel, TransformerConv\n",
    "from torch_geometric.utils import index_to_mask\n",
    "\n",
    "import sys\n",
    "sys.path.insert(0, '..')  #go up one directory\n",
    "from src.data.jetnet_graph import JetNetGraph"
   ]
  },
  {
   "cell_type": "code",
   "execution_count": 5,
   "metadata": {
    "ExecuteTime": {
     "end_time": "2022-08-31T19:58:23.826879Z",
     "start_time": "2022-08-31T19:58:13.221525Z"
    },
    "id": "YjJkozIOs4DD"
   },
   "outputs": [
    {
     "name": "stdout",
     "output_type": "stream",
     "text": [
      "Loading QG_jets_withbc_0.npz\n"
     ]
    }
   ],
   "source": [
    "root = \"/ssl-jet-vol/semi-supervised-tests/Jupyter\"\n",
    "dataset = JetNetGraph(root, max_jets=1_000, n_files=1)  # just use one file, 1k jets for fast testing\n",
    "\n",
    "class UniMP(torch.nn.Module):\n",
    "    def __init__(self, in_channels, num_classes, hidden_channels, num_layers, heads, dropout=0.3):\n",
    "        super().__init__()\n",
    "\n",
    "        self.in_channels = in_channels\n",
    "        self.num_classes = num_classes\n",
    "        self.label_emb = MaskLabel(self.num_classes, self.in_channels)\n",
    "        self.hidden_channels = hidden_channels\n",
    "\n",
    "        self.convs = torch.nn.ModuleList()\n",
    "        self.norms = torch.nn.ModuleList()\n",
    "        for i in range(1, num_layers + 1):\n",
    "            if i < num_layers:\n",
    "                out_channels = self.hidden_channels // heads\n",
    "                concat = True\n",
    "            else:\n",
    "                out_channels = self.num_classes\n",
    "                concat = False\n",
    "            conv = TransformerConv(in_channels, out_channels, heads, concat=concat, beta=True, dropout=dropout)\n",
    "            self.convs.append(conv)\n",
    "            in_channels = self.hidden_channels\n",
    "\n",
    "            if i < num_layers:\n",
    "                self.norms.append(torch.nn.LayerNorm(self.hidden_channels))\n",
    "\n",
    "    def forward(self, x, y, edge_index, label_mask):\n",
    "        x = self.label_emb(x, y, label_mask)\n",
    "        for conv, norm in zip(self.convs, self.norms):\n",
    "            x = norm(conv(x, edge_index)).relu()\n",
    "        return self.convs[-1](x, edge_index)"
   ]
  },
  {
   "cell_type": "code",
   "execution_count": 6,
   "metadata": {
    "ExecuteTime": {
     "end_time": "2022-08-31T19:58:24.980526Z",
     "start_time": "2022-08-31T19:58:23.828255Z"
    },
    "id": "c_TB_JD3tH39"
   },
   "outputs": [],
   "source": [
    "device = torch.device(\"cuda\" if torch.cuda.is_available() else \"cpu\")\n",
    "data = dataset.data.to(device)\n",
    "\n",
    "model = UniMP(in_channels=dataset.num_features, num_classes=5, hidden_channels=64, num_layers=3, heads=2).to(device)\n",
    "optimizer = torch.optim.Adam(model.parameters(), lr=0.001, weight_decay=0.0005)\n",
    "\n",
    "tv_frac = 0.10\n",
    "tv_num = math.ceil(data.num_nodes * tv_frac)  # round to nearest integer\n",
    "splits = np.cumsum([data.num_nodes - 2 * tv_num, tv_num, tv_num])\n",
    "\n",
    "train_index = torch.tensor(np.arange(start=0, stop=splits[0]), dtype=torch.long)\n",
    "val_index = torch.tensor(np.arange(start=splits[0], stop=splits[1]), dtype=torch.long)\n",
    "test_index = torch.tensor(np.arange(start=splits[1], stop=data.num_nodes), dtype=torch.long)\n",
    "\n",
    "train_mask = index_to_mask(train_index, size=data.num_nodes)\n",
    "val_mask = index_to_mask(val_index, size=data.num_nodes)\n",
    "test_mask = index_to_mask(test_index, size=data.num_nodes)"
   ]
  },
  {
   "cell_type": "code",
   "execution_count": 7,
   "metadata": {
    "ExecuteTime": {
     "end_time": "2022-08-31T19:58:24.988837Z",
     "start_time": "2022-08-31T19:58:24.981594Z"
    }
   },
   "outputs": [
    {
     "data": {
      "text/plain": [
       "array([33892, 38129, 42366])"
      ]
     },
     "execution_count": 7,
     "metadata": {},
     "output_type": "execute_result"
    }
   ],
   "source": [
    "splits"
   ]
  },
  {
   "cell_type": "code",
   "execution_count": 8,
   "metadata": {
    "ExecuteTime": {
     "end_time": "2022-08-31T19:58:24.997499Z",
     "start_time": "2022-08-31T19:58:24.989715Z"
    }
   },
   "outputs": [
    {
     "data": {
      "text/plain": [
       "[33892, 4237, 4237]"
      ]
     },
     "execution_count": 8,
     "metadata": {},
     "output_type": "execute_result"
    }
   ],
   "source": [
    "[data.num_nodes - 2 * tv_num, tv_num, tv_num]"
   ]
  },
  {
   "cell_type": "code",
   "execution_count": 9,
   "metadata": {
    "ExecuteTime": {
     "end_time": "2022-08-31T19:58:25.005731Z",
     "start_time": "2022-08-31T19:58:24.998362Z"
    },
    "id": "7BQ2azrUtGQs"
   },
   "outputs": [],
   "source": [
    "def train(label_rate=0.75):  # How many labels to use for propagation\n",
    "    model.train()\n",
    "\n",
    "    propagation_mask = MaskLabel.ratio_mask(train_mask, ratio=label_rate)\n",
    "    supervision_mask = train_mask ^ propagation_mask\n",
    "\n",
    "    optimizer.zero_grad()\n",
    "    out = model(data.x, data.y, data.edge_index, propagation_mask)\n",
    "    loss = F.cross_entropy(out[supervision_mask], data.y[supervision_mask])\n",
    "    loss.backward()\n",
    "    optimizer.step()\n",
    "\n",
    "    return float(loss)\n",
    "\n",
    "\n",
    "@torch.no_grad()\n",
    "def test():\n",
    "    model.eval()\n",
    "\n",
    "    propagation_mask = train_mask\n",
    "    out = model(data.x, data.y, data.edge_index, propagation_mask)\n",
    "    pred = out[val_mask].argmax(dim=-1)\n",
    "    val_acc = int((pred == data.y[val_mask]).sum()) / pred.size(0)\n",
    "\n",
    "    propagation_mask = train_mask | val_mask\n",
    "    out = model(data.x, data.y, data.edge_index, propagation_mask)\n",
    "    pred = out[test_mask].argmax(dim=-1)\n",
    "    test_acc = int((pred == data.y[test_mask]).sum()) / pred.size(0)\n",
    "\n",
    "    return val_acc, test_acc"
   ]
  },
  {
   "cell_type": "code",
   "execution_count": 10,
   "metadata": {
    "ExecuteTime": {
     "end_time": "2022-08-31T19:59:07.595360Z",
     "start_time": "2022-08-31T19:58:25.007269Z"
    },
    "id": "bM4EsZnPtEO1"
   },
   "outputs": [
    {
     "name": "stdout",
     "output_type": "stream",
     "text": [
      "Epoch: 001, Train Loss: 1.6054, Val Acc: 0.2665, Test Acc: 0.2735\n",
      "Epoch: 002, Train Loss: 1.5539, Val Acc: 0.3550, Test Acc: 0.3687\n",
      "Epoch: 003, Train Loss: 1.5079, Val Acc: 0.5124, Test Acc: 0.5235\n",
      "Epoch: 004, Train Loss: 1.4669, Val Acc: 0.5686, Test Acc: 0.5650\n",
      "Epoch: 005, Train Loss: 1.4286, Val Acc: 0.5707, Test Acc: 0.5660\n",
      "Epoch: 006, Train Loss: 1.3948, Val Acc: 0.5695, Test Acc: 0.5676\n",
      "Epoch: 007, Train Loss: 1.3647, Val Acc: 0.5705, Test Acc: 0.5660\n",
      "Epoch: 008, Train Loss: 1.3346, Val Acc: 0.5679, Test Acc: 0.5624\n",
      "Epoch: 009, Train Loss: 1.3120, Val Acc: 0.5664, Test Acc: 0.5622\n",
      "Epoch: 010, Train Loss: 1.2896, Val Acc: 0.5662, Test Acc: 0.5612\n",
      "Epoch: 011, Train Loss: 1.2691, Val Acc: 0.5686, Test Acc: 0.5598\n",
      "Epoch: 012, Train Loss: 1.2523, Val Acc: 0.5679, Test Acc: 0.5582\n",
      "Epoch: 013, Train Loss: 1.2314, Val Acc: 0.5664, Test Acc: 0.5572\n",
      "Epoch: 014, Train Loss: 1.2186, Val Acc: 0.5669, Test Acc: 0.5577\n",
      "Epoch: 015, Train Loss: 1.2000, Val Acc: 0.5674, Test Acc: 0.5579\n",
      "Epoch: 016, Train Loss: 1.1933, Val Acc: 0.5669, Test Acc: 0.5582\n",
      "Epoch: 017, Train Loss: 1.1759, Val Acc: 0.5662, Test Acc: 0.5584\n",
      "Epoch: 018, Train Loss: 1.1647, Val Acc: 0.5667, Test Acc: 0.5582\n",
      "Epoch: 019, Train Loss: 1.1525, Val Acc: 0.5662, Test Acc: 0.5589\n",
      "Epoch: 020, Train Loss: 1.1400, Val Acc: 0.5662, Test Acc: 0.5586\n",
      "Epoch: 021, Train Loss: 1.1341, Val Acc: 0.5664, Test Acc: 0.5589\n",
      "Epoch: 022, Train Loss: 1.1245, Val Acc: 0.5657, Test Acc: 0.5586\n",
      "Epoch: 023, Train Loss: 1.1104, Val Acc: 0.5653, Test Acc: 0.5577\n",
      "Epoch: 024, Train Loss: 1.1024, Val Acc: 0.5655, Test Acc: 0.5579\n",
      "Epoch: 025, Train Loss: 1.0841, Val Acc: 0.5653, Test Acc: 0.5577\n",
      "Epoch: 026, Train Loss: 1.0828, Val Acc: 0.5657, Test Acc: 0.5584\n",
      "Epoch: 027, Train Loss: 1.0734, Val Acc: 0.5681, Test Acc: 0.5591\n",
      "Epoch: 028, Train Loss: 1.0613, Val Acc: 0.5676, Test Acc: 0.5594\n",
      "Epoch: 029, Train Loss: 1.0512, Val Acc: 0.5674, Test Acc: 0.5603\n",
      "Epoch: 030, Train Loss: 1.0419, Val Acc: 0.5676, Test Acc: 0.5603\n",
      "Epoch: 031, Train Loss: 1.0355, Val Acc: 0.5676, Test Acc: 0.5608\n",
      "Epoch: 032, Train Loss: 1.0259, Val Acc: 0.5686, Test Acc: 0.5617\n",
      "Epoch: 033, Train Loss: 1.0170, Val Acc: 0.5683, Test Acc: 0.5620\n",
      "Epoch: 034, Train Loss: 1.0070, Val Acc: 0.5695, Test Acc: 0.5636\n",
      "Epoch: 035, Train Loss: 0.9911, Val Acc: 0.5709, Test Acc: 0.5641\n",
      "Epoch: 036, Train Loss: 0.9929, Val Acc: 0.5716, Test Acc: 0.5643\n",
      "Epoch: 037, Train Loss: 0.9845, Val Acc: 0.5730, Test Acc: 0.5646\n",
      "Epoch: 038, Train Loss: 0.9776, Val Acc: 0.5742, Test Acc: 0.5667\n",
      "Epoch: 039, Train Loss: 0.9663, Val Acc: 0.5742, Test Acc: 0.5686\n",
      "Epoch: 040, Train Loss: 0.9588, Val Acc: 0.5740, Test Acc: 0.5690\n",
      "Epoch: 041, Train Loss: 0.9592, Val Acc: 0.5738, Test Acc: 0.5705\n",
      "Epoch: 042, Train Loss: 0.9448, Val Acc: 0.5738, Test Acc: 0.5695\n",
      "Epoch: 043, Train Loss: 0.9423, Val Acc: 0.5738, Test Acc: 0.5712\n",
      "Epoch: 044, Train Loss: 0.9291, Val Acc: 0.5742, Test Acc: 0.5716\n",
      "Epoch: 045, Train Loss: 0.9309, Val Acc: 0.5752, Test Acc: 0.5716\n",
      "Epoch: 046, Train Loss: 0.9139, Val Acc: 0.5759, Test Acc: 0.5726\n",
      "Epoch: 047, Train Loss: 0.9250, Val Acc: 0.5747, Test Acc: 0.5728\n",
      "Epoch: 048, Train Loss: 0.9136, Val Acc: 0.5740, Test Acc: 0.5738\n",
      "Epoch: 049, Train Loss: 0.9139, Val Acc: 0.5747, Test Acc: 0.5738\n",
      "Epoch: 050, Train Loss: 0.9058, Val Acc: 0.5738, Test Acc: 0.5759\n",
      "Epoch: 051, Train Loss: 0.9002, Val Acc: 0.5745, Test Acc: 0.5752\n",
      "Epoch: 052, Train Loss: 0.8965, Val Acc: 0.5742, Test Acc: 0.5754\n",
      "Epoch: 053, Train Loss: 0.8861, Val Acc: 0.5733, Test Acc: 0.5756\n",
      "Epoch: 054, Train Loss: 0.8903, Val Acc: 0.5738, Test Acc: 0.5778\n",
      "Epoch: 055, Train Loss: 0.8868, Val Acc: 0.5747, Test Acc: 0.5771\n",
      "Epoch: 056, Train Loss: 0.8782, Val Acc: 0.5752, Test Acc: 0.5771\n",
      "Epoch: 057, Train Loss: 0.8813, Val Acc: 0.5754, Test Acc: 0.5778\n",
      "Epoch: 058, Train Loss: 0.8750, Val Acc: 0.5759, Test Acc: 0.5775\n",
      "Epoch: 059, Train Loss: 0.8659, Val Acc: 0.5749, Test Acc: 0.5775\n",
      "Epoch: 060, Train Loss: 0.8691, Val Acc: 0.5754, Test Acc: 0.5778\n",
      "Epoch: 061, Train Loss: 0.8764, Val Acc: 0.5749, Test Acc: 0.5775\n",
      "Epoch: 062, Train Loss: 0.8653, Val Acc: 0.5749, Test Acc: 0.5775\n",
      "Epoch: 063, Train Loss: 0.8669, Val Acc: 0.5742, Test Acc: 0.5759\n",
      "Epoch: 064, Train Loss: 0.8701, Val Acc: 0.5752, Test Acc: 0.5759\n",
      "Epoch: 065, Train Loss: 0.8710, Val Acc: 0.5756, Test Acc: 0.5761\n",
      "Epoch: 066, Train Loss: 0.8619, Val Acc: 0.5747, Test Acc: 0.5761\n",
      "Epoch: 067, Train Loss: 0.8657, Val Acc: 0.5740, Test Acc: 0.5768\n",
      "Epoch: 068, Train Loss: 0.8711, Val Acc: 0.5738, Test Acc: 0.5752\n",
      "Epoch: 069, Train Loss: 0.8704, Val Acc: 0.5745, Test Acc: 0.5754\n",
      "Epoch: 070, Train Loss: 0.8674, Val Acc: 0.5754, Test Acc: 0.5749\n",
      "Epoch: 071, Train Loss: 0.8550, Val Acc: 0.5747, Test Acc: 0.5749\n",
      "Epoch: 072, Train Loss: 0.8641, Val Acc: 0.5747, Test Acc: 0.5745\n",
      "Epoch: 073, Train Loss: 0.8549, Val Acc: 0.5742, Test Acc: 0.5738\n",
      "Epoch: 074, Train Loss: 0.8523, Val Acc: 0.5747, Test Acc: 0.5738\n",
      "Epoch: 075, Train Loss: 0.8577, Val Acc: 0.5742, Test Acc: 0.5733\n",
      "Epoch: 076, Train Loss: 0.8579, Val Acc: 0.5735, Test Acc: 0.5738\n",
      "Epoch: 077, Train Loss: 0.8560, Val Acc: 0.5740, Test Acc: 0.5733\n",
      "Epoch: 078, Train Loss: 0.8530, Val Acc: 0.5742, Test Acc: 0.5735\n",
      "Epoch: 079, Train Loss: 0.8602, Val Acc: 0.5740, Test Acc: 0.5733\n",
      "Epoch: 080, Train Loss: 0.8629, Val Acc: 0.5745, Test Acc: 0.5740\n",
      "Epoch: 081, Train Loss: 0.8553, Val Acc: 0.5721, Test Acc: 0.5742\n",
      "Epoch: 082, Train Loss: 0.8562, Val Acc: 0.5712, Test Acc: 0.5747\n",
      "Epoch: 083, Train Loss: 0.8519, Val Acc: 0.5721, Test Acc: 0.5733\n",
      "Epoch: 084, Train Loss: 0.8531, Val Acc: 0.5721, Test Acc: 0.5728\n",
      "Epoch: 085, Train Loss: 0.8504, Val Acc: 0.5730, Test Acc: 0.5726\n",
      "Epoch: 086, Train Loss: 0.8538, Val Acc: 0.5721, Test Acc: 0.5730\n",
      "Epoch: 087, Train Loss: 0.8503, Val Acc: 0.5730, Test Acc: 0.5733\n",
      "Epoch: 088, Train Loss: 0.8528, Val Acc: 0.5735, Test Acc: 0.5735\n",
      "Epoch: 089, Train Loss: 0.8448, Val Acc: 0.5749, Test Acc: 0.5745\n",
      "Epoch: 090, Train Loss: 0.8531, Val Acc: 0.5752, Test Acc: 0.5764\n",
      "Epoch: 091, Train Loss: 0.8666, Val Acc: 0.5749, Test Acc: 0.5766\n",
      "Epoch: 092, Train Loss: 0.8514, Val Acc: 0.5752, Test Acc: 0.5773\n",
      "Epoch: 093, Train Loss: 0.8549, Val Acc: 0.5749, Test Acc: 0.5775\n",
      "Epoch: 094, Train Loss: 0.8534, Val Acc: 0.5749, Test Acc: 0.5782\n",
      "Epoch: 095, Train Loss: 0.8622, Val Acc: 0.5754, Test Acc: 0.5780\n",
      "Epoch: 096, Train Loss: 0.8552, Val Acc: 0.5745, Test Acc: 0.5768\n",
      "Epoch: 097, Train Loss: 0.8598, Val Acc: 0.5745, Test Acc: 0.5756\n",
      "Epoch: 098, Train Loss: 0.8517, Val Acc: 0.5733, Test Acc: 0.5752\n",
      "Epoch: 099, Train Loss: 0.8611, Val Acc: 0.5726, Test Acc: 0.5742\n",
      "Epoch: 100, Train Loss: 0.8486, Val Acc: 0.5730, Test Acc: 0.5730\n"
     ]
    }
   ],
   "source": [
    "loss_lst, val_acc_lst, test_acc_lst = [], [], []\n",
    "for epoch in range(1, 101):\n",
    "    loss = train()\n",
    "    val_acc, test_acc = test()\n",
    "    print(f\"Epoch: {epoch:03d}, Train Loss: {loss:.4f}, Val Acc: {val_acc:.4f}, Test Acc: {test_acc:.4f}\")\n",
    "    loss_lst.append(loss)\n",
    "    val_acc_lst.append(val_acc)\n",
    "    test_acc_lst.append(test_acc)"
   ]
  },
  {
   "cell_type": "code",
   "execution_count": 11,
   "metadata": {
    "ExecuteTime": {
     "end_time": "2022-08-31T19:59:16.910864Z",
     "start_time": "2022-08-31T19:59:16.230993Z"
    }
   },
   "outputs": [],
   "source": [
    "# To plot pretty figures\n",
    "%matplotlib inline\n",
    "import matplotlib as mpl\n",
    "import matplotlib.pyplot as plt\n",
    "mpl.rc('axes', labelsize=14)\n",
    "mpl.rc('xtick', labelsize=12)\n",
    "mpl.rc('ytick', labelsize=12)"
   ]
  },
  {
   "cell_type": "code",
   "execution_count": 12,
   "metadata": {
    "ExecuteTime": {
     "end_time": "2022-08-31T19:59:48.041027Z",
     "start_time": "2022-08-31T19:59:47.914944Z"
    }
   },
   "outputs": [
    {
     "data": {
      "image/png": "[encoded data removed]",
      "text/plain": [
       "<Figure size 864x432 with 1 Axes>"
      ]
     },
     "metadata": {
      "needs_background": "light"
     },
     "output_type": "display_data"
    }
   ],
   "source": [
    "fig, ax = plt.subplots(figsize=(12, 6))\n",
    "marker_size = 1\n",
    "plt.plot(loss_lst, \"r.\", markersize=marker_size, label=\"loss\")\n",
    "plt.plot(val_acc_lst, \"b.\", markersize=marker_size, label=\"val acc\")\n",
    "plt.plot(test_acc_lst, \"g.\",markersize=marker_size, label=\"test acc\")\n",
    "plt.xlabel(\"Epochs\", fontsize=18)\n",
    "# plt.ylabel(\"value of params\", rotation=90, fontsize=18)\n",
    "plt.legend(loc=\"best\", fontsize=10)\n",
    "# plt.xlim([200, 500])\n",
    "plt.show()"
   ]
  },
  {
   "cell_type": "code",
   "execution_count": null,
   "metadata": {},
   "outputs": [],
   "source": []
  }
 ],
 "metadata": {
  "colab": {
   "name": "ssl-tests train_model.ipynb",
   "provenance": []
  },
  "kernelspec": {
   "display_name": "Python 3 (ipykernel)",
   "language": "python",
   "name": "python3"
  },
  "language_info": {
   "codemirror_mode": {
    "name": "ipython",
    "version": 3
   },
   "file_extension": ".py",
   "mimetype": "text/x-python",
   "name": "python",
   "nbconvert_exporter": "python",
   "pygments_lexer": "ipython3",
   "version": "3.9.10"
  }
 },
 "nbformat": 4,
 "nbformat_minor": 1
}
