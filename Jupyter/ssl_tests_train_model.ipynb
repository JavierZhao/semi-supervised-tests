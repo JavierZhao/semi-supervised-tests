{
 "cells": [
  {
   "cell_type": "code",
   "execution_count": 1,
   "metadata": {
    "ExecuteTime": {
     "end_time": "2022-09-15T20:37:32.806526Z",
     "start_time": "2022-09-15T20:37:31.727826Z"
    }
   },
   "outputs": [
    {
     "name": "stdout",
     "output_type": "stream",
     "text": [
      "\n",
      "==============NVSMI LOG==============\n",
      "\n",
      "Timestamp                                 : Thu Sep 15 20:37:32 2022\n",
      "Driver Version                            : 510.54\n",
      "CUDA Version                              : 11.6\n",
      "\n",
      "Attached GPUs                             : 1\n",
      "GPU 00000000:08:00.0\n",
      "    Product Name                          : NVIDIA GeForce GTX 1080\n",
      "    Product Brand                         : GeForce\n",
      "    Product Architecture                  : Pascal\n",
      "    Display Mode                          : Disabled\n",
      "    Display Active                        : Disabled\n",
      "    Persistence Mode                      : Disabled\n",
      "    MIG Mode\n",
      "        Current                           : N/A\n",
      "        Pending                           : N/A\n",
      "    Accounting Mode                       : Disabled\n",
      "    Accounting Mode Buffer Size           : 4000\n",
      "    Driver Model\n",
      "        Current                           : N/A\n",
      "        Pending                           : N/A\n",
      "    Serial Number                         : N/A\n",
      "    GPU UUID                              : GPU-045391d7-2495-c5b2-211c-c060e8255265\n",
      "    Minor Number                          : 2\n",
      "    VBIOS Version                         : 86.04.3B.00.05\n",
      "    MultiGPU Board                        : No\n",
      "    Board ID                              : 0x800\n",
      "    GPU Part Number                       : N/A\n",
      "    Module ID                             : 0\n",
      "    Inforom Version\n",
      "        Image Version                     : G001.0000.01.03\n",
      "        OEM Object                        : 1.1\n",
      "        ECC Object                        : N/A\n",
      "        Power Management Object           : N/A\n",
      "    GPU Operation Mode\n",
      "        Current                           : N/A\n",
      "        Pending                           : N/A\n",
      "    GSP Firmware Version                  : N/A\n",
      "    GPU Virtualization Mode\n",
      "        Virtualization Mode               : None\n",
      "        Host VGPU Mode                    : N/A\n",
      "    IBMNPU\n",
      "        Relaxed Ordering Mode             : N/A\n",
      "    PCI\n",
      "        Bus                               : 0x08\n",
      "        Device                            : 0x00\n",
      "        Domain                            : 0x0000\n",
      "        Device Id                         : 0x1B8010DE\n",
      "        Bus Id                            : 00000000:08:00.0\n",
      "        Sub System Id                     : 0x119E196E\n",
      "        GPU Link Info\n",
      "            PCIe Generation\n",
      "                Max                       : 3\n",
      "                Current                   : 1\n",
      "            Link Width\n",
      "                Max                       : 16x\n",
      "                Current                   : 16x\n",
      "        Bridge Chip\n",
      "            Type                          : N/A\n",
      "            Firmware                      : N/A\n",
      "        Replays Since Reset               : 0\n",
      "        Replay Number Rollovers           : 0\n",
      "        Tx Throughput                     : 0 KB/s\n",
      "        Rx Throughput                     : 0 KB/s\n",
      "    Fan Speed                             : 27 %\n",
      "    Performance State                     : P8\n",
      "    Clocks Throttle Reasons\n",
      "        Idle                              : Active\n",
      "        Applications Clocks Setting       : Not Active\n",
      "        SW Power Cap                      : Not Active\n",
      "        HW Slowdown                       : Not Active\n",
      "            HW Thermal Slowdown           : Not Active\n",
      "            HW Power Brake Slowdown       : Not Active\n",
      "        Sync Boost                        : Not Active\n",
      "        SW Thermal Slowdown               : Not Active\n",
      "        Display Clock Setting             : Not Active\n",
      "    FB Memory Usage\n",
      "        Total                             : 8192 MiB\n",
      "        Reserved                          : 72 MiB\n",
      "        Used                              : 0 MiB\n",
      "        Free                              : 8119 MiB\n",
      "    BAR1 Memory Usage\n",
      "        Total                             : 256 MiB\n",
      "        Used                              : 2 MiB\n",
      "        Free                              : 254 MiB\n",
      "    Compute Mode                          : Default\n",
      "    Utilization\n",
      "        Gpu                               : 0 %\n",
      "        Memory                            : 0 %\n",
      "        Encoder                           : 0 %\n",
      "        Decoder                           : 0 %\n",
      "    Encoder Stats\n",
      "        Active Sessions                   : 0\n",
      "        Average FPS                       : 0\n",
      "        Average Latency                   : 0\n",
      "    FBC Stats\n",
      "        Active Sessions                   : 0\n",
      "        Average FPS                       : 0\n",
      "        Average Latency                   : 0\n",
      "    Ecc Mode\n",
      "        Current                           : N/A\n",
      "        Pending                           : N/A\n",
      "    ECC Errors\n",
      "        Volatile\n",
      "            Single Bit            \n",
      "                Device Memory             : N/A\n",
      "                Register File             : N/A\n",
      "                L1 Cache                  : N/A\n",
      "                L2 Cache                  : N/A\n",
      "                Texture Memory            : N/A\n",
      "                Texture Shared            : N/A\n",
      "                CBU                       : N/A\n",
      "                Total                     : N/A\n",
      "            Double Bit            \n",
      "                Device Memory             : N/A\n",
      "                Register File             : N/A\n",
      "                L1 Cache                  : N/A\n",
      "                L2 Cache                  : N/A\n",
      "                Texture Memory            : N/A\n",
      "                Texture Shared            : N/A\n",
      "                CBU                       : N/A\n",
      "                Total                     : N/A\n",
      "        Aggregate\n",
      "            Single Bit            \n",
      "                Device Memory             : N/A\n",
      "                Register File             : N/A\n",
      "                L1 Cache                  : N/A\n",
      "                L2 Cache                  : N/A\n",
      "                Texture Memory            : N/A\n",
      "                Texture Shared            : N/A\n",
      "                CBU                       : N/A\n",
      "                Total                     : N/A\n",
      "            Double Bit            \n",
      "                Device Memory             : N/A\n",
      "                Register File             : N/A\n",
      "                L1 Cache                  : N/A\n",
      "                L2 Cache                  : N/A\n",
      "                Texture Memory            : N/A\n",
      "                Texture Shared            : N/A\n",
      "                CBU                       : N/A\n",
      "                Total                     : N/A\n",
      "    Retired Pages\n",
      "        Single Bit ECC                    : N/A\n",
      "        Double Bit ECC                    : N/A\n",
      "        Pending Page Blacklist            : N/A\n",
      "    Remapped Rows                         : N/A\n",
      "    Temperature\n",
      "        GPU Current Temp                  : 20 C\n",
      "        GPU Shutdown Temp                 : 99 C\n",
      "        GPU Slowdown Temp                 : 96 C\n",
      "        GPU Max Operating Temp            : N/A\n",
      "        GPU Target Temperature            : 83 C\n",
      "        Memory Current Temp               : N/A\n",
      "        Memory Max Operating Temp         : N/A\n",
      "    Power Readings\n",
      "        Power Management                  : Supported\n",
      "        Power Draw                        : 6.68 W\n",
      "        Power Limit                       : 180.00 W\n",
      "        Default Power Limit               : 180.00 W\n",
      "        Enforced Power Limit              : 180.00 W\n",
      "        Min Power Limit                   : 90.00 W\n",
      "        Max Power Limit                   : 217.00 W\n",
      "    Clocks\n",
      "        Graphics                          : 139 MHz\n",
      "        SM                                : 139 MHz\n",
      "        Memory                            : 405 MHz\n",
      "        Video                             : 544 MHz\n",
      "    Applications Clocks\n",
      "        Graphics                          : N/A\n",
      "        Memory                            : N/A\n",
      "    Default Applications Clocks\n",
      "        Graphics                          : N/A\n",
      "        Memory                            : N/A\n",
      "    Max Clocks\n",
      "        Graphics                          : 1911 MHz\n",
      "        SM                                : 1911 MHz\n",
      "        Memory                            : 5005 MHz\n",
      "        Video                             : 1708 MHz\n",
      "    Max Customer Boost Clocks\n",
      "        Graphics                          : N/A\n",
      "    Clock Policy\n",
      "        Auto Boost                        : N/A\n",
      "        Auto Boost Default                : N/A\n",
      "    Voltage\n",
      "        Graphics                          : N/A\n",
      "    Processes                             : None\n",
      "\n"
     ]
    }
   ],
   "source": [
    "!nvidia-smi -q"
   ]
  },
  {
   "cell_type": "code",
   "execution_count": 2,
   "metadata": {
    "ExecuteTime": {
     "end_time": "2022-09-15T20:39:48.191614Z",
     "start_time": "2022-09-15T20:39:35.693730Z"
    },
    "colab": {
     "base_uri": "https://localhost:8080/",
     "height": 1000
    },
    "id": "1OAfKz8Ys-W6",
    "outputId": "81b6db96-9b92-4941-ff58-35f0be0d8260"
   },
   "outputs": [
    {
     "name": "stderr",
     "output_type": "stream",
     "text": [
      "INFO:numexpr.utils:Note: NumExpr detected 40 cores but \"NUMEXPR_MAX_THREADS\" not set, so enforcing safe limit of 8.\n",
      "INFO:numexpr.utils:NumExpr defaulting to 8 threads.\n"
     ]
    }
   ],
   "source": [
    "import math\n",
    "import logging\n",
    "import os.path as osp\n",
    "\n",
    "import torch\n",
    "import torch.nn.functional as F\n",
    "from torch_geometric.data import Batch\n",
    "from torch_geometric.loader import DataListLoader\n",
    "from torch_geometric.nn import MaskLabel, TransformerConv\n",
    "from torch_geometric.utils import index_to_mask\n",
    "\n",
    "import sys\n",
    "sys.path.insert(0, '..')  #go up one directory\n",
    "from src.data.jetnet_graph import JetNetGraph\n",
    "from src.models.unimp_model import UniMP\n",
    "from custom_libraries.my_functions import *\n",
    "from focal_loss import FocalLoss\n",
    "\n",
    "import pandas as pd\n",
    "import numpy as np\n",
    "import matplotlib.pyplot as plt\n",
    "import seaborn as sns\n",
    "from scipy import stats\n",
    "\n",
    "# To plot pretty figures\n",
    "%matplotlib inline\n",
    "import matplotlib as mpl\n",
    "import matplotlib.pyplot as plt\n",
    "mpl.rc('axes', labelsize=14)\n",
    "mpl.rc('xtick', labelsize=12)\n",
    "mpl.rc('ytick', labelsize=12)\n",
    "\n",
    "logging.basicConfig(level=logging.INFO)"
   ]
  },
  {
   "cell_type": "code",
   "execution_count": 14,
   "metadata": {
    "ExecuteTime": {
     "end_time": "2022-09-15T20:57:46.516202Z",
     "start_time": "2022-09-15T20:57:46.504254Z"
    }
   },
   "outputs": [],
   "source": [
    "def train(model, loader, optimizer, label_rate=0.85, loss_fcn=F.cross_entropy):\n",
    "    model.train()\n",
    "\n",
    "    sum_loss = 0\n",
    "    sum_true = 0\n",
    "    sum_all = 0\n",
    "    for i, data in enumerate(loader):\n",
    "        optimizer.zero_grad()\n",
    "\n",
    "        train_mask = torch.ones_like(data.x[:, 0], dtype=torch.bool)\n",
    "        propagation_mask = MaskLabel.ratio_mask(train_mask, ratio=label_rate)\n",
    "        supervision_mask = train_mask ^ propagation_mask\n",
    "\n",
    "        data = data.cuda()\n",
    "        out = model(data.x, data.y, data.edge_index, propagation_mask)\n",
    "        loss = loss_fcn(out[supervision_mask], data.y[supervision_mask])\n",
    "        loss.backward()\n",
    "        sum_loss += float(loss)\n",
    "        optimizer.step()\n",
    "\n",
    "        pred = out[supervision_mask].argmax(dim=-1)\n",
    "        sum_true += int((pred == data.y[supervision_mask]).sum())\n",
    "        sum_all += pred.size(0)\n",
    "        logging.info(f\"Batch: {i + 1:03d}, Train Loss: {sum_loss:.4f}\")\n",
    "\n",
    "    return float(sum_loss) / (i + 1), float(sum_true) / sum_all"
   ]
  },
  {
   "cell_type": "code",
   "execution_count": 33,
   "metadata": {
    "ExecuteTime": {
     "end_time": "2022-09-15T21:14:26.484295Z",
     "start_time": "2022-09-15T21:14:26.469004Z"
    }
   },
   "outputs": [],
   "source": [
    "@torch.no_grad()\n",
    "def test(model, loader, label_rate=0.85, output_pred=False):\n",
    "    model.eval()\n",
    "\n",
    "    sum_true = 0\n",
    "    sum_all = 0\n",
    "    for data in loader:\n",
    "        data = data.cuda()\n",
    "        test_mask = torch.ones_like(data.x[:, 0], dtype=torch.bool)\n",
    "        propagation_mask = MaskLabel.ratio_mask(test_mask, ratio=label_rate)\n",
    "        supervision_mask = test_mask ^ propagation_mask\n",
    "\n",
    "        out = model(data.x, data.y, data.edge_index, propagation_mask)\n",
    "        pred = out[supervision_mask].argmax(dim=-1)\n",
    "        sum_true += int((pred == data.y[supervision_mask]).sum())\n",
    "        sum_all += pred.size(0)\n",
    "    if output_pred:\n",
    "        return out\n",
    "    else:\n",
    "        return float(sum_true) / sum_all\n",
    "\n",
    "\n",
    "def collate_fn(items):\n",
    "    sum_list = sum(items, [])\n",
    "    return Batch.from_data_list(sum_list)"
   ]
  },
  {
   "cell_type": "code",
   "execution_count": 5,
   "metadata": {
    "ExecuteTime": {
     "end_time": "2022-09-15T20:49:49.566558Z",
     "start_time": "2022-09-15T20:49:49.530319Z"
    }
   },
   "outputs": [],
   "source": [
    "def reset_params(model):\n",
    "    for layer in model.children():\n",
    "        if hasattr(layer, 'reset_parameters'):\n",
    "            print(layer)\n",
    "            layer.reset_parameters()\n",
    "        else:\n",
    "            for sublayer in layer:\n",
    "                if hasattr(sublayer, 'reset_parameters'):\n",
    "                    print(sublayer)\n",
    "                    sublayer.reset_parameters()"
   ]
  },
  {
   "cell_type": "code",
   "execution_count": 18,
   "metadata": {
    "ExecuteTime": {
     "end_time": "2022-09-15T20:59:02.968080Z",
     "start_time": "2022-09-15T20:59:02.881819Z"
    }
   },
   "outputs": [
    {
     "name": "stderr",
     "output_type": "stream",
     "text": [
      "INFO:root:Model summary\n",
      "INFO:root:UniMP(\n",
      "  (label_emb): MaskLabel()\n",
      "  (convs): ModuleList(\n",
      "    (0): TransformerConv(3, 32, heads=2)\n",
      "    (1): TransformerConv(64, 32, heads=2)\n",
      "    (2): TransformerConv(64, 5, heads=2)\n",
      "  )\n",
      "  (norms): ModuleList(\n",
      "    (0): LayerNorm((64,), eps=1e-05, elementwise_affine=True)\n",
      "    (1): LayerNorm((64,), eps=1e-05, elementwise_affine=True)\n",
      "  )\n",
      ")\n"
     ]
    },
    {
     "name": "stdout",
     "output_type": "stream",
     "text": [
      "cuda\n"
     ]
    }
   ],
   "source": [
    "# train_root = osp.join(osp.dirname(osp.realpath(__file__)), \"..\", \"..\", \"data\", \"train\")\n",
    "# val_root = osp.join(osp.dirname(osp.realpath(__file__)), \"..\", \"..\", \"data\", \"val\")\n",
    "train_root = \"/ssl-jet-vol/semi-supervised-tests/Jupyter/data/train\"\n",
    "val_root = \"/ssl-jet-vol/semi-supervised-tests/Jupyter/data/val\"\n",
    "max_jets = 1000\n",
    "train_dataset = JetNetGraph(train_root, max_jets=max_jets, file_start=0, file_stop=1)\n",
    "val_dataset = JetNetGraph(val_root, max_jets=max_jets, file_start=1, file_stop=2)\n",
    "batch_size = 1\n",
    "\n",
    "device = torch.device(\"cuda\" if torch.cuda.is_available() else \"cpu\")\n",
    "print(device)\n",
    "\n",
    "train_loader = DataListLoader(train_dataset, batch_size=batch_size, pin_memory=True, shuffle=True)\n",
    "train_loader.collate_fn = collate_fn\n",
    "val_loader = DataListLoader(val_dataset, batch_size=batch_size, pin_memory=True, shuffle=False)\n",
    "val_loader.collate_fn = collate_fn\n",
    "\n",
    "model = UniMP(\n",
    "    in_channels=train_dataset.num_features,\n",
    "    num_classes=train_dataset.num_classes,\n",
    "    hidden_channels=64,\n",
    "    num_layers=3,\n",
    "    heads=2,\n",
    ").to(device)\n",
    "\n",
    "logging.info(\"Model summary\")\n",
    "logging.info(model)\n",
    "\n",
    "optimizer = torch.optim.Adam(model.parameters(), lr=0.001, weight_decay=0.0005)"
   ]
  },
  {
   "cell_type": "code",
   "execution_count": 19,
   "metadata": {
    "ExecuteTime": {
     "end_time": "2022-09-15T21:03:04.202172Z",
     "start_time": "2022-09-15T20:59:05.288457Z"
    },
    "id": "c_TB_JD3tH39"
   },
   "outputs": [
    {
     "name": "stderr",
     "output_type": "stream",
     "text": [
      "INFO:root:Batch: 001, Train Loss: 1.5593\n",
      "INFO:root:Epoch: 001, Train Loss: 1.5593, Train Acc: 0.3430, Val Acc: 0.4570\n",
      "INFO:root:Batch: 001, Train Loss: 1.4763\n",
      "INFO:root:Epoch: 002, Train Loss: 1.4763, Train Acc: 0.4674, Val Acc: 0.4647\n",
      "INFO:root:Batch: 001, Train Loss: 1.4119\n",
      "INFO:root:Epoch: 003, Train Loss: 1.4119, Train Acc: 0.4634, Val Acc: 0.4580\n",
      "INFO:root:Batch: 001, Train Loss: 1.3561\n",
      "INFO:root:Epoch: 004, Train Loss: 1.3561, Train Acc: 0.4669, Val Acc: 0.4662\n",
      "INFO:root:Batch: 001, Train Loss: 1.3101\n",
      "INFO:root:Epoch: 005, Train Loss: 1.3101, Train Acc: 0.4518, Val Acc: 0.4508\n",
      "INFO:root:Batch: 001, Train Loss: 1.2609\n",
      "INFO:root:Epoch: 006, Train Loss: 1.2609, Train Acc: 0.4579, Val Acc: 0.4585\n",
      "INFO:root:Batch: 001, Train Loss: 1.2199\n",
      "INFO:root:Epoch: 007, Train Loss: 1.2199, Train Acc: 0.4600, Val Acc: 0.4430\n",
      "INFO:root:Batch: 001, Train Loss: 1.1773\n",
      "INFO:root:Epoch: 008, Train Loss: 1.1773, Train Acc: 0.4612, Val Acc: 0.4571\n",
      "INFO:root:Batch: 001, Train Loss: 1.1427\n",
      "INFO:root:Epoch: 009, Train Loss: 1.1427, Train Acc: 0.4566, Val Acc: 0.4589\n",
      "INFO:root:Batch: 001, Train Loss: 1.1019\n",
      "INFO:root:Epoch: 010, Train Loss: 1.1019, Train Acc: 0.4599, Val Acc: 0.4592\n",
      "INFO:root:Batch: 001, Train Loss: 1.0853\n",
      "INFO:root:Epoch: 011, Train Loss: 1.0853, Train Acc: 0.4779, Val Acc: 0.4579\n",
      "INFO:root:Batch: 001, Train Loss: 1.0731\n",
      "INFO:root:Epoch: 012, Train Loss: 1.0731, Train Acc: 0.5006, Val Acc: 0.4686\n",
      "INFO:root:Batch: 001, Train Loss: 1.0526\n",
      "INFO:root:Epoch: 013, Train Loss: 1.0526, Train Acc: 0.5223, Val Acc: 0.5116\n",
      "INFO:root:Batch: 001, Train Loss: 1.0261\n",
      "INFO:root:Epoch: 014, Train Loss: 1.0261, Train Acc: 0.5566, Val Acc: 0.5227\n",
      "INFO:root:Batch: 001, Train Loss: 1.0216\n",
      "INFO:root:Epoch: 015, Train Loss: 1.0216, Train Acc: 0.5403, Val Acc: 0.5351\n",
      "INFO:root:Batch: 001, Train Loss: 1.0070\n",
      "INFO:root:Epoch: 016, Train Loss: 1.0070, Train Acc: 0.5363, Val Acc: 0.5374\n",
      "INFO:root:Batch: 001, Train Loss: 0.9907\n",
      "INFO:root:Epoch: 017, Train Loss: 0.9907, Train Acc: 0.5408, Val Acc: 0.5359\n",
      "INFO:root:Batch: 001, Train Loss: 0.9812\n",
      "INFO:root:Epoch: 018, Train Loss: 0.9812, Train Acc: 0.5492, Val Acc: 0.5360\n",
      "INFO:root:Batch: 001, Train Loss: 0.9750\n",
      "INFO:root:Epoch: 019, Train Loss: 0.9750, Train Acc: 0.5418, Val Acc: 0.5436\n",
      "INFO:root:Batch: 001, Train Loss: 0.9638\n",
      "INFO:root:Epoch: 020, Train Loss: 0.9638, Train Acc: 0.5378, Val Acc: 0.5485\n",
      "INFO:root:Batch: 001, Train Loss: 0.9526\n",
      "INFO:root:Epoch: 021, Train Loss: 0.9526, Train Acc: 0.5504, Val Acc: 0.5448\n",
      "INFO:root:Batch: 001, Train Loss: 0.9565\n",
      "INFO:root:Epoch: 022, Train Loss: 0.9565, Train Acc: 0.5454, Val Acc: 0.5450\n",
      "INFO:root:Batch: 001, Train Loss: 0.9500\n",
      "INFO:root:Epoch: 023, Train Loss: 0.9500, Train Acc: 0.5489, Val Acc: 0.5542\n",
      "INFO:root:Batch: 001, Train Loss: 0.9344\n",
      "INFO:root:Epoch: 024, Train Loss: 0.9344, Train Acc: 0.5554, Val Acc: 0.5527\n",
      "INFO:root:Batch: 001, Train Loss: 0.9436\n",
      "INFO:root:Epoch: 025, Train Loss: 0.9436, Train Acc: 0.5594, Val Acc: 0.5608\n",
      "INFO:root:Batch: 001, Train Loss: 0.9315\n",
      "INFO:root:Epoch: 026, Train Loss: 0.9315, Train Acc: 0.5566, Val Acc: 0.5686\n",
      "INFO:root:Batch: 001, Train Loss: 0.9310\n",
      "INFO:root:Epoch: 027, Train Loss: 0.9310, Train Acc: 0.5466, Val Acc: 0.5786\n",
      "INFO:root:Batch: 001, Train Loss: 0.9319\n",
      "INFO:root:Epoch: 028, Train Loss: 0.9319, Train Acc: 0.5546, Val Acc: 0.5857\n",
      "INFO:root:Batch: 001, Train Loss: 0.9352\n",
      "INFO:root:Epoch: 029, Train Loss: 0.9352, Train Acc: 0.5571, Val Acc: 0.5768\n",
      "INFO:root:Batch: 001, Train Loss: 0.9313\n",
      "INFO:root:Epoch: 030, Train Loss: 0.9313, Train Acc: 0.5731, Val Acc: 0.5828\n",
      "INFO:root:Batch: 001, Train Loss: 0.9179\n",
      "INFO:root:Epoch: 031, Train Loss: 0.9179, Train Acc: 0.5788, Val Acc: 0.5796\n",
      "INFO:root:Batch: 001, Train Loss: 0.9349\n",
      "INFO:root:Epoch: 032, Train Loss: 0.9349, Train Acc: 0.5626, Val Acc: 0.5854\n",
      "INFO:root:Batch: 001, Train Loss: 0.9104\n",
      "INFO:root:Epoch: 033, Train Loss: 0.9104, Train Acc: 0.5729, Val Acc: 0.5802\n",
      "INFO:root:Batch: 001, Train Loss: 0.9036\n",
      "INFO:root:Epoch: 034, Train Loss: 0.9036, Train Acc: 0.5689, Val Acc: 0.5877\n",
      "INFO:root:Batch: 001, Train Loss: 0.9155\n",
      "INFO:root:Epoch: 035, Train Loss: 0.9155, Train Acc: 0.5688, Val Acc: 0.5864\n",
      "INFO:root:Batch: 001, Train Loss: 0.9153\n",
      "INFO:root:Epoch: 036, Train Loss: 0.9153, Train Acc: 0.5783, Val Acc: 0.5737\n",
      "INFO:root:Batch: 001, Train Loss: 0.9026\n",
      "INFO:root:Epoch: 037, Train Loss: 0.9026, Train Acc: 0.5661, Val Acc: 0.5745\n",
      "INFO:root:Batch: 001, Train Loss: 0.9111\n",
      "INFO:root:Epoch: 038, Train Loss: 0.9111, Train Acc: 0.5625, Val Acc: 0.5823\n",
      "INFO:root:Batch: 001, Train Loss: 0.9140\n",
      "INFO:root:Epoch: 039, Train Loss: 0.9140, Train Acc: 0.5761, Val Acc: 0.5743\n",
      "INFO:root:Batch: 001, Train Loss: 0.9046\n",
      "INFO:root:Epoch: 040, Train Loss: 0.9046, Train Acc: 0.5770, Val Acc: 0.5821\n",
      "INFO:root:Batch: 001, Train Loss: 0.8955\n",
      "INFO:root:Epoch: 041, Train Loss: 0.8955, Train Acc: 0.5693, Val Acc: 0.5801\n",
      "INFO:root:Batch: 001, Train Loss: 0.8963\n",
      "INFO:root:Epoch: 042, Train Loss: 0.8963, Train Acc: 0.5729, Val Acc: 0.5932\n",
      "INFO:root:Batch: 001, Train Loss: 0.8736\n",
      "INFO:root:Epoch: 043, Train Loss: 0.8736, Train Acc: 0.5926, Val Acc: 0.5754\n",
      "INFO:root:Batch: 001, Train Loss: 0.9000\n",
      "INFO:root:Epoch: 044, Train Loss: 0.9000, Train Acc: 0.5704, Val Acc: 0.5713\n",
      "INFO:root:Batch: 001, Train Loss: 0.8849\n",
      "INFO:root:Epoch: 045, Train Loss: 0.8849, Train Acc: 0.5790, Val Acc: 0.5767\n",
      "INFO:root:Batch: 001, Train Loss: 0.8913\n",
      "INFO:root:Epoch: 046, Train Loss: 0.8913, Train Acc: 0.5853, Val Acc: 0.5938\n",
      "INFO:root:Batch: 001, Train Loss: 0.8834\n",
      "INFO:root:Epoch: 047, Train Loss: 0.8834, Train Acc: 0.5832, Val Acc: 0.5795\n",
      "INFO:root:Batch: 001, Train Loss: 0.8883\n",
      "INFO:root:Epoch: 048, Train Loss: 0.8883, Train Acc: 0.5819, Val Acc: 0.5753\n",
      "INFO:root:Batch: 001, Train Loss: 0.8815\n",
      "INFO:root:Epoch: 049, Train Loss: 0.8815, Train Acc: 0.5818, Val Acc: 0.5696\n",
      "INFO:root:Batch: 001, Train Loss: 0.8799\n",
      "INFO:root:Epoch: 050, Train Loss: 0.8799, Train Acc: 0.5796, Val Acc: 0.5732\n",
      "INFO:root:Batch: 001, Train Loss: 0.8802\n",
      "INFO:root:Epoch: 051, Train Loss: 0.8802, Train Acc: 0.5797, Val Acc: 0.5722\n",
      "INFO:root:Batch: 001, Train Loss: 0.8859\n",
      "INFO:root:Epoch: 052, Train Loss: 0.8859, Train Acc: 0.5787, Val Acc: 0.5951\n",
      "INFO:root:Batch: 001, Train Loss: 0.8873\n",
      "INFO:root:Epoch: 053, Train Loss: 0.8873, Train Acc: 0.5703, Val Acc: 0.5733\n",
      "INFO:root:Batch: 001, Train Loss: 0.8707\n",
      "INFO:root:Epoch: 054, Train Loss: 0.8707, Train Acc: 0.5852, Val Acc: 0.5681\n",
      "INFO:root:Batch: 001, Train Loss: 0.8749\n",
      "INFO:root:Epoch: 055, Train Loss: 0.8749, Train Acc: 0.5847, Val Acc: 0.5732\n",
      "INFO:root:Batch: 001, Train Loss: 0.8744\n",
      "INFO:root:Epoch: 056, Train Loss: 0.8744, Train Acc: 0.5782, Val Acc: 0.5830\n",
      "INFO:root:Batch: 001, Train Loss: 0.8696\n",
      "INFO:root:Epoch: 057, Train Loss: 0.8696, Train Acc: 0.5861, Val Acc: 0.5750\n",
      "INFO:root:Batch: 001, Train Loss: 0.8848\n",
      "INFO:root:Epoch: 058, Train Loss: 0.8848, Train Acc: 0.5809, Val Acc: 0.5810\n",
      "INFO:root:Batch: 001, Train Loss: 0.8748\n",
      "INFO:root:Epoch: 059, Train Loss: 0.8748, Train Acc: 0.5713, Val Acc: 0.5819\n",
      "INFO:root:Batch: 001, Train Loss: 0.8756\n",
      "INFO:root:Epoch: 060, Train Loss: 0.8756, Train Acc: 0.5809, Val Acc: 0.5781\n",
      "INFO:root:Batch: 001, Train Loss: 0.8787\n",
      "INFO:root:Epoch: 061, Train Loss: 0.8787, Train Acc: 0.5724, Val Acc: 0.5761\n",
      "INFO:root:Batch: 001, Train Loss: 0.8699\n",
      "INFO:root:Epoch: 062, Train Loss: 0.8699, Train Acc: 0.5827, Val Acc: 0.5830\n",
      "INFO:root:Batch: 001, Train Loss: 0.8705\n",
      "INFO:root:Epoch: 063, Train Loss: 0.8705, Train Acc: 0.5877, Val Acc: 0.5688\n",
      "INFO:root:Batch: 001, Train Loss: 0.8631\n",
      "INFO:root:Epoch: 064, Train Loss: 0.8631, Train Acc: 0.5864, Val Acc: 0.5735\n",
      "INFO:root:Batch: 001, Train Loss: 0.8620\n",
      "INFO:root:Epoch: 065, Train Loss: 0.8620, Train Acc: 0.5790, Val Acc: 0.5748\n",
      "INFO:root:Batch: 001, Train Loss: 0.8733\n",
      "INFO:root:Epoch: 066, Train Loss: 0.8733, Train Acc: 0.5847, Val Acc: 0.5921\n",
      "INFO:root:Batch: 001, Train Loss: 0.8604\n",
      "INFO:root:Epoch: 067, Train Loss: 0.8604, Train Acc: 0.5924, Val Acc: 0.5744\n",
      "INFO:root:Batch: 001, Train Loss: 0.8655\n",
      "INFO:root:Epoch: 068, Train Loss: 0.8655, Train Acc: 0.5811, Val Acc: 0.5817\n",
      "INFO:root:Batch: 001, Train Loss: 0.8676\n",
      "INFO:root:Epoch: 069, Train Loss: 0.8676, Train Acc: 0.5756, Val Acc: 0.5893\n",
      "INFO:root:Batch: 001, Train Loss: 0.8674\n",
      "INFO:root:Epoch: 070, Train Loss: 0.8674, Train Acc: 0.5795, Val Acc: 0.5681\n"
     ]
    },
    {
     "name": "stderr",
     "output_type": "stream",
     "text": [
      "INFO:root:Batch: 001, Train Loss: 0.8624\n",
      "INFO:root:Epoch: 071, Train Loss: 0.8624, Train Acc: 0.5931, Val Acc: 0.5721\n",
      "INFO:root:Batch: 001, Train Loss: 0.8581\n",
      "INFO:root:Epoch: 072, Train Loss: 0.8581, Train Acc: 0.5851, Val Acc: 0.5773\n",
      "INFO:root:Batch: 001, Train Loss: 0.8592\n",
      "INFO:root:Epoch: 073, Train Loss: 0.8592, Train Acc: 0.5816, Val Acc: 0.5796\n",
      "INFO:root:Batch: 001, Train Loss: 0.8702\n",
      "INFO:root:Epoch: 074, Train Loss: 0.8702, Train Acc: 0.5734, Val Acc: 0.5828\n",
      "INFO:root:Batch: 001, Train Loss: 0.8685\n",
      "INFO:root:Epoch: 075, Train Loss: 0.8685, Train Acc: 0.5746, Val Acc: 0.5751\n",
      "INFO:root:Batch: 001, Train Loss: 0.8757\n",
      "INFO:root:Epoch: 076, Train Loss: 0.8757, Train Acc: 0.5754, Val Acc: 0.5796\n",
      "INFO:root:Batch: 001, Train Loss: 0.8533\n",
      "INFO:root:Epoch: 077, Train Loss: 0.8533, Train Acc: 0.5844, Val Acc: 0.5796\n",
      "INFO:root:Batch: 001, Train Loss: 0.8638\n",
      "INFO:root:Epoch: 078, Train Loss: 0.8638, Train Acc: 0.5847, Val Acc: 0.5845\n",
      "INFO:root:Batch: 001, Train Loss: 0.8712\n",
      "INFO:root:Epoch: 079, Train Loss: 0.8712, Train Acc: 0.5808, Val Acc: 0.5813\n",
      "INFO:root:Batch: 001, Train Loss: 0.8612\n",
      "INFO:root:Epoch: 080, Train Loss: 0.8612, Train Acc: 0.5765, Val Acc: 0.5795\n",
      "INFO:root:Batch: 001, Train Loss: 0.8587\n",
      "INFO:root:Epoch: 081, Train Loss: 0.8587, Train Acc: 0.5757, Val Acc: 0.5734\n",
      "INFO:root:Batch: 001, Train Loss: 0.8563\n",
      "INFO:root:Epoch: 082, Train Loss: 0.8563, Train Acc: 0.5881, Val Acc: 0.5830\n",
      "INFO:root:Batch: 001, Train Loss: 0.8733\n",
      "INFO:root:Epoch: 083, Train Loss: 0.8733, Train Acc: 0.5757, Val Acc: 0.5842\n",
      "INFO:root:Batch: 001, Train Loss: 0.8617\n",
      "INFO:root:Epoch: 084, Train Loss: 0.8617, Train Acc: 0.5919, Val Acc: 0.5870\n",
      "INFO:root:Batch: 001, Train Loss: 0.8613\n",
      "INFO:root:Epoch: 085, Train Loss: 0.8613, Train Acc: 0.5714, Val Acc: 0.5788\n",
      "INFO:root:Batch: 001, Train Loss: 0.8585\n",
      "INFO:root:Epoch: 086, Train Loss: 0.8585, Train Acc: 0.5917, Val Acc: 0.5899\n",
      "INFO:root:Batch: 001, Train Loss: 0.8456\n",
      "INFO:root:Epoch: 087, Train Loss: 0.8456, Train Acc: 0.5870, Val Acc: 0.5874\n",
      "INFO:root:Batch: 001, Train Loss: 0.8585\n",
      "INFO:root:Epoch: 088, Train Loss: 0.8585, Train Acc: 0.5821, Val Acc: 0.5764\n",
      "INFO:root:Batch: 001, Train Loss: 0.8513\n",
      "INFO:root:Epoch: 089, Train Loss: 0.8513, Train Acc: 0.5824, Val Acc: 0.5813\n",
      "INFO:root:Batch: 001, Train Loss: 0.8556\n",
      "INFO:root:Epoch: 090, Train Loss: 0.8556, Train Acc: 0.5797, Val Acc: 0.5824\n",
      "INFO:root:Batch: 001, Train Loss: 0.8519\n",
      "INFO:root:Epoch: 091, Train Loss: 0.8519, Train Acc: 0.5814, Val Acc: 0.5868\n",
      "INFO:root:Batch: 001, Train Loss: 0.8665\n",
      "INFO:root:Epoch: 092, Train Loss: 0.8665, Train Acc: 0.5818, Val Acc: 0.5935\n",
      "INFO:root:Batch: 001, Train Loss: 0.8563\n",
      "INFO:root:Epoch: 093, Train Loss: 0.8563, Train Acc: 0.5810, Val Acc: 0.5850\n",
      "INFO:root:Batch: 001, Train Loss: 0.8566\n",
      "INFO:root:Epoch: 094, Train Loss: 0.8566, Train Acc: 0.5884, Val Acc: 0.5861\n",
      "INFO:root:Batch: 001, Train Loss: 0.8511\n",
      "INFO:root:Epoch: 095, Train Loss: 0.8511, Train Acc: 0.5846, Val Acc: 0.5845\n",
      "INFO:root:Batch: 001, Train Loss: 0.8551\n",
      "INFO:root:Epoch: 096, Train Loss: 0.8551, Train Acc: 0.5849, Val Acc: 0.5841\n",
      "INFO:root:Batch: 001, Train Loss: 0.8573\n",
      "INFO:root:Epoch: 097, Train Loss: 0.8573, Train Acc: 0.5791, Val Acc: 0.5854\n",
      "INFO:root:Batch: 001, Train Loss: 0.8534\n",
      "INFO:root:Epoch: 098, Train Loss: 0.8534, Train Acc: 0.5881, Val Acc: 0.5846\n",
      "INFO:root:Batch: 001, Train Loss: 0.8715\n",
      "INFO:root:Epoch: 099, Train Loss: 0.8715, Train Acc: 0.5768, Val Acc: 0.5867\n",
      "INFO:root:Batch: 001, Train Loss: 0.8535\n",
      "INFO:root:Epoch: 100, Train Loss: 0.8535, Train Acc: 0.5860, Val Acc: 0.5948\n"
     ]
    }
   ],
   "source": [
    "reset_params(model)\n",
    "num_epochs = 100\n",
    "train_loss_lst, val_acc_lst, train_acc_lst = [], [], []\n",
    "\n",
    "# Set up Focal loss\n",
    "gamma = 1\n",
    "floss = FocalLoss(gamma=gamma, reduction='mean')\n",
    "\n",
    "for epoch in range(1, 101):\n",
    "    train_loss, train_acc = train(model, train_loader, optimizer, loss_fcn=floss)\n",
    "    val_acc = test(model, val_loader)\n",
    "    logging.info(f\"Epoch: {epoch:03d}, Train Loss: {train_loss:.4f}, Train Acc: {train_acc:.4f}, Val Acc: {val_acc:.4f}\")\n",
    "    train_loss_lst.append(train_loss)\n",
    "    train_acc_lst.append(train_acc)\n",
    "    val_acc_lst.append(val_acc)"
   ]
  },
  {
   "cell_type": "markdown",
   "metadata": {},
   "source": [
    "### Question: why is this constant for any max_jets\n",
    "Need to delete the .pt files in the \"processed\" folder"
   ]
  },
  {
   "cell_type": "code",
   "execution_count": 23,
   "metadata": {
    "ExecuteTime": {
     "end_time": "2022-09-15T21:09:33.013383Z",
     "start_time": "2022-09-15T21:09:32.574265Z"
    }
   },
   "outputs": [
    {
     "data": {
      "image/png": "[encoded data removed]",
      "text/plain": [
       "<Figure size 864x432 with 1 Axes>"
      ]
     },
     "metadata": {
      "needs_background": "light"
     },
     "output_type": "display_data"
    }
   ],
   "source": [
    "fig, ax = plt.subplots(figsize=(12, 6))\n",
    "marker_size = 3\n",
    "plt.plot(train_loss_lst, \"r.\", markersize=marker_size, label=\"training loss\")\n",
    "plt.plot(train_acc_lst, \"b.\", markersize=marker_size, label=\"training acc\")\n",
    "plt.plot(val_acc_lst, \"g.\",markersize=marker_size, label=\"val acc\")\n",
    "plt.xlabel(\"Epochs\", fontsize=18)\n",
    "# plt.ylabel(\"value of params\", rotation=90, fontsize=18)\n",
    "plt.legend(loc=\"best\", fontsize=10)\n",
    "# plt.xlim([200, 500])\n",
    "plt.show()"
   ]
  },
  {
   "cell_type": "markdown",
   "metadata": {},
   "source": [
    "### Obtain predicted probabilities"
   ]
  },
  {
   "cell_type": "code",
   "execution_count": 37,
   "metadata": {
    "ExecuteTime": {
     "end_time": "2022-09-15T21:15:46.112038Z",
     "start_time": "2022-09-15T21:15:44.997489Z"
    }
   },
   "outputs": [
    {
     "ename": "RuntimeError",
     "evalue": "CUDA out of memory. Tried to allocate 518.00 MiB (GPU 0; 7.93 GiB total capacity; 6.98 GiB already allocated; 226.50 MiB free; 7.19 GiB reserved in total by PyTorch) If reserved memory is >> allocated memory try setting max_split_size_mb to avoid fragmentation.  See documentation for Memory Management and PYTORCH_CUDA_ALLOC_CONF",
     "output_type": "error",
     "traceback": [
      "\u001b[0;31m---------------------------------------------------------------------------\u001b[0m",
      "\u001b[0;31mRuntimeError\u001b[0m                              Traceback (most recent call last)",
      "Input \u001b[0;32mIn [37]\u001b[0m, in \u001b[0;36m<cell line: 1>\u001b[0;34m()\u001b[0m\n\u001b[0;32m----> 1\u001b[0m out \u001b[38;5;241m=\u001b[39m \u001b[43mtest\u001b[49m\u001b[43m(\u001b[49m\u001b[43mmodel\u001b[49m\u001b[43m,\u001b[49m\u001b[43m \u001b[49m\u001b[43mval_loader\u001b[49m\u001b[43m,\u001b[49m\u001b[43m \u001b[49m\u001b[43moutput_pred\u001b[49m\u001b[38;5;241;43m=\u001b[39;49m\u001b[38;5;28;43;01mTrue\u001b[39;49;00m\u001b[43m)\u001b[49m\n\u001b[1;32m      2\u001b[0m pred \u001b[38;5;241m=\u001b[39m out[supervision_mask]\u001b[38;5;241m.\u001b[39margmax(dim\u001b[38;5;241m=\u001b[39m\u001b[38;5;241m-\u001b[39m\u001b[38;5;241m1\u001b[39m)\n\u001b[1;32m      3\u001b[0m test_acc \u001b[38;5;241m=\u001b[39m \u001b[38;5;28mint\u001b[39m((pred \u001b[38;5;241m==\u001b[39m data\u001b[38;5;241m.\u001b[39my[supervision_mask])\u001b[38;5;241m.\u001b[39msum()) \u001b[38;5;241m/\u001b[39m pred\u001b[38;5;241m.\u001b[39msize(\u001b[38;5;241m0\u001b[39m)\n",
      "File \u001b[0;32m/opt/conda/lib/python3.9/site-packages/torch/autograd/grad_mode.py:27\u001b[0m, in \u001b[0;36m_DecoratorContextManager.__call__.<locals>.decorate_context\u001b[0;34m(*args, **kwargs)\u001b[0m\n\u001b[1;32m     24\u001b[0m \u001b[38;5;129m@functools\u001b[39m\u001b[38;5;241m.\u001b[39mwraps(func)\n\u001b[1;32m     25\u001b[0m \u001b[38;5;28;01mdef\u001b[39;00m \u001b[38;5;21mdecorate_context\u001b[39m(\u001b[38;5;241m*\u001b[39margs, \u001b[38;5;241m*\u001b[39m\u001b[38;5;241m*\u001b[39mkwargs):\n\u001b[1;32m     26\u001b[0m     \u001b[38;5;28;01mwith\u001b[39;00m \u001b[38;5;28mself\u001b[39m\u001b[38;5;241m.\u001b[39mclone():\n\u001b[0;32m---> 27\u001b[0m         \u001b[38;5;28;01mreturn\u001b[39;00m \u001b[43mfunc\u001b[49m\u001b[43m(\u001b[49m\u001b[38;5;241;43m*\u001b[39;49m\u001b[43margs\u001b[49m\u001b[43m,\u001b[49m\u001b[43m \u001b[49m\u001b[38;5;241;43m*\u001b[39;49m\u001b[38;5;241;43m*\u001b[39;49m\u001b[43mkwargs\u001b[49m\u001b[43m)\u001b[49m\n",
      "Input \u001b[0;32mIn [33]\u001b[0m, in \u001b[0;36mtest\u001b[0;34m(model, loader, label_rate, output_pred)\u001b[0m\n\u001b[1;32m     10\u001b[0m propagation_mask \u001b[38;5;241m=\u001b[39m MaskLabel\u001b[38;5;241m.\u001b[39mratio_mask(test_mask, ratio\u001b[38;5;241m=\u001b[39mlabel_rate)\n\u001b[1;32m     11\u001b[0m supervision_mask \u001b[38;5;241m=\u001b[39m test_mask \u001b[38;5;241m^\u001b[39m propagation_mask\n\u001b[0;32m---> 13\u001b[0m out \u001b[38;5;241m=\u001b[39m \u001b[43mmodel\u001b[49m\u001b[43m(\u001b[49m\u001b[43mdata\u001b[49m\u001b[38;5;241;43m.\u001b[39;49m\u001b[43mx\u001b[49m\u001b[43m,\u001b[49m\u001b[43m \u001b[49m\u001b[43mdata\u001b[49m\u001b[38;5;241;43m.\u001b[39;49m\u001b[43my\u001b[49m\u001b[43m,\u001b[49m\u001b[43m \u001b[49m\u001b[43mdata\u001b[49m\u001b[38;5;241;43m.\u001b[39;49m\u001b[43medge_index\u001b[49m\u001b[43m,\u001b[49m\u001b[43m \u001b[49m\u001b[43mpropagation_mask\u001b[49m\u001b[43m)\u001b[49m\n\u001b[1;32m     14\u001b[0m pred \u001b[38;5;241m=\u001b[39m out[supervision_mask]\u001b[38;5;241m.\u001b[39margmax(dim\u001b[38;5;241m=\u001b[39m\u001b[38;5;241m-\u001b[39m\u001b[38;5;241m1\u001b[39m)\n\u001b[1;32m     15\u001b[0m sum_true \u001b[38;5;241m+\u001b[39m\u001b[38;5;241m=\u001b[39m \u001b[38;5;28mint\u001b[39m((pred \u001b[38;5;241m==\u001b[39m data\u001b[38;5;241m.\u001b[39my[supervision_mask])\u001b[38;5;241m.\u001b[39msum())\n",
      "File \u001b[0;32m/opt/conda/lib/python3.9/site-packages/torch/nn/modules/module.py:1130\u001b[0m, in \u001b[0;36mModule._call_impl\u001b[0;34m(self, *input, **kwargs)\u001b[0m\n\u001b[1;32m   1126\u001b[0m \u001b[38;5;66;03m# If we don't have any hooks, we want to skip the rest of the logic in\u001b[39;00m\n\u001b[1;32m   1127\u001b[0m \u001b[38;5;66;03m# this function, and just call forward.\u001b[39;00m\n\u001b[1;32m   1128\u001b[0m \u001b[38;5;28;01mif\u001b[39;00m \u001b[38;5;129;01mnot\u001b[39;00m (\u001b[38;5;28mself\u001b[39m\u001b[38;5;241m.\u001b[39m_backward_hooks \u001b[38;5;129;01mor\u001b[39;00m \u001b[38;5;28mself\u001b[39m\u001b[38;5;241m.\u001b[39m_forward_hooks \u001b[38;5;129;01mor\u001b[39;00m \u001b[38;5;28mself\u001b[39m\u001b[38;5;241m.\u001b[39m_forward_pre_hooks \u001b[38;5;129;01mor\u001b[39;00m _global_backward_hooks\n\u001b[1;32m   1129\u001b[0m         \u001b[38;5;129;01mor\u001b[39;00m _global_forward_hooks \u001b[38;5;129;01mor\u001b[39;00m _global_forward_pre_hooks):\n\u001b[0;32m-> 1130\u001b[0m     \u001b[38;5;28;01mreturn\u001b[39;00m \u001b[43mforward_call\u001b[49m\u001b[43m(\u001b[49m\u001b[38;5;241;43m*\u001b[39;49m\u001b[38;5;28;43minput\u001b[39;49m\u001b[43m,\u001b[49m\u001b[43m \u001b[49m\u001b[38;5;241;43m*\u001b[39;49m\u001b[38;5;241;43m*\u001b[39;49m\u001b[43mkwargs\u001b[49m\u001b[43m)\u001b[49m\n\u001b[1;32m   1131\u001b[0m \u001b[38;5;66;03m# Do not call functions when jit is used\u001b[39;00m\n\u001b[1;32m   1132\u001b[0m full_backward_hooks, non_full_backward_hooks \u001b[38;5;241m=\u001b[39m [], []\n",
      "File \u001b[0;32m/ssl-jet-vol/semi-supervised-tests/Jupyter/../src/models/unimp_model.py:45\u001b[0m, in \u001b[0;36mUniMP.forward\u001b[0;34m(self, x, y, edge_index, label_mask)\u001b[0m\n\u001b[1;32m     43\u001b[0m x \u001b[38;5;241m=\u001b[39m \u001b[38;5;28mself\u001b[39m\u001b[38;5;241m.\u001b[39mlabel_emb(x, y, label_mask)\n\u001b[1;32m     44\u001b[0m \u001b[38;5;28;01mfor\u001b[39;00m conv, norm \u001b[38;5;129;01min\u001b[39;00m \u001b[38;5;28mzip\u001b[39m(\u001b[38;5;28mself\u001b[39m\u001b[38;5;241m.\u001b[39mconvs, \u001b[38;5;28mself\u001b[39m\u001b[38;5;241m.\u001b[39mnorms):\n\u001b[0;32m---> 45\u001b[0m     x \u001b[38;5;241m=\u001b[39m norm(\u001b[43mconv\u001b[49m\u001b[43m(\u001b[49m\u001b[43mx\u001b[49m\u001b[43m,\u001b[49m\u001b[43m \u001b[49m\u001b[43medge_index\u001b[49m\u001b[43m)\u001b[49m)\u001b[38;5;241m.\u001b[39mrelu()\n\u001b[1;32m     46\u001b[0m \u001b[38;5;28;01mreturn\u001b[39;00m \u001b[38;5;28mself\u001b[39m\u001b[38;5;241m.\u001b[39mconvs[\u001b[38;5;241m-\u001b[39m\u001b[38;5;241m1\u001b[39m](x, edge_index)\n",
      "File \u001b[0;32m/opt/conda/lib/python3.9/site-packages/torch/nn/modules/module.py:1130\u001b[0m, in \u001b[0;36mModule._call_impl\u001b[0;34m(self, *input, **kwargs)\u001b[0m\n\u001b[1;32m   1126\u001b[0m \u001b[38;5;66;03m# If we don't have any hooks, we want to skip the rest of the logic in\u001b[39;00m\n\u001b[1;32m   1127\u001b[0m \u001b[38;5;66;03m# this function, and just call forward.\u001b[39;00m\n\u001b[1;32m   1128\u001b[0m \u001b[38;5;28;01mif\u001b[39;00m \u001b[38;5;129;01mnot\u001b[39;00m (\u001b[38;5;28mself\u001b[39m\u001b[38;5;241m.\u001b[39m_backward_hooks \u001b[38;5;129;01mor\u001b[39;00m \u001b[38;5;28mself\u001b[39m\u001b[38;5;241m.\u001b[39m_forward_hooks \u001b[38;5;129;01mor\u001b[39;00m \u001b[38;5;28mself\u001b[39m\u001b[38;5;241m.\u001b[39m_forward_pre_hooks \u001b[38;5;129;01mor\u001b[39;00m _global_backward_hooks\n\u001b[1;32m   1129\u001b[0m         \u001b[38;5;129;01mor\u001b[39;00m _global_forward_hooks \u001b[38;5;129;01mor\u001b[39;00m _global_forward_pre_hooks):\n\u001b[0;32m-> 1130\u001b[0m     \u001b[38;5;28;01mreturn\u001b[39;00m \u001b[43mforward_call\u001b[49m\u001b[43m(\u001b[49m\u001b[38;5;241;43m*\u001b[39;49m\u001b[38;5;28;43minput\u001b[39;49m\u001b[43m,\u001b[49m\u001b[43m \u001b[49m\u001b[38;5;241;43m*\u001b[39;49m\u001b[38;5;241;43m*\u001b[39;49m\u001b[43mkwargs\u001b[49m\u001b[43m)\u001b[49m\n\u001b[1;32m   1131\u001b[0m \u001b[38;5;66;03m# Do not call functions when jit is used\u001b[39;00m\n\u001b[1;32m   1132\u001b[0m full_backward_hooks, non_full_backward_hooks \u001b[38;5;241m=\u001b[39m [], []\n",
      "File \u001b[0;32m/opt/conda/lib/python3.9/site-packages/torch_geometric/nn/conv/transformer_conv.py:176\u001b[0m, in \u001b[0;36mTransformerConv.forward\u001b[0;34m(self, x, edge_index, edge_attr, return_attention_weights)\u001b[0m\n\u001b[1;32m    173\u001b[0m value \u001b[38;5;241m=\u001b[39m \u001b[38;5;28mself\u001b[39m\u001b[38;5;241m.\u001b[39mlin_value(x[\u001b[38;5;241m0\u001b[39m])\u001b[38;5;241m.\u001b[39mview(\u001b[38;5;241m-\u001b[39m\u001b[38;5;241m1\u001b[39m, H, C)\n\u001b[1;32m    175\u001b[0m \u001b[38;5;66;03m# propagate_type: (query: Tensor, key:Tensor, value: Tensor, edge_attr: OptTensor) # noqa\u001b[39;00m\n\u001b[0;32m--> 176\u001b[0m out \u001b[38;5;241m=\u001b[39m \u001b[38;5;28;43mself\u001b[39;49m\u001b[38;5;241;43m.\u001b[39;49m\u001b[43mpropagate\u001b[49m\u001b[43m(\u001b[49m\u001b[43medge_index\u001b[49m\u001b[43m,\u001b[49m\u001b[43m \u001b[49m\u001b[43mquery\u001b[49m\u001b[38;5;241;43m=\u001b[39;49m\u001b[43mquery\u001b[49m\u001b[43m,\u001b[49m\u001b[43m \u001b[49m\u001b[43mkey\u001b[49m\u001b[38;5;241;43m=\u001b[39;49m\u001b[43mkey\u001b[49m\u001b[43m,\u001b[49m\u001b[43m \u001b[49m\u001b[43mvalue\u001b[49m\u001b[38;5;241;43m=\u001b[39;49m\u001b[43mvalue\u001b[49m\u001b[43m,\u001b[49m\n\u001b[1;32m    177\u001b[0m \u001b[43m                     \u001b[49m\u001b[43medge_attr\u001b[49m\u001b[38;5;241;43m=\u001b[39;49m\u001b[43medge_attr\u001b[49m\u001b[43m,\u001b[49m\u001b[43m \u001b[49m\u001b[43msize\u001b[49m\u001b[38;5;241;43m=\u001b[39;49m\u001b[38;5;28;43;01mNone\u001b[39;49;00m\u001b[43m)\u001b[49m\n\u001b[1;32m    179\u001b[0m alpha \u001b[38;5;241m=\u001b[39m \u001b[38;5;28mself\u001b[39m\u001b[38;5;241m.\u001b[39m_alpha\n\u001b[1;32m    180\u001b[0m \u001b[38;5;28mself\u001b[39m\u001b[38;5;241m.\u001b[39m_alpha \u001b[38;5;241m=\u001b[39m \u001b[38;5;28;01mNone\u001b[39;00m\n",
      "File \u001b[0;32m/opt/conda/lib/python3.9/site-packages/torch_geometric/nn/conv/message_passing.py:368\u001b[0m, in \u001b[0;36mMessagePassing.propagate\u001b[0;34m(self, edge_index, size, **kwargs)\u001b[0m\n\u001b[1;32m    365\u001b[0m     \u001b[38;5;28;01mfor\u001b[39;00m arg \u001b[38;5;129;01min\u001b[39;00m decomp_args:\n\u001b[1;32m    366\u001b[0m         kwargs[arg] \u001b[38;5;241m=\u001b[39m decomp_kwargs[arg][i]\n\u001b[0;32m--> 368\u001b[0m coll_dict \u001b[38;5;241m=\u001b[39m \u001b[38;5;28;43mself\u001b[39;49m\u001b[38;5;241;43m.\u001b[39;49m\u001b[43m__collect__\u001b[49m\u001b[43m(\u001b[49m\u001b[38;5;28;43mself\u001b[39;49m\u001b[38;5;241;43m.\u001b[39;49m\u001b[43m__user_args__\u001b[49m\u001b[43m,\u001b[49m\u001b[43m \u001b[49m\u001b[43medge_index\u001b[49m\u001b[43m,\u001b[49m\n\u001b[1;32m    369\u001b[0m \u001b[43m                             \u001b[49m\u001b[43msize\u001b[49m\u001b[43m,\u001b[49m\u001b[43m \u001b[49m\u001b[43mkwargs\u001b[49m\u001b[43m)\u001b[49m\n\u001b[1;32m    371\u001b[0m msg_kwargs \u001b[38;5;241m=\u001b[39m \u001b[38;5;28mself\u001b[39m\u001b[38;5;241m.\u001b[39minspector\u001b[38;5;241m.\u001b[39mdistribute(\u001b[38;5;124m'\u001b[39m\u001b[38;5;124mmessage\u001b[39m\u001b[38;5;124m'\u001b[39m, coll_dict)\n\u001b[1;32m    372\u001b[0m \u001b[38;5;28;01mfor\u001b[39;00m hook \u001b[38;5;129;01min\u001b[39;00m \u001b[38;5;28mself\u001b[39m\u001b[38;5;241m.\u001b[39m_message_forward_pre_hooks\u001b[38;5;241m.\u001b[39mvalues():\n",
      "File \u001b[0;32m/opt/conda/lib/python3.9/site-packages/torch_geometric/nn/conv/message_passing.py:262\u001b[0m, in \u001b[0;36mMessagePassing.__collect__\u001b[0;34m(self, args, edge_index, size, kwargs)\u001b[0m\n\u001b[1;32m    260\u001b[0m         \u001b[38;5;28;01mif\u001b[39;00m \u001b[38;5;28misinstance\u001b[39m(data, Tensor):\n\u001b[1;32m    261\u001b[0m             \u001b[38;5;28mself\u001b[39m\u001b[38;5;241m.\u001b[39m__set_size__(size, dim, data)\n\u001b[0;32m--> 262\u001b[0m             data \u001b[38;5;241m=\u001b[39m \u001b[38;5;28;43mself\u001b[39;49m\u001b[38;5;241;43m.\u001b[39;49m\u001b[43m__lift__\u001b[49m\u001b[43m(\u001b[49m\u001b[43mdata\u001b[49m\u001b[43m,\u001b[49m\u001b[43m \u001b[49m\u001b[43medge_index\u001b[49m\u001b[43m,\u001b[49m\u001b[43m \u001b[49m\u001b[43mdim\u001b[49m\u001b[43m)\u001b[49m\n\u001b[1;32m    264\u001b[0m         out[arg] \u001b[38;5;241m=\u001b[39m data\n\u001b[1;32m    266\u001b[0m \u001b[38;5;28;01mif\u001b[39;00m \u001b[38;5;28misinstance\u001b[39m(edge_index, Tensor):\n",
      "File \u001b[0;32m/opt/conda/lib/python3.9/site-packages/torch_geometric/nn/conv/message_passing.py:232\u001b[0m, in \u001b[0;36mMessagePassing.__lift__\u001b[0;34m(self, src, edge_index, dim)\u001b[0m\n\u001b[1;32m    230\u001b[0m \u001b[38;5;28;01mif\u001b[39;00m \u001b[38;5;28misinstance\u001b[39m(edge_index, Tensor):\n\u001b[1;32m    231\u001b[0m     index \u001b[38;5;241m=\u001b[39m edge_index[dim]\n\u001b[0;32m--> 232\u001b[0m     \u001b[38;5;28;01mreturn\u001b[39;00m \u001b[43msrc\u001b[49m\u001b[38;5;241;43m.\u001b[39;49m\u001b[43mindex_select\u001b[49m\u001b[43m(\u001b[49m\u001b[38;5;28;43mself\u001b[39;49m\u001b[38;5;241;43m.\u001b[39;49m\u001b[43mnode_dim\u001b[49m\u001b[43m,\u001b[49m\u001b[43m \u001b[49m\u001b[43mindex\u001b[49m\u001b[43m)\u001b[49m\n\u001b[1;32m    233\u001b[0m \u001b[38;5;28;01melif\u001b[39;00m \u001b[38;5;28misinstance\u001b[39m(edge_index, SparseTensor):\n\u001b[1;32m    234\u001b[0m     \u001b[38;5;28;01mif\u001b[39;00m dim \u001b[38;5;241m==\u001b[39m \u001b[38;5;241m1\u001b[39m:\n",
      "\u001b[0;31mRuntimeError\u001b[0m: CUDA out of memory. Tried to allocate 518.00 MiB (GPU 0; 7.93 GiB total capacity; 6.98 GiB already allocated; 226.50 MiB free; 7.19 GiB reserved in total by PyTorch) If reserved memory is >> allocated memory try setting max_split_size_mb to avoid fragmentation.  See documentation for Memory Management and PYTORCH_CUDA_ALLOC_CONF"
     ]
    }
   ],
   "source": [
    "out = test(model, val_loader, output_pred=True)\n",
    "pred = out[supervision_mask].argmax(dim=-1)\n",
    "test_acc = int((pred == data.y[supervision_mask]).sum()) / pred.size(0)\n",
    "m = torch.nn.Softmax(dim=1)\n",
    "out_norm = m(out)  # the predicted probabilities"
   ]
  },
  {
   "cell_type": "code",
   "execution_count": null,
   "metadata": {
    "ExecuteTime": {
     "end_time": "2022-09-07T22:13:13.092163Z",
     "start_time": "2022-09-07T22:13:13.092156Z"
    }
   },
   "outputs": [],
   "source": [
    "0 in pred"
   ]
  },
  {
   "cell_type": "code",
   "execution_count": null,
   "metadata": {
    "ExecuteTime": {
     "end_time": "2022-09-07T22:13:13.092709Z",
     "start_time": "2022-09-07T22:13:13.092701Z"
    }
   },
   "outputs": [],
   "source": [
    "1 in pred"
   ]
  },
  {
   "cell_type": "code",
   "execution_count": null,
   "metadata": {
    "ExecuteTime": {
     "end_time": "2022-09-07T22:13:13.093202Z",
     "start_time": "2022-09-07T22:13:13.093195Z"
    }
   },
   "outputs": [],
   "source": [
    "2 in pred"
   ]
  },
  {
   "cell_type": "code",
   "execution_count": null,
   "metadata": {
    "ExecuteTime": {
     "end_time": "2022-09-07T22:13:13.093804Z",
     "start_time": "2022-09-07T22:13:13.093796Z"
    }
   },
   "outputs": [],
   "source": [
    "3 in pred"
   ]
  },
  {
   "cell_type": "code",
   "execution_count": null,
   "metadata": {
    "ExecuteTime": {
     "end_time": "2022-09-07T22:13:13.094339Z",
     "start_time": "2022-09-07T22:13:13.094332Z"
    }
   },
   "outputs": [],
   "source": [
    "4 in pred"
   ]
  },
  {
   "cell_type": "markdown",
   "metadata": {},
   "source": [
    "The 5 cells above shows that the model ONLY predicted classes 2 (photon) and classes 3 (charged_hadron)"
   ]
  },
  {
   "cell_type": "markdown",
   "metadata": {},
   "source": [
    "### Plot class balance\n",
    "PDG_CLASSES = [\"electron\", \"muon\", \"photon\", \"charged_hadron\", \"neutral_hadron\"]"
   ]
  },
  {
   "cell_type": "code",
   "execution_count": null,
   "metadata": {
    "ExecuteTime": {
     "end_time": "2022-09-07T22:13:13.095004Z",
     "start_time": "2022-09-07T22:13:13.094997Z"
    }
   },
   "outputs": [],
   "source": [
    "classes = np.array([i for i in range(5)])\n",
    "PDG_CLASSES = [\"electron\", \"muon\", \"photon\", \"charged_hadron\", \"neutral_hadron\"]\n",
    "labels_training = data.y[train_mask].cpu().numpy()\n",
    "class_dict = plot_class_balance(classes, labels_training, PDG_CLASSES)"
   ]
  },
  {
   "cell_type": "code",
   "execution_count": null,
   "metadata": {
    "ExecuteTime": {
     "end_time": "2022-09-07T22:13:13.095902Z",
     "start_time": "2022-09-07T22:13:13.095894Z"
    }
   },
   "outputs": [],
   "source": [
    "sum(list(class_dict.values()))"
   ]
  },
  {
   "cell_type": "markdown",
   "metadata": {},
   "source": [
    "### Plot accuracy for each class"
   ]
  },
  {
   "cell_type": "code",
   "execution_count": null,
   "metadata": {
    "ExecuteTime": {
     "end_time": "2022-09-07T22:13:13.096473Z",
     "start_time": "2022-09-07T22:13:13.096465Z"
    }
   },
   "outputs": [],
   "source": [
    "labels_testing = data.y[test_mask].cpu().numpy()\n",
    "plot_class_balance_and_accuracy(class_dict, labels_testing, PDG_CLASSES, pred)"
   ]
  },
  {
   "cell_type": "markdown",
   "metadata": {},
   "source": [
    "### ROC Curve OvR for Muon"
   ]
  },
  {
   "cell_type": "code",
   "execution_count": null,
   "metadata": {
    "ExecuteTime": {
     "end_time": "2022-09-07T22:13:13.097021Z",
     "start_time": "2022-09-07T22:13:13.097014Z"
    }
   },
   "outputs": [],
   "source": [
    "classes = [1]\n",
    "class_labels = [\"muon\"]\n",
    "roc_auc_ovr = plot_overlayed_roc_curve(classes, data.y[test_mask], out_norm[test_mask][:, classes], class_labels, ncol=1)"
   ]
  },
  {
   "cell_type": "code",
   "execution_count": null,
   "metadata": {
    "ExecuteTime": {
     "end_time": "2022-09-07T22:13:13.097613Z",
     "start_time": "2022-09-07T22:13:13.097606Z"
    }
   },
   "outputs": [],
   "source": [
    "classes = np.array([i for i in range(5)])\n",
    "roc_auc_ovr = plot_overlayed_roc_curve(classes, data.y[test_mask], out_norm[test_mask][:, classes], PDG_CLASSES, ncol=1)"
   ]
  },
  {
   "cell_type": "code",
   "execution_count": null,
   "metadata": {
    "ExecuteTime": {
     "end_time": "2022-09-07T22:13:13.098147Z",
     "start_time": "2022-09-07T22:13:13.098141Z"
    }
   },
   "outputs": [],
   "source": [
    "classes = [2, 3]\n",
    "class_labels = [\"photon\", \"charged_hadron\"]\n",
    "plot_overlayed_roc_curve(classes, data.y[test_mask], out_norm[test_mask][:, classes], class_labels, ncol=1)"
   ]
  },
  {
   "cell_type": "code",
   "execution_count": null,
   "metadata": {
    "ExecuteTime": {
     "end_time": "2022-09-07T22:13:13.098906Z",
     "start_time": "2022-09-07T22:13:13.098899Z"
    }
   },
   "outputs": [],
   "source": [
    "# import seaborn as sns\n",
    "# from scipy import stats\n",
    "# def plot_roc_curve(tpr, fpr, scatter = True, ax = None):\n",
    "#     '''\n",
    "#     Plots the ROC Curve by using the list of coordinates (tpr and fpr).\n",
    "    \n",
    "#     Args:\n",
    "#         tpr: The list of TPRs representing each coordinate.\n",
    "#         fpr: The list of FPRs representing each coordinate.\n",
    "#         scatter: When True, the points used on the calculation will be plotted with the line (default = True).\n",
    "#     '''\n",
    "#     if ax == None:\n",
    "#         plt.figure(figsize = (5, 5))\n",
    "#         ax = plt.axes()\n",
    "    \n",
    "#     if scatter:\n",
    "#         sns.scatterplot(x = fpr, y = tpr, ax = ax)\n",
    "#     sns.lineplot(x = fpr, y = tpr, ax = ax)\n",
    "#     sns.lineplot(x = [0, 1], y = [0, 1], color = 'green', ax = ax)\n",
    "#     plt.xlim(-0.05, 1.05)\n",
    "#     plt.ylim(-0.05, 1.05)\n",
    "#     plt.xlabel(\"False Positive Rate\")\n",
    "#     plt.ylabel(\"True Positive Rate\")"
   ]
  },
  {
   "cell_type": "code",
   "execution_count": null,
   "metadata": {
    "ExecuteTime": {
     "end_time": "2022-09-07T22:13:13.099483Z",
     "start_time": "2022-09-07T22:13:13.099475Z"
    }
   },
   "outputs": [],
   "source": [
    "# # Plots the ROC Curves One vs Rest\n",
    "# plt.figure(figsize = (12, 3))\n",
    "# roc_auc_ovr = {}\n",
    "# predictions = out_norm[test_mask]\n",
    "# for i in range(len(classes)):  #for each of the classes\n",
    "#     # Gets the class\n",
    "#     c = classes[i]\n",
    "#     y_real = [1 if y == c else 0 for y in labels_testing]\n",
    "#     y_proba = predictions[:, i]\n",
    "#     tpr, fpr = get_all_roc_coordinates(y_real, y_proba.cpu())\n",
    "    \n",
    "#     # Calculates the ROC Coordinates and plots the ROC Curves\n",
    "#     ax_bottom = plt.subplot(1, 5, i+1)\n",
    "#     plot_roc_curve(tpr, fpr, scatter = False, ax = ax_bottom)\n",
    "#     ax_bottom.set_title(f\"ROC OvR {PDG_CLASSES[i]}\")\n",
    "    \n",
    "#     # Calculates the ROC AUC OvR\n",
    "#     roc_auc_ovr[c] = roc_auc_score(y_real, y_proba.detach().cpu())\n",
    "    \n",
    "# plt.tight_layout()"
   ]
  },
  {
   "cell_type": "code",
   "execution_count": null,
   "metadata": {
    "ExecuteTime": {
     "end_time": "2022-09-07T22:13:13.099966Z",
     "start_time": "2022-09-07T22:13:13.099959Z"
    }
   },
   "outputs": [],
   "source": [
    "plot_class_balance_and_AUC(class_dict, roc_auc_ovr, PDG_CLASSES)"
   ]
  },
  {
   "cell_type": "code",
   "execution_count": null,
   "metadata": {},
   "outputs": [],
   "source": []
  }
 ],
 "metadata": {
  "colab": {
   "name": "ssl-tests train_model.ipynb",
   "provenance": []
  },
  "kernelspec": {
   "display_name": "Python 3 (ipykernel)",
   "language": "python",
   "name": "python3"
  },
  "language_info": {
   "codemirror_mode": {
    "name": "ipython",
    "version": 3
   },
   "file_extension": ".py",
   "mimetype": "text/x-python",
   "name": "python",
   "nbconvert_exporter": "python",
   "pygments_lexer": "ipython3",
   "version": "3.9.10"
  }
 },
 "nbformat": 4,
 "nbformat_minor": 1
}
