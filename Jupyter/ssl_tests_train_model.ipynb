{
 "cells": [
  {
   "cell_type": "code",
   "execution_count": 1,
   "metadata": {
    "ExecuteTime": {
     "end_time": "2022-09-30T00:16:39.334782Z",
     "start_time": "2022-09-30T00:16:38.829375Z"
    }
   },
   "outputs": [
    {
     "name": "stdout",
     "output_type": "stream",
     "text": [
      "\n",
      "==============NVSMI LOG==============\n",
      "\n",
      "Timestamp                                 : Fri Sep 30 00:16:39 2022\n",
      "Driver Version                            : 510.54\n",
      "CUDA Version                              : 11.6\n",
      "\n",
      "Attached GPUs                             : 1\n",
      "GPU 00000000:64:00.0\n",
      "    Product Name                          : NVIDIA GeForce RTX 2080 Ti\n",
      "    Product Brand                         : GeForce\n",
      "    Product Architecture                  : Turing\n",
      "    Display Mode                          : Disabled\n",
      "    Display Active                        : Disabled\n",
      "    Persistence Mode                      : Enabled\n",
      "    MIG Mode\n",
      "        Current                           : N/A\n",
      "        Pending                           : N/A\n",
      "    Accounting Mode                       : Disabled\n",
      "    Accounting Mode Buffer Size           : 4000\n",
      "    Driver Model\n",
      "        Current                           : N/A\n",
      "        Pending                           : N/A\n",
      "    Serial Number                         : N/A\n",
      "    GPU UUID                              : GPU-19541ea5-1e05-e59e-0a7d-c3212560694e\n",
      "    Minor Number                          : 7\n",
      "    VBIOS Version                         : 90.02.17.00.7C\n",
      "    MultiGPU Board                        : No\n",
      "    Board ID                              : 0x6400\n",
      "    GPU Part Number                       : N/A\n",
      "    Module ID                             : 0\n",
      "    Inforom Version\n",
      "        Image Version                     : G001.0000.02.04\n",
      "        OEM Object                        : 1.1\n",
      "        ECC Object                        : N/A\n",
      "        Power Management Object           : N/A\n",
      "    GPU Operation Mode\n",
      "        Current                           : N/A\n",
      "        Pending                           : N/A\n",
      "    GSP Firmware Version                  : N/A\n",
      "    GPU Virtualization Mode\n",
      "        Virtualization Mode               : None\n",
      "        Host VGPU Mode                    : N/A\n",
      "    IBMNPU\n",
      "        Relaxed Ordering Mode             : N/A\n",
      "    PCI\n",
      "        Bus                               : 0x64\n",
      "        Device                            : 0x00\n",
      "        Domain                            : 0x0000\n",
      "        Device Id                         : 0x1E0410DE\n",
      "        Bus Id                            : 00000000:64:00.0\n",
      "        Sub System Id                     : 0x37C41458\n",
      "        GPU Link Info\n",
      "            PCIe Generation\n",
      "                Max                       : 3\n",
      "                Current                   : 1\n",
      "            Link Width\n",
      "                Max                       : 16x\n",
      "                Current                   : 16x\n",
      "        Bridge Chip\n",
      "            Type                          : N/A\n",
      "            Firmware                      : N/A\n",
      "        Replays Since Reset               : 0\n",
      "        Replay Number Rollovers           : 0\n",
      "        Tx Throughput                     : 0 KB/s\n",
      "        Rx Throughput                     : 0 KB/s\n",
      "    Fan Speed                             : 0 %\n",
      "    Performance State                     : P8\n",
      "    Clocks Throttle Reasons\n",
      "        Idle                              : Active\n",
      "        Applications Clocks Setting       : Not Active\n",
      "        SW Power Cap                      : Not Active\n",
      "        HW Slowdown                       : Not Active\n",
      "            HW Thermal Slowdown           : Not Active\n",
      "            HW Power Brake Slowdown       : Not Active\n",
      "        Sync Boost                        : Not Active\n",
      "        SW Thermal Slowdown               : Not Active\n",
      "        Display Clock Setting             : Not Active\n",
      "    FB Memory Usage\n",
      "        Total                             : 11264 MiB\n",
      "        Reserved                          : 244 MiB\n",
      "        Used                              : 0 MiB\n",
      "        Free                              : 11019 MiB\n",
      "    BAR1 Memory Usage\n",
      "        Total                             : 256 MiB\n",
      "        Used                              : 2 MiB\n",
      "        Free                              : 254 MiB\n",
      "    Compute Mode                          : Default\n",
      "    Utilization\n",
      "        Gpu                               : 0 %\n",
      "        Memory                            : 0 %\n",
      "        Encoder                           : 0 %\n",
      "        Decoder                           : 0 %\n",
      "    Encoder Stats\n",
      "        Active Sessions                   : 0\n",
      "        Average FPS                       : 0\n",
      "        Average Latency                   : 0\n",
      "    FBC Stats\n",
      "        Active Sessions                   : 0\n",
      "        Average FPS                       : 0\n",
      "        Average Latency                   : 0\n",
      "    Ecc Mode\n",
      "        Current                           : N/A\n",
      "        Pending                           : N/A\n",
      "    ECC Errors\n",
      "        Volatile\n",
      "            SRAM Correctable              : N/A\n",
      "            SRAM Uncorrectable            : N/A\n",
      "            DRAM Correctable              : N/A\n",
      "            DRAM Uncorrectable            : N/A\n",
      "        Aggregate\n",
      "            SRAM Correctable              : N/A\n",
      "            SRAM Uncorrectable            : N/A\n",
      "            DRAM Correctable              : N/A\n",
      "            DRAM Uncorrectable            : N/A\n",
      "    Retired Pages\n",
      "        Single Bit ECC                    : N/A\n",
      "        Double Bit ECC                    : N/A\n",
      "        Pending Page Blacklist            : N/A\n",
      "    Remapped Rows                         : N/A\n",
      "    Temperature\n",
      "        GPU Current Temp                  : 38 C\n",
      "        GPU Shutdown Temp                 : 94 C\n",
      "        GPU Slowdown Temp                 : 91 C\n",
      "        GPU Max Operating Temp            : 89 C\n",
      "        GPU Target Temperature            : 84 C\n",
      "        Memory Current Temp               : N/A\n",
      "        Memory Max Operating Temp         : N/A\n",
      "    Power Readings\n",
      "        Power Management                  : Supported\n",
      "        Power Draw                        : 29.97 W\n",
      "        Power Limit                       : 180.00 W\n",
      "        Default Power Limit               : 250.00 W\n",
      "        Enforced Power Limit              : 180.00 W\n",
      "        Min Power Limit                   : 100.00 W\n",
      "        Max Power Limit                   : 280.00 W\n",
      "    Clocks\n",
      "        Graphics                          : 300 MHz\n",
      "        SM                                : 300 MHz\n",
      "        Memory                            : 405 MHz\n",
      "        Video                             : 540 MHz\n",
      "    Applications Clocks\n",
      "        Graphics                          : N/A\n",
      "        Memory                            : N/A\n",
      "    Default Applications Clocks\n",
      "        Graphics                          : N/A\n",
      "        Memory                            : N/A\n",
      "    Max Clocks\n",
      "        Graphics                          : 2100 MHz\n",
      "        SM                                : 2100 MHz\n",
      "        Memory                            : 7000 MHz\n",
      "        Video                             : 1950 MHz\n",
      "    Max Customer Boost Clocks\n",
      "        Graphics                          : N/A\n",
      "    Clock Policy\n",
      "        Auto Boost                        : N/A\n",
      "        Auto Boost Default                : N/A\n",
      "    Voltage\n",
      "        Graphics                          : N/A\n",
      "    Processes                             : None\n",
      "\n"
     ]
    }
   ],
   "source": [
    "!nvidia-smi -q"
   ]
  },
  {
   "cell_type": "code",
   "execution_count": 2,
   "metadata": {
    "ExecuteTime": {
     "end_time": "2022-09-30T00:16:39.591051Z",
     "start_time": "2022-09-30T00:16:39.339949Z"
    }
   },
   "outputs": [
    {
     "name": "stdout",
     "output_type": "stream",
     "text": [
      "/ssl-jet-vol/semi-supervised-tests/Jupyter\r\n"
     ]
    }
   ],
   "source": [
    "!pwd"
   ]
  },
  {
   "cell_type": "code",
   "execution_count": 3,
   "metadata": {
    "ExecuteTime": {
     "end_time": "2022-09-30T00:16:47.004998Z",
     "start_time": "2022-09-30T00:16:39.597141Z"
    },
    "colab": {
     "base_uri": "https://localhost:8080/",
     "height": 1000
    },
    "id": "1OAfKz8Ys-W6",
    "outputId": "81b6db96-9b92-4941-ff58-35f0be0d8260"
   },
   "outputs": [
    {
     "name": "stderr",
     "output_type": "stream",
     "text": [
      "INFO:numexpr.utils:Note: NumExpr detected 64 cores but \"NUMEXPR_MAX_THREADS\" not set, so enforcing safe limit of 8.\n",
      "INFO:numexpr.utils:NumExpr defaulting to 8 threads.\n"
     ]
    }
   ],
   "source": [
    "import math\n",
    "import logging\n",
    "import copy\n",
    "import os.path as osp\n",
    "\n",
    "import torch\n",
    "import torch.nn.functional as F\n",
    "from torch_geometric.data import Batch\n",
    "from torch_geometric.loader import DataListLoader\n",
    "from torch_geometric.nn import TransformerConv\n",
    "from torch_geometric.utils import index_to_mask\n",
    "\n",
    "import sys\n",
    "sys.path.insert(0, '..')  #go up one directory\n",
    "from src.data.jetnet_graph import JetNetGraph\n",
    "from src.models.unimp_model import UniMP\n",
    "from src.models.mask_feature import MaskFeature\n",
    "from custom_libraries.my_functions import *\n",
    "from focal_loss import FocalLoss\n",
    "\n",
    "import pandas as pd\n",
    "import numpy as np\n",
    "import matplotlib.pyplot as plt\n",
    "import seaborn as sns\n",
    "from scipy import stats\n",
    "\n",
    "# To plot pretty figures\n",
    "%matplotlib inline\n",
    "import matplotlib as mpl\n",
    "import matplotlib.pyplot as plt\n",
    "mpl.rc('axes', labelsize=14)\n",
    "mpl.rc('xtick', labelsize=12)\n",
    "mpl.rc('ytick', labelsize=12)\n",
    "\n",
    "logging.basicConfig(level=logging.INFO)"
   ]
  },
  {
   "cell_type": "code",
   "execution_count": 4,
   "metadata": {
    "ExecuteTime": {
     "end_time": "2022-09-30T00:16:47.020402Z",
     "start_time": "2022-09-30T00:16:47.007559Z"
    }
   },
   "outputs": [],
   "source": [
    "def train(model, loader, optimizer, label_rate=0.85, loss_fcn=F.cross_entropy):\n",
    "    model.train()\n",
    "\n",
    "    sum_loss = 0\n",
    "    sum_true = 0\n",
    "    sum_all = 0\n",
    "    for i, data in enumerate(loader):\n",
    "        optimizer.zero_grad()\n",
    "\n",
    "        train_mask = torch.ones_like(data.x[:, 0], dtype=torch.bool)\n",
    "        propagation_mask = MaskFeature.ratio_mask(train_mask, ratio=label_rate)\n",
    "        supervision_mask = train_mask ^ propagation_mask\n",
    "\n",
    "        data = data.cuda()\n",
    "        out = model(data.x, data.y, data.edge_index, propagation_mask)\n",
    "        loss = loss_fcn(out[supervision_mask], data.y[supervision_mask])\n",
    "        loss.backward()\n",
    "        sum_loss += float(loss)\n",
    "        optimizer.step()\n",
    "\n",
    "        pred = out[supervision_mask].argmax(dim=-1)\n",
    "        sum_true += int((pred == data.y[supervision_mask]).sum())\n",
    "        sum_all += pred.size(0)\n",
    "        logging.info(f\"Batch: {i + 1:03d}, Train Loss: {sum_loss:.4f}\")\n",
    "\n",
    "    return float(sum_loss) / (i + 1), float(sum_true) / sum_all"
   ]
  },
  {
   "cell_type": "code",
   "execution_count": 5,
   "metadata": {
    "ExecuteTime": {
     "end_time": "2022-09-30T00:16:47.036968Z",
     "start_time": "2022-09-30T00:16:47.023656Z"
    }
   },
   "outputs": [],
   "source": [
    "@torch.no_grad()\n",
    "def test(model, loader, label_rate=0.85, output_pred=False):\n",
    "    model.eval()\n",
    "\n",
    "    sum_true = 0\n",
    "    sum_all = 0\n",
    "    out_lst, pred_lst, supervision_mask_lst, test_mask_lst = [], [], [], []\n",
    "    for data in loader:\n",
    "        data = data.cuda()\n",
    "        test_mask = torch.ones_like(data.x[:, 0], dtype=torch.bool)\n",
    "        propagation_mask = MaskFeature.ratio_mask(test_mask, ratio=label_rate, fix_seed=True)\n",
    "        supervision_mask = test_mask ^ propagation_mask\n",
    "\n",
    "        out = model(data.x, data.y, data.edge_index, propagation_mask)\n",
    "        pred = out[supervision_mask].argmax(dim=-1)\n",
    "        sum_true += int((pred == data.y[supervision_mask]).sum())\n",
    "        sum_all += pred.size(0)\n",
    "        \n",
    "        out_lst.append(out)\n",
    "        pred_lst.append(pred)\n",
    "        test_mask_lst.append(test_mask)\n",
    "        supervision_mask_lst.append(supervision_mask)\n",
    "    if output_pred:\n",
    "        return out_lst, pred_lst, float(sum_true) / sum_all, test_mask_lst, supervision_mask_lst\n",
    "    else:\n",
    "        return float(sum_true) / sum_all\n",
    "\n",
    "\n",
    "def collate_fn(items):\n",
    "    sum_list = sum(items, [])\n",
    "    return Batch.from_data_list(sum_list)"
   ]
  },
  {
   "cell_type": "code",
   "execution_count": 6,
   "metadata": {
    "ExecuteTime": {
     "end_time": "2022-09-30T00:16:47.059624Z",
     "start_time": "2022-09-30T00:16:47.041393Z"
    }
   },
   "outputs": [],
   "source": [
    "def reset_params(model):\n",
    "    for layer in model.children():\n",
    "        if hasattr(layer, 'reset_parameters'):\n",
    "            print(layer)\n",
    "            layer.reset_parameters()\n",
    "        else:\n",
    "            for sublayer in layer:\n",
    "                if hasattr(sublayer, 'reset_parameters'):\n",
    "                    print(sublayer)\n",
    "                    sublayer.reset_parameters()"
   ]
  },
  {
   "cell_type": "code",
   "execution_count": 7,
   "metadata": {
    "ExecuteTime": {
     "end_time": "2022-09-30T00:16:49.390964Z",
     "start_time": "2022-09-30T00:16:47.062879Z"
    }
   },
   "outputs": [
    {
     "name": "stdout",
     "output_type": "stream",
     "text": [
      "cuda\n"
     ]
    },
    {
     "name": "stderr",
     "output_type": "stream",
     "text": [
      "INFO:root:Model summary\n",
      "INFO:root:UniMP(\n",
      "  (label_emb): MaskLabel()\n",
      "  (convs): ModuleList(\n",
      "    (0): TransformerConv(3, 32, heads=2)\n",
      "    (1): TransformerConv(64, 32, heads=2)\n",
      "    (2): TransformerConv(64, 5, heads=2)\n",
      "  )\n",
      "  (norms): ModuleList(\n",
      "    (0): LayerNorm((64,), eps=1e-05, elementwise_affine=True)\n",
      "    (1): LayerNorm((64,), eps=1e-05, elementwise_affine=True)\n",
      "  )\n",
      ")\n"
     ]
    }
   ],
   "source": [
    "# train_root = osp.join(osp.dirname(osp.realpath(__file__)), \"..\", \"..\", \"data\", \"train\")\n",
    "# val_root = osp.join(osp.dirname(osp.realpath(__file__)), \"..\", \"..\", \"data\", \"val\")\n",
    "train_root = \"/ssl-jet-vol/semi-supervised-tests/Jupyter/data/train\"\n",
    "val_root = \"/ssl-jet-vol/semi-supervised-tests/Jupyter/data/val\"\n",
    "max_jets = 1000\n",
    "train_dataset = JetNetGraph(train_root, max_jets=max_jets, file_start=0, file_stop=1)\n",
    "val_dataset = JetNetGraph(val_root, max_jets=max_jets, file_start=1, file_stop=2)\n",
    "batch_size = 1  #1k jets\n",
    "\n",
    "device = torch.device(\"cuda\" if torch.cuda.is_available() else \"cpu\")\n",
    "print(device)\n",
    "\n",
    "train_loader = DataListLoader(train_dataset, batch_size=batch_size, pin_memory=True, shuffle=True)\n",
    "train_loader.collate_fn = collate_fn\n",
    "val_loader = DataListLoader(val_dataset, batch_size=batch_size, pin_memory=True, shuffle=False)\n",
    "val_loader.collate_fn = collate_fn\n",
    "\n",
    "model = UniMP(\n",
    "    in_channels=train_dataset.num_features,\n",
    "    num_classes=train_dataset.num_classes,\n",
    "    hidden_channels=64,\n",
    "    num_layers=3,\n",
    "    heads=2,\n",
    ").to(device)\n",
    "\n",
    "logging.info(\"Model summary\")\n",
    "logging.info(model)\n",
    "\n",
    "optimizer = torch.optim.Adam(model.parameters(), lr=0.001, weight_decay=0.0005)"
   ]
  },
  {
   "cell_type": "code",
   "execution_count": 8,
   "metadata": {
    "ExecuteTime": {
     "end_time": "2022-09-30T00:19:43.708834Z",
     "start_time": "2022-09-30T00:16:49.394096Z"
    },
    "id": "c_TB_JD3tH39"
   },
   "outputs": [
    {
     "name": "stdout",
     "output_type": "stream",
     "text": [
      "MaskLabel()\n",
      "TransformerConv(3, 32, heads=2)\n",
      "TransformerConv(64, 32, heads=2)\n",
      "TransformerConv(64, 5, heads=2)\n",
      "LayerNorm((64,), eps=1e-05, elementwise_affine=True)\n",
      "LayerNorm((64,), eps=1e-05, elementwise_affine=True)\n"
     ]
    },
    {
     "name": "stderr",
     "output_type": "stream",
     "text": [
      "INFO:root:Batch: 001, Train Loss: 1.1880\n",
      "INFO:root:Epoch: 001, Train Loss: 1.1880, Train Acc: 0.4269, Val Acc: 0.4902\n",
      "INFO:root:Epoch #1: Current validation metric: 0.49024 (best: 0.49024)\n",
      "INFO:root:Batch: 001, Train Loss: 1.0829\n",
      "INFO:root:Epoch: 002, Train Loss: 1.0829, Train Acc: 0.4729, Val Acc: 0.4958\n",
      "INFO:root:Epoch #2: Current validation metric: 0.49582 (best: 0.49582)\n",
      "INFO:root:Batch: 001, Train Loss: 0.9927\n",
      "INFO:root:Epoch: 003, Train Loss: 0.9927, Train Acc: 0.4781, Val Acc: 0.5009\n",
      "INFO:root:Epoch #3: Current validation metric: 0.50093 (best: 0.50093)\n",
      "INFO:root:Batch: 001, Train Loss: 0.9188\n",
      "INFO:root:Epoch: 004, Train Loss: 0.9188, Train Acc: 0.4799, Val Acc: 0.5076\n",
      "INFO:root:Epoch #4: Current validation metric: 0.50759 (best: 0.50759)\n",
      "INFO:root:Batch: 001, Train Loss: 0.8602\n",
      "INFO:root:Epoch: 005, Train Loss: 0.8602, Train Acc: 0.4853, Val Acc: 0.5169\n",
      "INFO:root:Epoch #5: Current validation metric: 0.51689 (best: 0.51689)\n",
      "INFO:root:Batch: 001, Train Loss: 0.8126\n",
      "INFO:root:Epoch: 006, Train Loss: 0.8126, Train Acc: 0.4954, Val Acc: 0.5231\n",
      "INFO:root:Epoch #6: Current validation metric: 0.52309 (best: 0.52309)\n",
      "INFO:root:Batch: 001, Train Loss: 0.7734\n",
      "INFO:root:Epoch: 007, Train Loss: 0.7734, Train Acc: 0.4994, Val Acc: 0.5277\n",
      "INFO:root:Epoch #7: Current validation metric: 0.52773 (best: 0.52773)\n",
      "INFO:root:Batch: 001, Train Loss: 0.7405\n",
      "INFO:root:Epoch: 008, Train Loss: 0.7405, Train Acc: 0.5075, Val Acc: 0.5474\n",
      "INFO:root:Epoch #8: Current validation metric: 0.54741 (best: 0.54741)\n",
      "INFO:root:Batch: 001, Train Loss: 0.7127\n",
      "INFO:root:Epoch: 009, Train Loss: 0.7127, Train Acc: 0.5131, Val Acc: 0.5290\n",
      "INFO:root:Epoch #9: Current validation metric: 0.52897 (best: 0.54741)\n",
      "INFO:root:Batch: 001, Train Loss: 0.6888\n",
      "INFO:root:Epoch: 010, Train Loss: 0.6888, Train Acc: 0.5109, Val Acc: 0.5136\n",
      "INFO:root:Epoch #10: Current validation metric: 0.51363 (best: 0.54741)\n",
      "INFO:root:Batch: 001, Train Loss: 0.6683\n",
      "INFO:root:Epoch: 011, Train Loss: 0.6683, Train Acc: 0.5023, Val Acc: 0.4983\n",
      "INFO:root:Epoch #11: Current validation metric: 0.49830 (best: 0.54741)\n",
      "INFO:root:Batch: 001, Train Loss: 0.6503\n",
      "INFO:root:Epoch: 012, Train Loss: 0.6503, Train Acc: 0.4977, Val Acc: 0.4898\n",
      "INFO:root:Epoch #12: Current validation metric: 0.48977 (best: 0.54741)\n",
      "INFO:root:Batch: 001, Train Loss: 0.6346\n",
      "INFO:root:Epoch: 013, Train Loss: 0.6346, Train Acc: 0.4903, Val Acc: 0.4850\n",
      "INFO:root:Epoch #13: Current validation metric: 0.48497 (best: 0.54741)\n",
      "INFO:root:Batch: 001, Train Loss: 0.6208\n",
      "INFO:root:Epoch: 014, Train Loss: 0.6208, Train Acc: 0.4881, Val Acc: 0.4783\n",
      "INFO:root:Epoch #14: Current validation metric: 0.47831 (best: 0.54741)\n",
      "INFO:root:Batch: 001, Train Loss: 0.6086\n",
      "INFO:root:Epoch: 015, Train Loss: 0.6086, Train Acc: 0.4840, Val Acc: 0.4760\n",
      "INFO:root:Epoch #15: Current validation metric: 0.47598 (best: 0.54741)\n",
      "INFO:root:Batch: 001, Train Loss: 0.5978\n",
      "INFO:root:Epoch: 016, Train Loss: 0.5978, Train Acc: 0.4807, Val Acc: 0.4737\n",
      "INFO:root:Epoch #16: Current validation metric: 0.47366 (best: 0.54741)\n",
      "INFO:root:Batch: 001, Train Loss: 0.5883\n",
      "INFO:root:Epoch: 017, Train Loss: 0.5883, Train Acc: 0.4804, Val Acc: 0.4716\n",
      "INFO:root:Epoch #17: Current validation metric: 0.47165 (best: 0.54741)\n",
      "INFO:root:Batch: 001, Train Loss: 0.5799\n",
      "INFO:root:Epoch: 018, Train Loss: 0.5799, Train Acc: 0.4801, Val Acc: 0.4727\n",
      "INFO:root:Epoch #18: Current validation metric: 0.47273 (best: 0.54741)\n",
      "INFO:root:Batch: 001, Train Loss: 0.5725\n",
      "INFO:root:Epoch: 019, Train Loss: 0.5725, Train Acc: 0.4812, Val Acc: 0.4755\n",
      "INFO:root:Epoch #19: Current validation metric: 0.47552 (best: 0.54741)\n",
      "INFO:root:Batch: 001, Train Loss: 0.5657\n",
      "INFO:root:Epoch: 020, Train Loss: 0.5657, Train Acc: 0.4836, Val Acc: 0.4794\n",
      "INFO:root:Epoch #20: Current validation metric: 0.47939 (best: 0.54741)\n",
      "INFO:root:Batch: 001, Train Loss: 0.5596\n",
      "INFO:root:Epoch: 021, Train Loss: 0.5596, Train Acc: 0.4867, Val Acc: 0.4847\n",
      "INFO:root:Epoch #21: Current validation metric: 0.48466 (best: 0.54741)\n",
      "INFO:root:Batch: 001, Train Loss: 0.5541\n",
      "INFO:root:Epoch: 022, Train Loss: 0.5541, Train Acc: 0.4903, Val Acc: 0.4926\n",
      "INFO:root:Epoch #22: Current validation metric: 0.49256 (best: 0.54741)\n",
      "INFO:root:Batch: 001, Train Loss: 0.5491\n",
      "INFO:root:Epoch: 023, Train Loss: 0.5491, Train Acc: 0.4969, Val Acc: 0.5071\n",
      "INFO:root:Epoch #23: Current validation metric: 0.50713 (best: 0.54741)\n",
      "INFO:root:Batch: 001, Train Loss: 0.5445\n",
      "INFO:root:Epoch: 024, Train Loss: 0.5445, Train Acc: 0.5018, Val Acc: 0.5226\n",
      "INFO:root:Epoch #24: Current validation metric: 0.52262 (best: 0.54741)\n",
      "INFO:root:Batch: 001, Train Loss: 0.5403\n",
      "INFO:root:Epoch: 025, Train Loss: 0.5403, Train Acc: 0.5086, Val Acc: 0.5414\n",
      "INFO:root:Epoch #25: Current validation metric: 0.54137 (best: 0.54741)\n",
      "INFO:root:Batch: 001, Train Loss: 0.5365\n",
      "INFO:root:Epoch: 026, Train Loss: 0.5365, Train Acc: 0.5171, Val Acc: 0.5513\n",
      "INFO:root:Epoch #26: Current validation metric: 0.55129 (best: 0.55129)\n",
      "INFO:root:Batch: 001, Train Loss: 0.5329\n",
      "INFO:root:Epoch: 027, Train Loss: 0.5329, Train Acc: 0.5292, Val Acc: 0.5567\n",
      "INFO:root:Epoch #27: Current validation metric: 0.55671 (best: 0.55671)\n",
      "INFO:root:Batch: 001, Train Loss: 0.5295\n",
      "INFO:root:Epoch: 028, Train Loss: 0.5295, Train Acc: 0.5352, Val Acc: 0.5637\n",
      "INFO:root:Epoch #28: Current validation metric: 0.56368 (best: 0.56368)\n",
      "INFO:root:Batch: 001, Train Loss: 0.5263\n",
      "INFO:root:Epoch: 029, Train Loss: 0.5263, Train Acc: 0.5416, Val Acc: 0.5648\n",
      "INFO:root:Epoch #29: Current validation metric: 0.56477 (best: 0.56477)\n",
      "INFO:root:Batch: 001, Train Loss: 0.5232\n",
      "INFO:root:Epoch: 030, Train Loss: 0.5232, Train Acc: 0.5498, Val Acc: 0.5657\n",
      "INFO:root:Epoch #30: Current validation metric: 0.56570 (best: 0.56570)\n",
      "INFO:root:Batch: 001, Train Loss: 0.5201\n",
      "INFO:root:Epoch: 031, Train Loss: 0.5201, Train Acc: 0.5468, Val Acc: 0.5677\n",
      "INFO:root:Epoch #31: Current validation metric: 0.56771 (best: 0.56771)\n",
      "INFO:root:Batch: 001, Train Loss: 0.5172\n",
      "INFO:root:Epoch: 032, Train Loss: 0.5172, Train Acc: 0.5501, Val Acc: 0.5674\n",
      "INFO:root:Epoch #32: Current validation metric: 0.56740 (best: 0.56771)\n",
      "INFO:root:Batch: 001, Train Loss: 0.5143\n",
      "INFO:root:Epoch: 033, Train Loss: 0.5143, Train Acc: 0.5504, Val Acc: 0.5682\n",
      "INFO:root:Epoch #33: Current validation metric: 0.56817 (best: 0.56817)\n",
      "INFO:root:Batch: 001, Train Loss: 0.5115\n",
      "INFO:root:Epoch: 034, Train Loss: 0.5115, Train Acc: 0.5528, Val Acc: 0.5694\n",
      "INFO:root:Epoch #34: Current validation metric: 0.56941 (best: 0.56941)\n",
      "INFO:root:Batch: 001, Train Loss: 0.5087\n",
      "INFO:root:Epoch: 035, Train Loss: 0.5087, Train Acc: 0.5543, Val Acc: 0.5716\n",
      "INFO:root:Epoch #35: Current validation metric: 0.57158 (best: 0.57158)\n",
      "INFO:root:Batch: 001, Train Loss: 0.5060\n",
      "INFO:root:Epoch: 036, Train Loss: 0.5060, Train Acc: 0.5548, Val Acc: 0.5742\n",
      "INFO:root:Epoch #36: Current validation metric: 0.57422 (best: 0.57422)\n",
      "INFO:root:Batch: 001, Train Loss: 0.5033\n",
      "INFO:root:Epoch: 037, Train Loss: 0.5033, Train Acc: 0.5578, Val Acc: 0.5775\n",
      "INFO:root:Epoch #37: Current validation metric: 0.57747 (best: 0.57747)\n",
      "INFO:root:Batch: 001, Train Loss: 0.5007\n",
      "INFO:root:Epoch: 038, Train Loss: 0.5007, Train Acc: 0.5591, Val Acc: 0.5779\n",
      "INFO:root:Epoch #38: Current validation metric: 0.57794 (best: 0.57794)\n",
      "INFO:root:Batch: 001, Train Loss: 0.4981\n",
      "INFO:root:Epoch: 039, Train Loss: 0.4981, Train Acc: 0.5611, Val Acc: 0.5778\n",
      "INFO:root:Epoch #39: Current validation metric: 0.57778 (best: 0.57794)\n",
      "INFO:root:Batch: 001, Train Loss: 0.4956\n",
      "INFO:root:Epoch: 040, Train Loss: 0.4956, Train Acc: 0.5638, Val Acc: 0.5798\n",
      "INFO:root:Epoch #40: Current validation metric: 0.57980 (best: 0.57980)\n",
      "INFO:root:Batch: 001, Train Loss: 0.4932\n",
      "INFO:root:Epoch: 041, Train Loss: 0.4932, Train Acc: 0.5660, Val Acc: 0.5826\n",
      "INFO:root:Epoch #41: Current validation metric: 0.58258 (best: 0.58258)\n",
      "INFO:root:Batch: 001, Train Loss: 0.4909\n",
      "INFO:root:Epoch: 042, Train Loss: 0.4909, Train Acc: 0.5683, Val Acc: 0.5838\n",
      "INFO:root:Epoch #42: Current validation metric: 0.58382 (best: 0.58382)\n",
      "INFO:root:Batch: 001, Train Loss: 0.4887\n",
      "INFO:root:Epoch: 043, Train Loss: 0.4887, Train Acc: 0.5693, Val Acc: 0.5861\n",
      "INFO:root:Epoch #43: Current validation metric: 0.58615 (best: 0.58615)\n",
      "INFO:root:Batch: 001, Train Loss: 0.4866\n"
     ]
    },
    {
     "name": "stderr",
     "output_type": "stream",
     "text": [
      "INFO:root:Epoch: 044, Train Loss: 0.4866, Train Acc: 0.5685, Val Acc: 0.5866\n",
      "INFO:root:Epoch #44: Current validation metric: 0.58661 (best: 0.58661)\n",
      "INFO:root:Batch: 001, Train Loss: 0.4846\n",
      "INFO:root:Epoch: 045, Train Loss: 0.4846, Train Acc: 0.5693, Val Acc: 0.5875\n",
      "INFO:root:Epoch #45: Current validation metric: 0.58754 (best: 0.58754)\n",
      "INFO:root:Batch: 001, Train Loss: 0.4827\n",
      "INFO:root:Epoch: 046, Train Loss: 0.4827, Train Acc: 0.5707, Val Acc: 0.5879\n",
      "INFO:root:Epoch #46: Current validation metric: 0.58785 (best: 0.58785)\n",
      "INFO:root:Batch: 001, Train Loss: 0.4808\n",
      "INFO:root:Epoch: 047, Train Loss: 0.4808, Train Acc: 0.5709, Val Acc: 0.5896\n",
      "INFO:root:Epoch #47: Current validation metric: 0.58956 (best: 0.58956)\n",
      "INFO:root:Batch: 001, Train Loss: 0.4789\n",
      "INFO:root:Epoch: 048, Train Loss: 0.4789, Train Acc: 0.5717, Val Acc: 0.5891\n",
      "INFO:root:Epoch #48: Current validation metric: 0.58909 (best: 0.58956)\n",
      "INFO:root:Batch: 001, Train Loss: 0.4771\n",
      "INFO:root:Epoch: 049, Train Loss: 0.4771, Train Acc: 0.5712, Val Acc: 0.5894\n",
      "INFO:root:Epoch #49: Current validation metric: 0.58940 (best: 0.58956)\n",
      "INFO:root:Batch: 001, Train Loss: 0.4755\n",
      "INFO:root:Epoch: 050, Train Loss: 0.4755, Train Acc: 0.5707, Val Acc: 0.5897\n",
      "INFO:root:Epoch #50: Current validation metric: 0.58971 (best: 0.58971)\n",
      "INFO:root:Batch: 001, Train Loss: 0.4739\n",
      "INFO:root:Epoch: 051, Train Loss: 0.4739, Train Acc: 0.5706, Val Acc: 0.5896\n",
      "INFO:root:Epoch #51: Current validation metric: 0.58956 (best: 0.58971)\n",
      "INFO:root:Batch: 001, Train Loss: 0.4723\n",
      "INFO:root:Epoch: 052, Train Loss: 0.4723, Train Acc: 0.5699, Val Acc: 0.5894\n",
      "INFO:root:Epoch #52: Current validation metric: 0.58940 (best: 0.58971)\n",
      "INFO:root:Batch: 001, Train Loss: 0.4709\n",
      "INFO:root:Epoch: 053, Train Loss: 0.4709, Train Acc: 0.5704, Val Acc: 0.5892\n",
      "INFO:root:Epoch #53: Current validation metric: 0.58925 (best: 0.58971)\n",
      "INFO:root:Batch: 001, Train Loss: 0.4695\n",
      "INFO:root:Epoch: 054, Train Loss: 0.4695, Train Acc: 0.5707, Val Acc: 0.5892\n",
      "INFO:root:Epoch #54: Current validation metric: 0.58925 (best: 0.58971)\n",
      "INFO:root:Batch: 001, Train Loss: 0.4682\n",
      "INFO:root:Epoch: 055, Train Loss: 0.4682, Train Acc: 0.5718, Val Acc: 0.5896\n",
      "INFO:root:Epoch #55: Current validation metric: 0.58956 (best: 0.58971)\n",
      "INFO:root:Batch: 001, Train Loss: 0.4671\n",
      "INFO:root:Epoch: 056, Train Loss: 0.4671, Train Acc: 0.5726, Val Acc: 0.5899\n",
      "INFO:root:Epoch #56: Current validation metric: 0.58987 (best: 0.58987)\n",
      "INFO:root:Batch: 001, Train Loss: 0.4660\n",
      "INFO:root:Epoch: 057, Train Loss: 0.4660, Train Acc: 0.5729, Val Acc: 0.5891\n",
      "INFO:root:Epoch #57: Current validation metric: 0.58909 (best: 0.58987)\n",
      "INFO:root:Batch: 001, Train Loss: 0.4650\n",
      "INFO:root:Epoch: 058, Train Loss: 0.4650, Train Acc: 0.5724, Val Acc: 0.5875\n",
      "INFO:root:Epoch #58: Current validation metric: 0.58754 (best: 0.58987)\n",
      "INFO:root:Batch: 001, Train Loss: 0.4641\n",
      "INFO:root:Epoch: 059, Train Loss: 0.4641, Train Acc: 0.5737, Val Acc: 0.5882\n",
      "INFO:root:Epoch #59: Current validation metric: 0.58816 (best: 0.58987)\n",
      "INFO:root:Batch: 001, Train Loss: 0.4632\n",
      "INFO:root:Epoch: 060, Train Loss: 0.4632, Train Acc: 0.5746, Val Acc: 0.5885\n",
      "INFO:root:Epoch #60: Current validation metric: 0.58847 (best: 0.58987)\n",
      "INFO:root:Batch: 001, Train Loss: 0.4623\n",
      "INFO:root:Epoch: 061, Train Loss: 0.4623, Train Acc: 0.5750, Val Acc: 0.5891\n",
      "INFO:root:Epoch #61: Current validation metric: 0.58909 (best: 0.58987)\n",
      "INFO:root:Batch: 001, Train Loss: 0.4615\n",
      "INFO:root:Epoch: 062, Train Loss: 0.4615, Train Acc: 0.5746, Val Acc: 0.5879\n",
      "INFO:root:Epoch #62: Current validation metric: 0.58785 (best: 0.58987)\n",
      "INFO:root:Batch: 001, Train Loss: 0.4607\n",
      "INFO:root:Epoch: 063, Train Loss: 0.4607, Train Acc: 0.5746, Val Acc: 0.5861\n",
      "INFO:root:Epoch #63: Current validation metric: 0.58615 (best: 0.58987)\n",
      "INFO:root:Batch: 001, Train Loss: 0.4599\n",
      "INFO:root:Epoch: 064, Train Loss: 0.4599, Train Acc: 0.5739, Val Acc: 0.5858\n",
      "INFO:root:Epoch #64: Current validation metric: 0.58584 (best: 0.58987)\n",
      "INFO:root:Batch: 001, Train Loss: 0.4591\n",
      "INFO:root:Epoch: 065, Train Loss: 0.4591, Train Acc: 0.5745, Val Acc: 0.5863\n",
      "INFO:root:Epoch #65: Current validation metric: 0.58630 (best: 0.58987)\n",
      "INFO:root:Batch: 001, Train Loss: 0.4584\n",
      "INFO:root:Epoch: 066, Train Loss: 0.4584, Train Acc: 0.5745, Val Acc: 0.5880\n",
      "INFO:root:Epoch #66: Current validation metric: 0.58801 (best: 0.58987)\n",
      "INFO:root:Batch: 001, Train Loss: 0.4577\n",
      "INFO:root:Epoch: 067, Train Loss: 0.4577, Train Acc: 0.5746, Val Acc: 0.5880\n",
      "INFO:root:Epoch #67: Current validation metric: 0.58801 (best: 0.58987)\n",
      "INFO:root:Batch: 001, Train Loss: 0.4570\n",
      "INFO:root:Epoch: 068, Train Loss: 0.4570, Train Acc: 0.5743, Val Acc: 0.5868\n",
      "INFO:root:Epoch #68: Current validation metric: 0.58677 (best: 0.58987)\n",
      "INFO:root:Batch: 001, Train Loss: 0.4564\n",
      "INFO:root:Epoch: 069, Train Loss: 0.4564, Train Acc: 0.5740, Val Acc: 0.5861\n",
      "INFO:root:Epoch #69: Current validation metric: 0.58615 (best: 0.58987)\n",
      "INFO:root:Batch: 001, Train Loss: 0.4557\n",
      "INFO:root:Epoch: 070, Train Loss: 0.4557, Train Acc: 0.5750, Val Acc: 0.5857\n",
      "INFO:root:Epoch #70: Current validation metric: 0.58568 (best: 0.58987)\n",
      "INFO:root:Batch: 001, Train Loss: 0.4552\n",
      "INFO:root:Epoch: 071, Train Loss: 0.4552, Train Acc: 0.5751, Val Acc: 0.5854\n",
      "INFO:root:Epoch #71: Current validation metric: 0.58537 (best: 0.58987)\n",
      "INFO:root:Batch: 001, Train Loss: 0.4546\n",
      "INFO:root:Epoch: 072, Train Loss: 0.4546, Train Acc: 0.5764, Val Acc: 0.5848\n",
      "INFO:root:Epoch #72: Current validation metric: 0.58475 (best: 0.58987)\n",
      "INFO:root:Batch: 001, Train Loss: 0.4541\n",
      "INFO:root:Epoch: 073, Train Loss: 0.4541, Train Acc: 0.5757, Val Acc: 0.5843\n",
      "INFO:root:Epoch #73: Current validation metric: 0.58429 (best: 0.58987)\n",
      "INFO:root:Batch: 001, Train Loss: 0.4536\n",
      "INFO:root:Epoch: 074, Train Loss: 0.4536, Train Acc: 0.5753, Val Acc: 0.5846\n",
      "INFO:root:Epoch #74: Current validation metric: 0.58460 (best: 0.58987)\n",
      "INFO:root:Batch: 001, Train Loss: 0.4530\n",
      "INFO:root:Epoch: 075, Train Loss: 0.4530, Train Acc: 0.5756, Val Acc: 0.5849\n",
      "INFO:root:Epoch #75: Current validation metric: 0.58491 (best: 0.58987)\n",
      "INFO:root:Batch: 001, Train Loss: 0.4525\n",
      "INFO:root:Epoch: 076, Train Loss: 0.4525, Train Acc: 0.5756, Val Acc: 0.5855\n",
      "INFO:root:Epoch #76: Current validation metric: 0.58553 (best: 0.58987)\n",
      "INFO:root:Batch: 001, Train Loss: 0.4520\n",
      "INFO:root:Epoch: 077, Train Loss: 0.4520, Train Acc: 0.5762, Val Acc: 0.5858\n",
      "INFO:root:Epoch #77: Current validation metric: 0.58584 (best: 0.58987)\n",
      "INFO:root:Batch: 001, Train Loss: 0.4515\n",
      "INFO:root:Epoch: 078, Train Loss: 0.4515, Train Acc: 0.5761, Val Acc: 0.5857\n",
      "INFO:root:Epoch #78: Current validation metric: 0.58568 (best: 0.58987)\n",
      "INFO:root:Batch: 001, Train Loss: 0.4511\n",
      "INFO:root:Epoch: 079, Train Loss: 0.4511, Train Acc: 0.5761, Val Acc: 0.5858\n",
      "INFO:root:Epoch #79: Current validation metric: 0.58584 (best: 0.58987)\n",
      "INFO:root:Batch: 001, Train Loss: 0.4506\n",
      "INFO:root:Epoch: 080, Train Loss: 0.4506, Train Acc: 0.5761, Val Acc: 0.5854\n",
      "INFO:root:Epoch #80: Current validation metric: 0.58537 (best: 0.58987)\n",
      "INFO:root:Batch: 001, Train Loss: 0.4502\n",
      "INFO:root:Epoch: 081, Train Loss: 0.4502, Train Acc: 0.5767, Val Acc: 0.5863\n",
      "INFO:root:Epoch #81: Current validation metric: 0.58630 (best: 0.58987)\n",
      "INFO:root:Batch: 001, Train Loss: 0.4497\n",
      "INFO:root:Epoch: 082, Train Loss: 0.4497, Train Acc: 0.5765, Val Acc: 0.5861\n",
      "INFO:root:Epoch #82: Current validation metric: 0.58615 (best: 0.58987)\n",
      "INFO:root:Batch: 001, Train Loss: 0.4493\n",
      "INFO:root:Epoch: 083, Train Loss: 0.4493, Train Acc: 0.5765, Val Acc: 0.5863\n",
      "INFO:root:Epoch #83: Current validation metric: 0.58630 (best: 0.58987)\n",
      "INFO:root:Batch: 001, Train Loss: 0.4489\n",
      "INFO:root:Epoch: 084, Train Loss: 0.4489, Train Acc: 0.5767, Val Acc: 0.5868\n",
      "INFO:root:Epoch #84: Current validation metric: 0.58677 (best: 0.58987)\n",
      "INFO:root:Batch: 001, Train Loss: 0.4486\n",
      "INFO:root:Epoch: 085, Train Loss: 0.4486, Train Acc: 0.5775, Val Acc: 0.5866\n",
      "INFO:root:Epoch #85: Current validation metric: 0.58661 (best: 0.58987)\n",
      "INFO:root:Batch: 001, Train Loss: 0.4482\n",
      "INFO:root:Epoch: 086, Train Loss: 0.4482, Train Acc: 0.5773, Val Acc: 0.5861\n",
      "INFO:root:Epoch #86: Current validation metric: 0.58615 (best: 0.58987)\n",
      "INFO:root:Batch: 001, Train Loss: 0.4478\n",
      "INFO:root:Epoch: 087, Train Loss: 0.4478, Train Acc: 0.5770, Val Acc: 0.5865\n"
     ]
    },
    {
     "name": "stderr",
     "output_type": "stream",
     "text": [
      "INFO:root:Epoch #87: Current validation metric: 0.58646 (best: 0.58987)\n",
      "INFO:root:Batch: 001, Train Loss: 0.4475\n",
      "INFO:root:Epoch: 088, Train Loss: 0.4475, Train Acc: 0.5770, Val Acc: 0.5863\n",
      "INFO:root:Epoch #88: Current validation metric: 0.58630 (best: 0.58987)\n",
      "INFO:root:Batch: 001, Train Loss: 0.4472\n",
      "INFO:root:Epoch: 089, Train Loss: 0.4472, Train Acc: 0.5772, Val Acc: 0.5865\n",
      "INFO:root:Epoch #89: Current validation metric: 0.58646 (best: 0.58987)\n",
      "INFO:root:Batch: 001, Train Loss: 0.4468\n",
      "INFO:root:Epoch: 090, Train Loss: 0.4468, Train Acc: 0.5779, Val Acc: 0.5861\n",
      "INFO:root:Epoch #90: Current validation metric: 0.58615 (best: 0.58987)\n",
      "INFO:root:Batch: 001, Train Loss: 0.4465\n",
      "INFO:root:Epoch: 091, Train Loss: 0.4465, Train Acc: 0.5781, Val Acc: 0.5865\n",
      "INFO:root:Epoch #91: Current validation metric: 0.58646 (best: 0.58987)\n",
      "INFO:root:Batch: 001, Train Loss: 0.4462\n",
      "INFO:root:Epoch: 092, Train Loss: 0.4462, Train Acc: 0.5781, Val Acc: 0.5865\n",
      "INFO:root:Epoch #92: Current validation metric: 0.58646 (best: 0.58987)\n",
      "INFO:root:Batch: 001, Train Loss: 0.4459\n",
      "INFO:root:Epoch: 093, Train Loss: 0.4459, Train Acc: 0.5781, Val Acc: 0.5860\n",
      "INFO:root:Epoch #93: Current validation metric: 0.58599 (best: 0.58987)\n",
      "INFO:root:Batch: 001, Train Loss: 0.4456\n",
      "INFO:root:Epoch: 094, Train Loss: 0.4456, Train Acc: 0.5783, Val Acc: 0.5855\n",
      "INFO:root:Epoch #94: Current validation metric: 0.58553 (best: 0.58987)\n",
      "INFO:root:Batch: 001, Train Loss: 0.4453\n",
      "INFO:root:Epoch: 095, Train Loss: 0.4453, Train Acc: 0.5778, Val Acc: 0.5854\n",
      "INFO:root:Epoch #95: Current validation metric: 0.58537 (best: 0.58987)\n",
      "INFO:root:Batch: 001, Train Loss: 0.4450\n",
      "INFO:root:Epoch: 096, Train Loss: 0.4450, Train Acc: 0.5779, Val Acc: 0.5855\n",
      "INFO:root:Epoch #96: Current validation metric: 0.58553 (best: 0.58987)\n",
      "INFO:root:Batch: 001, Train Loss: 0.4447\n",
      "INFO:root:Epoch: 097, Train Loss: 0.4447, Train Acc: 0.5775, Val Acc: 0.5855\n",
      "INFO:root:Epoch #97: Current validation metric: 0.58553 (best: 0.58987)\n",
      "INFO:root:Batch: 001, Train Loss: 0.4444\n",
      "INFO:root:Epoch: 098, Train Loss: 0.4444, Train Acc: 0.5775, Val Acc: 0.5855\n",
      "INFO:root:Epoch #98: Current validation metric: 0.58553 (best: 0.58987)\n",
      "INFO:root:Batch: 001, Train Loss: 0.4441\n",
      "INFO:root:Epoch: 099, Train Loss: 0.4441, Train Acc: 0.5772, Val Acc: 0.5855\n",
      "INFO:root:Epoch #99: Current validation metric: 0.58553 (best: 0.58987)\n",
      "INFO:root:Batch: 001, Train Loss: 0.4439\n",
      "INFO:root:Epoch: 100, Train Loss: 0.4439, Train Acc: 0.5778, Val Acc: 0.5854\n",
      "INFO:root:Epoch #100: Current validation metric: 0.58537 (best: 0.58987)\n"
     ]
    }
   ],
   "source": [
    "reset_params(model)\n",
    "num_epochs = 100\n",
    "train_loss_lst, val_acc_lst, train_acc_lst = [], [], []\n",
    "best_val_acc = 0\n",
    "best_epoch = 0\n",
    "# Set up Focal loss\n",
    "gamma = 1\n",
    "floss = FocalLoss(gamma=gamma, reduction='mean')\n",
    "\n",
    "for epoch in range(1, num_epochs+1):\n",
    "    train_loss, train_acc = train(model, train_loader, optimizer, loss_fcn=floss)\n",
    "    val_acc = test(model, val_loader)\n",
    "    logging.info(f\"Epoch: {epoch:03d}, Train Loss: {train_loss:.4f}, Train Acc: {train_acc:.4f}, Val Acc: {val_acc:.4f}\")\n",
    "    is_best_epoch = (val_acc > best_val_acc)\n",
    "    if is_best_epoch:\n",
    "        # Save the model\n",
    "        best_val_acc = val_acc\n",
    "        best_epoch = epoch\n",
    "        best_model_state = copy.deepcopy(model.state_dict())\n",
    "        save_dir = \"/ssl-jet-vol/semi-supervised-tests/Jupyter/trained_models/\" + \"_best_epoch_full.pt\"\n",
    "        torch.save(best_model_state, save_dir)\n",
    "    train_loss_lst.append(train_loss)\n",
    "    train_acc_lst.append(train_acc)\n",
    "    val_acc_lst.append(val_acc)\n",
    "    logging.info(\n",
    "                \"Epoch #%d: Current validation metric: %.5f (best: %.5f)\"\n",
    "                % (epoch, val_acc, best_val_acc)\n",
    "            )\n",
    "    np.savetxt(\"/ssl-jet-vol/semi-supervised-tests/Jupyter/trained_models/\" + \"_training_losses.txt\", train_loss_lst)"
   ]
  },
  {
   "cell_type": "markdown",
   "metadata": {},
   "source": [
    "### Question: why is this constant for any max_jets\n",
    "Need to delete the .pt files in the \"processed\" folder"
   ]
  },
  {
   "cell_type": "markdown",
   "metadata": {},
   "source": [
    "## Load the saved model"
   ]
  },
  {
   "cell_type": "code",
   "execution_count": 9,
   "metadata": {
    "ExecuteTime": {
     "end_time": "2022-09-30T00:28:18.021604Z",
     "start_time": "2022-09-30T00:28:17.972552Z"
    }
   },
   "outputs": [
    {
     "data": {
      "text/plain": [
       "UniMP(\n",
       "  (label_emb): MaskLabel()\n",
       "  (convs): ModuleList(\n",
       "    (0): TransformerConv(3, 32, heads=2)\n",
       "    (1): TransformerConv(64, 32, heads=2)\n",
       "    (2): TransformerConv(64, 5, heads=2)\n",
       "  )\n",
       "  (norms): ModuleList(\n",
       "    (0): LayerNorm((64,), eps=1e-05, elementwise_affine=True)\n",
       "    (1): LayerNorm((64,), eps=1e-05, elementwise_affine=True)\n",
       "  )\n",
       ")"
      ]
     },
     "execution_count": 9,
     "metadata": {},
     "output_type": "execute_result"
    }
   ],
   "source": [
    "model = UniMP(\n",
    "    in_channels=train_dataset.num_features,\n",
    "    num_classes=train_dataset.num_classes,\n",
    "    hidden_channels=64,\n",
    "    num_layers=3,\n",
    "    heads=2,\n",
    ").to(device)\n",
    "save_dir = \"/ssl-jet-vol/semi-supervised-tests/Jupyter/trained_models/\" + \"_best_epoch_full.pt\"\n",
    "model.load_state_dict(torch.load(save_dir))\n",
    "model.eval()"
   ]
  },
  {
   "cell_type": "code",
   "execution_count": 12,
   "metadata": {
    "ExecuteTime": {
     "end_time": "2022-09-29T23:31:38.961623Z",
     "start_time": "2022-09-29T23:31:38.842478Z"
    }
   },
   "outputs": [
    {
     "name": "stdout",
     "output_type": "stream",
     "text": [
      "tensor([[True, True, True],\n",
      "        [True, True, True],\n",
      "        [True, True, True],\n",
      "        [True, True, True],\n",
      "        [True, True, True]], device='cuda:0')\n",
      "tensor([[True, True, True],\n",
      "        [True, True, True],\n",
      "        [True, True, True],\n",
      "        [True, True, True],\n",
      "        [True, True, True],\n",
      "        [True, True, True],\n",
      "        [True, True, True],\n",
      "        [True, True, True],\n",
      "        [True, True, True],\n",
      "        [True, True, True],\n",
      "        [True, True, True],\n",
      "        [True, True, True],\n",
      "        [True, True, True],\n",
      "        [True, True, True],\n",
      "        [True, True, True],\n",
      "        [True, True, True],\n",
      "        [True, True, True],\n",
      "        [True, True, True],\n",
      "        [True, True, True],\n",
      "        [True, True, True],\n",
      "        [True, True, True],\n",
      "        [True, True, True],\n",
      "        [True, True, True],\n",
      "        [True, True, True],\n",
      "        [True, True, True],\n",
      "        [True, True, True],\n",
      "        [True, True, True],\n",
      "        [True, True, True],\n",
      "        [True, True, True],\n",
      "        [True, True, True],\n",
      "        [True, True, True],\n",
      "        [True, True, True],\n",
      "        [True, True, True],\n",
      "        [True, True, True],\n",
      "        [True, True, True],\n",
      "        [True, True, True],\n",
      "        [True, True, True],\n",
      "        [True, True, True],\n",
      "        [True, True, True],\n",
      "        [True, True, True],\n",
      "        [True, True, True],\n",
      "        [True, True, True],\n",
      "        [True, True, True],\n",
      "        [True, True, True],\n",
      "        [True, True, True],\n",
      "        [True, True, True],\n",
      "        [True, True, True],\n",
      "        [True, True, True],\n",
      "        [True, True, True],\n",
      "        [True, True, True],\n",
      "        [True, True, True],\n",
      "        [True, True, True],\n",
      "        [True, True, True],\n",
      "        [True, True, True],\n",
      "        [True, True, True],\n",
      "        [True, True, True],\n",
      "        [True, True, True],\n",
      "        [True, True, True],\n",
      "        [True, True, True],\n",
      "        [True, True, True],\n",
      "        [True, True, True],\n",
      "        [True, True, True],\n",
      "        [True, True, True],\n",
      "        [True, True, True]], device='cuda:0')\n",
      "tensor([True, True, True, True, True, True, True, True, True, True, True, True,\n",
      "        True, True, True, True, True, True, True, True, True, True, True, True,\n",
      "        True, True, True, True, True, True, True, True, True, True, True, True,\n",
      "        True, True, True, True, True, True, True, True, True, True, True, True,\n",
      "        True, True, True, True, True, True, True, True, True, True, True, True,\n",
      "        True, True, True, True], device='cuda:0')\n",
      "tensor([[True, True, True],\n",
      "        [True, True, True],\n",
      "        [True, True, True],\n",
      "        [True, True, True],\n",
      "        [True, True, True],\n",
      "        [True, True, True],\n",
      "        [True, True, True],\n",
      "        [True, True, True],\n",
      "        [True, True, True],\n",
      "        [True, True, True],\n",
      "        [True, True, True],\n",
      "        [True, True, True],\n",
      "        [True, True, True],\n",
      "        [True, True, True],\n",
      "        [True, True, True],\n",
      "        [True, True, True],\n",
      "        [True, True, True],\n",
      "        [True, True, True],\n",
      "        [True, True, True],\n",
      "        [True, True, True],\n",
      "        [True, True, True],\n",
      "        [True, True, True],\n",
      "        [True, True, True],\n",
      "        [True, True, True],\n",
      "        [True, True, True],\n",
      "        [True, True, True],\n",
      "        [True, True, True],\n",
      "        [True, True, True],\n",
      "        [True, True, True],\n",
      "        [True, True, True],\n",
      "        [True, True, True],\n",
      "        [True, True, True],\n",
      "        [True, True, True],\n",
      "        [True, True, True],\n",
      "        [True, True, True],\n",
      "        [True, True, True],\n",
      "        [True, True, True],\n",
      "        [True, True, True],\n",
      "        [True, True, True],\n",
      "        [True, True, True],\n",
      "        [True, True, True],\n",
      "        [True, True, True],\n",
      "        [True, True, True],\n",
      "        [True, True, True],\n",
      "        [True, True, True],\n",
      "        [True, True, True],\n",
      "        [True, True, True],\n",
      "        [True, True, True],\n",
      "        [True, True, True],\n",
      "        [True, True, True],\n",
      "        [True, True, True],\n",
      "        [True, True, True],\n",
      "        [True, True, True],\n",
      "        [True, True, True],\n",
      "        [True, True, True],\n",
      "        [True, True, True],\n",
      "        [True, True, True],\n",
      "        [True, True, True],\n",
      "        [True, True, True],\n",
      "        [True, True, True],\n",
      "        [True, True, True],\n",
      "        [True, True, True],\n",
      "        [True, True, True],\n",
      "        [True, True, True]], device='cuda:0')\n",
      "tensor([True, True, True, True, True, True, True, True, True, True, True, True,\n",
      "        True, True, True, True, True, True, True, True, True, True, True, True,\n",
      "        True, True, True, True, True, True, True, True, True, True, True, True,\n",
      "        True, True, True, True, True, True, True, True, True, True, True, True,\n",
      "        True, True, True, True, True, True, True, True, True, True, True, True,\n",
      "        True, True, True, True], device='cuda:0')\n",
      "tensor([[True, True, True],\n",
      "        [True, True, True],\n",
      "        [True, True, True],\n",
      "        [True, True, True],\n",
      "        [True, True, True],\n",
      "        [True, True, True],\n",
      "        [True, True, True],\n",
      "        [True, True, True],\n",
      "        [True, True, True],\n",
      "        [True, True, True],\n",
      "        [True, True, True],\n",
      "        [True, True, True],\n",
      "        [True, True, True],\n",
      "        [True, True, True],\n",
      "        [True, True, True],\n",
      "        [True, True, True],\n",
      "        [True, True, True],\n",
      "        [True, True, True],\n",
      "        [True, True, True],\n",
      "        [True, True, True],\n",
      "        [True, True, True],\n",
      "        [True, True, True],\n",
      "        [True, True, True],\n",
      "        [True, True, True],\n",
      "        [True, True, True],\n",
      "        [True, True, True],\n",
      "        [True, True, True],\n",
      "        [True, True, True],\n",
      "        [True, True, True],\n",
      "        [True, True, True],\n",
      "        [True, True, True],\n",
      "        [True, True, True],\n",
      "        [True, True, True],\n",
      "        [True, True, True],\n",
      "        [True, True, True],\n",
      "        [True, True, True],\n",
      "        [True, True, True],\n",
      "        [True, True, True],\n",
      "        [True, True, True],\n",
      "        [True, True, True],\n",
      "        [True, True, True],\n",
      "        [True, True, True],\n",
      "        [True, True, True],\n",
      "        [True, True, True],\n",
      "        [True, True, True],\n",
      "        [True, True, True],\n",
      "        [True, True, True],\n",
      "        [True, True, True],\n",
      "        [True, True, True],\n",
      "        [True, True, True],\n",
      "        [True, True, True],\n",
      "        [True, True, True],\n",
      "        [True, True, True],\n",
      "        [True, True, True],\n",
      "        [True, True, True],\n",
      "        [True, True, True],\n",
      "        [True, True, True],\n",
      "        [True, True, True],\n",
      "        [True, True, True],\n",
      "        [True, True, True],\n",
      "        [True, True, True],\n",
      "        [True, True, True],\n",
      "        [True, True, True],\n",
      "        [True, True, True]], device='cuda:0')\n",
      "tensor([True, True, True, True, True, True, True, True, True, True, True, True,\n",
      "        True, True, True, True, True, True, True, True, True, True, True, True,\n",
      "        True, True, True, True, True, True, True, True, True, True, True, True,\n",
      "        True, True, True, True, True, True, True, True, True, True, True, True,\n",
      "        True, True, True, True, True, True, True, True, True, True, True, True,\n",
      "        True, True, True, True], device='cuda:0')\n",
      "tensor([[True, True, True],\n",
      "        [True, True, True],\n",
      "        [True, True, True],\n",
      "        [True, True, True],\n",
      "        [True, True, True],\n",
      "        [True, True, True],\n",
      "        [True, True, True],\n",
      "        [True, True, True],\n",
      "        [True, True, True],\n",
      "        [True, True, True],\n",
      "        [True, True, True],\n",
      "        [True, True, True],\n",
      "        [True, True, True],\n",
      "        [True, True, True],\n",
      "        [True, True, True],\n",
      "        [True, True, True],\n",
      "        [True, True, True],\n",
      "        [True, True, True],\n",
      "        [True, True, True],\n",
      "        [True, True, True],\n",
      "        [True, True, True],\n",
      "        [True, True, True],\n",
      "        [True, True, True],\n",
      "        [True, True, True],\n",
      "        [True, True, True],\n",
      "        [True, True, True],\n",
      "        [True, True, True],\n",
      "        [True, True, True],\n",
      "        [True, True, True],\n",
      "        [True, True, True],\n",
      "        [True, True, True],\n",
      "        [True, True, True],\n",
      "        [True, True, True],\n",
      "        [True, True, True],\n",
      "        [True, True, True],\n",
      "        [True, True, True],\n",
      "        [True, True, True],\n",
      "        [True, True, True],\n",
      "        [True, True, True],\n",
      "        [True, True, True],\n",
      "        [True, True, True],\n",
      "        [True, True, True],\n",
      "        [True, True, True],\n",
      "        [True, True, True],\n",
      "        [True, True, True],\n",
      "        [True, True, True],\n",
      "        [True, True, True],\n",
      "        [True, True, True],\n",
      "        [True, True, True],\n",
      "        [True, True, True],\n",
      "        [True, True, True],\n",
      "        [True, True, True],\n",
      "        [True, True, True],\n",
      "        [True, True, True],\n",
      "        [True, True, True],\n",
      "        [True, True, True],\n",
      "        [True, True, True],\n",
      "        [True, True, True],\n",
      "        [True, True, True],\n",
      "        [True, True, True],\n",
      "        [True, True, True],\n",
      "        [True, True, True],\n",
      "        [True, True, True],\n",
      "        [True, True, True]], device='cuda:0')\n",
      "tensor([True, True, True, True, True, True, True, True, True, True, True, True,\n",
      "        True, True, True, True, True, True, True, True, True, True, True, True,\n",
      "        True, True, True, True, True, True, True, True, True, True, True, True,\n",
      "        True, True, True, True, True, True, True, True, True, True, True, True,\n",
      "        True, True, True, True, True, True, True, True, True, True, True, True,\n",
      "        True, True, True, True], device='cuda:0')\n",
      "tensor([[True, True, True, True, True, True, True, True, True, True, True, True,\n",
      "         True, True, True, True, True, True, True, True, True, True, True, True,\n",
      "         True, True, True, True, True, True, True, True, True, True, True, True,\n",
      "         True, True, True, True, True, True, True, True, True, True, True, True,\n",
      "         True, True, True, True, True, True, True, True, True, True, True, True,\n",
      "         True, True, True, True, True, True, True, True, True, True, True, True,\n",
      "         True, True, True, True, True, True, True, True, True, True, True, True,\n",
      "         True, True, True, True, True, True, True, True, True, True, True, True,\n",
      "         True, True, True, True, True, True, True, True, True, True, True, True,\n",
      "         True, True, True, True, True, True, True, True, True, True, True, True,\n",
      "         True, True, True, True, True, True, True, True, True, True, True, True,\n",
      "         True, True, True, True, True, True, True, True, True, True, True, True,\n",
      "         True, True, True, True, True, True, True, True, True, True, True, True,\n",
      "         True, True, True, True, True, True, True, True, True, True, True, True,\n",
      "         True, True, True, True, True, True, True, True, True, True, True, True,\n",
      "         True, True, True, True, True, True, True, True, True, True, True, True]],\n",
      "       device='cuda:0')\n",
      "tensor([[True, True, True,  ..., True, True, True],\n",
      "        [True, True, True,  ..., True, True, True],\n",
      "        [True, True, True,  ..., True, True, True],\n",
      "        ...,\n",
      "        [True, True, True,  ..., True, True, True],\n",
      "        [True, True, True,  ..., True, True, True],\n",
      "        [True, True, True,  ..., True, True, True]], device='cuda:0')\n",
      "tensor([True, True, True, True, True, True, True, True, True, True, True, True,\n",
      "        True, True, True, True, True, True, True, True, True, True, True, True,\n",
      "        True, True, True, True, True, True, True, True, True, True, True, True,\n",
      "        True, True, True, True, True, True, True, True, True, True, True, True,\n",
      "        True, True, True, True, True, True, True, True, True, True, True, True,\n",
      "        True, True, True, True], device='cuda:0')\n",
      "tensor([[True, True, True,  ..., True, True, True],\n",
      "        [True, True, True,  ..., True, True, True],\n",
      "        [True, True, True,  ..., True, True, True],\n",
      "        ...,\n",
      "        [True, True, True,  ..., True, True, True],\n",
      "        [True, True, True,  ..., True, True, True],\n",
      "        [True, True, True,  ..., True, True, True]], device='cuda:0')\n",
      "tensor([True, True, True, True, True, True, True, True, True, True, True, True,\n",
      "        True, True, True, True, True, True, True, True, True, True, True, True,\n",
      "        True, True, True, True, True, True, True, True, True, True, True, True,\n",
      "        True, True, True, True, True, True, True, True, True, True, True, True,\n",
      "        True, True, True, True, True, True, True, True, True, True, True, True,\n",
      "        True, True, True, True], device='cuda:0')\n",
      "tensor([[True, True, True,  ..., True, True, True],\n",
      "        [True, True, True,  ..., True, True, True],\n",
      "        [True, True, True,  ..., True, True, True],\n",
      "        ...,\n",
      "        [True, True, True,  ..., True, True, True],\n",
      "        [True, True, True,  ..., True, True, True],\n",
      "        [True, True, True,  ..., True, True, True]], device='cuda:0')\n",
      "tensor([True, True, True, True, True, True, True, True, True, True, True, True,\n",
      "        True, True, True, True, True, True, True, True, True, True, True, True,\n",
      "        True, True, True, True, True, True, True, True, True, True, True, True,\n",
      "        True, True, True, True, True, True, True, True, True, True, True, True,\n",
      "        True, True, True, True, True, True, True, True, True, True, True, True,\n",
      "        True, True, True, True], device='cuda:0')\n",
      "tensor([[True, True, True,  ..., True, True, True],\n",
      "        [True, True, True,  ..., True, True, True],\n",
      "        [True, True, True,  ..., True, True, True],\n",
      "        ...,\n",
      "        [True, True, True,  ..., True, True, True],\n",
      "        [True, True, True,  ..., True, True, True],\n",
      "        [True, True, True,  ..., True, True, True]], device='cuda:0')\n",
      "tensor([True, True, True, True, True, True, True, True, True, True, True, True,\n",
      "        True, True, True, True, True, True, True, True, True, True, True, True,\n",
      "        True, True, True, True, True, True, True, True, True, True, True, True,\n",
      "        True, True, True, True, True, True, True, True, True, True, True, True,\n",
      "        True, True, True, True, True, True, True, True, True, True, True, True,\n",
      "        True, True, True, True], device='cuda:0')\n",
      "tensor([[True, True, True, True, True, True, True, True, True, True, True, True,\n",
      "         True, True, True, True, True, True, True, True, True, True, True, True,\n",
      "         True, True, True, True, True, True, True, True, True, True, True, True,\n",
      "         True, True, True, True, True, True, True, True, True, True, True, True,\n",
      "         True, True, True, True, True, True, True, True, True, True, True, True,\n",
      "         True, True, True, True, True, True, True, True, True, True, True, True,\n",
      "         True, True, True, True, True, True, True, True, True, True, True, True,\n",
      "         True, True, True, True, True, True, True, True, True, True, True, True,\n",
      "         True, True, True, True, True, True, True, True, True, True, True, True,\n",
      "         True, True, True, True, True, True, True, True, True, True, True, True,\n",
      "         True, True, True, True, True, True, True, True, True, True, True, True,\n",
      "         True, True, True, True, True, True, True, True, True, True, True, True,\n",
      "         True, True, True, True, True, True, True, True, True, True, True, True,\n",
      "         True, True, True, True, True, True, True, True, True, True, True, True,\n",
      "         True, True, True, True, True, True, True, True, True, True, True, True,\n",
      "         True, True, True, True, True, True, True, True, True, True, True, True]],\n",
      "       device='cuda:0')\n",
      "tensor([[True, True, True, True, True, True, True, True, True, True, True, True,\n",
      "         True, True, True, True, True, True, True, True, True, True, True, True,\n",
      "         True, True, True, True, True, True, True, True, True, True, True, True,\n",
      "         True, True, True, True, True, True, True, True, True, True, True, True,\n",
      "         True, True, True, True, True, True, True, True, True, True, True, True,\n",
      "         True, True, True, True],\n",
      "        [True, True, True, True, True, True, True, True, True, True, True, True,\n",
      "         True, True, True, True, True, True, True, True, True, True, True, True,\n",
      "         True, True, True, True, True, True, True, True, True, True, True, True,\n",
      "         True, True, True, True, True, True, True, True, True, True, True, True,\n",
      "         True, True, True, True, True, True, True, True, True, True, True, True,\n",
      "         True, True, True, True],\n",
      "        [True, True, True, True, True, True, True, True, True, True, True, True,\n",
      "         True, True, True, True, True, True, True, True, True, True, True, True,\n",
      "         True, True, True, True, True, True, True, True, True, True, True, True,\n",
      "         True, True, True, True, True, True, True, True, True, True, True, True,\n",
      "         True, True, True, True, True, True, True, True, True, True, True, True,\n",
      "         True, True, True, True],\n",
      "        [True, True, True, True, True, True, True, True, True, True, True, True,\n",
      "         True, True, True, True, True, True, True, True, True, True, True, True,\n",
      "         True, True, True, True, True, True, True, True, True, True, True, True,\n",
      "         True, True, True, True, True, True, True, True, True, True, True, True,\n",
      "         True, True, True, True, True, True, True, True, True, True, True, True,\n",
      "         True, True, True, True],\n",
      "        [True, True, True, True, True, True, True, True, True, True, True, True,\n",
      "         True, True, True, True, True, True, True, True, True, True, True, True,\n",
      "         True, True, True, True, True, True, True, True, True, True, True, True,\n",
      "         True, True, True, True, True, True, True, True, True, True, True, True,\n",
      "         True, True, True, True, True, True, True, True, True, True, True, True,\n",
      "         True, True, True, True],\n",
      "        [True, True, True, True, True, True, True, True, True, True, True, True,\n",
      "         True, True, True, True, True, True, True, True, True, True, True, True,\n",
      "         True, True, True, True, True, True, True, True, True, True, True, True,\n",
      "         True, True, True, True, True, True, True, True, True, True, True, True,\n",
      "         True, True, True, True, True, True, True, True, True, True, True, True,\n",
      "         True, True, True, True],\n",
      "        [True, True, True, True, True, True, True, True, True, True, True, True,\n",
      "         True, True, True, True, True, True, True, True, True, True, True, True,\n",
      "         True, True, True, True, True, True, True, True, True, True, True, True,\n",
      "         True, True, True, True, True, True, True, True, True, True, True, True,\n",
      "         True, True, True, True, True, True, True, True, True, True, True, True,\n",
      "         True, True, True, True],\n",
      "        [True, True, True, True, True, True, True, True, True, True, True, True,\n",
      "         True, True, True, True, True, True, True, True, True, True, True, True,\n",
      "         True, True, True, True, True, True, True, True, True, True, True, True,\n",
      "         True, True, True, True, True, True, True, True, True, True, True, True,\n",
      "         True, True, True, True, True, True, True, True, True, True, True, True,\n",
      "         True, True, True, True],\n",
      "        [True, True, True, True, True, True, True, True, True, True, True, True,\n",
      "         True, True, True, True, True, True, True, True, True, True, True, True,\n",
      "         True, True, True, True, True, True, True, True, True, True, True, True,\n",
      "         True, True, True, True, True, True, True, True, True, True, True, True,\n",
      "         True, True, True, True, True, True, True, True, True, True, True, True,\n",
      "         True, True, True, True],\n",
      "        [True, True, True, True, True, True, True, True, True, True, True, True,\n",
      "         True, True, True, True, True, True, True, True, True, True, True, True,\n",
      "         True, True, True, True, True, True, True, True, True, True, True, True,\n",
      "         True, True, True, True, True, True, True, True, True, True, True, True,\n",
      "         True, True, True, True, True, True, True, True, True, True, True, True,\n",
      "         True, True, True, True]], device='cuda:0')\n",
      "tensor([True, True, True, True, True, True, True, True, True, True],\n",
      "       device='cuda:0')\n",
      "tensor([[True, True, True, True, True, True, True, True, True, True, True, True,\n",
      "         True, True, True, True, True, True, True, True, True, True, True, True,\n",
      "         True, True, True, True, True, True, True, True, True, True, True, True,\n",
      "         True, True, True, True, True, True, True, True, True, True, True, True,\n",
      "         True, True, True, True, True, True, True, True, True, True, True, True,\n",
      "         True, True, True, True],\n",
      "        [True, True, True, True, True, True, True, True, True, True, True, True,\n",
      "         True, True, True, True, True, True, True, True, True, True, True, True,\n",
      "         True, True, True, True, True, True, True, True, True, True, True, True,\n",
      "         True, True, True, True, True, True, True, True, True, True, True, True,\n",
      "         True, True, True, True, True, True, True, True, True, True, True, True,\n",
      "         True, True, True, True],\n",
      "        [True, True, True, True, True, True, True, True, True, True, True, True,\n",
      "         True, True, True, True, True, True, True, True, True, True, True, True,\n",
      "         True, True, True, True, True, True, True, True, True, True, True, True,\n",
      "         True, True, True, True, True, True, True, True, True, True, True, True,\n",
      "         True, True, True, True, True, True, True, True, True, True, True, True,\n",
      "         True, True, True, True],\n",
      "        [True, True, True, True, True, True, True, True, True, True, True, True,\n",
      "         True, True, True, True, True, True, True, True, True, True, True, True,\n",
      "         True, True, True, True, True, True, True, True, True, True, True, True,\n",
      "         True, True, True, True, True, True, True, True, True, True, True, True,\n",
      "         True, True, True, True, True, True, True, True, True, True, True, True,\n",
      "         True, True, True, True],\n",
      "        [True, True, True, True, True, True, True, True, True, True, True, True,\n",
      "         True, True, True, True, True, True, True, True, True, True, True, True,\n",
      "         True, True, True, True, True, True, True, True, True, True, True, True,\n",
      "         True, True, True, True, True, True, True, True, True, True, True, True,\n",
      "         True, True, True, True, True, True, True, True, True, True, True, True,\n",
      "         True, True, True, True],\n",
      "        [True, True, True, True, True, True, True, True, True, True, True, True,\n",
      "         True, True, True, True, True, True, True, True, True, True, True, True,\n",
      "         True, True, True, True, True, True, True, True, True, True, True, True,\n",
      "         True, True, True, True, True, True, True, True, True, True, True, True,\n",
      "         True, True, True, True, True, True, True, True, True, True, True, True,\n",
      "         True, True, True, True],\n",
      "        [True, True, True, True, True, True, True, True, True, True, True, True,\n",
      "         True, True, True, True, True, True, True, True, True, True, True, True,\n",
      "         True, True, True, True, True, True, True, True, True, True, True, True,\n",
      "         True, True, True, True, True, True, True, True, True, True, True, True,\n",
      "         True, True, True, True, True, True, True, True, True, True, True, True,\n",
      "         True, True, True, True],\n",
      "        [True, True, True, True, True, True, True, True, True, True, True, True,\n",
      "         True, True, True, True, True, True, True, True, True, True, True, True,\n",
      "         True, True, True, True, True, True, True, True, True, True, True, True,\n",
      "         True, True, True, True, True, True, True, True, True, True, True, True,\n",
      "         True, True, True, True, True, True, True, True, True, True, True, True,\n",
      "         True, True, True, True],\n",
      "        [True, True, True, True, True, True, True, True, True, True, True, True,\n",
      "         True, True, True, True, True, True, True, True, True, True, True, True,\n",
      "         True, True, True, True, True, True, True, True, True, True, True, True,\n",
      "         True, True, True, True, True, True, True, True, True, True, True, True,\n",
      "         True, True, True, True, True, True, True, True, True, True, True, True,\n",
      "         True, True, True, True],\n",
      "        [True, True, True, True, True, True, True, True, True, True, True, True,\n",
      "         True, True, True, True, True, True, True, True, True, True, True, True,\n",
      "         True, True, True, True, True, True, True, True, True, True, True, True,\n",
      "         True, True, True, True, True, True, True, True, True, True, True, True,\n",
      "         True, True, True, True, True, True, True, True, True, True, True, True,\n",
      "         True, True, True, True]], device='cuda:0')\n",
      "tensor([True, True, True, True, True, True, True, True, True, True],\n",
      "       device='cuda:0')\n",
      "tensor([[True, True, True, True, True, True, True, True, True, True, True, True,\n",
      "         True, True, True, True, True, True, True, True, True, True, True, True,\n",
      "         True, True, True, True, True, True, True, True, True, True, True, True,\n",
      "         True, True, True, True, True, True, True, True, True, True, True, True,\n",
      "         True, True, True, True, True, True, True, True, True, True, True, True,\n",
      "         True, True, True, True],\n",
      "        [True, True, True, True, True, True, True, True, True, True, True, True,\n",
      "         True, True, True, True, True, True, True, True, True, True, True, True,\n",
      "         True, True, True, True, True, True, True, True, True, True, True, True,\n",
      "         True, True, True, True, True, True, True, True, True, True, True, True,\n",
      "         True, True, True, True, True, True, True, True, True, True, True, True,\n",
      "         True, True, True, True],\n",
      "        [True, True, True, True, True, True, True, True, True, True, True, True,\n",
      "         True, True, True, True, True, True, True, True, True, True, True, True,\n",
      "         True, True, True, True, True, True, True, True, True, True, True, True,\n",
      "         True, True, True, True, True, True, True, True, True, True, True, True,\n",
      "         True, True, True, True, True, True, True, True, True, True, True, True,\n",
      "         True, True, True, True],\n",
      "        [True, True, True, True, True, True, True, True, True, True, True, True,\n",
      "         True, True, True, True, True, True, True, True, True, True, True, True,\n",
      "         True, True, True, True, True, True, True, True, True, True, True, True,\n",
      "         True, True, True, True, True, True, True, True, True, True, True, True,\n",
      "         True, True, True, True, True, True, True, True, True, True, True, True,\n",
      "         True, True, True, True],\n",
      "        [True, True, True, True, True, True, True, True, True, True, True, True,\n",
      "         True, True, True, True, True, True, True, True, True, True, True, True,\n",
      "         True, True, True, True, True, True, True, True, True, True, True, True,\n",
      "         True, True, True, True, True, True, True, True, True, True, True, True,\n",
      "         True, True, True, True, True, True, True, True, True, True, True, True,\n",
      "         True, True, True, True],\n",
      "        [True, True, True, True, True, True, True, True, True, True, True, True,\n",
      "         True, True, True, True, True, True, True, True, True, True, True, True,\n",
      "         True, True, True, True, True, True, True, True, True, True, True, True,\n",
      "         True, True, True, True, True, True, True, True, True, True, True, True,\n",
      "         True, True, True, True, True, True, True, True, True, True, True, True,\n",
      "         True, True, True, True],\n",
      "        [True, True, True, True, True, True, True, True, True, True, True, True,\n",
      "         True, True, True, True, True, True, True, True, True, True, True, True,\n",
      "         True, True, True, True, True, True, True, True, True, True, True, True,\n",
      "         True, True, True, True, True, True, True, True, True, True, True, True,\n",
      "         True, True, True, True, True, True, True, True, True, True, True, True,\n",
      "         True, True, True, True],\n",
      "        [True, True, True, True, True, True, True, True, True, True, True, True,\n",
      "         True, True, True, True, True, True, True, True, True, True, True, True,\n",
      "         True, True, True, True, True, True, True, True, True, True, True, True,\n",
      "         True, True, True, True, True, True, True, True, True, True, True, True,\n",
      "         True, True, True, True, True, True, True, True, True, True, True, True,\n",
      "         True, True, True, True],\n",
      "        [True, True, True, True, True, True, True, True, True, True, True, True,\n",
      "         True, True, True, True, True, True, True, True, True, True, True, True,\n",
      "         True, True, True, True, True, True, True, True, True, True, True, True,\n",
      "         True, True, True, True, True, True, True, True, True, True, True, True,\n",
      "         True, True, True, True, True, True, True, True, True, True, True, True,\n",
      "         True, True, True, True],\n",
      "        [True, True, True, True, True, True, True, True, True, True, True, True,\n",
      "         True, True, True, True, True, True, True, True, True, True, True, True,\n",
      "         True, True, True, True, True, True, True, True, True, True, True, True,\n",
      "         True, True, True, True, True, True, True, True, True, True, True, True,\n",
      "         True, True, True, True, True, True, True, True, True, True, True, True,\n",
      "         True, True, True, True]], device='cuda:0')\n",
      "tensor([True, True, True, True, True, True, True, True, True, True],\n",
      "       device='cuda:0')\n",
      "tensor([[True, True, True, True, True, True, True, True, True, True, True, True,\n",
      "         True, True, True, True, True, True, True, True, True, True, True, True,\n",
      "         True, True, True, True, True, True, True, True, True, True, True, True,\n",
      "         True, True, True, True, True, True, True, True, True, True, True, True,\n",
      "         True, True, True, True, True, True, True, True, True, True, True, True,\n",
      "         True, True, True, True],\n",
      "        [True, True, True, True, True, True, True, True, True, True, True, True,\n",
      "         True, True, True, True, True, True, True, True, True, True, True, True,\n",
      "         True, True, True, True, True, True, True, True, True, True, True, True,\n",
      "         True, True, True, True, True, True, True, True, True, True, True, True,\n",
      "         True, True, True, True, True, True, True, True, True, True, True, True,\n",
      "         True, True, True, True],\n",
      "        [True, True, True, True, True, True, True, True, True, True, True, True,\n",
      "         True, True, True, True, True, True, True, True, True, True, True, True,\n",
      "         True, True, True, True, True, True, True, True, True, True, True, True,\n",
      "         True, True, True, True, True, True, True, True, True, True, True, True,\n",
      "         True, True, True, True, True, True, True, True, True, True, True, True,\n",
      "         True, True, True, True],\n",
      "        [True, True, True, True, True, True, True, True, True, True, True, True,\n",
      "         True, True, True, True, True, True, True, True, True, True, True, True,\n",
      "         True, True, True, True, True, True, True, True, True, True, True, True,\n",
      "         True, True, True, True, True, True, True, True, True, True, True, True,\n",
      "         True, True, True, True, True, True, True, True, True, True, True, True,\n",
      "         True, True, True, True],\n",
      "        [True, True, True, True, True, True, True, True, True, True, True, True,\n",
      "         True, True, True, True, True, True, True, True, True, True, True, True,\n",
      "         True, True, True, True, True, True, True, True, True, True, True, True,\n",
      "         True, True, True, True, True, True, True, True, True, True, True, True,\n",
      "         True, True, True, True, True, True, True, True, True, True, True, True,\n",
      "         True, True, True, True]], device='cuda:0')\n",
      "tensor([True, True, True, True, True], device='cuda:0')\n",
      "tensor([[True, True, True, True, True, True, True, True, True, True, True, True,\n",
      "         True, True, True]], device='cuda:0')\n",
      "tensor([True, True, True, True, True, True, True, True, True, True, True, True,\n",
      "        True, True, True, True, True, True, True, True, True, True, True, True,\n",
      "        True, True, True, True, True, True, True, True, True, True, True, True,\n",
      "        True, True, True, True, True, True, True, True, True, True, True, True,\n",
      "        True, True, True, True, True, True, True, True, True, True, True, True,\n",
      "        True, True, True, True], device='cuda:0')\n",
      "tensor([True, True, True, True, True, True, True, True, True, True, True, True,\n",
      "        True, True, True, True, True, True, True, True, True, True, True, True,\n",
      "        True, True, True, True, True, True, True, True, True, True, True, True,\n",
      "        True, True, True, True, True, True, True, True, True, True, True, True,\n",
      "        True, True, True, True, True, True, True, True, True, True, True, True,\n",
      "        True, True, True, True], device='cuda:0')\n",
      "tensor([True, True, True, True, True, True, True, True, True, True, True, True,\n",
      "        True, True, True, True, True, True, True, True, True, True, True, True,\n",
      "        True, True, True, True, True, True, True, True, True, True, True, True,\n",
      "        True, True, True, True, True, True, True, True, True, True, True, True,\n",
      "        True, True, True, True, True, True, True, True, True, True, True, True,\n",
      "        True, True, True, True], device='cuda:0')\n",
      "tensor([True, True, True, True, True, True, True, True, True, True, True, True,\n",
      "        True, True, True, True, True, True, True, True, True, True, True, True,\n",
      "        True, True, True, True, True, True, True, True, True, True, True, True,\n",
      "        True, True, True, True, True, True, True, True, True, True, True, True,\n",
      "        True, True, True, True, True, True, True, True, True, True, True, True,\n",
      "        True, True, True, True], device='cuda:0')\n"
     ]
    }
   ],
   "source": [
    "# This shows that the two models are the same\n",
    "for var_name in model.state_dict():\n",
    "    print(model.state_dict()[var_name] == best_model_state[var_name])"
   ]
  },
  {
   "cell_type": "code",
   "execution_count": 29,
   "metadata": {
    "ExecuteTime": {
     "end_time": "2022-09-30T00:00:32.993919Z",
     "start_time": "2022-09-30T00:00:32.986333Z"
    }
   },
   "outputs": [
    {
     "data": {
      "text/plain": [
       "3"
      ]
     },
     "execution_count": 29,
     "metadata": {},
     "output_type": "execute_result"
    }
   ],
   "source": [
    "val_acc_lst = [1,2,3]\n",
    "len(val_acc_lst)"
   ]
  },
  {
   "cell_type": "code",
   "execution_count": 10,
   "metadata": {
    "ExecuteTime": {
     "end_time": "2022-09-30T00:28:29.975280Z",
     "start_time": "2022-09-30T00:28:25.547952Z"
    }
   },
   "outputs": [
    {
     "name": "stdout",
     "output_type": "stream",
     "text": [
      "0.589866749302758\n",
      "0.589866749302758\n",
      "0.589866749302758\n",
      "0.589866749302758\n",
      "0.589866749302758\n",
      "0.589866749302758\n",
      "0.589866749302758\n",
      "0.589866749302758\n",
      "0.589866749302758\n",
      "0.589866749302758\n",
      "average validation accuracy: 0.5898667493027581\n"
     ]
    }
   ],
   "source": [
    "val_acc_lst = []\n",
    "for i in range(10):\n",
    "    out_lst, pred_lst, val_acc, test_mask_lst, supervision_mask_lst = test(model, val_loader, output_pred=True)\n",
    "    print(val_acc)\n",
    "    val_acc_lst.append(val_acc)\n",
    "print(f\"average validation accuracy: {sum(val_acc_lst)/len(val_acc_lst)}\")\n"
   ]
  },
  {
   "cell_type": "markdown",
   "metadata": {},
   "source": [
    "### Question: why do I get different outputs here, but none match best_val_acc"
   ]
  },
  {
   "cell_type": "code",
   "execution_count": 12,
   "metadata": {
    "ExecuteTime": {
     "end_time": "2022-09-28T00:27:58.821546Z",
     "start_time": "2022-09-28T00:27:56.701627Z"
    }
   },
   "outputs": [
    {
     "data": {
      "image/png": "[encoded data removed]",
      "text/plain": [
       "<Figure size 864x432 with 1 Axes>"
      ]
     },
     "metadata": {
      "needs_background": "light"
     },
     "output_type": "display_data"
    }
   ],
   "source": [
    "fig, ax = plt.subplots(figsize=(12, 6))\n",
    "marker_size = 3\n",
    "plt.plot(train_loss_lst, \"r.\", markersize=marker_size, label=\"training loss\")\n",
    "plt.plot(train_acc_lst, \"b.\", markersize=marker_size, label=\"training acc\")\n",
    "plt.plot(val_acc_lst, \"g.\",markersize=marker_size, label=\"val acc\")\n",
    "plt.xlabel(\"Epochs\", fontsize=18)\n",
    "# plt.ylabel(\"value of params\", rotation=90, fontsize=18)\n",
    "plt.legend(loc=\"best\", fontsize=10)\n",
    "# plt.xlim([200, 500])\n",
    "plt.show()\n",
    "odir = \"/ssl-jet-vol/semi-supervised-tests/Jupyter/plots\"\n",
    "fig.savefig(\"%s/loss_acc_curve.pdf\" % (odir))\n",
    "fig.savefig(\"%s/loss_acc_curve.png\" % (odir))"
   ]
  },
  {
   "cell_type": "markdown",
   "metadata": {},
   "source": [
    "### Obtain predicted probabilities"
   ]
  },
  {
   "cell_type": "code",
   "execution_count": 9,
   "metadata": {
    "ExecuteTime": {
     "end_time": "2022-09-19T20:06:23.523322Z",
     "start_time": "2022-09-19T20:06:20.839872Z"
    }
   },
   "outputs": [],
   "source": [
    "out_lst, pred_lst, test_acc, test_mask_lst, supervision_mask_lst = test(model, val_loader, output_pred=True)\n",
    "m = torch.nn.Softmax(dim=1)\n",
    "out_norm_lst = []  # the predicted probabilities\n",
    "for out in out_lst:\n",
    "    out_norm_lst.append(m(out))"
   ]
  },
  {
   "cell_type": "code",
   "execution_count": 10,
   "metadata": {
    "ExecuteTime": {
     "end_time": "2022-09-19T20:06:23.530160Z",
     "start_time": "2022-09-19T20:06:23.525255Z"
    }
   },
   "outputs": [
    {
     "data": {
      "text/plain": [
       "torch.Size([44416, 5])"
      ]
     },
     "execution_count": 10,
     "metadata": {},
     "output_type": "execute_result"
    }
   ],
   "source": [
    "out_norm_lst[1].size()"
   ]
  },
  {
   "cell_type": "code",
   "execution_count": 11,
   "metadata": {
    "ExecuteTime": {
     "end_time": "2022-09-19T20:06:23.626019Z",
     "start_time": "2022-09-19T20:06:23.531484Z"
    }
   },
   "outputs": [
    {
     "name": "stdout",
     "output_type": "stream",
     "text": [
      "torch.Size([130961, 5])\n"
     ]
    }
   ],
   "source": [
    "out_norm = torch.cat(out_norm_lst)\n",
    "print(out_norm.size())"
   ]
  },
  {
   "cell_type": "code",
   "execution_count": 12,
   "metadata": {
    "ExecuteTime": {
     "end_time": "2022-09-19T20:06:23.633862Z",
     "start_time": "2022-09-19T20:06:23.627949Z"
    }
   },
   "outputs": [
    {
     "name": "stdout",
     "output_type": "stream",
     "text": [
      "torch.Size([42985])\n",
      "torch.Size([44416])\n",
      "torch.Size([43560])\n"
     ]
    }
   ],
   "source": [
    "for supervision_mask in supervision_mask_lst:\n",
    "    print(supervision_mask.shape)"
   ]
  },
  {
   "cell_type": "code",
   "execution_count": 13,
   "metadata": {
    "ExecuteTime": {
     "end_time": "2022-09-19T20:06:25.512161Z",
     "start_time": "2022-09-19T20:06:23.635456Z"
    }
   },
   "outputs": [
    {
     "name": "stdout",
     "output_type": "stream",
     "text": [
      "torch.Size([42985])\n",
      "torch.Size([44416])\n",
      "torch.Size([43560])\n"
     ]
    }
   ],
   "source": [
    "for data in val_loader:\n",
    "    print(data.y.shape)"
   ]
  },
  {
   "cell_type": "code",
   "execution_count": 14,
   "metadata": {
    "ExecuteTime": {
     "end_time": "2022-09-19T20:06:25.530699Z",
     "start_time": "2022-09-19T20:06:25.516465Z"
    }
   },
   "outputs": [
    {
     "name": "stdout",
     "output_type": "stream",
     "text": [
      "6543\n",
      "6622\n",
      "6597\n"
     ]
    }
   ],
   "source": [
    "for elem in pred_lst:\n",
    "    print(elem.size()[0])"
   ]
  },
  {
   "cell_type": "code",
   "execution_count": 15,
   "metadata": {
    "ExecuteTime": {
     "end_time": "2022-09-19T20:06:25.615233Z",
     "start_time": "2022-09-19T20:06:25.531556Z"
    }
   },
   "outputs": [
    {
     "name": "stdout",
     "output_type": "stream",
     "text": [
      "19762\n"
     ]
    }
   ],
   "source": [
    "pred = torch.cat(pred_lst)\n",
    "print(pred.size()[0])"
   ]
  },
  {
   "cell_type": "code",
   "execution_count": 16,
   "metadata": {
    "ExecuteTime": {
     "end_time": "2022-09-19T20:06:25.624369Z",
     "start_time": "2022-09-19T20:06:25.616917Z"
    }
   },
   "outputs": [
    {
     "data": {
      "text/plain": [
       "False"
      ]
     },
     "execution_count": 16,
     "metadata": {},
     "output_type": "execute_result"
    }
   ],
   "source": [
    "0 in pred"
   ]
  },
  {
   "cell_type": "code",
   "execution_count": 17,
   "metadata": {
    "ExecuteTime": {
     "end_time": "2022-09-19T20:06:25.630838Z",
     "start_time": "2022-09-19T20:06:25.625192Z"
    }
   },
   "outputs": [
    {
     "data": {
      "text/plain": [
       "False"
      ]
     },
     "execution_count": 17,
     "metadata": {},
     "output_type": "execute_result"
    }
   ],
   "source": [
    "1 in pred"
   ]
  },
  {
   "cell_type": "code",
   "execution_count": 18,
   "metadata": {
    "ExecuteTime": {
     "end_time": "2022-09-19T20:06:25.640969Z",
     "start_time": "2022-09-19T20:06:25.631660Z"
    }
   },
   "outputs": [
    {
     "data": {
      "text/plain": [
       "True"
      ]
     },
     "execution_count": 18,
     "metadata": {},
     "output_type": "execute_result"
    }
   ],
   "source": [
    "2 in pred"
   ]
  },
  {
   "cell_type": "code",
   "execution_count": 19,
   "metadata": {
    "ExecuteTime": {
     "end_time": "2022-09-19T20:06:25.647503Z",
     "start_time": "2022-09-19T20:06:25.642298Z"
    }
   },
   "outputs": [
    {
     "data": {
      "text/plain": [
       "True"
      ]
     },
     "execution_count": 19,
     "metadata": {},
     "output_type": "execute_result"
    }
   ],
   "source": [
    "3 in pred"
   ]
  },
  {
   "cell_type": "code",
   "execution_count": 20,
   "metadata": {
    "ExecuteTime": {
     "end_time": "2022-09-19T20:06:25.713798Z",
     "start_time": "2022-09-19T20:06:25.648625Z"
    }
   },
   "outputs": [
    {
     "data": {
      "text/plain": [
       "False"
      ]
     },
     "execution_count": 20,
     "metadata": {},
     "output_type": "execute_result"
    }
   ],
   "source": [
    "4 in pred"
   ]
  },
  {
   "cell_type": "markdown",
   "metadata": {},
   "source": [
    "The 5 cells above shows that the model ONLY predicted classes 2 (photon) and classes 3 (charged_hadron)"
   ]
  },
  {
   "cell_type": "markdown",
   "metadata": {},
   "source": [
    "### Plot class balance\n",
    "PDG_CLASSES = [\"electron\", \"muon\", \"photon\", \"charged_hadron\", \"neutral_hadron\"]"
   ]
  },
  {
   "cell_type": "code",
   "execution_count": 21,
   "metadata": {
    "ExecuteTime": {
     "end_time": "2022-09-19T20:06:29.116439Z",
     "start_time": "2022-09-19T20:06:25.715202Z"
    }
   },
   "outputs": [
    {
     "name": "stdout",
     "output_type": "stream",
     "text": [
      "0\n",
      "1\n",
      "2\n"
     ]
    },
    {
     "data": {
      "image/png": "[encoded data removed]",
      "text/plain": [
       "<Figure size 864x432 with 1 Axes>"
      ]
     },
     "metadata": {
      "needs_background": "light"
     },
     "output_type": "display_data"
    }
   ],
   "source": [
    "classes = np.array([i for i in range(5)])\n",
    "PDG_CLASSES = [\"electron\", \"muon\", \"photon\", \"charged_hadron\", \"neutral_hadron\"]\n",
    "for i, data in enumerate(train_loader):\n",
    "    data = data.cuda()\n",
    "    train_mask = torch.ones_like(data.x[:, 0], dtype=torch.bool)\n",
    "    print(i)\n",
    "    if i == 0:\n",
    "        labels_training = data.y[train_mask].cpu().numpy()\n",
    "    else:\n",
    "        labels_training = np.concatenate([labels_training, data.y[train_mask].cpu().numpy()]) \n",
    "    \n",
    "class_dict = plot_class_balance(classes, labels_training, PDG_CLASSES, odir)"
   ]
  },
  {
   "cell_type": "code",
   "execution_count": 22,
   "metadata": {
    "ExecuteTime": {
     "end_time": "2022-09-19T20:06:29.126964Z",
     "start_time": "2022-09-19T20:06:29.118564Z"
    }
   },
   "outputs": [
    {
     "data": {
      "text/plain": [
       "(129410,)"
      ]
     },
     "execution_count": 22,
     "metadata": {},
     "output_type": "execute_result"
    }
   ],
   "source": [
    "labels_training.shape"
   ]
  },
  {
   "cell_type": "code",
   "execution_count": 23,
   "metadata": {
    "ExecuteTime": {
     "end_time": "2022-09-19T20:06:29.218734Z",
     "start_time": "2022-09-19T20:06:29.129418Z"
    }
   },
   "outputs": [
    {
     "data": {
      "text/plain": [
       "129410"
      ]
     },
     "execution_count": 23,
     "metadata": {},
     "output_type": "execute_result"
    }
   ],
   "source": [
    "sum(list(class_dict.values()))"
   ]
  },
  {
   "cell_type": "markdown",
   "metadata": {},
   "source": [
    "### Plot accuracy for each class"
   ]
  },
  {
   "cell_type": "code",
   "execution_count": 24,
   "metadata": {
    "ExecuteTime": {
     "end_time": "2022-09-19T20:06:34.620307Z",
     "start_time": "2022-09-19T20:06:29.225422Z"
    }
   },
   "outputs": [
    {
     "name": "stdout",
     "output_type": "stream",
     "text": [
      "0\n",
      "labels: (6543,)\n",
      "1\n",
      "labels: (13165,)\n",
      "2\n",
      "labels: (19762,)\n",
      "{0: [120, 0], 1: [5, 0], 2: [9091, 4859], 3: [9521, 6708], 4: [1025, 0]}\n"
     ]
    },
    {
     "data": {
      "image/png": "[encoded data removed]",
      "text/plain": [
       "<Figure size 864x432 with 1 Axes>"
      ]
     },
     "metadata": {
      "needs_background": "light"
     },
     "output_type": "display_data"
    },
    {
     "data": {
      "image/png": "[encoded data removed]",
      "text/plain": [
       "<Figure size 864x432 with 2 Axes>"
      ]
     },
     "metadata": {
      "needs_background": "light"
     },
     "output_type": "display_data"
    }
   ],
   "source": [
    "for i, data in enumerate(val_loader):\n",
    "    data = data.cuda()\n",
    "    supervision_mask = supervision_mask_lst[i]\n",
    "    print(i)\n",
    "    if i == 0:\n",
    "        labels_val = data.y[supervision_mask].cpu().numpy()\n",
    "    else:\n",
    "        labels_val = np.concatenate([labels_val, data.y[supervision_mask].cpu().numpy()]) \n",
    "    print(f\"labels: {labels_val.shape}\")\n",
    "plot_class_balance_and_accuracy(class_dict, labels_val, PDG_CLASSES, pred, odir)"
   ]
  },
  {
   "cell_type": "code",
   "execution_count": 25,
   "metadata": {
    "ExecuteTime": {
     "end_time": "2022-09-19T20:06:42.740650Z",
     "start_time": "2022-09-19T20:06:34.626439Z"
    }
   },
   "outputs": [
    {
     "name": "stdout",
     "output_type": "stream",
     "text": [
      "0\n",
      "1\n",
      "2\n",
      "0.65865958999423\n",
      "0.2580452497848864\n",
      "0.6716678541208215\n",
      "0.6393960586110428\n",
      "0.6806055320306631\n"
     ]
    },
    {
     "data": {
      "image/png": "[encoded data removed]",
      "text/plain": [
       "<Figure size 648x648 with 1 Axes>"
      ]
     },
     "metadata": {
      "needs_background": "light"
     },
     "output_type": "display_data"
    }
   ],
   "source": [
    "classes = np.array([i for i in range(5)])\n",
    "for i, data in enumerate(val_loader):\n",
    "    data = data.cuda()\n",
    "#     test_mask = test_mask_lst[i]\n",
    "    supervision_mask = supervision_mask_lst[i]\n",
    "    print(i)\n",
    "    if i == 0:\n",
    "        labels_test = data.y[supervision_mask].cpu().numpy()\n",
    "    else:\n",
    "        labels_test = np.concatenate([labels_test, data.y[supervision_mask].cpu()]) \n",
    "roc_auc_ovr = plot_overlayed_roc_curve(classes, labels_test, out_norm[torch.cat(supervision_mask_lst)][:, classes], PDG_CLASSES, odir, label=\"all_classes\", ncol=1)"
   ]
  },
  {
   "cell_type": "code",
   "execution_count": 36,
   "metadata": {
    "ExecuteTime": {
     "end_time": "2022-09-19T20:13:37.241329Z",
     "start_time": "2022-09-19T20:13:37.233755Z"
    }
   },
   "outputs": [],
   "source": [
    "def plot_overlayed_roc_curve(classes, labels, predictions, class_labels, odir, label = '', ax = None, figsize=(9, 9), ncol=2):\n",
    "    \"\"\"\n",
    "    Plots overlayed ROC curves and returns a list of AUC.\n",
    "    \n",
    "    Args:\n",
    "        classes: The classes used in classification. Must match with the predictions and labels.\n",
    "                 i.e., if predictions consists of [..., 1, 3, 2, 1, 4, ...], then your classes cannot be ['photon', 'hadron', 'lepton']\n",
    "        labels: The list of labels.\n",
    "        predictions: The list of predicted classes. First dimension should match with the dimension of labels\n",
    "        class_labels: List of actual names of the classes (instead of 0, 1, ...)\n",
    "    Return:\n",
    "        roc_auc_ovr: Dictionary of AUC, one for each class\n",
    "    \"\"\"\n",
    "#     assert labels.size() == predictions[:, 0].size()\n",
    "    if predictions.type() == 'torch.cuda.FloatTensor':\n",
    "        predictions = predictions.cpu()\n",
    "        \n",
    "    if ax == None:\n",
    "        fig, ax = plt.subplots(figsize=figsize)\n",
    "    \n",
    "    roc_auc_ovr = {}\n",
    "    for i in range(len(classes)):\n",
    "        c = classes[i]\n",
    "        y_real = [1 if y == c else 0 for y in labels]\n",
    "        y_proba = predictions[:, i]\n",
    "        tpr, fpr = get_all_roc_coordinates(y_real, y_proba)\n",
    "        \n",
    "        # Calculates the ROC AUC\n",
    "        roc_auc_ovr[c] = roc_auc_score(y_real, y_proba.detach())\n",
    "        print(roc_auc_ovr[c])\n",
    "        \n",
    "        ax.plot(fpr, tpr, label = f\"{class_labels[i]}: AUC_ovr = {roc_auc_ovr[c]:.3f}\")\n",
    "\n",
    "    # plot the 50/50 lines\n",
    "    x = np.linspace(0, 1, 10)\n",
    "    Y = x\n",
    "    plt.plot(x, Y, color='k', linestyle='dashed')\n",
    "    # set limits and labels on axes\n",
    "    plt.xlim(-0.05, 1.05)\n",
    "    plt.ylim(-0.05, 1.05)\n",
    "    plt.xlabel(\"False Positive Rate\")\n",
    "    plt.ylabel(\"True Positive Rate\")\n",
    "    plt.legend(loc='lower right', shadow=False, ncol=ncol)\n",
    "    plt.title(\"ROC Curve OvR\")\n",
    "    plt.show()\n",
    "    fig.savefig(\"%s/roc_curve_%s.pdf\" % (odir, label))\n",
    "    fig.savefig(\"%s/roc_curve_%s.png\" % (odir, label))\n",
    "    \n",
    "    return roc_auc_ovr"
   ]
  },
  {
   "cell_type": "code",
   "execution_count": 37,
   "metadata": {
    "ExecuteTime": {
     "end_time": "2022-09-19T20:13:43.420288Z",
     "start_time": "2022-09-19T20:13:40.592935Z"
    }
   },
   "outputs": [
    {
     "name": "stdout",
     "output_type": "stream",
     "text": [
      "0.6716678541208215\n",
      "0.6393960586110428\n"
     ]
    },
    {
     "data": {
      "image/png": "[encoded data removed]",
      "text/plain": [
       "<Figure size 648x648 with 1 Axes>"
      ]
     },
     "metadata": {
      "needs_background": "light"
     },
     "output_type": "display_data"
    },
    {
     "data": {
      "text/plain": [
       "{2: 0.6716678541208215, 3: 0.6393960586110428}"
      ]
     },
     "execution_count": 37,
     "metadata": {},
     "output_type": "execute_result"
    }
   ],
   "source": [
    "classes = [2, 3]\n",
    "class_labels = [\"photon\", \"charged_hadron\"]\n",
    "plot_overlayed_roc_curve(classes, labels_test, out_norm[torch.cat(supervision_mask_lst)][:, classes], class_labels, odir, label=\"pch\", ncol=1)"
   ]
  },
  {
   "cell_type": "code",
   "execution_count": 27,
   "metadata": {
    "ExecuteTime": {
     "end_time": "2022-09-19T20:06:46.339883Z",
     "start_time": "2022-09-19T20:06:46.333899Z"
    }
   },
   "outputs": [],
   "source": [
    "# import seaborn as sns\n",
    "# from scipy import stats\n",
    "# def plot_roc_curve(tpr, fpr, scatter = True, ax = None):\n",
    "#     '''\n",
    "#     Plots the ROC Curve by using the list of coordinates (tpr and fpr).\n",
    "    \n",
    "#     Args:\n",
    "#         tpr: The list of TPRs representing each coordinate.\n",
    "#         fpr: The list of FPRs representing each coordinate.\n",
    "#         scatter: When True, the points used on the calculation will be plotted with the line (default = True).\n",
    "#     '''\n",
    "#     if ax == None:\n",
    "#         plt.figure(figsize = (5, 5))\n",
    "#         ax = plt.axes()\n",
    "    \n",
    "#     if scatter:\n",
    "#         sns.scatterplot(x = fpr, y = tpr, ax = ax)\n",
    "#     sns.lineplot(x = fpr, y = tpr, ax = ax)\n",
    "#     sns.lineplot(x = [0, 1], y = [0, 1], color = 'green', ax = ax)\n",
    "#     plt.xlim(-0.05, 1.05)\n",
    "#     plt.ylim(-0.05, 1.05)\n",
    "#     plt.xlabel(\"False Positive Rate\")\n",
    "#     plt.ylabel(\"True Positive Rate\")"
   ]
  },
  {
   "cell_type": "code",
   "execution_count": 28,
   "metadata": {
    "ExecuteTime": {
     "end_time": "2022-09-19T20:06:46.440972Z",
     "start_time": "2022-09-19T20:06:46.341323Z"
    }
   },
   "outputs": [],
   "source": [
    "# # Plots the ROC Curves One vs Rest\n",
    "# plt.figure(figsize = (12, 3))\n",
    "# roc_auc_ovr = {}\n",
    "# predictions = out_norm[test_mask]\n",
    "# for i in range(len(classes)):  #for each of the classes\n",
    "#     # Gets the class\n",
    "#     c = classes[i]\n",
    "#     y_real = [1 if y == c else 0 for y in labels_testing]\n",
    "#     y_proba = predictions[:, i]\n",
    "#     tpr, fpr = get_all_roc_coordinates(y_real, y_proba.cpu())\n",
    "    \n",
    "#     # Calculates the ROC Coordinates and plots the ROC Curves\n",
    "#     ax_bottom = plt.subplot(1, 5, i+1)\n",
    "#     plot_roc_curve(tpr, fpr, scatter = False, ax = ax_bottom)\n",
    "#     ax_bottom.set_title(f\"ROC OvR {PDG_CLASSES[i]}\")\n",
    "    \n",
    "#     # Calculates the ROC AUC OvR\n",
    "#     roc_auc_ovr[c] = roc_auc_score(y_real, y_proba.detach().cpu())\n",
    "    \n",
    "# plt.tight_layout()"
   ]
  },
  {
   "cell_type": "code",
   "execution_count": 30,
   "metadata": {
    "ExecuteTime": {
     "end_time": "2022-09-19T20:07:01.635764Z",
     "start_time": "2022-09-19T20:07:00.431077Z"
    }
   },
   "outputs": [
    {
     "data": {
      "image/png": "[encoded data removed]",
      "text/plain": [
       "<Figure size 864x432 with 1 Axes>"
      ]
     },
     "metadata": {
      "needs_background": "light"
     },
     "output_type": "display_data"
    },
    {
     "data": {
      "image/png": "[encoded data removed]",
      "text/plain": [
       "<Figure size 864x432 with 2 Axes>"
      ]
     },
     "metadata": {
      "needs_background": "light"
     },
     "output_type": "display_data"
    }
   ],
   "source": [
    "plot_class_balance_and_AUC(class_dict, roc_auc_ovr, PDG_CLASSES, odir)"
   ]
  },
  {
   "cell_type": "code",
   "execution_count": null,
   "metadata": {},
   "outputs": [],
   "source": []
  }
 ],
 "metadata": {
  "colab": {
   "name": "ssl-tests train_model.ipynb",
   "provenance": []
  },
  "kernelspec": {
   "display_name": "Python 3 (ipykernel)",
   "language": "python",
   "name": "python3"
  },
  "language_info": {
   "codemirror_mode": {
    "name": "ipython",
    "version": 3
   },
   "file_extension": ".py",
   "mimetype": "text/x-python",
   "name": "python",
   "nbconvert_exporter": "python",
   "pygments_lexer": "ipython3",
   "version": "3.9.10"
  }
 },
 "nbformat": 4,
 "nbformat_minor": 1
}
