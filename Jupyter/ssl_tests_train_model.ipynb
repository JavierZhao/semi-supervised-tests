{
 "cells": [
  {
   "cell_type": "code",
   "execution_count": null,
   "metadata": {
    "ExecuteTime": {
     "start_time": "2022-08-09T19:45:48.548Z"
    },
    "colab": {
     "base_uri": "https://localhost:8080/",
     "height": 1000
    },
    "id": "1OAfKz8Ys-W6",
    "outputId": "81b6db96-9b92-4941-ff58-35f0be0d8260"
   },
   "outputs": [
    {
     "name": "stdout",
     "output_type": "stream",
     "text": [
      "Looking in links: https://data.pyg.org/whl/torch-1.12.0+.html\n",
      "Requirement already satisfied: torch-scatter in /Users/zhaozihan/opt/anaconda3/lib/python3.9/site-packages (2.0.9)\n",
      "Looking in links: https://data.pyg.org/whl/torch-1.12.0+.html\n",
      "Requirement already satisfied: torch-sparse in /Users/zhaozihan/opt/anaconda3/lib/python3.9/site-packages (0.6.13)\n",
      "Requirement already satisfied: scipy in /Users/zhaozihan/opt/anaconda3/lib/python3.9/site-packages (from torch-sparse) (1.7.3)\n",
      "Requirement already satisfied: numpy<1.23.0,>=1.16.5 in /Users/zhaozihan/opt/anaconda3/lib/python3.9/site-packages (from scipy->torch-sparse) (1.21.5)\n",
      "Collecting git+https://github.com/pyg-team/pytorch_geometric.git\n",
      "  Cloning https://github.com/pyg-team/pytorch_geometric.git to /private/var/folders/27/l6v26dbx0093xg448fxvxmpc0000gn/T/pip-req-build-a08u5apb\n",
      "  Running command git clone -q https://github.com/pyg-team/pytorch_geometric.git /private/var/folders/27/l6v26dbx0093xg448fxvxmpc0000gn/T/pip-req-build-a08u5apb\n",
      "  Resolved https://github.com/pyg-team/pytorch_geometric.git to commit a8f7a240226756e9ea4f6bbde3cc1611ee119746\n",
      "Requirement already satisfied: tqdm in /Users/zhaozihan/opt/anaconda3/lib/python3.9/site-packages (from torch-geometric==2.0.5) (4.64.0)\n",
      "Requirement already satisfied: numpy in /Users/zhaozihan/opt/anaconda3/lib/python3.9/site-packages (from torch-geometric==2.0.5) (1.21.5)\n",
      "Requirement already satisfied: scipy in /Users/zhaozihan/opt/anaconda3/lib/python3.9/site-packages (from torch-geometric==2.0.5) (1.7.3)\n",
      "Requirement already satisfied: jinja2 in /Users/zhaozihan/opt/anaconda3/lib/python3.9/site-packages (from torch-geometric==2.0.5) (2.11.3)\n",
      "Requirement already satisfied: requests in /Users/zhaozihan/opt/anaconda3/lib/python3.9/site-packages (from torch-geometric==2.0.5) (2.27.1)\n",
      "Requirement already satisfied: pyparsing in /Users/zhaozihan/opt/anaconda3/lib/python3.9/site-packages (from torch-geometric==2.0.5) (3.0.4)\n",
      "Requirement already satisfied: scikit-learn in /Users/zhaozihan/opt/anaconda3/lib/python3.9/site-packages (from torch-geometric==2.0.5) (1.0.2)\n",
      "Requirement already satisfied: MarkupSafe>=0.23 in /Users/zhaozihan/opt/anaconda3/lib/python3.9/site-packages (from jinja2->torch-geometric==2.0.5) (2.0.1)\n",
      "Requirement already satisfied: urllib3<1.27,>=1.21.1 in /Users/zhaozihan/opt/anaconda3/lib/python3.9/site-packages (from requests->torch-geometric==2.0.5) (1.26.9)\n",
      "Requirement already satisfied: certifi>=2017.4.17 in /Users/zhaozihan/opt/anaconda3/lib/python3.9/site-packages (from requests->torch-geometric==2.0.5) (2021.10.8)\n",
      "Requirement already satisfied: idna<4,>=2.5 in /Users/zhaozihan/opt/anaconda3/lib/python3.9/site-packages (from requests->torch-geometric==2.0.5) (3.3)\n",
      "Requirement already satisfied: charset-normalizer~=2.0.0 in /Users/zhaozihan/opt/anaconda3/lib/python3.9/site-packages (from requests->torch-geometric==2.0.5) (2.0.4)\n",
      "Requirement already satisfied: joblib>=0.11 in /Users/zhaozihan/opt/anaconda3/lib/python3.9/site-packages (from scikit-learn->torch-geometric==2.0.5) (1.1.0)\n",
      "Requirement already satisfied: threadpoolctl>=2.0.0 in /Users/zhaozihan/opt/anaconda3/lib/python3.9/site-packages (from scikit-learn->torch-geometric==2.0.5) (2.2.0)\n"
     ]
    }
   ],
   "source": [
    "!pip install torch-scatter -f https://data.pyg.org/whl/torch-1.12.0+${cu113}.html\n",
    "!pip install torch-sparse -f https://data.pyg.org/whl/torch-1.12.0+${cu113}.html\n",
    "# !pip install torch-geometric\n",
    "\n",
    "!pip install git+https://github.com/pyg-team/pytorch_geometric.git\n",
    "\n",
    "import math\n",
    "import os.path as osp\n",
    "import numpy as np\n",
    "import torch\n",
    "import torch.nn.functional as F\n",
    "from torch_geometric.nn import MaskLabel, TransformerConv\n",
    "from torch_geometric.utils import index_to_mask\n",
    "\n",
    "# from src.data.jetnet_graph import JetNetGraph"
   ]
  },
  {
   "cell_type": "code",
   "execution_count": null,
   "metadata": {
    "id": "YjJkozIOs4DD"
   },
   "outputs": [],
   "source": [
    "root = osp.join(osp.dirname(osp.realpath(__file__)), \"..\", \"data\", \"JetNet\")\n",
    "dataset = JetNetGraph(root)\n",
    "\n",
    "\n",
    "class UniMP(torch.nn.Module):\n",
    "    def __init__(self, in_channels, num_classes, hidden_channels, num_layers, heads, dropout=0.3):\n",
    "        super().__init__()\n",
    "\n",
    "        self.label_emb = MaskLabel(num_classes, in_channels)\n",
    "\n",
    "        self.convs = torch.nn.ModuleList()\n",
    "        self.norms = torch.nn.ModuleList()\n",
    "        for i in range(1, num_layers + 1):\n",
    "            if i < num_layers:\n",
    "                out_channels = hidden_channels // heads\n",
    "                concat = True\n",
    "            else:\n",
    "                out_channels = num_classes\n",
    "                concat = False\n",
    "            conv = TransformerConv(in_channels, out_channels, heads, concat=concat, beta=True, dropout=dropout)\n",
    "            self.convs.append(conv)\n",
    "            in_channels = hidden_channels\n",
    "\n",
    "            if i < num_layers:\n",
    "                self.norms.append(torch.nn.LayerNorm(hidden_channels))\n",
    "\n",
    "    def forward(self, x, y, edge_index, label_mask):\n",
    "        x = self.label_emb(x, y, label_mask)\n",
    "        for conv, norm in zip(self.convs, self.norms):\n",
    "            x = norm(conv(x, edge_index)).relu()\n",
    "        return self.convs[-1](x, edge_index)"
   ]
  },
  {
   "cell_type": "code",
   "execution_count": null,
   "metadata": {
    "id": "c_TB_JD3tH39"
   },
   "outputs": [],
   "source": [
    "device = torch.device(\"cuda\" if torch.cuda.is_available() else \"cpu\")\n",
    "data = dataset.data.to(device)\n",
    "\n",
    "model = UniMP(dataset.num_features, dataset.num_classes, hidden_channels=64, num_layers=3, heads=2).to(device)\n",
    "optimizer = torch.optim.Adam(model.parameters(), lr=0.001, weight_decay=0.0005)\n",
    "\n",
    "tv_frac = 0.15\n",
    "tv_num = math.ceil(data.num_nodes * tv_frac)\n",
    "splits = np.cumsum([data.num_nodes - 2 * tv_num, tv_num, tv_num])\n",
    "\n",
    "train_index = torch.tensor(np.arange(start=0, stop=splits[0]), dtype=torch.long)\n",
    "val_index = torch.tensor(np.arange(start=splits[0], stop=splits[1]), dtype=torch.long)\n",
    "test_index = torch.tensor(np.arange(start=splits[1], stop=data.num_nodes), dtype=torch.long)\n",
    "\n",
    "train_mask = index_to_mask(train_index, size=data.num_nodes)\n",
    "val_mask = index_to_mask(val_index, size=data.num_nodes)\n",
    "test_mask = index_to_mask(test_index, size=data.num_nodes)"
   ]
  },
  {
   "cell_type": "code",
   "execution_count": null,
   "metadata": {
    "id": "7BQ2azrUtGQs"
   },
   "outputs": [],
   "source": [
    "def train(label_rate=0.65):  # How many labels to use for propagation.\n",
    "    model.train()\n",
    "\n",
    "    propagation_mask = MaskLabel.ratio_mask(train_mask, ratio=label_rate)\n",
    "    supervision_mask = train_mask ^ propagation_mask\n",
    "    optimizer.zero_grad()\n",
    "    out = model(data.x, data.x, data.edge_index, propagation_mask)\n",
    "    loss = F.mse_loss(out[supervision_mask], data.x[supervision_mask])\n",
    "    loss.backward()\n",
    "    optimizer.step()\n",
    "\n",
    "    return float(loss)\n",
    "\n",
    "\n",
    "@torch.no_grad()\n",
    "def test():\n",
    "    model.eval()\n",
    "\n",
    "    propagation_mask = train_mask\n",
    "    out = model(data.x, data.x, data.edge_index, propagation_mask)\n",
    "    pred = out[val_mask]\n",
    "    val_loss = F.mse_loss(pred, data.x[val_mask])\n",
    "\n",
    "    propagation_mask = train_mask | val_mask\n",
    "    out = model(data.x, data.x, data.edge_index, propagation_mask)\n",
    "    pred = out[test_mask]\n",
    "    test_loss = F.mse_loss(pred, data.x[test_mask])\n",
    "\n",
    "    return val_loss, test_loss"
   ]
  },
  {
   "cell_type": "code",
   "execution_count": null,
   "metadata": {
    "id": "bM4EsZnPtEO1"
   },
   "outputs": [],
   "source": [
    "for epoch in range(1, 501):\n",
    "    loss = train()\n",
    "    val_loss, test_loss = test()\n",
    "    print(f\"Epoch: {epoch:03d}, Loss: {loss:.4f}, Val Loss: {val_loss:.4f}, Test Loss: {test_loss:.4f}\")"
   ]
  }
 ],
 "metadata": {
  "colab": {
   "name": "ssl-tests train_model.ipynb",
   "provenance": []
  },
  "kernelspec": {
   "display_name": "Python 3 (ipykernel)",
   "language": "python",
   "name": "python3"
  },
  "language_info": {
   "codemirror_mode": {
    "name": "ipython",
    "version": 3
   },
   "file_extension": ".py",
   "mimetype": "text/x-python",
   "name": "python",
   "nbconvert_exporter": "python",
   "pygments_lexer": "ipython3",
   "version": "3.9.12"
  }
 },
 "nbformat": 4,
 "nbformat_minor": 1
}
